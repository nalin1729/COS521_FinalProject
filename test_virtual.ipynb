{
 "cells": [
  {
   "cell_type": "code",
   "execution_count": 25,
   "id": "8649efe0",
   "metadata": {},
   "outputs": [],
   "source": [
    "import random\n",
    "from collections import defaultdict\n",
    "import time\n",
    "import matplotlib.pyplot as plt\n",
    "from functools import cache\n",
    "import numpy as np\n",
    "from sage.matroids.advanced import *\n",
    "import bisect"
   ]
  },
  {
   "cell_type": "markdown",
   "id": "d511be29",
   "metadata": {},
   "source": [
    "# Random Matroid Generation"
   ]
  },
  {
   "cell_type": "code",
   "execution_count": 28,
   "id": "ef2af01f",
   "metadata": {},
   "outputs": [],
   "source": [
    "class RandomMatroid:\n",
    "    def __init__(self, n, k=0):\n",
    "        self.n = n\n",
    "        if k == 0:\n",
    "            self.k = random.randint(1, n)\n",
    "        else:\n",
    "            self.k = k\n",
    "    \n",
    "    # If not overriden, returns a random k-uniform matroid, where k is also uniform\n",
    "    # between 1 and the universe size\n",
    "    def rand_matroid(self):\n",
    "        return matroids.Uniform(self.k, self.n)\n",
    "    \n",
    "    def gen(self, num_matroids):\n",
    "        for _ in range(num_matroids):\n",
    "            yield self.rand_matroid()"
   ]
  },
  {
   "cell_type": "code",
   "execution_count": 22,
   "id": "956b84e8",
   "metadata": {},
   "outputs": [],
   "source": [
    "class GraphicRandomMatroid(RandomMatroid):\n",
    "    def __init__(self, n, default=True):\n",
    "        super().__init__(n)\n",
    "        self.default = default\n",
    "        \n",
    "    def rand_matroid(self):\n",
    "        if self.default:\n",
    "            G = graphs.RandomGNM(random.randint(math.ceil((1+math.sqrt(1+8*self.n))/2), self.n), self.n)\n",
    "        else:\n",
    "            G = graphs.RandomGNM(random.randint(self.n, self.n * 2), self.n)\n",
    "        edges = [(e[0], e[1], i) for i, e in enumerate(G.edges())]\n",
    "        return Matroid(graph=edges)"
   ]
  },
  {
   "cell_type": "code",
   "execution_count": 4,
   "id": "8d99059a",
   "metadata": {},
   "outputs": [],
   "source": [
    "class LinearRandomMatroid(RandomMatroid):\n",
    "    # Dependence probability p refers to the probability that a newly generated element will be \n",
    "    # independent from all previous elements. If the element isn't independent from all previous \n",
    "    # elements, then it will be chosen to be a random integer linear combination of a uniform \n",
    "    # subset of the previously generated elements\n",
    "    #\n",
    "    # All linear matroids will be over a finite field of the given order. To simulate real numbers,\n",
    "    # make the order big compared to n\n",
    "    def __init__(self, n, order=100, p=[0, 1]):\n",
    "        super().__init__(n)\n",
    "        self.order = order\n",
    "        self.p = p\n",
    "    \n",
    "    # return one random linear matroid\n",
    "    def rand_matroid(self):\n",
    "        p = random.uniform(*self.p)\n",
    "        first_vector = [random.randint(0, self.order - 1) for j in range(self.n)]\n",
    "        matrix = [first_vector]\n",
    "        for i in range(1, self.n):\n",
    "            if random.random() < p:\n",
    "                # generate a uniform random subset of [1, ..., i - 1]\n",
    "                index_set = []\n",
    "                for j in range(i):\n",
    "                    if random.random() < 0.5: index_set.append(j)\n",
    "                        \n",
    "                if len(index_set) == 0: vector = [random.randint(0, self.order - 1) for j in range(self.n)]\n",
    "                else:\n",
    "                    vector = np.array([0 for j in range(self.n)])\n",
    "                    for j in index_set:\n",
    "                        coef = random.randint(1, self.order - 1)\n",
    "                        to_add = np.array(matrix[j])\n",
    "                        vector += to_add * coef\n",
    "                        vector = vector % self.order\n",
    "                        \n",
    "                    vector = list(vector)\n",
    "                        \n",
    "            else: \n",
    "                vector = [random.randint(0, self.order - 1) for j in range(self.n)]\n",
    "                \n",
    "            matrix.append(vector)\n",
    "\n",
    "        l = LinearMatroid(Matrix(GF(self.order), self.n, self.n, matrix).transpose())\n",
    "        if verbose: print(l.rank())\n",
    "        return l"
   ]
  },
  {
   "cell_type": "code",
   "execution_count": 5,
   "id": "54e6edc2",
   "metadata": {},
   "outputs": [],
   "source": [
    "class TransversalMatroid:\n",
    "    # a = Number of nodes on the left side, a = number of nodes on the right side\n",
    "    # p = likelihood of a certain edge from some vertex on left to some vertex on right appearing\n",
    "    def __init__(self, a, b, p):\n",
    "        self.a = a; self.b = b; self.p = p\n",
    "        \n",
    "        self.A = [i for i in range(0, self.a)]\n",
    "        self.B = [i for i in range(self.a, self.a + self.b)]\n",
    "        self.source = -1\n",
    "        self.sink = self.a + self.b\n",
    "        self.adjacency = {vertex: [] for vertex in range(self.sink + 1)}\n",
    "        self.adjacency[self.source] = [x for x in self.A]\n",
    "        \n",
    "        # Initialize flow-network that will be used to check if perfect matchings exist\n",
    "        for v2 in self.B: self.adjacency[v2].append(self.sink)\n",
    "        \n",
    "        for v1 in self.A:\n",
    "            for v2 in self.B:\n",
    "                if random.random() < p: self.adjacency[v1].append(v2)\n",
    "                    \n",
    "        self.G = DiGraph(self.adjacency)\n",
    "        #self.G.plot().show()\n",
    "        \n",
    "        for edge in self.G.edge_boundary(self.A):\n",
    "            u = edge[0]; v = edge[1]\n",
    "            self.G.set_edge_label(u, v, 1)\n",
    "            \n",
    "        for edge in self.G.edge_boundary(self.B):\n",
    "            u = edge[0]; v = edge[1]\n",
    "            self.G.set_edge_label(u, v, 1)\n",
    "            \n",
    "        self.n = a\n",
    "\n",
    "    # Important: to make use of the cache, s needs to be immutable, e.g. a frozenset\n",
    "    @cache\n",
    "    def is_independent(self, s):\n",
    "        for edge in self.G.edge_boundary([self.source]):\n",
    "            u = edge[0]; v = edge[1]\n",
    "            self.G.set_edge_label(u, v, 1 if v in s else 0)\n",
    "        \n",
    "        flow = self.G.flow(self.source, self.sink, use_edge_labels=True)\n",
    "        assert flow <= len(s)\n",
    "        return flow == len(s)\n",
    "    \n",
    "    # Finds a max-weight basis of X (that is a subset of 0, ..., n - 1)\n",
    "    # weights should be a dictionary with key in X and value equivalent to weight of key\n",
    "    def max_weight_independent(self, X=None, weights=None):\n",
    "        # Use the greedy algorithm\n",
    "        order = sorted(X, key=lambda item: weights[item], reverse=True)\n",
    "        \n",
    "        current = set()\n",
    "        for e in order:\n",
    "            current.add(e)\n",
    "            if not self.is_independent(frozenset(current)):\n",
    "                current.remove(e)\n",
    "\n",
    "        return current\n",
    "    \n",
    "    # Return the span of X\n",
    "    def closure(self, X):\n",
    "        basis = self.max_weight_independent(X, {x: 0 for x in X})\n",
    "        \n",
    "        span = set()\n",
    "        for i in range(self.n):\n",
    "            if i in basis: span.add(i)\n",
    "            else:\n",
    "                basis.add(i)\n",
    "                if not self.is_independent(frozenset(basis)): span.add(i)\n",
    "                basis.remove(i)\n",
    "                \n",
    "        return span\n",
    "    \n",
    "    def size(self):\n",
    "        return self.n"
   ]
  },
  {
   "cell_type": "code",
   "execution_count": 6,
   "id": "2beb843c",
   "metadata": {},
   "outputs": [],
   "source": [
    "class TransversalRandomMatroid(RandomMatroid):\n",
    "    # a = Number of nodes on the left side, a = number of nodes on the right side\n",
    "    # p = likelihood of a certain edge from some vertex on left to some vertex on right appearing\n",
    "    def __init__(self, a=10, b=10, p=0.5):\n",
    "        super().__init__(a)\n",
    "        self.a = a\n",
    "        self.b = b\n",
    "        self.p = p\n",
    "    \n",
    "    # return one random transversal matroid\n",
    "    def rand_matroid(self):\n",
    "        return TransversalMatroid(self.a, self.b, self.p)"
   ]
  },
  {
   "cell_type": "code",
   "execution_count": 7,
   "id": "eff72a49",
   "metadata": {},
   "outputs": [],
   "source": [
    "class GeneralRandomMatroid(RandomMatroid):\n",
    "    def __init__(self, n):\n",
    "        super().__init__(n)\n",
    "        self.U = frozenset(range(n))\n",
    "    \n",
    "    def _isContained(self, AandB, Fr):\n",
    "        if len(AandB) == 0: return True\n",
    "        for C in Fr:\n",
    "            if AandB.issubset(C): return True\n",
    "        return False\n",
    "    \n",
    "    def rand_matroid(self):\n",
    "        r = 0\n",
    "        F = [set(frozenset())]\n",
    "        while self.U not in F[r]:\n",
    "            # generate covers\n",
    "            F_next = set(frozenset())\n",
    "            if r == 0:\n",
    "                for a in self.U:\n",
    "                    F_next.add(frozenset([a]))\n",
    "            else:\n",
    "                for A in F[r]:\n",
    "                    for a in self.U - A:\n",
    "                        x = set(A)\n",
    "                        x.add(a)\n",
    "                        F_next.add(frozenset(x))\n",
    "\n",
    "            #enlarge\n",
    "            if r != 0:\n",
    "                # adjust the number of times this loop is performed to generate different matroids\n",
    "                for _ in range(random.randint(0, self.n//2)):\n",
    "                    A = set(random.choice(list(F_next)))\n",
    "                    F_next.remove(A)\n",
    "                    if len(list(self.U-A)) != 0:\n",
    "                        A.add(random.choice(list(self.U-A)))\n",
    "                    F_next.add(frozenset(A))\n",
    "\n",
    "            # superpose\n",
    "            isContained = False\n",
    "            while not isContained:\n",
    "                isContained = True\n",
    "                not_contained = []\n",
    "                for A in F_next:\n",
    "                    for B in F_next:\n",
    "                        if A == B: continue\n",
    "                        if not self._isContained(A.intersection(B), F[r]): \n",
    "                            not_contained.append((A, B))\n",
    "                            isContained = False\n",
    "                for AB in not_contained:\n",
    "                    A, B = AB\n",
    "                    if A in F_next and B in F_next:\n",
    "                        F_next.remove(A)\n",
    "                        F_next.remove(B)\n",
    "                        F_next.add(A.union(B))\n",
    "            F.append(F_next)\n",
    "            r += 1\n",
    "    \n",
    "        closed_sets = []\n",
    "        for rank, X in enumerate(F):\n",
    "            for Y in X:\n",
    "                closed_sets.append((rank, Y))\n",
    "\n",
    "        return Matroid(self.U, circuit_closures = closed_sets)"
   ]
  },
  {
   "cell_type": "markdown",
   "id": "12a0e787",
   "metadata": {},
   "source": [
    "# Test Suite for Naive Virtual Algorithm"
   ]
  },
  {
   "cell_type": "markdown",
   "id": "5ea7fd5e",
   "metadata": {},
   "source": [
    "## Algorithm Implementation"
   ]
  },
  {
   "cell_type": "code",
   "execution_count": 8,
   "id": "61dc0c2a",
   "metadata": {},
   "outputs": [],
   "source": [
    "# Import any algorithm implementations here\n",
    "class FreeOrderMatroidAlgo:\n",
    "    def __init__(self, matroid, weights):\n",
    "        assert matroid.size() == len(weights)\n",
    "\n",
    "        self.matroid = matroid\n",
    "        self.weights = weights\n",
    "\n",
    "class Conjecture(FreeOrderMatroidAlgo):\n",
    "    def __init__(self, matroid, weights, sample_prob, verbose=False):\n",
    "        super().__init__(matroid, weights)\n",
    "        self.verbose = verbose\n",
    "        \n",
    "        # Sample S\n",
    "        S = []\n",
    "        self.P = set()\n",
    "        for i in range(self.matroid.size()):\n",
    "            if random.random() < sample_prob: \n",
    "                S.append((i, self.weights[i]))\n",
    "            else: self.P.add(i)\n",
    "                \n",
    "        self.top_k = sorted([(weight_i, True) for i, weight_i in S])\n",
    "\n",
    "        self.P = frozenset(self.P)\n",
    "        S = dict(S)\n",
    "        if self.verbose: print(f'{S = }')\n",
    "        self.X = self.matroid.max_weight_independent(X=set(S.keys()), weights=S) # max-weight basis of S\n",
    "        self.X = sorted(list(self.X), key=lambda i: self.weights[i], reverse=True)\n",
    "        \n",
    "        self.k = self.matroid.rank()\n",
    "\n",
    "    def run_trial(self):\n",
    "        cache(self.matroid.is_independent)\n",
    "        \n",
    "        total = 0\n",
    "        remaining = set(self.P) # which elements haven't been seen yet\n",
    "        A = frozenset() # store the answer\n",
    "\n",
    "        Xset = set()\n",
    "        for i, basis_elem in enumerate(self.X):\n",
    "            # Check which elements in remaining are dependent\n",
    "            Xset.add(basis_elem)\n",
    "            candidates = []\n",
    "            for element in remaining:\n",
    "                Xset.add(element)\n",
    "                if not self.matroid.is_independent(frozenset(Xset)): candidates.append(element)\n",
    "                Xset.remove(element)\n",
    "            random.shuffle(candidates)\n",
    "            \n",
    "            if self.verbose: print(f'{candidates = }')\n",
    "            for y in candidates:\n",
    "                remaining.remove(y)\n",
    "                \n",
    "                top_i_weight, top_i_from_sample = self.top_k[len(self.top_k) - i - 1]\n",
    "                \n",
    "                if (self.weights[y] > top_i_weight) and (top_i_from_sample):\n",
    "                    if self.matroid.is_independent(A.union(frozenset([y]))): \n",
    "                        A = A.union(frozenset([y]))\n",
    "                        total += self.weights[y]\n",
    "                        if self.verbose: print(f'{y = }')\n",
    "                    \n",
    "                bisect.insort(self.top_k, (self.weights[y], False))\n",
    "\n",
    "        remaining = list(remaining)\n",
    "        if self.verbose: print(f'{remaining = }')\n",
    "        random.shuffle(remaining)\n",
    "        for y in remaining:\n",
    "            \n",
    "            if len(self.top_k) >= self.k:\n",
    "                top_k_weight, top_k_from_sample = self.top_k[len(self.top_k) - self.k]\n",
    "                \n",
    "                if not top_k_from_sample:\n",
    "                    bisect.insort(self.top_k, (self.weights[y], False))\n",
    "                    continue\n",
    "                \n",
    "            if self.matroid.is_independent(A.union(frozenset([y]))): \n",
    "                A = A.union(frozenset([y]))\n",
    "                total += self.weights[y]\n",
    "            \n",
    "            bisect.insort(self.top_k, (self.weights[y], False))\n",
    "\n",
    "        return total, A"
   ]
  },
  {
   "cell_type": "markdown",
   "id": "96a4f100",
   "metadata": {},
   "source": [
    "## Experiment Setup"
   ]
  },
  {
   "cell_type": "code",
   "execution_count": 9,
   "id": "493b3156",
   "metadata": {},
   "outputs": [],
   "source": [
    "# algo is assumed to be a FreeOrderMatroidAlgo. Returns averaged payoff over all trials\n",
    "# weights will be a list of values of each item\n",
    "def run_trials(num_trials, matroid, weights, verbose = False):\n",
    "    sum = 0\n",
    "    total_counts = defaultdict(lambda: 0)\n",
    "    for _ in range(num_trials):\n",
    "        algo = Conjecture(matroid, weights, exp(-1), verbose)\n",
    "        weight, included = algo.run_trial()\n",
    "        sum += weight\n",
    "        if verbose: print(f'{included = }')\n",
    "        for element in included: total_counts[element] += 1\n",
    "\n",
    "    for key in total_counts: total_counts[key] = float(total_counts[key]) / num_trials\n",
    "    return float(sum / num_trials), total_counts"
   ]
  },
  {
   "cell_type": "code",
   "execution_count": 10,
   "id": "e9fbe58f",
   "metadata": {},
   "outputs": [],
   "source": [
    "def run_experiment(M, num_trials, weights = None, verbose = False):\n",
    "    if weights is None: weights = [random.uniform(0, 1) for i in range(M.size())]\n",
    "\n",
    "    start_time = time.time()\n",
    "    val, freqs = run_trials(num_trials, M, weights, verbose)\n",
    "    end_time = time.time()\n",
    "    \n",
    "    if verbose: print(f\"Time to run {num_trials} trials is \", end_time - start_time)\n",
    "\n",
    "    opt_indices = M.max_weight_independent(X=set(range(M.size())), weights = dict([(i, weight) for i, weight in enumerate(weights)]))\n",
    "    opt_val = 0\n",
    "    ratios = []\n",
    "    \n",
    "    for opt_index in opt_indices:\n",
    "        ratios.append(freqs[opt_index])\n",
    "        #if (freqs[opt_index] < exp(-1)):\n",
    "            #print(\"Less than 1/e when \", M, opt_index)\n",
    "\n",
    "    if verbose: print(ratios)\n",
    "    return min(ratios)"
   ]
  },
  {
   "cell_type": "code",
   "execution_count": 11,
   "id": "3916f146",
   "metadata": {},
   "outputs": [],
   "source": [
    "def evaluate(rand_matroid, num_matroids, num_trials):\n",
    "    results = []\n",
    "    for i, M in enumerate(rand_matroid.gen(num_matroids), 1):\n",
    "        start = time.time()\n",
    "        results.append(run_experiment(M, num_trials))\n",
    "        end = time.time()\n",
    "        print(f'Matroid {i}/{num_matroids} completed in {round(end - start, 2)}s')\n",
    "    return results"
   ]
  },
  {
   "cell_type": "code",
   "execution_count": 48,
   "id": "28b32677",
   "metadata": {},
   "outputs": [],
   "source": [
    "def plot(results, fname=None):\n",
    "    bins = []\n",
    "    for x in range(int(min(results)/((1/30)*float(exp(-1)))), int(max(results)/((1/30)*float(exp(-1))))+1):\n",
    "        bins.append(x*(1/30)*float(exp(-1)))\n",
    "    plt.hist(results, bins = bins, density=True)\n",
    "    plt.axvline(x=float(exp(-1)), color = 'r', linestyle='dashed')\n",
    "    plt.xlabel('Minimum Ratio of Optimal Secretaries', fontsize=16)\n",
    "    plt.ylabel('Density', fontsize=16)\n",
    "    plt.tight_layout()\n",
    "    if fname: plt.savefig(fname)\n",
    "    plt.show()"
   ]
  },
  {
   "cell_type": "markdown",
   "id": "14d316be",
   "metadata": {},
   "source": [
    "## Evaluation of Algorithm"
   ]
  },
  {
   "cell_type": "code",
   "execution_count": 13,
   "id": "673ae46a",
   "metadata": {
    "scrolled": true
   },
   "outputs": [
    {
     "name": "stdout",
     "output_type": "stream",
     "text": [
      "Matroid 1/10 completed in 25.14s\n",
      "Matroid 2/10 completed in 65.61s\n",
      "Matroid 3/10 completed in 56.59s\n",
      "Matroid 4/10 completed in 41.08s\n",
      "Matroid 5/10 completed in 52.04s\n",
      "Matroid 6/10 completed in 63.17s\n",
      "Matroid 7/10 completed in 63.62s\n",
      "Matroid 8/10 completed in 52.6s\n",
      "Matroid 9/10 completed in 57.32s\n",
      "Matroid 10/10 completed in 39.48s\n"
     ]
    }
   ],
   "source": [
    "# Experiment 1: 100 graphic matroids, size 101\n",
    "random.seed(int(1001))\n",
    "results1 = evaluate(GraphicRandomMatroid(n=101), num_matroids=10, num_trials=1000)"
   ]
  },
  {
   "cell_type": "code",
   "execution_count": 50,
   "id": "ad125f62",
   "metadata": {
    "scrolled": true
   },
   "outputs": [
    {
     "data": {
      "image/png": "[encoded data removed]",
      "text/plain": [
       "<Figure size 432x288 with 1 Axes>"
      ]
     },
     "metadata": {
      "needs_background": "light"
     },
     "output_type": "display_data"
    },
    {
     "name": "stdout",
     "output_type": "stream",
     "text": [
      "[0.097, 0.493, 0.309, 0.156, 0.23, 0.324, 0.383, 0.288, 0.401, 0.036]\n"
     ]
    }
   ],
   "source": [
    "plot(results1)\n",
    "print(results1)"
   ]
  },
  {
   "cell_type": "code",
   "execution_count": 20,
   "id": "1b8ea5be",
   "metadata": {},
   "outputs": [
    {
     "name": "stdout",
     "output_type": "stream",
     "text": [
      "Matroid 1/10 completed in 57.07s\n",
      "Matroid 2/10 completed in 62.3s\n",
      "Matroid 3/10 completed in 52.21s\n",
      "Matroid 4/10 completed in 61.38s\n",
      "Matroid 5/10 completed in 51.88s\n",
      "Matroid 6/10 completed in 56.63s\n",
      "Matroid 7/10 completed in 59.07s\n",
      "Matroid 8/10 completed in 57.99s\n",
      "Matroid 9/10 completed in 57.89s\n",
      "Matroid 10/10 completed in 61.64s\n"
     ]
    }
   ],
   "source": [
    "# Experiment 1: 100 graphic matroids, size 101\n",
    "random.seed(int(1001))\n",
    "results1_1 = evaluate(GraphicRandomMatroid(n=101, default=False), num_matroids=10, num_trials=1000)"
   ]
  },
  {
   "cell_type": "code",
   "execution_count": 49,
   "id": "3ed240cf",
   "metadata": {},
   "outputs": [
    {
     "data": {
      "image/png": "[encoded data removed]",
      "text/plain": [
       "<Figure size 432x288 with 1 Axes>"
      ]
     },
     "metadata": {
      "needs_background": "light"
     },
     "output_type": "display_data"
    },
    {
     "name": "stdout",
     "output_type": "stream",
     "text": [
      "[0.482, 0.45, 0.331, 0.449, 0.266, 0.328, 0.406, 0.465, 0.399, 0.475]\n"
     ]
    }
   ],
   "source": [
    "plot(results1_1)\n",
    "print(results1_1)"
   ]
  },
  {
   "cell_type": "code",
   "execution_count": 23,
   "id": "a4aec532",
   "metadata": {},
   "outputs": [
    {
     "name": "stdout",
     "output_type": "stream",
     "text": [
      "Matroid 1/10 completed in 61.0s\n",
      "Matroid 2/10 completed in 58.24s\n",
      "Matroid 3/10 completed in 63.08s\n",
      "Matroid 4/10 completed in 62.65s\n",
      "Matroid 5/10 completed in 62.42s\n",
      "Matroid 6/10 completed in 59.42s\n",
      "Matroid 7/10 completed in 62.49s\n",
      "Matroid 8/10 completed in 59.94s\n",
      "Matroid 9/10 completed in 59.62s\n",
      "Matroid 10/10 completed in 59.41s\n"
     ]
    }
   ],
   "source": [
    "# Experiment 1: 100 graphic matroids, size 101\n",
    "random.seed(int(1001))\n",
    "results1_2 = evaluate(GraphicRandomMatroid(n=101, default=False), num_matroids=10, num_trials=1000)"
   ]
  },
  {
   "cell_type": "code",
   "execution_count": 51,
   "id": "12715f51",
   "metadata": {},
   "outputs": [
    {
     "data": {
      "image/png": "[encoded data removed]",
      "text/plain": [
       "<Figure size 432x288 with 1 Axes>"
      ]
     },
     "metadata": {
      "needs_background": "light"
     },
     "output_type": "display_data"
    },
    {
     "name": "stdout",
     "output_type": "stream",
     "text": [
      "[0.595, 0.595, 0.598, 0.588, 0.589, 0.58, 0.537, 0.467, 0.507, 0.467]\n"
     ]
    }
   ],
   "source": [
    "plot(results1_2)\n",
    "print(results1_2)"
   ]
  },
  {
   "cell_type": "code",
   "execution_count": 36,
   "id": "fc87c99f",
   "metadata": {},
   "outputs": [
    {
     "name": "stdout",
     "output_type": "stream",
     "text": [
      "Matroid 1/100 completed in 14.99s\n",
      "Matroid 2/100 completed in 14.63s\n",
      "Matroid 3/100 completed in 15.11s\n",
      "Matroid 4/100 completed in 12.67s\n",
      "Matroid 5/100 completed in 12.8s\n",
      "Matroid 6/100 completed in 15.1s\n",
      "Matroid 7/100 completed in 13.95s\n",
      "Matroid 8/100 completed in 14.07s\n",
      "Matroid 9/100 completed in 12.66s\n",
      "Matroid 10/100 completed in 12.32s\n",
      "Matroid 11/100 completed in 13.07s\n",
      "Matroid 12/100 completed in 13.58s\n",
      "Matroid 13/100 completed in 13.72s\n",
      "Matroid 14/100 completed in 13.36s\n",
      "Matroid 15/100 completed in 12.94s\n",
      "Matroid 16/100 completed in 12.66s\n",
      "Matroid 17/100 completed in 13.07s\n",
      "Matroid 18/100 completed in 12.14s\n",
      "Matroid 19/100 completed in 12.03s\n",
      "Matroid 20/100 completed in 11.98s\n",
      "Matroid 21/100 completed in 13.12s\n",
      "Matroid 22/100 completed in 12.11s\n",
      "Matroid 23/100 completed in 12.19s\n",
      "Matroid 24/100 completed in 12.12s\n",
      "Matroid 25/100 completed in 12.14s\n",
      "Matroid 26/100 completed in 12.36s\n",
      "Matroid 27/100 completed in 12.11s\n",
      "Matroid 28/100 completed in 12.1s\n",
      "Matroid 29/100 completed in 12.18s\n",
      "Matroid 30/100 completed in 12.15s\n",
      "Matroid 31/100 completed in 12.0s\n",
      "Matroid 32/100 completed in 12.34s\n",
      "Matroid 33/100 completed in 12.12s\n",
      "Matroid 34/100 completed in 11.84s\n",
      "Matroid 35/100 completed in 11.92s\n",
      "Matroid 36/100 completed in 11.97s\n",
      "Matroid 37/100 completed in 11.86s\n",
      "Matroid 38/100 completed in 13.99s\n",
      "Matroid 39/100 completed in 11.79s\n",
      "Matroid 40/100 completed in 11.79s\n",
      "Matroid 41/100 completed in 11.89s\n",
      "Matroid 42/100 completed in 11.94s\n",
      "Matroid 43/100 completed in 11.88s\n",
      "Matroid 44/100 completed in 11.85s\n",
      "Matroid 45/100 completed in 11.89s\n",
      "Matroid 46/100 completed in 11.98s\n",
      "Matroid 47/100 completed in 11.88s\n",
      "Matroid 48/100 completed in 11.96s\n",
      "Matroid 49/100 completed in 13.66s\n",
      "Matroid 50/100 completed in 13.78s\n",
      "Matroid 51/100 completed in 12.98s\n",
      "Matroid 52/100 completed in 14.72s\n",
      "Matroid 53/100 completed in 14.65s\n",
      "Matroid 54/100 completed in 13.28s\n",
      "Matroid 55/100 completed in 12.57s\n",
      "Matroid 56/100 completed in 11.98s\n",
      "Matroid 57/100 completed in 12.12s\n",
      "Matroid 58/100 completed in 11.96s\n",
      "Matroid 59/100 completed in 11.86s\n",
      "Matroid 60/100 completed in 14.33s\n",
      "Matroid 61/100 completed in 12.03s\n",
      "Matroid 62/100 completed in 12.05s\n",
      "Matroid 63/100 completed in 12.05s\n",
      "Matroid 64/100 completed in 12.06s\n",
      "Matroid 65/100 completed in 12.01s\n",
      "Matroid 66/100 completed in 11.9s\n",
      "Matroid 67/100 completed in 12.73s\n",
      "Matroid 68/100 completed in 14.2s\n",
      "Matroid 69/100 completed in 13.34s\n",
      "Matroid 70/100 completed in 11.97s\n",
      "Matroid 71/100 completed in 11.96s\n",
      "Matroid 72/100 completed in 11.91s\n",
      "Matroid 73/100 completed in 11.87s\n",
      "Matroid 74/100 completed in 12.52s\n",
      "Matroid 75/100 completed in 11.91s\n",
      "Matroid 76/100 completed in 11.88s\n",
      "Matroid 77/100 completed in 11.89s\n",
      "Matroid 78/100 completed in 11.9s\n",
      "Matroid 79/100 completed in 11.96s\n",
      "Matroid 80/100 completed in 12.02s\n",
      "Matroid 81/100 completed in 11.99s\n",
      "Matroid 82/100 completed in 11.92s\n",
      "Matroid 83/100 completed in 11.88s\n",
      "Matroid 84/100 completed in 12.11s\n",
      "Matroid 85/100 completed in 11.99s\n",
      "Matroid 86/100 completed in 11.96s\n",
      "Matroid 87/100 completed in 11.97s\n",
      "Matroid 88/100 completed in 14.01s\n",
      "Matroid 89/100 completed in 12.04s\n",
      "Matroid 90/100 completed in 11.94s\n",
      "Matroid 91/100 completed in 11.9s\n",
      "Matroid 92/100 completed in 14.2s\n",
      "Matroid 93/100 completed in 12.5s\n",
      "Matroid 94/100 completed in 12.18s\n",
      "Matroid 95/100 completed in 15.4s\n",
      "Matroid 96/100 completed in 12.45s\n",
      "Matroid 97/100 completed in 13.01s\n",
      "Matroid 98/100 completed in 13.26s\n",
      "Matroid 99/100 completed in 12.13s\n",
      "Matroid 100/100 completed in 12.09s\n"
     ]
    }
   ],
   "source": [
    "# Experiment 7: 100 Random Uniform Matroids with universe size = 100 (rank is 3)\n",
    "random.seed(int(1007))\n",
    "results7 = evaluate(RandomMatroid(100, k=3), num_matroids=100, num_trials=1000)"
   ]
  },
  {
   "cell_type": "code",
   "execution_count": 52,
   "id": "ca44d8e6",
   "metadata": {},
   "outputs": [
    {
     "data": {
      "image/png": "[encoded data removed]",
      "text/plain": [
       "<Figure size 432x288 with 1 Axes>"
      ]
     },
     "metadata": {
      "needs_background": "light"
     },
     "output_type": "display_data"
    },
    {
     "name": "stdout",
     "output_type": "stream",
     "text": [
      "[0.364, 0.363, 0.35, 0.35, 0.345, 0.361, 0.358, 0.357, 0.366, 0.344, 0.352, 0.351, 0.368, 0.37, 0.364, 0.342, 0.38, 0.351, 0.365, 0.356, 0.371, 0.358, 0.34, 0.376, 0.36, 0.361, 0.371, 0.357, 0.36, 0.366, 0.365, 0.347, 0.342, 0.361, 0.361, 0.369, 0.351, 0.346, 0.352, 0.352, 0.356, 0.339, 0.349, 0.345, 0.339, 0.374, 0.337, 0.361, 0.345, 0.35, 0.347, 0.36, 0.352, 0.358, 0.37, 0.348, 0.364, 0.364, 0.353, 0.342, 0.356, 0.322, 0.341, 0.341, 0.341, 0.357, 0.355, 0.339, 0.374, 0.37, 0.366, 0.366, 0.365, 0.331, 0.365, 0.35, 0.355, 0.359, 0.377, 0.339, 0.35, 0.369, 0.357, 0.35, 0.359, 0.353, 0.351, 0.357, 0.355, 0.361, 0.345, 0.369, 0.363, 0.323, 0.354, 0.358, 0.352, 0.352, 0.35, 0.365]\n"
     ]
    }
   ],
   "source": [
    "plot(results7)\n",
    "print(results7)"
   ]
  },
  {
   "cell_type": "code",
   "execution_count": 40,
   "id": "b6b54b95",
   "metadata": {},
   "outputs": [
    {
     "name": "stdout",
     "output_type": "stream",
     "text": [
      "Matroid 1/100 completed in 20.22s\n",
      "Matroid 2/100 completed in 19.73s\n",
      "Matroid 3/100 completed in 17.22s\n",
      "Matroid 4/100 completed in 16.2s\n",
      "Matroid 5/100 completed in 18.35s\n",
      "Matroid 6/100 completed in 16.89s\n",
      "Matroid 7/100 completed in 15.58s\n",
      "Matroid 8/100 completed in 15.76s\n",
      "Matroid 9/100 completed in 16.59s\n",
      "Matroid 10/100 completed in 17.01s\n",
      "Matroid 11/100 completed in 16.47s\n",
      "Matroid 12/100 completed in 16.61s\n",
      "Matroid 13/100 completed in 17.19s\n",
      "Matroid 14/100 completed in 16.31s\n",
      "Matroid 15/100 completed in 17.49s\n",
      "Matroid 16/100 completed in 17.49s\n",
      "Matroid 17/100 completed in 16.58s\n",
      "Matroid 18/100 completed in 16.61s\n",
      "Matroid 19/100 completed in 16.57s\n",
      "Matroid 20/100 completed in 15.2s\n",
      "Matroid 21/100 completed in 19.77s\n",
      "Matroid 22/100 completed in 16.58s\n",
      "Matroid 23/100 completed in 16.67s\n",
      "Matroid 24/100 completed in 16.56s\n",
      "Matroid 25/100 completed in 15.68s\n",
      "Matroid 26/100 completed in 15.35s\n",
      "Matroid 27/100 completed in 15.31s\n",
      "Matroid 28/100 completed in 15.57s\n",
      "Matroid 29/100 completed in 15.79s\n",
      "Matroid 30/100 completed in 16.06s\n",
      "Matroid 31/100 completed in 16.2s\n",
      "Matroid 32/100 completed in 16.26s\n",
      "Matroid 33/100 completed in 16.22s\n",
      "Matroid 34/100 completed in 16.45s\n",
      "Matroid 35/100 completed in 15.97s\n",
      "Matroid 36/100 completed in 16.79s\n",
      "Matroid 37/100 completed in 16.59s\n",
      "Matroid 38/100 completed in 16.83s\n",
      "Matroid 39/100 completed in 16.46s\n",
      "Matroid 40/100 completed in 16.07s\n",
      "Matroid 41/100 completed in 16.26s\n",
      "Matroid 42/100 completed in 16.36s\n",
      "Matroid 43/100 completed in 16.83s\n",
      "Matroid 44/100 completed in 16.58s\n",
      "Matroid 45/100 completed in 16.53s\n",
      "Matroid 46/100 completed in 16.76s\n",
      "Matroid 47/100 completed in 16.28s\n",
      "Matroid 48/100 completed in 16.78s\n",
      "Matroid 49/100 completed in 16.69s\n",
      "Matroid 50/100 completed in 16.74s\n",
      "Matroid 51/100 completed in 16.19s\n",
      "Matroid 52/100 completed in 15.67s\n",
      "Matroid 53/100 completed in 16.16s\n",
      "Matroid 54/100 completed in 16.47s\n",
      "Matroid 55/100 completed in 16.23s\n",
      "Matroid 56/100 completed in 15.04s\n",
      "Matroid 57/100 completed in 17.65s\n",
      "Matroid 58/100 completed in 16.97s\n",
      "Matroid 59/100 completed in 17.21s\n",
      "Matroid 60/100 completed in 16.72s\n",
      "Matroid 61/100 completed in 16.73s\n",
      "Matroid 62/100 completed in 15.77s\n",
      "Matroid 63/100 completed in 14.42s\n",
      "Matroid 64/100 completed in 19.7s\n",
      "Matroid 65/100 completed in 15.1s\n",
      "Matroid 66/100 completed in 14.62s\n",
      "Matroid 67/100 completed in 14.53s\n",
      "Matroid 68/100 completed in 14.45s\n",
      "Matroid 69/100 completed in 14.45s\n",
      "Matroid 70/100 completed in 14.28s\n",
      "Matroid 71/100 completed in 14.49s\n",
      "Matroid 72/100 completed in 14.69s\n",
      "Matroid 73/100 completed in 14.91s\n",
      "Matroid 74/100 completed in 17.43s\n",
      "Matroid 75/100 completed in 18.22s\n",
      "Matroid 76/100 completed in 16.95s\n",
      "Matroid 77/100 completed in 15.76s\n",
      "Matroid 78/100 completed in 14.93s\n",
      "Matroid 79/100 completed in 16.14s\n",
      "Matroid 80/100 completed in 16.78s\n",
      "Matroid 81/100 completed in 16.21s\n",
      "Matroid 82/100 completed in 16.69s\n",
      "Matroid 83/100 completed in 16.26s\n",
      "Matroid 84/100 completed in 16.21s\n",
      "Matroid 85/100 completed in 15.92s\n",
      "Matroid 86/100 completed in 16.42s\n",
      "Matroid 87/100 completed in 16.88s\n",
      "Matroid 88/100 completed in 16.16s\n",
      "Matroid 89/100 completed in 16.38s\n",
      "Matroid 90/100 completed in 16.58s\n",
      "Matroid 91/100 completed in 16.39s\n",
      "Matroid 92/100 completed in 14.36s\n",
      "Matroid 93/100 completed in 14.34s\n",
      "Matroid 94/100 completed in 14.27s\n",
      "Matroid 95/100 completed in 14.45s\n",
      "Matroid 96/100 completed in 14.39s\n",
      "Matroid 97/100 completed in 14.51s\n",
      "Matroid 98/100 completed in 14.39s\n",
      "Matroid 99/100 completed in 14.39s\n",
      "Matroid 100/100 completed in 14.49s\n"
     ]
    }
   ],
   "source": [
    "# Experiment 8: 100 Random Uniform Matroids with universe size = 100 (rank is 50)\n",
    "random.seed(int(1008))\n",
    "results8 = evaluate(RandomMatroid(100, k=50), num_matroids=100, num_trials=1000)"
   ]
  },
  {
   "cell_type": "code",
   "execution_count": 53,
   "id": "3b32457c",
   "metadata": {},
   "outputs": [
    {
     "data": {
      "image/png": "[encoded data removed]",
      "text/plain": [
       "<Figure size 432x288 with 1 Axes>"
      ]
     },
     "metadata": {
      "needs_background": "light"
     },
     "output_type": "display_data"
    },
    {
     "name": "stdout",
     "output_type": "stream",
     "text": [
      "[0.35, 0.347, 0.357, 0.36, 0.359, 0.343, 0.355, 0.369, 0.358, 0.362, 0.36, 0.359, 0.363, 0.35, 0.35, 0.365, 0.359, 0.36, 0.36, 0.361, 0.352, 0.348, 0.36, 0.359, 0.363, 0.356, 0.356, 0.353, 0.355, 0.36, 0.351, 0.356, 0.347, 0.352, 0.363, 0.354, 0.349, 0.359, 0.36, 0.364, 0.36, 0.359, 0.336, 0.357, 0.347, 0.35, 0.357, 0.355, 0.343, 0.34, 0.347, 0.338, 0.365, 0.356, 0.35, 0.357, 0.348, 0.359, 0.346, 0.362, 0.359, 0.363, 0.354, 0.356, 0.351, 0.348, 0.356, 0.35, 0.347, 0.353, 0.355, 0.37, 0.36, 0.359, 0.352, 0.355, 0.356, 0.354, 0.356, 0.339, 0.358, 0.359, 0.356, 0.35, 0.359, 0.349, 0.366, 0.348, 0.36, 0.354, 0.357, 0.367, 0.341, 0.367, 0.365, 0.355, 0.352, 0.34, 0.358, 0.354]\n"
     ]
    }
   ],
   "source": [
    "plot(results8)\n",
    "print(results8)"
   ]
  },
  {
   "cell_type": "code",
   "execution_count": 44,
   "id": "41d29c51",
   "metadata": {},
   "outputs": [
    {
     "name": "stdout",
     "output_type": "stream",
     "text": [
      "Matroid 1/10 completed in 14.58s\n",
      "Matroid 2/10 completed in 14.45s\n",
      "Matroid 3/10 completed in 14.51s\n",
      "Matroid 4/10 completed in 14.73s\n",
      "Matroid 5/10 completed in 14.73s\n",
      "Matroid 6/10 completed in 14.45s\n",
      "Matroid 7/10 completed in 17.77s\n",
      "Matroid 8/10 completed in 15.73s\n",
      "Matroid 9/10 completed in 16.21s\n",
      "Matroid 10/10 completed in 16.05s\n"
     ]
    }
   ],
   "source": [
    "# Experiment 9: 100 Random Uniform Matroids with universe size = 100 (rank is 90)\n",
    "random.seed(int(1009))\n",
    "results9 = evaluate(RandomMatroid(100, k=90), num_matroids=10, num_trials=1000)"
   ]
  },
  {
   "cell_type": "code",
   "execution_count": 45,
   "id": "3b06332d",
   "metadata": {},
   "outputs": [
    {
     "data": {
      "image/png": "[encoded data removed]",
      "text/plain": [
       "<Figure size 432x288 with 1 Axes>"
      ]
     },
     "metadata": {
      "needs_background": "light"
     },
     "output_type": "display_data"
    },
    {
     "name": "stdout",
     "output_type": "stream",
     "text": [
      "[0.53, 0.539, 0.536, 0.532, 0.53, 0.525, 0.539, 0.531, 0.533, 0.532]\n"
     ]
    }
   ],
   "source": [
    "plot(results9)\n",
    "print(results9)"
   ]
  }
 ],
 "metadata": {
  "kernelspec": {
   "display_name": "SageMath 9.4",
   "language": "sage",
   "name": "sagemath"
  },
  "language_info": {
   "codemirror_mode": {
    "name": "ipython",
    "version": 3
   },
   "file_extension": ".py",
   "mimetype": "text/x-python",
   "name": "python",
   "nbconvert_exporter": "python",
   "pygments_lexer": "ipython3",
   "version": "3.9.7"
  }
 },
 "nbformat": 4,
 "nbformat_minor": 5
}
