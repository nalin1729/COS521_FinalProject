{
 "cells": [
  {
   "cell_type": "code",
   "execution_count": 138,
   "id": "8649efe0",
   "metadata": {},
   "outputs": [],
   "source": [
    "import random\n",
    "from collections import defaultdict\n",
    "import time\n",
    "import matplotlib.pyplot as plt\n",
    "from functools import cache\n",
    "import numpy as np\n",
    "from sage.matroids.advanced import *\n",
    "import bisect"
   ]
  },
  {
   "cell_type": "markdown",
   "id": "d511be29",
   "metadata": {},
   "source": [
    "# Random Matroid Generation"
   ]
  },
  {
   "cell_type": "code",
   "execution_count": 227,
   "id": "ef2af01f",
   "metadata": {},
   "outputs": [],
   "source": [
    "class RandomMatroid:\n",
    "    def __init__(self, n):\n",
    "        self.n = n\n",
    "    \n",
    "    # If not overriden, returns a random k-uniform matroid, where k is also uniform\n",
    "    # between 1 and the universe size\n",
    "    def rand_matroid(self):\n",
    "        return matroids.Uniform(3, self.n)\n",
    "    \n",
    "    def gen(self, num_matroids):\n",
    "        for _ in range(num_matroids):\n",
    "            yield self.rand_matroid()"
   ]
  },
  {
   "cell_type": "code",
   "execution_count": 140,
   "id": "956b84e8",
   "metadata": {},
   "outputs": [],
   "source": [
    "class GraphicRandomMatroid(RandomMatroid):\n",
    "    def __init__(self, n):\n",
    "        super().__init__(n)\n",
    "        \n",
    "    def rand_matroid(self):\n",
    "        G = graphs.RandomGNM(random.randint(math.ceil((1+math.sqrt(1+8*self.n))/2), self.n), self.n)\n",
    "        edges = [(e[0], e[1], i) for i, e in enumerate(G.edges())]\n",
    "        return Matroid(graph=edges)"
   ]
  },
  {
   "cell_type": "code",
   "execution_count": 141,
   "id": "8d99059a",
   "metadata": {},
   "outputs": [],
   "source": [
    "class LinearRandomMatroid(RandomMatroid):\n",
    "    # Dependence probability p refers to the probability that a newly generated element will be \n",
    "    # independent from all previous elements. If the element isn't independent from all previous \n",
    "    # elements, then it will be chosen to be a random integer linear combination of a uniform \n",
    "    # subset of the previously generated elements\n",
    "    #\n",
    "    # All linear matroids will be over a finite field of the given order. To simulate real numbers,\n",
    "    # make the order big compared to n\n",
    "    def __init__(self, n, order=100, p=[0, 1]):\n",
    "        super().__init__(n)\n",
    "        self.order = order\n",
    "        self.p = p\n",
    "    \n",
    "    # return one random linear matroid\n",
    "    def rand_matroid(self):\n",
    "        p = random.uniform(*self.p)\n",
    "        first_vector = [random.randint(0, self.order - 1) for j in range(self.n)]\n",
    "        matrix = [first_vector]\n",
    "        for i in range(1, self.n):\n",
    "            if random.random() < p:\n",
    "                # generate a uniform random subset of [1, ..., i - 1]\n",
    "                index_set = []\n",
    "                for j in range(i):\n",
    "                    if random.random() < 0.5: index_set.append(j)\n",
    "                        \n",
    "                if len(index_set) == 0: vector = [random.randint(0, self.order - 1) for j in range(self.n)]\n",
    "                else:\n",
    "                    vector = np.array([0 for j in range(self.n)])\n",
    "                    for j in index_set:\n",
    "                        coef = random.randint(1, self.order - 1)\n",
    "                        to_add = np.array(matrix[j])\n",
    "                        vector += to_add * coef\n",
    "                        vector = vector % self.order\n",
    "                        \n",
    "                    vector = list(vector)\n",
    "                        \n",
    "            else: \n",
    "                vector = [random.randint(0, self.order - 1) for j in range(self.n)]\n",
    "                \n",
    "            matrix.append(vector)\n",
    "\n",
    "        l = LinearMatroid(Matrix(GF(self.order), self.n, self.n, matrix).transpose())\n",
    "        if verbose: print(l.rank())\n",
    "        return l"
   ]
  },
  {
   "cell_type": "code",
   "execution_count": 142,
   "id": "461fb45f",
   "metadata": {},
   "outputs": [],
   "source": [
    "class LinearRandomMatroid2(RandomMatroid):\n",
    "    # Dependence probability p refers to the probability that a newly generated element will be \n",
    "    # independent from all previous elements. If the element isn't independent from all previous \n",
    "    # elements, then it will be chosen to be a random integer linear combination of a uniform \n",
    "    # subset of the previously generated elements\n",
    "    #\n",
    "    # All linear matroids will be over a finite field of the given order. To simulate real numbers,\n",
    "    # make the order big compared to n\n",
    "    def __init__(self, n, order=100, p=[0, 1]):\n",
    "        super().__init__(n)\n",
    "        self.order = order\n",
    "        self.p = random.uniform(*p)\n",
    "    \n",
    "    # return one random linear matroid\n",
    "    def rand_matroid(self):\n",
    "        first_vector = [random.randint(0, self.order - 1) for j in range(self.n)]\n",
    "        matrix = [first_vector]\n",
    "        for i in range(1, self.n):\n",
    "            if random.random() < self.p:\n",
    "                # generate a uniform random subset of [1, ..., i - 1]\n",
    "                index_set = []\n",
    "                for j in range(i):\n",
    "                    if random.random() < 0.37: index_set.append(j)\n",
    "                        \n",
    "                if len(index_set) == 0: vector = [random.randint(0, self.order - 1) for j in range(self.n)]\n",
    "                else:\n",
    "                    vector = np.array([0 for j in range(self.n)])\n",
    "                    for j in index_set:\n",
    "                        coef = random.randint(1, self.order - 1)\n",
    "                        to_add = np.array(matrix[j])\n",
    "                        vector += to_add * coef\n",
    "                        vector = vector % self.order\n",
    "                        \n",
    "                    vector = list(vector)\n",
    "                        \n",
    "            else: \n",
    "                vector = [random.randint(0, self.order - 1) for j in range(self.n)]\n",
    "                \n",
    "            matrix.append(vector)\n",
    "\n",
    "        l = LinearMatroid(Matrix(GF(self.order), self.n, self.n, matrix).transpose())\n",
    "        if verbose: print(l.rank())\n",
    "        return l"
   ]
  },
  {
   "cell_type": "code",
   "execution_count": 143,
   "id": "54e6edc2",
   "metadata": {},
   "outputs": [],
   "source": [
    "class TransversalMatroid:\n",
    "    # a = Number of nodes on the left side, a = number of nodes on the right side\n",
    "    # p = likelihood of a certain edge from some vertex on left to some vertex on right appearing\n",
    "    def __init__(self, a, b, p):\n",
    "        self.a = a; self.b = b; self.p = p\n",
    "        \n",
    "        self.A = [i for i in range(0, self.a)]\n",
    "        self.B = [i for i in range(self.a, self.a + self.b)]\n",
    "        self.source = -1\n",
    "        self.sink = self.a + self.b\n",
    "        self.adjacency = {vertex: [] for vertex in range(self.sink + 1)}\n",
    "        self.adjacency[self.source] = [x for x in self.A]\n",
    "        \n",
    "        # Initialize flow-network that will be used to check if perfect matchings exist\n",
    "        for v2 in self.B: self.adjacency[v2].append(self.sink)\n",
    "        \n",
    "        for v1 in self.A:\n",
    "            for v2 in self.B:\n",
    "                if random.random() < p: self.adjacency[v1].append(v2)\n",
    "                    \n",
    "        self.G = DiGraph(self.adjacency)\n",
    "        #self.G.plot().show()\n",
    "        \n",
    "        for edge in self.G.edge_boundary(self.A):\n",
    "            u = edge[0]; v = edge[1]\n",
    "            self.G.set_edge_label(u, v, 1)\n",
    "            \n",
    "        for edge in self.G.edge_boundary(self.B):\n",
    "            u = edge[0]; v = edge[1]\n",
    "            self.G.set_edge_label(u, v, 1)\n",
    "            \n",
    "        self.n = a\n",
    "\n",
    "    # Important: to make use of the cache, s needs to be immutable, e.g. a frozenset\n",
    "    @cache\n",
    "    def is_independent(self, s):\n",
    "        for edge in self.G.edge_boundary([self.source]):\n",
    "            u = edge[0]; v = edge[1]\n",
    "            self.G.set_edge_label(u, v, 1 if v in s else 0)\n",
    "        \n",
    "        flow = self.G.flow(self.source, self.sink, use_edge_labels=True)\n",
    "        assert flow <= len(s)\n",
    "        return flow == len(s)\n",
    "    \n",
    "    # Finds a max-weight basis of X (that is a subset of 0, ..., n - 1)\n",
    "    # weights should be a dictionary with key in X and value equivalent to weight of key\n",
    "    def max_weight_independent(self, X=None, weights=None):\n",
    "        # Use the greedy algorithm\n",
    "        order = sorted(X, key=lambda item: weights[item], reverse=True)\n",
    "        \n",
    "        current = set()\n",
    "        for e in order:\n",
    "            current.add(e)\n",
    "            if not self.is_independent(frozenset(current)):\n",
    "                current.remove(e)\n",
    "\n",
    "        return current\n",
    "    \n",
    "    # Return the span of X\n",
    "    def closure(self, X):\n",
    "        basis = self.max_weight_independent(X, {x: 0 for x in X})\n",
    "        \n",
    "        span = set()\n",
    "        for i in range(self.n):\n",
    "            if i in basis: span.add(i)\n",
    "            else:\n",
    "                basis.add(i)\n",
    "                if not self.is_independent(frozenset(basis)): span.add(i)\n",
    "                basis.remove(i)\n",
    "                \n",
    "        return span\n",
    "    \n",
    "    def size(self):\n",
    "        return self.n"
   ]
  },
  {
   "cell_type": "code",
   "execution_count": 144,
   "id": "2beb843c",
   "metadata": {},
   "outputs": [],
   "source": [
    "class TransversalRandomMatroid(RandomMatroid):\n",
    "    # a = Number of nodes on the left side, a = number of nodes on the right side\n",
    "    # p = likelihood of a certain edge from some vertex on left to some vertex on right appearing\n",
    "    def __init__(self, a=10, b=10, p=0.5):\n",
    "        super().__init__(a)\n",
    "        self.a = a\n",
    "        self.b = b\n",
    "        self.p = p\n",
    "    \n",
    "    # return one random transversal matroid\n",
    "    def rand_matroid(self):\n",
    "        return TransversalMatroid(self.a, self.b, self.p)"
   ]
  },
  {
   "cell_type": "code",
   "execution_count": 145,
   "id": "eff72a49",
   "metadata": {},
   "outputs": [],
   "source": [
    "class GeneralRandomMatroid(RandomMatroid):\n",
    "    def __init__(self, n):\n",
    "        super().__init__(n)\n",
    "        self.U = frozenset(range(n))\n",
    "    \n",
    "    def _isContained(self, AandB, Fr):\n",
    "        if len(AandB) == 0: return True\n",
    "        for C in Fr:\n",
    "            if AandB.issubset(C): return True\n",
    "        return False\n",
    "    \n",
    "    def rand_matroid(self):\n",
    "        r = 0\n",
    "        F = [set(frozenset())]\n",
    "        while self.U not in F[r]:\n",
    "            # generate covers\n",
    "            F_next = set(frozenset())\n",
    "            if r == 0:\n",
    "                for a in self.U:\n",
    "                    F_next.add(frozenset([a]))\n",
    "            else:\n",
    "                for A in F[r]:\n",
    "                    for a in self.U - A:\n",
    "                        x = set(A)\n",
    "                        x.add(a)\n",
    "                        F_next.add(frozenset(x))\n",
    "\n",
    "            #enlarge\n",
    "            if r != 0:\n",
    "                # adjust the number of times this loop is performed to generate different matroids\n",
    "                for _ in range(random.randint(0, self.n//2)):\n",
    "                    A = set(random.choice(list(F_next)))\n",
    "                    F_next.remove(A)\n",
    "                    if len(list(self.U-A)) != 0:\n",
    "                        A.add(random.choice(list(self.U-A)))\n",
    "                    F_next.add(frozenset(A))\n",
    "\n",
    "            # superpose\n",
    "            isContained = False\n",
    "            while not isContained:\n",
    "                isContained = True\n",
    "                not_contained = []\n",
    "                for A in F_next:\n",
    "                    for B in F_next:\n",
    "                        if A == B: continue\n",
    "                        if not self._isContained(A.intersection(B), F[r]): \n",
    "                            not_contained.append((A, B))\n",
    "                            isContained = False\n",
    "                for AB in not_contained:\n",
    "                    A, B = AB\n",
    "                    if A in F_next and B in F_next:\n",
    "                        F_next.remove(A)\n",
    "                        F_next.remove(B)\n",
    "                        F_next.add(A.union(B))\n",
    "            F.append(F_next)\n",
    "            r += 1\n",
    "    \n",
    "        closed_sets = []\n",
    "        for rank, X in enumerate(F):\n",
    "            for Y in X:\n",
    "                closed_sets.append((rank, Y))\n",
    "\n",
    "        return Matroid(self.U, circuit_closures = closed_sets)"
   ]
  },
  {
   "cell_type": "markdown",
   "id": "12a0e787",
   "metadata": {},
   "source": [
    "# Test Suite for Naive Virtual Algorithm"
   ]
  },
  {
   "cell_type": "markdown",
   "id": "5ea7fd5e",
   "metadata": {},
   "source": [
    "## Algorithm Implementation"
   ]
  },
  {
   "cell_type": "code",
   "execution_count": 244,
   "id": "61dc0c2a",
   "metadata": {},
   "outputs": [],
   "source": [
    "# Import any algorithm implementations here\n",
    "class FreeOrderMatroidAlgo:\n",
    "    def __init__(self, matroid, weights):\n",
    "        assert matroid.size() == len(weights)\n",
    "\n",
    "        self.matroid = matroid\n",
    "        self.weights = weights\n",
    "\n",
    "class Conjecture(FreeOrderMatroidAlgo):\n",
    "    def __init__(self, matroid, weights, sample_prob, verbose=False):\n",
    "        super().__init__(matroid, weights)\n",
    "        self.verbose = verbose\n",
    "        \n",
    "        # Sample S\n",
    "        S = []\n",
    "        self.P = set()\n",
    "        for i in range(self.matroid.size()):\n",
    "            if random.random() < sample_prob: \n",
    "                S.append((i, self.weights[i]))\n",
    "            else: self.P.add(i)\n",
    "                \n",
    "        self.top_k = sorted([(weight_i, True) for i, weight_i in S])\n",
    "\n",
    "        self.P = frozenset(self.P)\n",
    "        S = dict(S)\n",
    "        if self.verbose: print(f'{S = }')\n",
    "        self.X = self.matroid.max_weight_independent(X=set(S.keys()), weights=S) # max-weight basis of S\n",
    "        self.X = sorted(list(self.X), key=lambda i: self.weights[i], reverse=True)\n",
    "        \n",
    "        self.k = self.matroid.rank()\n",
    "\n",
    "    def run_trial(self):\n",
    "        cache(self.matroid.is_independent)\n",
    "        \n",
    "        total = 0\n",
    "        remaining = set(self.P) # which elements haven't been seen yet\n",
    "        A = frozenset() # store the answer\n",
    "\n",
    "        Xset = set()\n",
    "        for i, basis_elem in enumerate(self.X):\n",
    "            # Check which elements in remaining are dependent\n",
    "            Xset.add(basis_elem)\n",
    "            candidates = []\n",
    "            #print(candidates)\n",
    "            for element in remaining:\n",
    "                Xset.add(element)\n",
    "                if not self.matroid.is_independent(frozenset(Xset)): candidates.append(element)\n",
    "                Xset.remove(element)\n",
    "            random.shuffle(candidates)\n",
    "            \n",
    "            if self.verbose: print(f'{candidates = }')\n",
    "            for y in candidates:\n",
    "                remaining.remove(y)\n",
    "                \n",
    "                top_i_weight, top_i_from_sample = self.top_k[len(self.top_k) - i - 1]\n",
    "                \n",
    "                if (self.weights[y] > top_i_weight) and (top_i_from_sample):\n",
    "                    if self.matroid.is_independent(A.union(frozenset([y]))): \n",
    "                        A = A.union(frozenset([y]))\n",
    "                        total += self.weights[y]\n",
    "                        if self.verbose: print(f'{y = }')\n",
    "                    \n",
    "                bisect.insort(self.top_k, (self.weights[y], False))\n",
    "\n",
    "        remaining = list(remaining)\n",
    "        if self.verbose: print(f'{remaining = }')\n",
    "        random.shuffle(remaining)\n",
    "        #print(f'{remaining = }')\n",
    "        for y in remaining:\n",
    "            \n",
    "            #print(self.top_k)\n",
    "            \n",
    "            if len(self.top_k) >= self.k:\n",
    "                top_k_weight, top_k_from_sample = self.top_k[len(self.top_k) - self.k]\n",
    "                \n",
    "                if not top_k_from_sample:\n",
    "                    bisect.insort(self.top_k, (self.weights[y], False))\n",
    "                    continue\n",
    "                \n",
    "            if self.matroid.is_independent(A.union(frozenset([y]))): \n",
    "                A = A.union(frozenset([y]))\n",
    "                total += self.weights[y]\n",
    "            \n",
    "            bisect.insort(self.top_k, (self.weights[y], False))\n",
    "\n",
    "        return total, A"
   ]
  },
  {
   "cell_type": "markdown",
   "id": "96a4f100",
   "metadata": {},
   "source": [
    "## Experiment Setup"
   ]
  },
  {
   "cell_type": "code",
   "execution_count": 147,
   "id": "493b3156",
   "metadata": {},
   "outputs": [],
   "source": [
    "# algo is assumed to be a FreeOrderMatroidAlgo. Returns averaged payoff over all trials\n",
    "# weights will be a list of values of each item\n",
    "def run_trials(num_trials, matroid, weights, verbose = False):\n",
    "    sum = 0\n",
    "    total_counts = defaultdict(lambda: 0)\n",
    "    for _ in range(num_trials):\n",
    "        algo = Conjecture(matroid, weights, exp(-1), verbose)\n",
    "        weight, included = algo.run_trial()\n",
    "        sum += weight\n",
    "        if verbose: print(f'{included = }')\n",
    "        for element in included: total_counts[element] += 1\n",
    "\n",
    "    for key in total_counts: total_counts[key] = float(total_counts[key]) / num_trials\n",
    "    return float(sum / num_trials), total_counts"
   ]
  },
  {
   "cell_type": "code",
   "execution_count": null,
   "id": "e9fbe58f",
   "metadata": {},
   "outputs": [],
   "source": [
    "def run_experiment(M, num_trials, weights = None, verbose = False):\n",
    "    if weights is None: weights = [random.uniform(0, 1) for i in range(M.size())]\n",
    "\n",
    "    start_time = time.time()\n",
    "    val, freqs = run_trials(num_trials, M, weights, verbose)\n",
    "    end_time = time.time()\n",
    "    \n",
    "    if verbose: print(f\"Time to run {num_trials} trials is \", end_time - start_time)\n",
    "\n",
    "    opt_indices = M.max_weight_independent(X=set(range(M.size())), weights = dict([(i, weight) for i, weight in enumerate(weights)]))\n",
    "    opt_val = 0\n",
    "    ratios = []\n",
    "    \n",
    "    for opt_index in opt_indices:\n",
    "        ratios.append(freqs[opt_index])\n",
    "        #if (freqs[opt_index] < exp(-1)):\n",
    "            #print(\"Less than 1/e when \", M, opt_index)\n",
    "\n",
    "    if verbose: print(ratios)\n",
    "    return min(ratios)"
   ]
  },
  {
   "cell_type": "code",
   "execution_count": 149,
   "id": "3916f146",
   "metadata": {},
   "outputs": [],
   "source": [
    "def evaluate(rand_matroid, num_matroids, num_trials):\n",
    "    results = []\n",
    "    for i, M in enumerate(rand_matroid.gen(num_matroids), 1):\n",
    "        start = time.time()\n",
    "        results.append(run_experiment(M, num_trials))\n",
    "        end = time.time()\n",
    "        print(f'Matroid {i}/{num_matroids} completed in {round(end - start, 2)}s')\n",
    "    return results"
   ]
  },
  {
   "cell_type": "code",
   "execution_count": 150,
   "id": "28b32677",
   "metadata": {},
   "outputs": [],
   "source": [
    "def plot(results, fname=None):\n",
    "    bins = []\n",
    "    for x in range(int(min(results)/((1/30)*float(exp(-1)))), int(max(results)/((1/30)*float(exp(-1))))+1):\n",
    "        bins.append(x*(1/30)*float(exp(-1)))\n",
    "    plt.hist(results, bins = bins, density=True)\n",
    "    plt.axvline(x=float(exp(-1)), color = 'r', linestyle='dashed')\n",
    "    plt.xlabel('Minimum Ratio of Optimal Secretaries', fontsize=16)\n",
    "    plt.ylabel('Density (%)', fontsize=16)\n",
    "    plt.tight_layout()\n",
    "    if fname: plt.savefig(fname)\n",
    "    plt.show()"
   ]
  },
  {
   "cell_type": "markdown",
   "id": "14d316be",
   "metadata": {},
   "source": [
    "## Evaluation of Algorithm"
   ]
  },
  {
   "cell_type": "code",
   "execution_count": 219,
   "id": "673ae46a",
   "metadata": {
    "scrolled": true
   },
   "outputs": [
    {
     "name": "stdout",
     "output_type": "stream",
     "text": [
      "{2: 0.9446706704145225, 3: 0.5555947490222188, 5: 0.1602232933542107, 6: 0.7219800455456423, 7: 0.564217937357919, 10: 0.1990814030751068, 13: 0.9493316241240977, 17: 0.6128298695169923, 23: 0.5638624420593042, 25: 0.9029388383525211}\n",
      "[(0.1602232933542107, True), (0.1990814030751068, True), (0.5555947490222188, True), (0.5638624420593042, True), (0.564217937357919, True), (0.6128298695169923, True), (0.7219800455456423, True), (0.9029388383525211, True), (0.9446706704145225, True), (0.9493316241240977, True)]\n",
      "{4: 0.3773075922272805, 6: 0.7219800455456423, 13: 0.9493316241240977, 14: 0.7468312600416872, 17: 0.6128298695169923, 20: 0.733578554503842, 21: 0.6115342224117988, 22: 0.14864654853188664, 25: 0.9029388383525211, 27: 0.09965750472760093}\n",
      "[(0.09965750472760093, True), (0.14864654853188664, True), (0.3773075922272805, True), (0.6115342224117988, True), (0.6128298695169923, True), (0.7219800455456423, True), (0.733578554503842, True), (0.7468312600416872, True), (0.9029388383525211, True), (0.9493316241240977, True)]\n",
      "{1: 0.19803599910962377, 3: 0.5555947490222188, 5: 0.1602232933542107, 7: 0.564217937357919, 8: 0.773674960441326, 11: 0.8792268265092663, 12: 0.03063867045259472, 15: 0.49310405340000263, 22: 0.14864654853188664, 28: 0.881875181598935, 29: 0.43455840343876917, 30: 0.9131271919256607}\n",
      "[(0.03063867045259472, True), (0.14864654853188664, True), (0.1602232933542107, True), (0.19803599910962377, True), (0.43455840343876917, True), (0.49310405340000263, True), (0.5555947490222188, True), (0.564217937357919, True), (0.773674960441326, True), (0.8792268265092663, True), (0.881875181598935, True), (0.9131271919256607, True)]\n",
      "{0: 0.7606404107826931, 1: 0.19803599910962377, 2: 0.9446706704145225, 3: 0.5555947490222188, 4: 0.3773075922272805, 13: 0.9493316241240977, 16: 0.7025266040546633, 21: 0.6115342224117988, 23: 0.5638624420593042, 24: 0.100995835932288, 25: 0.9029388383525211, 27: 0.09965750472760093, 29: 0.43455840343876917}\n",
      "[(0.09965750472760093, True), (0.100995835932288, True), (0.19803599910962377, True), (0.3773075922272805, True), (0.43455840343876917, True), (0.5555947490222188, True), (0.5638624420593042, True), (0.6115342224117988, True), (0.7025266040546633, True), (0.7606404107826931, True), (0.9029388383525211, True), (0.9446706704145225, True), (0.9493316241240977, True)]\n",
      "{0: 0.7606404107826931, 1: 0.19803599910962377, 10: 0.1990814030751068, 11: 0.8792268265092663, 14: 0.7468312600416872, 21: 0.6115342224117988, 24: 0.100995835932288, 26: 0.6869682679293944}\n",
      "[(0.100995835932288, True), (0.19803599910962377, True), (0.1990814030751068, True), (0.6115342224117988, True), (0.6869682679293944, True), (0.7468312600416872, True), (0.7606404107826931, True), (0.8792268265092663, True)]\n",
      "{0: 0.7606404107826931, 4: 0.3773075922272805, 5: 0.1602232933542107, 6: 0.7219800455456423, 9: 0.7811812875577131, 11: 0.8792268265092663, 13: 0.9493316241240977, 16: 0.7025266040546633, 20: 0.733578554503842, 21: 0.6115342224117988, 22: 0.14864654853188664, 23: 0.5638624420593042}\n",
      "[(0.14864654853188664, True), (0.1602232933542107, True), (0.3773075922272805, True), (0.5638624420593042, True), (0.6115342224117988, True), (0.7025266040546633, True), (0.7219800455456423, True), (0.733578554503842, True), (0.7606404107826931, True), (0.7811812875577131, True), (0.8792268265092663, True), (0.9493316241240977, True)]\n",
      "{1: 0.19803599910962377, 2: 0.9446706704145225, 3: 0.5555947490222188, 5: 0.1602232933542107, 7: 0.564217937357919, 8: 0.773674960441326, 13: 0.9493316241240977, 16: 0.7025266040546633, 18: 0.9371499209667907, 19: 0.9091254435627001, 21: 0.6115342224117988, 22: 0.14864654853188664, 23: 0.5638624420593042, 24: 0.100995835932288, 28: 0.881875181598935, 29: 0.43455840343876917, 30: 0.9131271919256607}\n",
      "[(0.100995835932288, True), (0.14864654853188664, True), (0.1602232933542107, True), (0.19803599910962377, True), (0.43455840343876917, True), (0.5555947490222188, True), (0.5638624420593042, True), (0.564217937357919, True), (0.6115342224117988, True), (0.7025266040546633, True), (0.773674960441326, True), (0.881875181598935, True), (0.9091254435627001, True), (0.9131271919256607, True), (0.9371499209667907, True), (0.9446706704145225, True), (0.9493316241240977, True)]\n",
      "{2: 0.9446706704145225, 4: 0.3773075922272805, 5: 0.1602232933542107, 6: 0.7219800455456423, 7: 0.564217937357919, 8: 0.773674960441326, 11: 0.8792268265092663, 15: 0.49310405340000263, 18: 0.9371499209667907, 19: 0.9091254435627001, 21: 0.6115342224117988, 25: 0.9029388383525211}\n",
      "[(0.1602232933542107, True), (0.3773075922272805, True), (0.49310405340000263, True), (0.564217937357919, True), (0.6115342224117988, True), (0.7219800455456423, True), (0.773674960441326, True), (0.8792268265092663, True), (0.9029388383525211, True), (0.9091254435627001, True), (0.9371499209667907, True), (0.9446706704145225, True)]\n",
      "{2: 0.9446706704145225, 3: 0.5555947490222188, 5: 0.1602232933542107, 7: 0.564217937357919, 12: 0.03063867045259472, 14: 0.7468312600416872, 16: 0.7025266040546633, 19: 0.9091254435627001, 20: 0.733578554503842, 21: 0.6115342224117988, 24: 0.100995835932288, 25: 0.9029388383525211, 27: 0.09965750472760093, 29: 0.43455840343876917}\n",
      "[(0.03063867045259472, True), (0.09965750472760093, True), (0.100995835932288, True), (0.1602232933542107, True), (0.43455840343876917, True), (0.5555947490222188, True), (0.564217937357919, True), (0.6115342224117988, True), (0.7025266040546633, True), (0.733578554503842, True), (0.7468312600416872, True), (0.9029388383525211, True), (0.9091254435627001, True), (0.9446706704145225, True)]\n",
      "{1: 0.19803599910962377, 2: 0.9446706704145225, 3: 0.5555947490222188, 10: 0.1990814030751068, 13: 0.9493316241240977, 15: 0.49310405340000263, 17: 0.6128298695169923, 18: 0.9371499209667907, 22: 0.14864654853188664, 26: 0.6869682679293944, 27: 0.09965750472760093, 29: 0.43455840343876917, 30: 0.9131271919256607}\n",
      "[(0.09965750472760093, True), (0.14864654853188664, True), (0.19803599910962377, True), (0.1990814030751068, True), (0.43455840343876917, True), (0.49310405340000263, True), (0.5555947490222188, True), (0.6128298695169923, True), (0.6869682679293944, True), (0.9131271919256607, True), (0.9371499209667907, True), (0.9446706704145225, True), (0.9493316241240977, True)]\n",
      "{0: 0.7606404107826931, 1: 0.19803599910962377, 10: 0.1990814030751068, 11: 0.8792268265092663, 13: 0.9493316241240977, 15: 0.49310405340000263, 23: 0.5638624420593042, 28: 0.881875181598935, 30: 0.9131271919256607}\n",
      "[(0.19803599910962377, True), (0.1990814030751068, True), (0.49310405340000263, True), (0.5638624420593042, True), (0.7606404107826931, True), (0.8792268265092663, True), (0.881875181598935, True), (0.9131271919256607, True), (0.9493316241240977, True)]\n",
      "{3: 0.5555947490222188, 4: 0.3773075922272805, 6: 0.7219800455456423, 8: 0.773674960441326, 10: 0.1990814030751068, 11: 0.8792268265092663, 23: 0.5638624420593042, 26: 0.6869682679293944}\n",
      "[(0.1990814030751068, True), (0.3773075922272805, True), (0.5555947490222188, True), (0.5638624420593042, True), (0.6869682679293944, True), (0.7219800455456423, True), (0.773674960441326, True), (0.8792268265092663, True)]\n",
      "{4: 0.3773075922272805, 10: 0.1990814030751068, 11: 0.8792268265092663, 15: 0.49310405340000263, 18: 0.9371499209667907, 24: 0.100995835932288, 29: 0.43455840343876917}\n",
      "[(0.100995835932288, True), (0.1990814030751068, True), (0.3773075922272805, True), (0.43455840343876917, True), (0.49310405340000263, True), (0.8792268265092663, True), (0.9371499209667907, True)]\n",
      "{0: 0.7606404107826931, 3: 0.5555947490222188, 6: 0.7219800455456423, 7: 0.564217937357919, 9: 0.7811812875577131, 12: 0.03063867045259472, 20: 0.733578554503842, 22: 0.14864654853188664, 25: 0.9029388383525211, 28: 0.881875181598935}\n",
      "[(0.03063867045259472, True), (0.14864654853188664, True), (0.5555947490222188, True), (0.564217937357919, True), (0.7219800455456423, True), (0.733578554503842, True), (0.7606404107826931, True), (0.7811812875577131, True), (0.881875181598935, True), (0.9029388383525211, True)]\n",
      "{0: 0.7606404107826931, 6: 0.7219800455456423, 7: 0.564217937357919, 11: 0.8792268265092663, 17: 0.6128298695169923, 27: 0.09965750472760093, 29: 0.43455840343876917}\n",
      "[(0.09965750472760093, True), (0.43455840343876917, True), (0.564217937357919, True), (0.6128298695169923, True), (0.7219800455456423, True), (0.7606404107826931, True), (0.8792268265092663, True)]\n",
      "{1: 0.19803599910962377, 2: 0.9446706704145225, 5: 0.1602232933542107, 6: 0.7219800455456423, 9: 0.7811812875577131, 12: 0.03063867045259472, 13: 0.9493316241240977, 15: 0.49310405340000263, 17: 0.6128298695169923, 18: 0.9371499209667907, 20: 0.733578554503842, 21: 0.6115342224117988, 24: 0.100995835932288, 25: 0.9029388383525211, 26: 0.6869682679293944, 27: 0.09965750472760093, 28: 0.881875181598935, 29: 0.43455840343876917}\n",
      "[(0.03063867045259472, True), (0.09965750472760093, True), (0.100995835932288, True), (0.1602232933542107, True), (0.19803599910962377, True), (0.43455840343876917, True), (0.49310405340000263, True), (0.6115342224117988, True), (0.6128298695169923, True), (0.6869682679293944, True), (0.7219800455456423, True), (0.733578554503842, True), (0.7811812875577131, True), (0.881875181598935, True), (0.9029388383525211, True), (0.9371499209667907, True), (0.9446706704145225, True), (0.9493316241240977, True)]\n",
      "{0: 0.7606404107826931, 3: 0.5555947490222188, 6: 0.7219800455456423, 9: 0.7811812875577131, 11: 0.8792268265092663, 12: 0.03063867045259472, 15: 0.49310405340000263, 16: 0.7025266040546633, 17: 0.6128298695169923, 18: 0.9371499209667907, 19: 0.9091254435627001, 22: 0.14864654853188664, 27: 0.09965750472760093}\n",
      "[(0.03063867045259472, True), (0.09965750472760093, True), (0.14864654853188664, True), (0.49310405340000263, True), (0.5555947490222188, True), (0.6128298695169923, True), (0.7025266040546633, True), (0.7219800455456423, True), (0.7606404107826931, True), (0.7811812875577131, True), (0.8792268265092663, True), (0.9091254435627001, True), (0.9371499209667907, True)]\n",
      "{2: 0.9446706704145225, 3: 0.5555947490222188, 9: 0.7811812875577131, 18: 0.9371499209667907, 20: 0.733578554503842, 23: 0.5638624420593042, 24: 0.100995835932288, 25: 0.9029388383525211, 29: 0.43455840343876917, 30: 0.9131271919256607}\n",
      "[(0.100995835932288, True), (0.43455840343876917, True), (0.5555947490222188, True), (0.5638624420593042, True), (0.733578554503842, True), (0.7811812875577131, True), (0.9029388383525211, True), (0.9131271919256607, True), (0.9371499209667907, True), (0.9446706704145225, True)]\n",
      "{1: 0.19803599910962377, 8: 0.773674960441326, 10: 0.1990814030751068, 12: 0.03063867045259472, 14: 0.7468312600416872, 24: 0.100995835932288, 25: 0.9029388383525211, 26: 0.6869682679293944, 27: 0.09965750472760093, 29: 0.43455840343876917}\n",
      "[(0.03063867045259472, True), (0.09965750472760093, True), (0.100995835932288, True), (0.19803599910962377, True), (0.1990814030751068, True), (0.43455840343876917, True), (0.6869682679293944, True), (0.7468312600416872, True), (0.773674960441326, True), (0.9029388383525211, True)]\n",
      "{1: 0.19803599910962377, 8: 0.773674960441326, 9: 0.7811812875577131, 10: 0.1990814030751068, 11: 0.8792268265092663, 13: 0.9493316241240977, 15: 0.49310405340000263, 18: 0.9371499209667907, 19: 0.9091254435627001, 25: 0.9029388383525211, 27: 0.09965750472760093, 28: 0.881875181598935}\n",
      "[(0.09965750472760093, True), (0.19803599910962377, True), (0.1990814030751068, True), (0.49310405340000263, True), (0.773674960441326, True), (0.7811812875577131, True), (0.8792268265092663, True), (0.881875181598935, True), (0.9029388383525211, True), (0.9091254435627001, True), (0.9371499209667907, True), (0.9493316241240977, True)]\n",
      "{0: 0.7606404107826931, 2: 0.9446706704145225, 3: 0.5555947490222188, 5: 0.1602232933542107, 8: 0.773674960441326, 10: 0.1990814030751068, 11: 0.8792268265092663, 12: 0.03063867045259472, 22: 0.14864654853188664, 25: 0.9029388383525211, 26: 0.6869682679293944, 30: 0.9131271919256607}\n",
      "[(0.03063867045259472, True), (0.14864654853188664, True), (0.1602232933542107, True), (0.1990814030751068, True), (0.5555947490222188, True), (0.6869682679293944, True), (0.7606404107826931, True), (0.773674960441326, True), (0.8792268265092663, True), (0.9029388383525211, True), (0.9131271919256607, True), (0.9446706704145225, True)]\n",
      "{1: 0.19803599910962377, 3: 0.5555947490222188, 5: 0.1602232933542107, 6: 0.7219800455456423, 10: 0.1990814030751068, 11: 0.8792268265092663, 12: 0.03063867045259472, 13: 0.9493316241240977, 14: 0.7468312600416872, 15: 0.49310405340000263, 16: 0.7025266040546633, 17: 0.6128298695169923, 19: 0.9091254435627001, 21: 0.6115342224117988, 22: 0.14864654853188664, 23: 0.5638624420593042, 24: 0.100995835932288, 25: 0.9029388383525211, 27: 0.09965750472760093, 28: 0.881875181598935, 29: 0.43455840343876917}\n",
      "[(0.03063867045259472, True), (0.09965750472760093, True), (0.100995835932288, True), (0.14864654853188664, True), (0.1602232933542107, True), (0.19803599910962377, True), (0.1990814030751068, True), (0.43455840343876917, True), (0.49310405340000263, True), (0.5555947490222188, True), (0.5638624420593042, True), (0.6115342224117988, True), (0.6128298695169923, True), (0.7025266040546633, True), (0.7219800455456423, True), (0.7468312600416872, True), (0.8792268265092663, True), (0.881875181598935, True), (0.9029388383525211, True), (0.9091254435627001, True), (0.9493316241240977, True)]\n",
      "{2: 0.9446706704145225, 8: 0.773674960441326, 10: 0.1990814030751068, 12: 0.03063867045259472, 13: 0.9493316241240977, 18: 0.9371499209667907, 19: 0.9091254435627001, 20: 0.733578554503842, 21: 0.6115342224117988, 24: 0.100995835932288, 27: 0.09965750472760093, 29: 0.43455840343876917}\n",
      "[(0.03063867045259472, True), (0.09965750472760093, True), (0.100995835932288, True), (0.1990814030751068, True), (0.43455840343876917, True), (0.6115342224117988, True), (0.733578554503842, True), (0.773674960441326, True), (0.9091254435627001, True), (0.9371499209667907, True), (0.9446706704145225, True), (0.9493316241240977, True)]\n",
      "{0: 0.7606404107826931, 1: 0.19803599910962377, 2: 0.9446706704145225, 4: 0.3773075922272805, 5: 0.1602232933542107, 11: 0.8792268265092663, 12: 0.03063867045259472, 13: 0.9493316241240977, 16: 0.7025266040546633, 17: 0.6128298695169923, 28: 0.881875181598935}\n",
      "[(0.03063867045259472, True), (0.1602232933542107, True), (0.19803599910962377, True), (0.3773075922272805, True), (0.6128298695169923, True), (0.7025266040546633, True), (0.7606404107826931, True), (0.8792268265092663, True), (0.881875181598935, True), (0.9446706704145225, True), (0.9493316241240977, True)]\n",
      "{0: 0.7606404107826931, 7: 0.564217937357919, 12: 0.03063867045259472, 13: 0.9493316241240977, 18: 0.9371499209667907, 20: 0.733578554503842, 25: 0.9029388383525211, 26: 0.6869682679293944, 29: 0.43455840343876917}\n",
      "[(0.03063867045259472, True), (0.43455840343876917, True), (0.564217937357919, True), (0.6869682679293944, True), (0.733578554503842, True), (0.7606404107826931, True), (0.9029388383525211, True), (0.9371499209667907, True), (0.9493316241240977, True)]\n",
      "{0: 0.7606404107826931, 1: 0.19803599910962377, 2: 0.9446706704145225, 4: 0.3773075922272805, 7: 0.564217937357919, 13: 0.9493316241240977, 15: 0.49310405340000263, 16: 0.7025266040546633, 17: 0.6128298695169923, 22: 0.14864654853188664, 23: 0.5638624420593042, 24: 0.100995835932288, 26: 0.6869682679293944}\n",
      "[(0.100995835932288, True), (0.14864654853188664, True), (0.19803599910962377, True), (0.3773075922272805, True), (0.49310405340000263, True), (0.5638624420593042, True), (0.564217937357919, True), (0.6128298695169923, True), (0.6869682679293944, True), (0.7025266040546633, True), (0.7606404107826931, True), (0.9446706704145225, True), (0.9493316241240977, True)]\n",
      "{4: 0.3773075922272805, 6: 0.7219800455456423, 8: 0.773674960441326, 9: 0.7811812875577131, 11: 0.8792268265092663, 12: 0.03063867045259472, 16: 0.7025266040546633, 17: 0.6128298695169923, 24: 0.100995835932288, 25: 0.9029388383525211, 26: 0.6869682679293944}\n",
      "[(0.03063867045259472, True), (0.100995835932288, True), (0.3773075922272805, True), (0.6128298695169923, True), (0.6869682679293944, True), (0.7025266040546633, True), (0.7219800455456423, True), (0.773674960441326, True), (0.7811812875577131, True), (0.8792268265092663, True), (0.9029388383525211, True)]\n",
      "{5: 0.1602232933542107, 7: 0.564217937357919, 9: 0.7811812875577131, 13: 0.9493316241240977, 17: 0.6128298695169923, 23: 0.5638624420593042, 24: 0.100995835932288, 30: 0.9131271919256607}\n",
      "[(0.100995835932288, True), (0.1602232933542107, True), (0.5638624420593042, True), (0.564217937357919, True), (0.6128298695169923, True), (0.7811812875577131, True), (0.9131271919256607, True), (0.9493316241240977, True)]\n",
      "{0: 0.7606404107826931, 1: 0.19803599910962377, 3: 0.5555947490222188, 5: 0.1602232933542107, 7: 0.564217937357919, 10: 0.1990814030751068, 15: 0.49310405340000263, 16: 0.7025266040546633, 18: 0.9371499209667907, 19: 0.9091254435627001, 20: 0.733578554503842, 21: 0.6115342224117988, 23: 0.5638624420593042, 25: 0.9029388383525211, 30: 0.9131271919256607}\n",
      "[(0.1602232933542107, True), (0.19803599910962377, True), (0.1990814030751068, True), (0.49310405340000263, True), (0.5555947490222188, True), (0.5638624420593042, True), (0.564217937357919, True), (0.6115342224117988, True), (0.7025266040546633, True), (0.733578554503842, True), (0.7606404107826931, True), (0.9029388383525211, True), (0.9091254435627001, True), (0.9131271919256607, True), (0.9371499209667907, True)]\n",
      "{0: 0.7606404107826931, 5: 0.1602232933542107, 6: 0.7219800455456423, 7: 0.564217937357919, 9: 0.7811812875577131, 12: 0.03063867045259472, 13: 0.9493316241240977, 14: 0.7468312600416872, 23: 0.5638624420593042, 25: 0.9029388383525211, 26: 0.6869682679293944}\n",
      "[(0.03063867045259472, True), (0.1602232933542107, True), (0.5638624420593042, True), (0.564217937357919, True), (0.6869682679293944, True), (0.7219800455456423, True), (0.7468312600416872, True), (0.7606404107826931, True), (0.7811812875577131, True), (0.9029388383525211, True), (0.9493316241240977, True)]\n",
      "{8: 0.773674960441326, 10: 0.1990814030751068, 13: 0.9493316241240977, 14: 0.7468312600416872, 17: 0.6128298695169923, 18: 0.9371499209667907, 19: 0.9091254435627001, 23: 0.5638624420593042, 24: 0.100995835932288, 25: 0.9029388383525211, 26: 0.6869682679293944, 29: 0.43455840343876917}\n",
      "[(0.100995835932288, True), (0.1990814030751068, True), (0.43455840343876917, True), (0.5638624420593042, True), (0.6128298695169923, True), (0.6869682679293944, True), (0.7468312600416872, True), (0.773674960441326, True), (0.9029388383525211, True), (0.9091254435627001, True), (0.9371499209667907, True), (0.9493316241240977, True)]\n",
      "{1: 0.19803599910962377, 6: 0.7219800455456423, 7: 0.564217937357919, 9: 0.7811812875577131, 12: 0.03063867045259472, 18: 0.9371499209667907, 19: 0.9091254435627001, 20: 0.733578554503842, 25: 0.9029388383525211, 26: 0.6869682679293944, 27: 0.09965750472760093, 30: 0.9131271919256607}\n",
      "[(0.03063867045259472, True), (0.09965750472760093, True), (0.19803599910962377, True), (0.564217937357919, True), (0.6869682679293944, True), (0.7219800455456423, True), (0.733578554503842, True), (0.7811812875577131, True), (0.9029388383525211, True), (0.9091254435627001, True), (0.9131271919256607, True), (0.9371499209667907, True)]\n",
      "{0: 0.7606404107826931, 3: 0.5555947490222188, 7: 0.564217937357919, 11: 0.8792268265092663, 14: 0.7468312600416872, 16: 0.7025266040546633, 17: 0.6128298695169923, 19: 0.9091254435627001, 20: 0.733578554503842, 22: 0.14864654853188664, 23: 0.5638624420593042, 25: 0.9029388383525211, 26: 0.6869682679293944}\n",
      "[(0.14864654853188664, True), (0.5555947490222188, True), (0.5638624420593042, True), (0.564217937357919, True), (0.6128298695169923, True), (0.6869682679293944, True), (0.7025266040546633, True), (0.733578554503842, True), (0.7468312600416872, True), (0.7606404107826931, True), (0.8792268265092663, True), (0.9029388383525211, True), (0.9091254435627001, True)]\n",
      "{0: 0.7606404107826931, 1: 0.19803599910962377, 2: 0.9446706704145225, 5: 0.1602232933542107, 6: 0.7219800455456423, 8: 0.773674960441326, 9: 0.7811812875577131, 10: 0.1990814030751068, 16: 0.7025266040546633, 18: 0.9371499209667907, 21: 0.6115342224117988, 22: 0.14864654853188664, 23: 0.5638624420593042, 25: 0.9029388383525211, 26: 0.6869682679293944, 30: 0.9131271919256607}\n",
      "[(0.14864654853188664, True), (0.1602232933542107, True), (0.19803599910962377, True), (0.1990814030751068, True), (0.5638624420593042, True), (0.6115342224117988, True), (0.6869682679293944, True), (0.7025266040546633, True), (0.7219800455456423, True), (0.7606404107826931, True), (0.773674960441326, True), (0.7811812875577131, True), (0.9029388383525211, True), (0.9131271919256607, True), (0.9371499209667907, True), (0.9446706704145225, True)]\n",
      "{3: 0.5555947490222188, 8: 0.773674960441326, 12: 0.03063867045259472, 13: 0.9493316241240977, 17: 0.6128298695169923, 18: 0.9371499209667907, 20: 0.733578554503842, 28: 0.881875181598935}\n",
      "[(0.03063867045259472, True), (0.5555947490222188, True), (0.6128298695169923, True), (0.733578554503842, True), (0.773674960441326, True), (0.881875181598935, True), (0.9371499209667907, True), (0.9493316241240977, True)]\n",
      "{1: 0.19803599910962377, 5: 0.1602232933542107, 12: 0.03063867045259472, 17: 0.6128298695169923, 23: 0.5638624420593042, 24: 0.100995835932288, 30: 0.9131271919256607}\n",
      "[(0.03063867045259472, True), (0.100995835932288, True), (0.1602232933542107, True), (0.19803599910962377, True), (0.5638624420593042, True), (0.6128298695169923, True), (0.9131271919256607, True)]\n",
      "{0: 0.7606404107826931, 2: 0.9446706704145225, 3: 0.5555947490222188, 6: 0.7219800455456423, 9: 0.7811812875577131, 13: 0.9493316241240977, 16: 0.7025266040546633, 17: 0.6128298695169923, 29: 0.43455840343876917}\n",
      "[(0.43455840343876917, True), (0.5555947490222188, True), (0.6128298695169923, True), (0.7025266040546633, True), (0.7219800455456423, True), (0.7606404107826931, True), (0.7811812875577131, True), (0.9446706704145225, True), (0.9493316241240977, True)]\n",
      "{4: 0.3773075922272805, 9: 0.7811812875577131, 10: 0.1990814030751068, 12: 0.03063867045259472, 13: 0.9493316241240977, 14: 0.7468312600416872, 18: 0.9371499209667907, 19: 0.9091254435627001, 20: 0.733578554503842, 22: 0.14864654853188664, 23: 0.5638624420593042, 25: 0.9029388383525211, 26: 0.6869682679293944, 27: 0.09965750472760093, 29: 0.43455840343876917, 30: 0.9131271919256607}\n",
      "[(0.03063867045259472, True), (0.09965750472760093, True), (0.14864654853188664, True), (0.1990814030751068, True), (0.3773075922272805, True), (0.43455840343876917, True), (0.5638624420593042, True), (0.6869682679293944, True), (0.733578554503842, True), (0.7468312600416872, True), (0.7811812875577131, True), (0.9029388383525211, True), (0.9091254435627001, True), (0.9131271919256607, True), (0.9371499209667907, True), (0.9493316241240977, True)]\n",
      "{2: 0.9446706704145225, 4: 0.3773075922272805, 5: 0.1602232933542107, 7: 0.564217937357919, 9: 0.7811812875577131, 11: 0.8792268265092663, 16: 0.7025266040546633, 17: 0.6128298695169923, 21: 0.6115342224117988, 22: 0.14864654853188664, 23: 0.5638624420593042, 24: 0.100995835932288, 26: 0.6869682679293944, 27: 0.09965750472760093}\n",
      "[(0.09965750472760093, True), (0.100995835932288, True), (0.14864654853188664, True), (0.1602232933542107, True), (0.3773075922272805, True), (0.5638624420593042, True), (0.564217937357919, True), (0.6115342224117988, True), (0.6128298695169923, True), (0.6869682679293944, True), (0.7025266040546633, True), (0.7811812875577131, True), (0.8792268265092663, True), (0.9446706704145225, True)]\n",
      "{0: 0.7606404107826931, 1: 0.19803599910962377, 2: 0.9446706704145225, 3: 0.5555947490222188, 4: 0.3773075922272805, 6: 0.7219800455456423, 9: 0.7811812875577131, 12: 0.03063867045259472, 13: 0.9493316241240977, 14: 0.7468312600416872, 19: 0.9091254435627001, 20: 0.733578554503842, 21: 0.6115342224117988, 22: 0.14864654853188664, 24: 0.100995835932288, 25: 0.9029388383525211, 29: 0.43455840343876917, 30: 0.9131271919256607}\n",
      "[(0.03063867045259472, True), (0.100995835932288, True), (0.14864654853188664, True), (0.19803599910962377, True), (0.3773075922272805, True), (0.43455840343876917, True), (0.5555947490222188, True), (0.6115342224117988, True), (0.7219800455456423, True), (0.733578554503842, True), (0.7468312600416872, True), (0.7606404107826931, True), (0.7811812875577131, True), (0.9029388383525211, True), (0.9091254435627001, True), (0.9131271919256607, True), (0.9446706704145225, True), (0.9493316241240977, True)]\n"
     ]
    },
    {
     "name": "stdout",
     "output_type": "stream",
     "text": [
      "{6: 0.7219800455456423, 7: 0.564217937357919, 10: 0.1990814030751068, 12: 0.03063867045259472, 14: 0.7468312600416872, 20: 0.733578554503842, 24: 0.100995835932288, 25: 0.9029388383525211, 27: 0.09965750472760093, 29: 0.43455840343876917}\n",
      "[(0.03063867045259472, True), (0.09965750472760093, True), (0.100995835932288, True), (0.1990814030751068, True), (0.43455840343876917, True), (0.564217937357919, True), (0.7219800455456423, True), (0.733578554503842, True), (0.7468312600416872, True), (0.9029388383525211, True)]\n",
      "{1: 0.19803599910962377, 7: 0.564217937357919, 10: 0.1990814030751068, 17: 0.6128298695169923, 20: 0.733578554503842, 21: 0.6115342224117988, 23: 0.5638624420593042, 26: 0.6869682679293944, 27: 0.09965750472760093}\n",
      "[(0.09965750472760093, True), (0.19803599910962377, True), (0.1990814030751068, True), (0.5638624420593042, True), (0.564217937357919, True), (0.6115342224117988, True), (0.6128298695169923, True), (0.6869682679293944, True), (0.733578554503842, True)]\n",
      "{2: 0.9446706704145225, 3: 0.5555947490222188, 5: 0.1602232933542107, 8: 0.773674960441326, 10: 0.1990814030751068, 11: 0.8792268265092663, 12: 0.03063867045259472, 13: 0.9493316241240977, 14: 0.7468312600416872, 18: 0.9371499209667907, 19: 0.9091254435627001, 20: 0.733578554503842, 21: 0.6115342224117988, 28: 0.881875181598935}\n",
      "[(0.03063867045259472, True), (0.1602232933542107, True), (0.1990814030751068, True), (0.5555947490222188, True), (0.6115342224117988, True), (0.733578554503842, True), (0.7468312600416872, True), (0.773674960441326, True), (0.8792268265092663, True), (0.881875181598935, True), (0.9091254435627001, True), (0.9371499209667907, True), (0.9446706704145225, True), (0.9493316241240977, True)]\n",
      "{0: 0.7606404107826931, 1: 0.19803599910962377, 6: 0.7219800455456423, 11: 0.8792268265092663, 12: 0.03063867045259472, 13: 0.9493316241240977, 19: 0.9091254435627001, 20: 0.733578554503842, 25: 0.9029388383525211, 28: 0.881875181598935}\n",
      "[(0.03063867045259472, True), (0.19803599910962377, True), (0.7219800455456423, True), (0.733578554503842, True), (0.7606404107826931, True), (0.8792268265092663, True), (0.881875181598935, True), (0.9029388383525211, True), (0.9091254435627001, True), (0.9493316241240977, True)]\n",
      "{0: 0.7606404107826931, 3: 0.5555947490222188, 7: 0.564217937357919, 9: 0.7811812875577131, 10: 0.1990814030751068, 12: 0.03063867045259472, 15: 0.49310405340000263, 17: 0.6128298695169923, 18: 0.9371499209667907, 19: 0.9091254435627001, 25: 0.9029388383525211, 26: 0.6869682679293944}\n",
      "[(0.03063867045259472, True), (0.1990814030751068, True), (0.49310405340000263, True), (0.5555947490222188, True), (0.564217937357919, True), (0.6128298695169923, True), (0.6869682679293944, True), (0.7606404107826931, True), (0.7811812875577131, True), (0.9029388383525211, True), (0.9091254435627001, True), (0.9371499209667907, True)]\n",
      "{1: 0.19803599910962377, 4: 0.3773075922272805, 8: 0.773674960441326, 9: 0.7811812875577131, 11: 0.8792268265092663, 12: 0.03063867045259472, 13: 0.9493316241240977, 14: 0.7468312600416872, 17: 0.6128298695169923, 23: 0.5638624420593042, 30: 0.9131271919256607}\n",
      "[(0.03063867045259472, True), (0.19803599910962377, True), (0.3773075922272805, True), (0.5638624420593042, True), (0.6128298695169923, True), (0.7468312600416872, True), (0.773674960441326, True), (0.7811812875577131, True), (0.8792268265092663, True), (0.9131271919256607, True), (0.9493316241240977, True)]\n",
      "{0: 0.7606404107826931, 2: 0.9446706704145225, 7: 0.564217937357919, 8: 0.773674960441326, 15: 0.49310405340000263, 19: 0.9091254435627001, 21: 0.6115342224117988, 23: 0.5638624420593042, 26: 0.6869682679293944}\n",
      "[(0.49310405340000263, True), (0.5638624420593042, True), (0.564217937357919, True), (0.6115342224117988, True), (0.6869682679293944, True), (0.7606404107826931, True), (0.773674960441326, True), (0.9091254435627001, True), (0.9446706704145225, True)]\n",
      "{1: 0.19803599910962377, 3: 0.5555947490222188, 8: 0.773674960441326, 9: 0.7811812875577131, 12: 0.03063867045259472, 14: 0.7468312600416872, 15: 0.49310405340000263, 16: 0.7025266040546633, 24: 0.100995835932288, 25: 0.9029388383525211, 27: 0.09965750472760093, 29: 0.43455840343876917, 30: 0.9131271919256607}\n",
      "[(0.03063867045259472, True), (0.09965750472760093, True), (0.100995835932288, True), (0.19803599910962377, True), (0.43455840343876917, True), (0.49310405340000263, True), (0.5555947490222188, True), (0.7025266040546633, True), (0.7468312600416872, True), (0.773674960441326, True), (0.7811812875577131, True), (0.9029388383525211, True), (0.9131271919256607, True)]\n",
      "{1: 0.19803599910962377, 3: 0.5555947490222188, 5: 0.1602232933542107, 9: 0.7811812875577131, 10: 0.1990814030751068, 11: 0.8792268265092663, 14: 0.7468312600416872, 18: 0.9371499209667907, 20: 0.733578554503842, 25: 0.9029388383525211, 27: 0.09965750472760093}\n",
      "[(0.09965750472760093, True), (0.1602232933542107, True), (0.19803599910962377, True), (0.1990814030751068, True), (0.5555947490222188, True), (0.733578554503842, True), (0.7468312600416872, True), (0.7811812875577131, True), (0.8792268265092663, True), (0.9029388383525211, True), (0.9371499209667907, True)]\n",
      "{0: 0.7606404107826931, 1: 0.19803599910962377, 7: 0.564217937357919, 9: 0.7811812875577131, 11: 0.8792268265092663, 12: 0.03063867045259472, 17: 0.6128298695169923, 19: 0.9091254435627001, 22: 0.14864654853188664, 24: 0.100995835932288, 28: 0.881875181598935, 29: 0.43455840343876917}\n",
      "[(0.03063867045259472, True), (0.100995835932288, True), (0.14864654853188664, True), (0.19803599910962377, True), (0.43455840343876917, True), (0.564217937357919, True), (0.6128298695169923, True), (0.7606404107826931, True), (0.7811812875577131, True), (0.8792268265092663, True), (0.881875181598935, True), (0.9091254435627001, True)]\n",
      "{1: 0.19803599910962377, 2: 0.9446706704145225, 3: 0.5555947490222188, 8: 0.773674960441326, 9: 0.7811812875577131, 12: 0.03063867045259472, 14: 0.7468312600416872, 15: 0.49310405340000263, 17: 0.6128298695169923, 18: 0.9371499209667907, 20: 0.733578554503842, 27: 0.09965750472760093, 29: 0.43455840343876917, 30: 0.9131271919256607}\n",
      "[(0.03063867045259472, True), (0.09965750472760093, True), (0.19803599910962377, True), (0.43455840343876917, True), (0.49310405340000263, True), (0.5555947490222188, True), (0.6128298695169923, True), (0.733578554503842, True), (0.7468312600416872, True), (0.773674960441326, True), (0.7811812875577131, True), (0.9131271919256607, True), (0.9371499209667907, True), (0.9446706704145225, True)]\n",
      "{0: 0.7606404107826931, 4: 0.3773075922272805, 12: 0.03063867045259472, 13: 0.9493316241240977, 18: 0.9371499209667907, 23: 0.5638624420593042, 24: 0.100995835932288, 25: 0.9029388383525211, 28: 0.881875181598935, 29: 0.43455840343876917}\n",
      "[(0.03063867045259472, True), (0.100995835932288, True), (0.3773075922272805, True), (0.43455840343876917, True), (0.5638624420593042, True), (0.7606404107826931, True), (0.881875181598935, True), (0.9029388383525211, True), (0.9371499209667907, True), (0.9493316241240977, True)]\n",
      "{4: 0.3773075922272805, 7: 0.564217937357919, 10: 0.1990814030751068, 13: 0.9493316241240977, 14: 0.7468312600416872, 18: 0.9371499209667907, 24: 0.100995835932288, 25: 0.9029388383525211, 26: 0.6869682679293944, 30: 0.9131271919256607}\n",
      "[(0.100995835932288, True), (0.1990814030751068, True), (0.3773075922272805, True), (0.564217937357919, True), (0.6869682679293944, True), (0.7468312600416872, True), (0.9029388383525211, True), (0.9131271919256607, True), (0.9371499209667907, True), (0.9493316241240977, True)]\n",
      "{0: 0.7606404107826931, 1: 0.19803599910962377, 3: 0.5555947490222188, 4: 0.3773075922272805, 8: 0.773674960441326, 13: 0.9493316241240977, 14: 0.7468312600416872, 15: 0.49310405340000263, 16: 0.7025266040546633, 19: 0.9091254435627001, 22: 0.14864654853188664, 23: 0.5638624420593042, 26: 0.6869682679293944, 27: 0.09965750472760093, 28: 0.881875181598935, 29: 0.43455840343876917}\n",
      "[(0.09965750472760093, True), (0.14864654853188664, True), (0.19803599910962377, True), (0.3773075922272805, True), (0.43455840343876917, True), (0.49310405340000263, True), (0.5555947490222188, True), (0.5638624420593042, True), (0.6869682679293944, True), (0.7025266040546633, True), (0.7468312600416872, True), (0.7606404107826931, True), (0.773674960441326, True), (0.881875181598935, True), (0.9091254435627001, True), (0.9493316241240977, True)]\n",
      "{0: 0.7606404107826931, 2: 0.9446706704145225, 4: 0.3773075922272805, 9: 0.7811812875577131, 12: 0.03063867045259472, 13: 0.9493316241240977, 14: 0.7468312600416872, 15: 0.49310405340000263, 17: 0.6128298695169923, 18: 0.9371499209667907, 25: 0.9029388383525211, 26: 0.6869682679293944, 29: 0.43455840343876917}\n",
      "[(0.03063867045259472, True), (0.3773075922272805, True), (0.43455840343876917, True), (0.49310405340000263, True), (0.6128298695169923, True), (0.6869682679293944, True), (0.7468312600416872, True), (0.7606404107826931, True), (0.7811812875577131, True), (0.9029388383525211, True), (0.9371499209667907, True), (0.9446706704145225, True), (0.9493316241240977, True)]\n",
      "{0: 0.7606404107826931, 4: 0.3773075922272805, 7: 0.564217937357919, 8: 0.773674960441326, 14: 0.7468312600416872, 15: 0.49310405340000263, 16: 0.7025266040546633, 18: 0.9371499209667907, 20: 0.733578554503842, 21: 0.6115342224117988, 25: 0.9029388383525211, 27: 0.09965750472760093}\n",
      "[(0.09965750472760093, True), (0.3773075922272805, True), (0.49310405340000263, True), (0.564217937357919, True), (0.6115342224117988, True), (0.7025266040546633, True), (0.733578554503842, True), (0.7468312600416872, True), (0.7606404107826931, True), (0.773674960441326, True), (0.9029388383525211, True), (0.9371499209667907, True)]\n",
      "{0: 0.7606404107826931, 3: 0.5555947490222188, 5: 0.1602232933542107, 6: 0.7219800455456423, 7: 0.564217937357919, 8: 0.773674960441326, 16: 0.7025266040546633, 17: 0.6128298695169923, 20: 0.733578554503842, 27: 0.09965750472760093, 29: 0.43455840343876917, 30: 0.9131271919256607}\n",
      "[(0.09965750472760093, True), (0.1602232933542107, True), (0.43455840343876917, True), (0.5555947490222188, True), (0.564217937357919, True), (0.6128298695169923, True), (0.7025266040546633, True), (0.7219800455456423, True), (0.733578554503842, True), (0.7606404107826931, True), (0.773674960441326, True), (0.9131271919256607, True)]\n",
      "{1: 0.19803599910962377, 5: 0.1602232933542107, 15: 0.49310405340000263, 16: 0.7025266040546633, 20: 0.733578554503842, 21: 0.6115342224117988, 22: 0.14864654853188664, 28: 0.881875181598935}\n",
      "[(0.14864654853188664, True), (0.1602232933542107, True), (0.19803599910962377, True), (0.49310405340000263, True), (0.6115342224117988, True), (0.7025266040546633, True), (0.733578554503842, True), (0.881875181598935, True)]\n",
      "{1: 0.19803599910962377, 10: 0.1990814030751068, 11: 0.8792268265092663, 16: 0.7025266040546633, 17: 0.6128298695169923, 20: 0.733578554503842, 25: 0.9029388383525211}\n",
      "[(0.19803599910962377, True), (0.1990814030751068, True), (0.6128298695169923, True), (0.7025266040546633, True), (0.733578554503842, True), (0.8792268265092663, True), (0.9029388383525211, True)]\n",
      "{4: 0.3773075922272805, 11: 0.8792268265092663, 12: 0.03063867045259472, 14: 0.7468312600416872, 16: 0.7025266040546633, 18: 0.9371499209667907, 19: 0.9091254435627001, 21: 0.6115342224117988, 22: 0.14864654853188664, 23: 0.5638624420593042, 24: 0.100995835932288, 27: 0.09965750472760093, 28: 0.881875181598935, 30: 0.9131271919256607}\n",
      "[(0.03063867045259472, True), (0.09965750472760093, True), (0.100995835932288, True), (0.14864654853188664, True), (0.3773075922272805, True), (0.5638624420593042, True), (0.6115342224117988, True), (0.7025266040546633, True), (0.7468312600416872, True), (0.8792268265092663, True), (0.881875181598935, True), (0.9091254435627001, True), (0.9131271919256607, True), (0.9371499209667907, True)]\n",
      "{2: 0.9446706704145225, 4: 0.3773075922272805, 6: 0.7219800455456423, 10: 0.1990814030751068, 11: 0.8792268265092663, 12: 0.03063867045259472, 14: 0.7468312600416872, 19: 0.9091254435627001, 20: 0.733578554503842, 22: 0.14864654853188664, 23: 0.5638624420593042, 27: 0.09965750472760093}\n",
      "[(0.03063867045259472, True), (0.09965750472760093, True), (0.14864654853188664, True), (0.1990814030751068, True), (0.3773075922272805, True), (0.5638624420593042, True), (0.7219800455456423, True), (0.733578554503842, True), (0.7468312600416872, True), (0.8792268265092663, True), (0.9091254435627001, True), (0.9446706704145225, True)]\n",
      "{1: 0.19803599910962377, 3: 0.5555947490222188, 6: 0.7219800455456423, 10: 0.1990814030751068, 17: 0.6128298695169923, 18: 0.9371499209667907, 19: 0.9091254435627001, 21: 0.6115342224117988, 22: 0.14864654853188664, 23: 0.5638624420593042, 24: 0.100995835932288, 25: 0.9029388383525211, 27: 0.09965750472760093, 29: 0.43455840343876917, 30: 0.9131271919256607}\n",
      "[(0.09965750472760093, True), (0.100995835932288, True), (0.14864654853188664, True), (0.19803599910962377, True), (0.1990814030751068, True), (0.43455840343876917, True), (0.5555947490222188, True), (0.5638624420593042, True), (0.6115342224117988, True), (0.6128298695169923, True), (0.7219800455456423, True), (0.9029388383525211, True), (0.9091254435627001, True), (0.9131271919256607, True), (0.9371499209667907, True)]\n",
      "{2: 0.9446706704145225, 7: 0.564217937357919, 8: 0.773674960441326, 9: 0.7811812875577131, 11: 0.8792268265092663, 12: 0.03063867045259472, 15: 0.49310405340000263, 19: 0.9091254435627001, 23: 0.5638624420593042, 24: 0.100995835932288, 30: 0.9131271919256607}\n",
      "[(0.03063867045259472, True), (0.100995835932288, True), (0.49310405340000263, True), (0.5638624420593042, True), (0.564217937357919, True), (0.773674960441326, True), (0.7811812875577131, True), (0.8792268265092663, True), (0.9091254435627001, True), (0.9131271919256607, True), (0.9446706704145225, True)]\n",
      "{1: 0.19803599910962377, 2: 0.9446706704145225, 5: 0.1602232933542107, 7: 0.564217937357919, 9: 0.7811812875577131, 10: 0.1990814030751068, 13: 0.9493316241240977, 14: 0.7468312600416872, 20: 0.733578554503842, 23: 0.5638624420593042, 24: 0.100995835932288, 25: 0.9029388383525211, 27: 0.09965750472760093, 28: 0.881875181598935, 30: 0.9131271919256607}\n",
      "[(0.09965750472760093, True), (0.100995835932288, True), (0.1602232933542107, True), (0.19803599910962377, True), (0.1990814030751068, True), (0.5638624420593042, True), (0.564217937357919, True), (0.733578554503842, True), (0.7468312600416872, True), (0.7811812875577131, True), (0.881875181598935, True), (0.9029388383525211, True), (0.9131271919256607, True), (0.9446706704145225, True), (0.9493316241240977, True)]\n",
      "{2: 0.9446706704145225, 5: 0.1602232933542107, 8: 0.773674960441326, 10: 0.1990814030751068, 13: 0.9493316241240977, 17: 0.6128298695169923, 22: 0.14864654853188664, 29: 0.43455840343876917, 30: 0.9131271919256607}\n",
      "[(0.14864654853188664, True), (0.1602232933542107, True), (0.1990814030751068, True), (0.43455840343876917, True), (0.6128298695169923, True), (0.773674960441326, True), (0.9131271919256607, True), (0.9446706704145225, True), (0.9493316241240977, True)]\n",
      "{2: 0.9446706704145225, 3: 0.5555947490222188, 5: 0.1602232933542107, 6: 0.7219800455456423, 8: 0.773674960441326, 10: 0.1990814030751068, 11: 0.8792268265092663, 12: 0.03063867045259472, 15: 0.49310405340000263, 18: 0.9371499209667907, 21: 0.6115342224117988, 23: 0.5638624420593042, 24: 0.100995835932288, 26: 0.6869682679293944}\n",
      "[(0.03063867045259472, True), (0.100995835932288, True), (0.1602232933542107, True), (0.1990814030751068, True), (0.49310405340000263, True), (0.5555947490222188, True), (0.5638624420593042, True), (0.6115342224117988, True), (0.6869682679293944, True), (0.7219800455456423, True), (0.773674960441326, True), (0.8792268265092663, True), (0.9371499209667907, True), (0.9446706704145225, True)]\n",
      "{5: 0.1602232933542107, 6: 0.7219800455456423, 10: 0.1990814030751068, 12: 0.03063867045259472, 13: 0.9493316241240977, 14: 0.7468312600416872, 17: 0.6128298695169923, 18: 0.9371499209667907, 19: 0.9091254435627001, 20: 0.733578554503842, 24: 0.100995835932288, 26: 0.6869682679293944, 27: 0.09965750472760093, 30: 0.9131271919256607}\n",
      "[(0.03063867045259472, True), (0.09965750472760093, True), (0.100995835932288, True), (0.1602232933542107, True), (0.1990814030751068, True), (0.6128298695169923, True), (0.6869682679293944, True), (0.7219800455456423, True), (0.733578554503842, True), (0.7468312600416872, True), (0.9091254435627001, True), (0.9131271919256607, True), (0.9371499209667907, True), (0.9493316241240977, True)]\n",
      "{3: 0.5555947490222188, 4: 0.3773075922272805, 9: 0.7811812875577131, 12: 0.03063867045259472, 14: 0.7468312600416872, 15: 0.49310405340000263, 16: 0.7025266040546633, 19: 0.9091254435627001, 20: 0.733578554503842, 23: 0.5638624420593042, 25: 0.9029388383525211, 26: 0.6869682679293944, 30: 0.9131271919256607}\n",
      "[(0.03063867045259472, True), (0.3773075922272805, True), (0.49310405340000263, True), (0.5555947490222188, True), (0.5638624420593042, True), (0.6869682679293944, True), (0.7025266040546633, True), (0.733578554503842, True), (0.7468312600416872, True), (0.7811812875577131, True), (0.9029388383525211, True), (0.9091254435627001, True), (0.9131271919256607, True)]\n",
      "{0: 0.7606404107826931, 2: 0.9446706704145225, 3: 0.5555947490222188, 6: 0.7219800455456423, 9: 0.7811812875577131, 16: 0.7025266040546633, 18: 0.9371499209667907, 19: 0.9091254435627001, 22: 0.14864654853188664, 23: 0.5638624420593042, 24: 0.100995835932288, 27: 0.09965750472760093, 29: 0.43455840343876917}\n",
      "[(0.09965750472760093, True), (0.100995835932288, True), (0.14864654853188664, True), (0.43455840343876917, True), (0.5555947490222188, True), (0.5638624420593042, True), (0.7025266040546633, True), (0.7219800455456423, True), (0.7606404107826931, True), (0.7811812875577131, True), (0.9091254435627001, True), (0.9371499209667907, True), (0.9446706704145225, True)]\n",
      "{1: 0.19803599910962377, 4: 0.3773075922272805, 6: 0.7219800455456423, 11: 0.8792268265092663, 13: 0.9493316241240977, 15: 0.49310405340000263, 16: 0.7025266040546633, 18: 0.9371499209667907, 26: 0.6869682679293944}\n",
      "[(0.19803599910962377, True), (0.3773075922272805, True), (0.49310405340000263, True), (0.6869682679293944, True), (0.7025266040546633, True), (0.7219800455456423, True), (0.8792268265092663, True), (0.9371499209667907, True), (0.9493316241240977, True)]\n",
      "{0: 0.7606404107826931, 6: 0.7219800455456423, 12: 0.03063867045259472, 13: 0.9493316241240977, 17: 0.6128298695169923, 18: 0.9371499209667907, 24: 0.100995835932288, 25: 0.9029388383525211, 27: 0.09965750472760093}\n",
      "[(0.03063867045259472, True), (0.09965750472760093, True), (0.100995835932288, True), (0.6128298695169923, True), (0.7219800455456423, True), (0.7606404107826931, True), (0.9029388383525211, True), (0.9371499209667907, True), (0.9493316241240977, True)]\n",
      "{3: 0.5555947490222188, 5: 0.1602232933542107, 10: 0.1990814030751068, 13: 0.9493316241240977, 14: 0.7468312600416872, 17: 0.6128298695169923, 18: 0.9371499209667907, 22: 0.14864654853188664, 26: 0.6869682679293944, 27: 0.09965750472760093}\n",
      "[(0.09965750472760093, True), (0.14864654853188664, True), (0.1602232933542107, True), (0.1990814030751068, True), (0.5555947490222188, True), (0.6128298695169923, True), (0.6869682679293944, True), (0.7468312600416872, True), (0.9371499209667907, True), (0.9493316241240977, True)]\n",
      "{1: 0.19803599910962377, 3: 0.5555947490222188, 6: 0.7219800455456423, 8: 0.773674960441326, 9: 0.7811812875577131, 10: 0.1990814030751068, 12: 0.03063867045259472, 13: 0.9493316241240977, 15: 0.49310405340000263, 16: 0.7025266040546633, 17: 0.6128298695169923, 18: 0.9371499209667907, 19: 0.9091254435627001, 20: 0.733578554503842, 21: 0.6115342224117988, 23: 0.5638624420593042, 25: 0.9029388383525211, 29: 0.43455840343876917, 30: 0.9131271919256607}\n",
      "[(0.03063867045259472, True), (0.19803599910962377, True), (0.1990814030751068, True), (0.43455840343876917, True), (0.49310405340000263, True), (0.5555947490222188, True), (0.5638624420593042, True), (0.6115342224117988, True), (0.6128298695169923, True), (0.7025266040546633, True), (0.7219800455456423, True), (0.733578554503842, True), (0.773674960441326, True), (0.7811812875577131, True), (0.9029388383525211, True), (0.9091254435627001, True), (0.9131271919256607, True), (0.9371499209667907, True), (0.9493316241240977, True)]\n",
      "{3: 0.5555947490222188, 10: 0.1990814030751068, 11: 0.8792268265092663, 13: 0.9493316241240977, 15: 0.49310405340000263, 17: 0.6128298695169923, 20: 0.733578554503842, 25: 0.9029388383525211, 26: 0.6869682679293944}\n",
      "[(0.1990814030751068, True), (0.49310405340000263, True), (0.5555947490222188, True), (0.6128298695169923, True), (0.6869682679293944, True), (0.733578554503842, True), (0.8792268265092663, True), (0.9029388383525211, True), (0.9493316241240977, True)]\n",
      "{3: 0.5555947490222188, 8: 0.773674960441326, 15: 0.49310405340000263, 16: 0.7025266040546633, 18: 0.9371499209667907, 21: 0.6115342224117988, 26: 0.6869682679293944, 27: 0.09965750472760093, 29: 0.43455840343876917, 30: 0.9131271919256607}\n",
      "[(0.09965750472760093, True), (0.43455840343876917, True), (0.49310405340000263, True), (0.5555947490222188, True), (0.6115342224117988, True), (0.6869682679293944, True), (0.7025266040546633, True), (0.773674960441326, True), (0.9131271919256607, True), (0.9371499209667907, True)]\n"
     ]
    },
    {
     "name": "stdout",
     "output_type": "stream",
     "text": [
      "{1: 0.19803599910962377, 2: 0.9446706704145225, 11: 0.8792268265092663, 13: 0.9493316241240977, 14: 0.7468312600416872, 15: 0.49310405340000263, 17: 0.6128298695169923, 18: 0.9371499209667907, 23: 0.5638624420593042, 24: 0.100995835932288, 28: 0.881875181598935}\n",
      "[(0.100995835932288, True), (0.19803599910962377, True), (0.49310405340000263, True), (0.5638624420593042, True), (0.6128298695169923, True), (0.7468312600416872, True), (0.8792268265092663, True), (0.881875181598935, True), (0.9371499209667907, True), (0.9446706704145225, True), (0.9493316241240977, True)]\n",
      "{0: 0.7606404107826931, 1: 0.19803599910962377, 4: 0.3773075922272805, 5: 0.1602232933542107, 6: 0.7219800455456423, 7: 0.564217937357919, 8: 0.773674960441326, 12: 0.03063867045259472, 15: 0.49310405340000263, 21: 0.6115342224117988, 24: 0.100995835932288, 26: 0.6869682679293944, 27: 0.09965750472760093, 30: 0.9131271919256607}\n",
      "[(0.03063867045259472, True), (0.09965750472760093, True), (0.100995835932288, True), (0.1602232933542107, True), (0.19803599910962377, True), (0.3773075922272805, True), (0.49310405340000263, True), (0.564217937357919, True), (0.6115342224117988, True), (0.6869682679293944, True), (0.7219800455456423, True), (0.7606404107826931, True), (0.773674960441326, True), (0.9131271919256607, True)]\n",
      "{5: 0.1602232933542107, 6: 0.7219800455456423, 9: 0.7811812875577131, 13: 0.9493316241240977, 15: 0.49310405340000263, 16: 0.7025266040546633, 27: 0.09965750472760093, 29: 0.43455840343876917}\n",
      "[(0.09965750472760093, True), (0.1602232933542107, True), (0.43455840343876917, True), (0.49310405340000263, True), (0.7025266040546633, True), (0.7219800455456423, True), (0.7811812875577131, True), (0.9493316241240977, True)]\n",
      "{5: 0.1602232933542107, 9: 0.7811812875577131, 12: 0.03063867045259472, 14: 0.7468312600416872, 15: 0.49310405340000263, 16: 0.7025266040546633, 17: 0.6128298695169923, 20: 0.733578554503842, 25: 0.9029388383525211, 29: 0.43455840343876917}\n",
      "[(0.03063867045259472, True), (0.1602232933542107, True), (0.43455840343876917, True), (0.49310405340000263, True), (0.6128298695169923, True), (0.7025266040546633, True), (0.733578554503842, True), (0.7468312600416872, True), (0.7811812875577131, True), (0.9029388383525211, True)]\n",
      "{0: 0.7606404107826931, 2: 0.9446706704145225, 6: 0.7219800455456423, 10: 0.1990814030751068, 11: 0.8792268265092663, 12: 0.03063867045259472, 14: 0.7468312600416872, 17: 0.6128298695169923, 18: 0.9371499209667907, 22: 0.14864654853188664, 23: 0.5638624420593042, 24: 0.100995835932288}\n",
      "[(0.03063867045259472, True), (0.100995835932288, True), (0.14864654853188664, True), (0.1990814030751068, True), (0.5638624420593042, True), (0.6128298695169923, True), (0.7219800455456423, True), (0.7468312600416872, True), (0.7606404107826931, True), (0.8792268265092663, True), (0.9371499209667907, True), (0.9446706704145225, True)]\n",
      "{1: 0.19803599910962377, 10: 0.1990814030751068, 14: 0.7468312600416872, 16: 0.7025266040546633, 18: 0.9371499209667907, 22: 0.14864654853188664, 26: 0.6869682679293944}\n",
      "[(0.14864654853188664, True), (0.19803599910962377, True), (0.1990814030751068, True), (0.6869682679293944, True), (0.7025266040546633, True), (0.7468312600416872, True), (0.9371499209667907, True)]\n",
      "{0: 0.7606404107826931, 1: 0.19803599910962377, 2: 0.9446706704145225, 4: 0.3773075922272805, 5: 0.1602232933542107, 6: 0.7219800455456423, 7: 0.564217937357919, 10: 0.1990814030751068, 12: 0.03063867045259472, 13: 0.9493316241240977, 17: 0.6128298695169923, 19: 0.9091254435627001, 21: 0.6115342224117988, 22: 0.14864654853188664, 23: 0.5638624420593042, 24: 0.100995835932288, 25: 0.9029388383525211, 29: 0.43455840343876917}\n",
      "[(0.03063867045259472, True), (0.100995835932288, True), (0.14864654853188664, True), (0.1602232933542107, True), (0.19803599910962377, True), (0.1990814030751068, True), (0.3773075922272805, True), (0.43455840343876917, True), (0.5638624420593042, True), (0.564217937357919, True), (0.6115342224117988, True), (0.6128298695169923, True), (0.7219800455456423, True), (0.7606404107826931, True), (0.9029388383525211, True), (0.9091254435627001, True), (0.9446706704145225, True), (0.9493316241240977, True)]\n",
      "{0: 0.7606404107826931, 4: 0.3773075922272805, 5: 0.1602232933542107, 6: 0.7219800455456423, 9: 0.7811812875577131, 12: 0.03063867045259472, 13: 0.9493316241240977, 15: 0.49310405340000263, 18: 0.9371499209667907, 23: 0.5638624420593042, 24: 0.100995835932288, 29: 0.43455840343876917, 30: 0.9131271919256607}\n",
      "[(0.03063867045259472, True), (0.100995835932288, True), (0.1602232933542107, True), (0.3773075922272805, True), (0.43455840343876917, True), (0.49310405340000263, True), (0.5638624420593042, True), (0.7219800455456423, True), (0.7606404107826931, True), (0.7811812875577131, True), (0.9131271919256607, True), (0.9371499209667907, True), (0.9493316241240977, True)]\n",
      "{0: 0.7606404107826931, 5: 0.1602232933542107, 7: 0.564217937357919, 8: 0.773674960441326, 10: 0.1990814030751068, 12: 0.03063867045259472, 15: 0.49310405340000263, 16: 0.7025266040546633, 19: 0.9091254435627001, 25: 0.9029388383525211, 30: 0.9131271919256607}\n",
      "[(0.03063867045259472, True), (0.1602232933542107, True), (0.1990814030751068, True), (0.49310405340000263, True), (0.564217937357919, True), (0.7025266040546633, True), (0.7606404107826931, True), (0.773674960441326, True), (0.9029388383525211, True), (0.9091254435627001, True), (0.9131271919256607, True)]\n",
      "{2: 0.9446706704145225, 4: 0.3773075922272805, 6: 0.7219800455456423, 7: 0.564217937357919, 11: 0.8792268265092663, 13: 0.9493316241240977, 15: 0.49310405340000263, 20: 0.733578554503842, 22: 0.14864654853188664, 23: 0.5638624420593042, 24: 0.100995835932288, 26: 0.6869682679293944, 27: 0.09965750472760093, 28: 0.881875181598935, 30: 0.9131271919256607}\n",
      "[(0.09965750472760093, True), (0.100995835932288, True), (0.14864654853188664, True), (0.3773075922272805, True), (0.49310405340000263, True), (0.5638624420593042, True), (0.564217937357919, True), (0.6869682679293944, True), (0.7219800455456423, True), (0.733578554503842, True), (0.8792268265092663, True), (0.881875181598935, True), (0.9131271919256607, True), (0.9446706704145225, True), (0.9493316241240977, True)]\n",
      "{0: 0.7606404107826931, 2: 0.9446706704145225, 3: 0.5555947490222188, 5: 0.1602232933542107, 7: 0.564217937357919, 8: 0.773674960441326, 10: 0.1990814030751068, 13: 0.9493316241240977, 16: 0.7025266040546633, 17: 0.6128298695169923, 21: 0.6115342224117988, 22: 0.14864654853188664, 24: 0.100995835932288, 26: 0.6869682679293944, 27: 0.09965750472760093, 29: 0.43455840343876917}\n",
      "[(0.09965750472760093, True), (0.100995835932288, True), (0.14864654853188664, True), (0.1602232933542107, True), (0.1990814030751068, True), (0.43455840343876917, True), (0.5555947490222188, True), (0.564217937357919, True), (0.6115342224117988, True), (0.6128298695169923, True), (0.6869682679293944, True), (0.7025266040546633, True), (0.7606404107826931, True), (0.773674960441326, True), (0.9446706704145225, True), (0.9493316241240977, True)]\n",
      "{2: 0.9446706704145225, 4: 0.3773075922272805, 6: 0.7219800455456423, 8: 0.773674960441326, 13: 0.9493316241240977, 14: 0.7468312600416872, 16: 0.7025266040546633, 17: 0.6128298695169923, 25: 0.9029388383525211, 26: 0.6869682679293944, 28: 0.881875181598935, 30: 0.9131271919256607}\n",
      "[(0.3773075922272805, True), (0.6128298695169923, True), (0.6869682679293944, True), (0.7025266040546633, True), (0.7219800455456423, True), (0.7468312600416872, True), (0.773674960441326, True), (0.881875181598935, True), (0.9029388383525211, True), (0.9131271919256607, True), (0.9446706704145225, True), (0.9493316241240977, True)]\n",
      "{1: 0.19803599910962377, 3: 0.5555947490222188, 4: 0.3773075922272805, 7: 0.564217937357919, 14: 0.7468312600416872, 17: 0.6128298695169923, 20: 0.733578554503842, 25: 0.9029388383525211, 26: 0.6869682679293944, 27: 0.09965750472760093, 29: 0.43455840343876917}\n",
      "[(0.09965750472760093, True), (0.19803599910962377, True), (0.3773075922272805, True), (0.43455840343876917, True), (0.5555947490222188, True), (0.564217937357919, True), (0.6128298695169923, True), (0.6869682679293944, True), (0.733578554503842, True), (0.7468312600416872, True), (0.9029388383525211, True)]\n",
      "{2: 0.9446706704145225, 3: 0.5555947490222188, 4: 0.3773075922272805, 6: 0.7219800455456423, 7: 0.564217937357919, 8: 0.773674960441326, 9: 0.7811812875577131, 10: 0.1990814030751068, 17: 0.6128298695169923, 23: 0.5638624420593042, 27: 0.09965750472760093, 28: 0.881875181598935}\n",
      "[(0.09965750472760093, True), (0.1990814030751068, True), (0.3773075922272805, True), (0.5555947490222188, True), (0.5638624420593042, True), (0.564217937357919, True), (0.6128298695169923, True), (0.7219800455456423, True), (0.773674960441326, True), (0.7811812875577131, True), (0.881875181598935, True), (0.9446706704145225, True)]\n",
      "{4: 0.3773075922272805, 6: 0.7219800455456423, 10: 0.1990814030751068, 13: 0.9493316241240977, 17: 0.6128298695169923, 22: 0.14864654853188664, 30: 0.9131271919256607}\n",
      "[(0.14864654853188664, True), (0.1990814030751068, True), (0.3773075922272805, True), (0.6128298695169923, True), (0.7219800455456423, True), (0.9131271919256607, True), (0.9493316241240977, True)]\n",
      "{1: 0.19803599910962377, 2: 0.9446706704145225, 6: 0.7219800455456423, 9: 0.7811812875577131, 12: 0.03063867045259472, 14: 0.7468312600416872, 15: 0.49310405340000263, 19: 0.9091254435627001, 23: 0.5638624420593042, 24: 0.100995835932288, 25: 0.9029388383525211, 27: 0.09965750472760093, 28: 0.881875181598935}\n",
      "[(0.03063867045259472, True), (0.09965750472760093, True), (0.100995835932288, True), (0.19803599910962377, True), (0.49310405340000263, True), (0.5638624420593042, True), (0.7219800455456423, True), (0.7468312600416872, True), (0.7811812875577131, True), (0.881875181598935, True), (0.9029388383525211, True), (0.9091254435627001, True), (0.9446706704145225, True)]\n",
      "{0: 0.7606404107826931, 4: 0.3773075922272805, 5: 0.1602232933542107, 6: 0.7219800455456423, 8: 0.773674960441326, 9: 0.7811812875577131, 10: 0.1990814030751068, 12: 0.03063867045259472, 15: 0.49310405340000263, 17: 0.6128298695169923, 21: 0.6115342224117988, 23: 0.5638624420593042, 24: 0.100995835932288, 25: 0.9029388383525211, 27: 0.09965750472760093, 28: 0.881875181598935, 29: 0.43455840343876917}\n",
      "[(0.03063867045259472, True), (0.09965750472760093, True), (0.100995835932288, True), (0.1602232933542107, True), (0.1990814030751068, True), (0.3773075922272805, True), (0.43455840343876917, True), (0.49310405340000263, True), (0.5638624420593042, True), (0.6115342224117988, True), (0.6128298695169923, True), (0.7219800455456423, True), (0.7606404107826931, True), (0.773674960441326, True), (0.7811812875577131, True), (0.881875181598935, True), (0.9029388383525211, True)]\n",
      "{0: 0.7606404107826931, 4: 0.3773075922272805, 5: 0.1602232933542107, 7: 0.564217937357919, 13: 0.9493316241240977, 15: 0.49310405340000263, 17: 0.6128298695169923, 18: 0.9371499209667907, 23: 0.5638624420593042, 24: 0.100995835932288, 25: 0.9029388383525211}\n",
      "[(0.100995835932288, True), (0.1602232933542107, True), (0.3773075922272805, True), (0.49310405340000263, True), (0.5638624420593042, True), (0.564217937357919, True), (0.6128298695169923, True), (0.7606404107826931, True), (0.9029388383525211, True), (0.9371499209667907, True), (0.9493316241240977, True)]\n",
      "{8: 0.773674960441326, 9: 0.7811812875577131, 12: 0.03063867045259472, 13: 0.9493316241240977, 14: 0.7468312600416872, 15: 0.49310405340000263, 18: 0.9371499209667907, 23: 0.5638624420593042, 24: 0.100995835932288, 25: 0.9029388383525211, 27: 0.09965750472760093, 28: 0.881875181598935}\n",
      "[(0.03063867045259472, True), (0.09965750472760093, True), (0.100995835932288, True), (0.49310405340000263, True), (0.5638624420593042, True), (0.7468312600416872, True), (0.773674960441326, True), (0.7811812875577131, True), (0.881875181598935, True), (0.9029388383525211, True), (0.9371499209667907, True), (0.9493316241240977, True)]\n",
      "{2: 0.9446706704145225, 7: 0.564217937357919, 8: 0.773674960441326, 10: 0.1990814030751068, 12: 0.03063867045259472, 13: 0.9493316241240977, 17: 0.6128298695169923, 27: 0.09965750472760093}\n",
      "[(0.03063867045259472, True), (0.09965750472760093, True), (0.1990814030751068, True), (0.564217937357919, True), (0.6128298695169923, True), (0.773674960441326, True), (0.9446706704145225, True), (0.9493316241240977, True)]\n",
      "{0: 0.7606404107826931, 5: 0.1602232933542107, 6: 0.7219800455456423, 10: 0.1990814030751068, 12: 0.03063867045259472, 14: 0.7468312600416872, 17: 0.6128298695169923, 18: 0.9371499209667907, 19: 0.9091254435627001, 20: 0.733578554503842, 25: 0.9029388383525211, 26: 0.6869682679293944, 27: 0.09965750472760093, 30: 0.9131271919256607}\n",
      "[(0.03063867045259472, True), (0.09965750472760093, True), (0.1602232933542107, True), (0.1990814030751068, True), (0.6128298695169923, True), (0.6869682679293944, True), (0.7219800455456423, True), (0.733578554503842, True), (0.7468312600416872, True), (0.7606404107826931, True), (0.9029388383525211, True), (0.9091254435627001, True), (0.9131271919256607, True), (0.9371499209667907, True)]\n",
      "{1: 0.19803599910962377, 4: 0.3773075922272805, 5: 0.1602232933542107, 6: 0.7219800455456423, 8: 0.773674960441326, 9: 0.7811812875577131, 16: 0.7025266040546633, 17: 0.6128298695169923, 19: 0.9091254435627001, 21: 0.6115342224117988, 25: 0.9029388383525211, 26: 0.6869682679293944}\n",
      "[(0.1602232933542107, True), (0.19803599910962377, True), (0.3773075922272805, True), (0.6115342224117988, True), (0.6128298695169923, True), (0.6869682679293944, True), (0.7025266040546633, True), (0.7219800455456423, True), (0.773674960441326, True), (0.7811812875577131, True), (0.9029388383525211, True), (0.9091254435627001, True)]\n",
      "{0: 0.7606404107826931, 1: 0.19803599910962377, 2: 0.9446706704145225, 6: 0.7219800455456423, 9: 0.7811812875577131, 10: 0.1990814030751068, 15: 0.49310405340000263, 21: 0.6115342224117988, 23: 0.5638624420593042, 26: 0.6869682679293944, 28: 0.881875181598935, 30: 0.9131271919256607}\n",
      "[(0.19803599910962377, True), (0.1990814030751068, True), (0.49310405340000263, True), (0.5638624420593042, True), (0.6115342224117988, True), (0.6869682679293944, True), (0.7219800455456423, True), (0.7606404107826931, True), (0.7811812875577131, True), (0.881875181598935, True), (0.9131271919256607, True), (0.9446706704145225, True)]\n",
      "{1: 0.19803599910962377, 3: 0.5555947490222188, 6: 0.7219800455456423, 7: 0.564217937357919, 8: 0.773674960441326, 9: 0.7811812875577131, 13: 0.9493316241240977, 15: 0.49310405340000263, 17: 0.6128298695169923, 19: 0.9091254435627001, 20: 0.733578554503842, 21: 0.6115342224117988, 24: 0.100995835932288, 25: 0.9029388383525211, 27: 0.09965750472760093, 28: 0.881875181598935, 29: 0.43455840343876917}\n",
      "[(0.09965750472760093, True), (0.100995835932288, True), (0.19803599910962377, True), (0.43455840343876917, True), (0.49310405340000263, True), (0.5555947490222188, True), (0.564217937357919, True), (0.6115342224117988, True), (0.6128298695169923, True), (0.7219800455456423, True), (0.733578554503842, True), (0.773674960441326, True), (0.7811812875577131, True), (0.881875181598935, True), (0.9029388383525211, True), (0.9091254435627001, True), (0.9493316241240977, True)]\n",
      "{2: 0.9446706704145225, 3: 0.5555947490222188, 4: 0.3773075922272805, 14: 0.7468312600416872, 15: 0.49310405340000263, 20: 0.733578554503842, 26: 0.6869682679293944, 27: 0.09965750472760093, 29: 0.43455840343876917}\n",
      "[(0.09965750472760093, True), (0.3773075922272805, True), (0.43455840343876917, True), (0.49310405340000263, True), (0.5555947490222188, True), (0.6869682679293944, True), (0.733578554503842, True), (0.7468312600416872, True), (0.9446706704145225, True)]\n",
      "Matroid 1/3 completed in 0.58s\n",
      "{3: 0.8324034583733682, 4: 0.0009535329463230546, 5: 0.7318534022723602, 12: 0.9286585651324746, 13: 0.013802211971427392, 20: 0.9896571121376914, 22: 0.18379305377445854, 24: 0.27512766102577935, 25: 0.16544825205040692, 27: 0.5859978063743055, 28: 0.4144615521629651, 29: 0.7488634314389183}\n",
      "[(0.0009535329463230546, True), (0.013802211971427392, True), (0.16544825205040692, True), (0.18379305377445854, True), (0.27512766102577935, True), (0.4144615521629651, True), (0.5859978063743055, True), (0.7318534022723602, True), (0.7488634314389183, True), (0.8324034583733682, True), (0.9286585651324746, True), (0.9896571121376914, True)]\n",
      "{0: 0.8441824787244566, 2: 0.10847014562717694, 6: 0.27356065631130744, 7: 0.4767023217349, 10: 0.4093350376202295, 15: 0.4597867138387849, 18: 0.5326054311578211, 19: 0.49721371493504674, 26: 0.35864203219468704}\n",
      "[(0.10847014562717694, True), (0.27356065631130744, True), (0.35864203219468704, True), (0.4093350376202295, True), (0.4597867138387849, True), (0.4767023217349, True), (0.49721371493504674, True), (0.5326054311578211, True), (0.8441824787244566, True)]\n",
      "{4: 0.0009535329463230546, 8: 0.3916607062858072, 9: 0.7690536396056176, 10: 0.4093350376202295, 12: 0.9286585651324746, 15: 0.4597867138387849, 23: 0.23509503968604895, 24: 0.27512766102577935, 27: 0.5859978063743055, 29: 0.7488634314389183}\n",
      "[(0.0009535329463230546, True), (0.23509503968604895, True), (0.27512766102577935, True), (0.3916607062858072, True), (0.4093350376202295, True), (0.4597867138387849, True), (0.5859978063743055, True), (0.7488634314389183, True), (0.7690536396056176, True), (0.9286585651324746, True)]\n",
      "{0: 0.8441824787244566, 2: 0.10847014562717694, 5: 0.7318534022723602, 7: 0.4767023217349, 9: 0.7690536396056176, 14: 0.5679957482890622, 15: 0.4597867138387849, 16: 0.7949631477180845, 17: 0.22234534461703215, 21: 0.307826897343785, 22: 0.18379305377445854, 23: 0.23509503968604895, 25: 0.16544825205040692}\n",
      "[(0.10847014562717694, True), (0.16544825205040692, True), (0.18379305377445854, True), (0.22234534461703215, True), (0.23509503968604895, True), (0.307826897343785, True), (0.4597867138387849, True), (0.4767023217349, True), (0.5679957482890622, True), (0.7318534022723602, True), (0.7690536396056176, True), (0.7949631477180845, True), (0.8441824787244566, True)]\n",
      "{4: 0.0009535329463230546, 9: 0.7690536396056176, 12: 0.9286585651324746, 20: 0.9896571121376914, 23: 0.23509503968604895, 24: 0.27512766102577935, 29: 0.7488634314389183}\n",
      "[(0.0009535329463230546, True), (0.23509503968604895, True), (0.27512766102577935, True), (0.7488634314389183, True), (0.7690536396056176, True), (0.9286585651324746, True), (0.9896571121376914, True)]\n",
      "{1: 0.6691000224675955, 3: 0.8324034583733682, 10: 0.4093350376202295, 11: 0.6493823627809934, 12: 0.9286585651324746, 13: 0.013802211971427392, 15: 0.4597867138387849, 16: 0.7949631477180845, 17: 0.22234534461703215, 22: 0.18379305377445854, 23: 0.23509503968604895, 25: 0.16544825205040692}\n",
      "[(0.013802211971427392, True), (0.16544825205040692, True), (0.18379305377445854, True), (0.22234534461703215, True), (0.23509503968604895, True), (0.4093350376202295, True), (0.4597867138387849, True), (0.6493823627809934, True), (0.6691000224675955, True), (0.7949631477180845, True), (0.8324034583733682, True), (0.9286585651324746, True)]\n",
      "{1: 0.6691000224675955, 3: 0.8324034583733682, 4: 0.0009535329463230546, 6: 0.27356065631130744, 9: 0.7690536396056176, 11: 0.6493823627809934, 17: 0.22234534461703215, 18: 0.5326054311578211, 23: 0.23509503968604895}\n",
      "[(0.0009535329463230546, True), (0.22234534461703215, True), (0.23509503968604895, True), (0.27356065631130744, True), (0.5326054311578211, True), (0.6493823627809934, True), (0.6691000224675955, True), (0.7690536396056176, True), (0.8324034583733682, True)]\n",
      "{1: 0.6691000224675955, 4: 0.0009535329463230546, 8: 0.3916607062858072, 11: 0.6493823627809934, 12: 0.9286585651324746, 13: 0.013802211971427392, 15: 0.4597867138387849, 17: 0.22234534461703215, 20: 0.9896571121376914, 21: 0.307826897343785, 24: 0.27512766102577935, 26: 0.35864203219468704, 29: 0.7488634314389183}\n",
      "[(0.0009535329463230546, True), (0.013802211971427392, True), (0.22234534461703215, True), (0.27512766102577935, True), (0.307826897343785, True), (0.35864203219468704, True), (0.3916607062858072, True), (0.4597867138387849, True), (0.6493823627809934, True), (0.6691000224675955, True), (0.7488634314389183, True), (0.9286585651324746, True), (0.9896571121376914, True)]\n",
      "{4: 0.0009535329463230546, 6: 0.27356065631130744, 7: 0.4767023217349, 9: 0.7690536396056176, 10: 0.4093350376202295, 15: 0.4597867138387849, 17: 0.22234534461703215, 21: 0.307826897343785, 24: 0.27512766102577935, 27: 0.5859978063743055, 28: 0.4144615521629651}\n",
      "[(0.0009535329463230546, True), (0.22234534461703215, True), (0.27356065631130744, True), (0.27512766102577935, True), (0.307826897343785, True), (0.4093350376202295, True), (0.4144615521629651, True), (0.4597867138387849, True), (0.4767023217349, True), (0.5859978063743055, True), (0.7690536396056176, True)]\n",
      "{0: 0.8441824787244566, 1: 0.6691000224675955, 4: 0.0009535329463230546, 6: 0.27356065631130744, 7: 0.4767023217349, 9: 0.7690536396056176, 12: 0.9286585651324746, 13: 0.013802211971427392, 14: 0.5679957482890622, 15: 0.4597867138387849, 19: 0.49721371493504674, 20: 0.9896571121376914, 25: 0.16544825205040692, 28: 0.4144615521629651}\n",
      "[(0.0009535329463230546, True), (0.013802211971427392, True), (0.16544825205040692, True), (0.27356065631130744, True), (0.4144615521629651, True), (0.4597867138387849, True), (0.4767023217349, True), (0.49721371493504674, True), (0.5679957482890622, True), (0.6691000224675955, True), (0.7690536396056176, True), (0.8441824787244566, True), (0.9286585651324746, True), (0.9896571121376914, True)]\n"
     ]
    },
    {
     "name": "stdout",
     "output_type": "stream",
     "text": [
      "{0: 0.8441824787244566, 1: 0.6691000224675955, 2: 0.10847014562717694, 7: 0.4767023217349, 8: 0.3916607062858072, 9: 0.7690536396056176, 13: 0.013802211971427392, 16: 0.7949631477180845, 20: 0.9896571121376914, 23: 0.23509503968604895, 26: 0.35864203219468704, 27: 0.5859978063743055, 28: 0.4144615521629651, 29: 0.7488634314389183, 30: 0.39665811771143344}\n",
      "[(0.013802211971427392, True), (0.10847014562717694, True), (0.23509503968604895, True), (0.35864203219468704, True), (0.3916607062858072, True), (0.39665811771143344, True), (0.4144615521629651, True), (0.4767023217349, True), (0.5859978063743055, True), (0.6691000224675955, True), (0.7488634314389183, True), (0.7690536396056176, True), (0.7949631477180845, True), (0.8441824787244566, True), (0.9896571121376914, True)]\n",
      "{1: 0.6691000224675955, 2: 0.10847014562717694, 8: 0.3916607062858072, 9: 0.7690536396056176, 15: 0.4597867138387849, 17: 0.22234534461703215, 20: 0.9896571121376914, 23: 0.23509503968604895, 24: 0.27512766102577935, 28: 0.4144615521629651, 29: 0.7488634314389183, 30: 0.39665811771143344}\n",
      "[(0.10847014562717694, True), (0.22234534461703215, True), (0.23509503968604895, True), (0.27512766102577935, True), (0.3916607062858072, True), (0.39665811771143344, True), (0.4144615521629651, True), (0.4597867138387849, True), (0.6691000224675955, True), (0.7488634314389183, True), (0.7690536396056176, True), (0.9896571121376914, True)]\n",
      "{1: 0.6691000224675955, 5: 0.7318534022723602, 6: 0.27356065631130744, 9: 0.7690536396056176, 10: 0.4093350376202295, 13: 0.013802211971427392, 30: 0.39665811771143344}\n",
      "[(0.013802211971427392, True), (0.27356065631130744, True), (0.39665811771143344, True), (0.4093350376202295, True), (0.6691000224675955, True), (0.7318534022723602, True), (0.7690536396056176, True)]\n",
      "{3: 0.8324034583733682, 4: 0.0009535329463230546, 5: 0.7318534022723602, 9: 0.7690536396056176, 11: 0.6493823627809934, 13: 0.013802211971427392, 15: 0.4597867138387849, 16: 0.7949631477180845, 20: 0.9896571121376914, 21: 0.307826897343785, 22: 0.18379305377445854, 26: 0.35864203219468704, 27: 0.5859978063743055, 28: 0.4144615521629651}\n",
      "[(0.0009535329463230546, True), (0.013802211971427392, True), (0.18379305377445854, True), (0.307826897343785, True), (0.35864203219468704, True), (0.4144615521629651, True), (0.4597867138387849, True), (0.5859978063743055, True), (0.6493823627809934, True), (0.7318534022723602, True), (0.7690536396056176, True), (0.7949631477180845, True), (0.8324034583733682, True), (0.9896571121376914, True)]\n",
      "{3: 0.8324034583733682, 4: 0.0009535329463230546, 8: 0.3916607062858072, 10: 0.4093350376202295, 12: 0.9286585651324746, 17: 0.22234534461703215, 18: 0.5326054311578211, 20: 0.9896571121376914, 21: 0.307826897343785, 23: 0.23509503968604895, 24: 0.27512766102577935, 27: 0.5859978063743055, 28: 0.4144615521629651, 29: 0.7488634314389183}\n",
      "[(0.0009535329463230546, True), (0.22234534461703215, True), (0.23509503968604895, True), (0.27512766102577935, True), (0.307826897343785, True), (0.3916607062858072, True), (0.4093350376202295, True), (0.4144615521629651, True), (0.5326054311578211, True), (0.5859978063743055, True), (0.7488634314389183, True), (0.8324034583733682, True), (0.9286585651324746, True), (0.9896571121376914, True)]\n",
      "{1: 0.6691000224675955, 4: 0.0009535329463230546, 7: 0.4767023217349, 9: 0.7690536396056176, 14: 0.5679957482890622, 15: 0.4597867138387849, 16: 0.7949631477180845, 20: 0.9896571121376914, 21: 0.307826897343785}\n",
      "[(0.0009535329463230546, True), (0.307826897343785, True), (0.4597867138387849, True), (0.4767023217349, True), (0.5679957482890622, True), (0.6691000224675955, True), (0.7690536396056176, True), (0.7949631477180845, True), (0.9896571121376914, True)]\n",
      "{6: 0.27356065631130744, 7: 0.4767023217349, 8: 0.3916607062858072, 9: 0.7690536396056176, 10: 0.4093350376202295, 14: 0.5679957482890622, 16: 0.7949631477180845, 23: 0.23509503968604895, 27: 0.5859978063743055, 28: 0.4144615521629651}\n",
      "[(0.23509503968604895, True), (0.27356065631130744, True), (0.3916607062858072, True), (0.4093350376202295, True), (0.4144615521629651, True), (0.4767023217349, True), (0.5679957482890622, True), (0.5859978063743055, True), (0.7690536396056176, True), (0.7949631477180845, True)]\n",
      "{4: 0.0009535329463230546, 7: 0.4767023217349, 8: 0.3916607062858072, 9: 0.7690536396056176, 11: 0.6493823627809934, 12: 0.9286585651324746, 13: 0.013802211971427392, 15: 0.4597867138387849, 16: 0.7949631477180845, 20: 0.9896571121376914, 25: 0.16544825205040692, 27: 0.5859978063743055}\n",
      "[(0.0009535329463230546, True), (0.013802211971427392, True), (0.16544825205040692, True), (0.3916607062858072, True), (0.4597867138387849, True), (0.4767023217349, True), (0.5859978063743055, True), (0.6493823627809934, True), (0.7690536396056176, True), (0.7949631477180845, True), (0.9286585651324746, True), (0.9896571121376914, True)]\n",
      "{5: 0.7318534022723602, 7: 0.4767023217349, 13: 0.013802211971427392, 14: 0.5679957482890622, 16: 0.7949631477180845, 18: 0.5326054311578211, 19: 0.49721371493504674, 20: 0.9896571121376914, 22: 0.18379305377445854, 26: 0.35864203219468704, 27: 0.5859978063743055}\n",
      "[(0.013802211971427392, True), (0.18379305377445854, True), (0.35864203219468704, True), (0.4767023217349, True), (0.49721371493504674, True), (0.5326054311578211, True), (0.5679957482890622, True), (0.5859978063743055, True), (0.7318534022723602, True), (0.7949631477180845, True), (0.9896571121376914, True)]\n",
      "{0: 0.8441824787244566, 1: 0.6691000224675955, 5: 0.7318534022723602, 6: 0.27356065631130744, 8: 0.3916607062858072, 9: 0.7690536396056176, 10: 0.4093350376202295, 11: 0.6493823627809934, 17: 0.22234534461703215, 18: 0.5326054311578211, 19: 0.49721371493504674, 20: 0.9896571121376914, 22: 0.18379305377445854, 24: 0.27512766102577935, 28: 0.4144615521629651}\n",
      "[(0.18379305377445854, True), (0.22234534461703215, True), (0.27356065631130744, True), (0.27512766102577935, True), (0.3916607062858072, True), (0.4093350376202295, True), (0.4144615521629651, True), (0.49721371493504674, True), (0.5326054311578211, True), (0.6493823627809934, True), (0.6691000224675955, True), (0.7318534022723602, True), (0.7690536396056176, True), (0.8441824787244566, True), (0.9896571121376914, True)]\n",
      "{0: 0.8441824787244566, 1: 0.6691000224675955, 2: 0.10847014562717694, 3: 0.8324034583733682, 4: 0.0009535329463230546, 12: 0.9286585651324746, 14: 0.5679957482890622, 15: 0.4597867138387849, 17: 0.22234534461703215, 21: 0.307826897343785, 22: 0.18379305377445854, 26: 0.35864203219468704, 27: 0.5859978063743055, 28: 0.4144615521629651}\n",
      "[(0.0009535329463230546, True), (0.10847014562717694, True), (0.18379305377445854, True), (0.22234534461703215, True), (0.307826897343785, True), (0.35864203219468704, True), (0.4144615521629651, True), (0.4597867138387849, True), (0.5679957482890622, True), (0.5859978063743055, True), (0.6691000224675955, True), (0.8324034583733682, True), (0.8441824787244566, True), (0.9286585651324746, True)]\n",
      "{1: 0.6691000224675955, 8: 0.3916607062858072, 9: 0.7690536396056176, 10: 0.4093350376202295, 11: 0.6493823627809934, 12: 0.9286585651324746, 13: 0.013802211971427392, 14: 0.5679957482890622, 15: 0.4597867138387849, 16: 0.7949631477180845, 20: 0.9896571121376914, 21: 0.307826897343785, 24: 0.27512766102577935, 25: 0.16544825205040692, 27: 0.5859978063743055, 28: 0.4144615521629651}\n",
      "[(0.013802211971427392, True), (0.16544825205040692, True), (0.27512766102577935, True), (0.307826897343785, True), (0.3916607062858072, True), (0.4093350376202295, True), (0.4144615521629651, True), (0.4597867138387849, True), (0.5679957482890622, True), (0.5859978063743055, True), (0.6493823627809934, True), (0.6691000224675955, True), (0.7690536396056176, True), (0.7949631477180845, True), (0.9286585651324746, True), (0.9896571121376914, True)]\n",
      "{1: 0.6691000224675955, 6: 0.27356065631130744, 7: 0.4767023217349, 12: 0.9286585651324746, 13: 0.013802211971427392, 14: 0.5679957482890622, 15: 0.4597867138387849, 18: 0.5326054311578211, 19: 0.49721371493504674, 23: 0.23509503968604895, 28: 0.4144615521629651, 29: 0.7488634314389183}\n",
      "[(0.013802211971427392, True), (0.23509503968604895, True), (0.27356065631130744, True), (0.4144615521629651, True), (0.4597867138387849, True), (0.4767023217349, True), (0.49721371493504674, True), (0.5326054311578211, True), (0.5679957482890622, True), (0.6691000224675955, True), (0.7488634314389183, True), (0.9286585651324746, True)]\n",
      "{3: 0.8324034583733682, 4: 0.0009535329463230546, 7: 0.4767023217349, 9: 0.7690536396056176, 11: 0.6493823627809934, 12: 0.9286585651324746, 13: 0.013802211971427392, 14: 0.5679957482890622, 15: 0.4597867138387849, 16: 0.7949631477180845, 21: 0.307826897343785, 22: 0.18379305377445854, 24: 0.27512766102577935, 27: 0.5859978063743055, 28: 0.4144615521629651}\n",
      "[(0.0009535329463230546, True), (0.013802211971427392, True), (0.18379305377445854, True), (0.27512766102577935, True), (0.307826897343785, True), (0.4144615521629651, True), (0.4597867138387849, True), (0.4767023217349, True), (0.5679957482890622, True), (0.5859978063743055, True), (0.6493823627809934, True), (0.7690536396056176, True), (0.7949631477180845, True), (0.8324034583733682, True), (0.9286585651324746, True)]\n",
      "{4: 0.0009535329463230546, 9: 0.7690536396056176, 11: 0.6493823627809934, 14: 0.5679957482890622, 16: 0.7949631477180845, 21: 0.307826897343785, 23: 0.23509503968604895, 24: 0.27512766102577935, 27: 0.5859978063743055}\n",
      "[(0.0009535329463230546, True), (0.23509503968604895, True), (0.27512766102577935, True), (0.307826897343785, True), (0.5679957482890622, True), (0.5859978063743055, True), (0.6493823627809934, True), (0.7690536396056176, True), (0.7949631477180845, True)]\n",
      "{2: 0.10847014562717694, 3: 0.8324034583733682, 4: 0.0009535329463230546, 6: 0.27356065631130744, 7: 0.4767023217349, 15: 0.4597867138387849, 17: 0.22234534461703215, 22: 0.18379305377445854, 23: 0.23509503968604895, 25: 0.16544825205040692, 28: 0.4144615521629651}\n",
      "[(0.0009535329463230546, True), (0.10847014562717694, True), (0.16544825205040692, True), (0.18379305377445854, True), (0.22234534461703215, True), (0.23509503968604895, True), (0.27356065631130744, True), (0.4144615521629651, True), (0.4597867138387849, True), (0.4767023217349, True), (0.8324034583733682, True)]\n",
      "{1: 0.6691000224675955, 2: 0.10847014562717694, 6: 0.27356065631130744, 7: 0.4767023217349, 9: 0.7690536396056176, 14: 0.5679957482890622, 18: 0.5326054311578211, 22: 0.18379305377445854, 24: 0.27512766102577935, 25: 0.16544825205040692}\n",
      "[(0.10847014562717694, True), (0.16544825205040692, True), (0.18379305377445854, True), (0.27356065631130744, True), (0.27512766102577935, True), (0.4767023217349, True), (0.5326054311578211, True), (0.5679957482890622, True), (0.6691000224675955, True), (0.7690536396056176, True)]\n",
      "{1: 0.6691000224675955, 4: 0.0009535329463230546, 9: 0.7690536396056176, 10: 0.4093350376202295, 11: 0.6493823627809934, 13: 0.013802211971427392, 14: 0.5679957482890622, 17: 0.22234534461703215, 18: 0.5326054311578211, 21: 0.307826897343785, 22: 0.18379305377445854, 24: 0.27512766102577935, 26: 0.35864203219468704, 28: 0.4144615521629651, 30: 0.39665811771143344}\n",
      "[(0.0009535329463230546, True), (0.013802211971427392, True), (0.18379305377445854, True), (0.22234534461703215, True), (0.27512766102577935, True), (0.307826897343785, True), (0.35864203219468704, True), (0.39665811771143344, True), (0.4093350376202295, True), (0.4144615521629651, True), (0.5326054311578211, True), (0.5679957482890622, True), (0.6493823627809934, True), (0.6691000224675955, True), (0.7690536396056176, True)]\n",
      "{0: 0.8441824787244566, 3: 0.8324034583733682, 4: 0.0009535329463230546, 7: 0.4767023217349, 15: 0.4597867138387849, 18: 0.5326054311578211, 19: 0.49721371493504674, 21: 0.307826897343785, 22: 0.18379305377445854, 25: 0.16544825205040692, 26: 0.35864203219468704, 28: 0.4144615521629651}\n",
      "[(0.0009535329463230546, True), (0.16544825205040692, True), (0.18379305377445854, True), (0.307826897343785, True), (0.35864203219468704, True), (0.4144615521629651, True), (0.4597867138387849, True), (0.4767023217349, True), (0.49721371493504674, True), (0.5326054311578211, True), (0.8324034583733682, True), (0.8441824787244566, True)]\n",
      "{1: 0.6691000224675955, 2: 0.10847014562717694, 5: 0.7318534022723602, 9: 0.7690536396056176, 11: 0.6493823627809934, 14: 0.5679957482890622, 15: 0.4597867138387849, 16: 0.7949631477180845, 20: 0.9896571121376914, 25: 0.16544825205040692, 26: 0.35864203219468704, 29: 0.7488634314389183, 30: 0.39665811771143344}\n",
      "[(0.10847014562717694, True), (0.16544825205040692, True), (0.35864203219468704, True), (0.39665811771143344, True), (0.4597867138387849, True), (0.5679957482890622, True), (0.6493823627809934, True), (0.6691000224675955, True), (0.7318534022723602, True), (0.7488634314389183, True), (0.7690536396056176, True), (0.7949631477180845, True), (0.9896571121376914, True)]\n",
      "{1: 0.6691000224675955, 7: 0.4767023217349, 8: 0.3916607062858072, 9: 0.7690536396056176, 10: 0.4093350376202295, 12: 0.9286585651324746, 15: 0.4597867138387849, 18: 0.5326054311578211, 26: 0.35864203219468704, 28: 0.4144615521629651}\n",
      "[(0.35864203219468704, True), (0.3916607062858072, True), (0.4093350376202295, True), (0.4144615521629651, True), (0.4597867138387849, True), (0.4767023217349, True), (0.5326054311578211, True), (0.6691000224675955, True), (0.7690536396056176, True), (0.9286585651324746, True)]\n",
      "{3: 0.8324034583733682, 4: 0.0009535329463230546, 5: 0.7318534022723602, 7: 0.4767023217349, 8: 0.3916607062858072, 10: 0.4093350376202295, 12: 0.9286585651324746, 16: 0.7949631477180845, 17: 0.22234534461703215, 20: 0.9896571121376914, 23: 0.23509503968604895, 24: 0.27512766102577935, 26: 0.35864203219468704, 27: 0.5859978063743055, 29: 0.7488634314389183, 30: 0.39665811771143344}\n",
      "[(0.0009535329463230546, True), (0.22234534461703215, True), (0.23509503968604895, True), (0.27512766102577935, True), (0.35864203219468704, True), (0.3916607062858072, True), (0.39665811771143344, True), (0.4093350376202295, True), (0.4767023217349, True), (0.5859978063743055, True), (0.7318534022723602, True), (0.7488634314389183, True), (0.7949631477180845, True), (0.8324034583733682, True), (0.9286585651324746, True), (0.9896571121376914, True)]\n",
      "{1: 0.6691000224675955, 10: 0.4093350376202295, 11: 0.6493823627809934, 14: 0.5679957482890622, 16: 0.7949631477180845, 18: 0.5326054311578211, 19: 0.49721371493504674, 21: 0.307826897343785, 22: 0.18379305377445854, 23: 0.23509503968604895, 25: 0.16544825205040692, 26: 0.35864203219468704, 27: 0.5859978063743055}\n",
      "[(0.16544825205040692, True), (0.18379305377445854, True), (0.23509503968604895, True), (0.307826897343785, True), (0.35864203219468704, True), (0.4093350376202295, True), (0.49721371493504674, True), (0.5326054311578211, True), (0.5679957482890622, True), (0.5859978063743055, True), (0.6493823627809934, True), (0.6691000224675955, True), (0.7949631477180845, True)]\n",
      "{0: 0.8441824787244566, 1: 0.6691000224675955, 2: 0.10847014562717694, 5: 0.7318534022723602, 7: 0.4767023217349, 12: 0.9286585651324746, 13: 0.013802211971427392, 16: 0.7949631477180845, 18: 0.5326054311578211, 20: 0.9896571121376914, 26: 0.35864203219468704, 28: 0.4144615521629651}\n",
      "[(0.013802211971427392, True), (0.10847014562717694, True), (0.35864203219468704, True), (0.4144615521629651, True), (0.4767023217349, True), (0.5326054311578211, True), (0.6691000224675955, True), (0.7318534022723602, True), (0.7949631477180845, True), (0.8441824787244566, True), (0.9286585651324746, True), (0.9896571121376914, True)]\n",
      "{6: 0.27356065631130744, 13: 0.013802211971427392, 21: 0.307826897343785, 23: 0.23509503968604895, 25: 0.16544825205040692, 27: 0.5859978063743055, 28: 0.4144615521629651}\n",
      "[(0.013802211971427392, True), (0.16544825205040692, True), (0.23509503968604895, True), (0.27356065631130744, True), (0.307826897343785, True), (0.4144615521629651, True), (0.5859978063743055, True)]\n",
      "{0: 0.8441824787244566, 1: 0.6691000224675955, 6: 0.27356065631130744, 10: 0.4093350376202295, 12: 0.9286585651324746, 13: 0.013802211971427392, 15: 0.4597867138387849, 16: 0.7949631477180845, 17: 0.22234534461703215, 21: 0.307826897343785, 25: 0.16544825205040692, 26: 0.35864203219468704, 30: 0.39665811771143344}\n",
      "[(0.013802211971427392, True), (0.16544825205040692, True), (0.22234534461703215, True), (0.27356065631130744, True), (0.307826897343785, True), (0.35864203219468704, True), (0.39665811771143344, True), (0.4093350376202295, True), (0.4597867138387849, True), (0.6691000224675955, True), (0.7949631477180845, True), (0.8441824787244566, True), (0.9286585651324746, True)]\n",
      "{2: 0.10847014562717694, 3: 0.8324034583733682, 4: 0.0009535329463230546, 5: 0.7318534022723602, 8: 0.3916607062858072, 10: 0.4093350376202295, 14: 0.5679957482890622, 15: 0.4597867138387849, 16: 0.7949631477180845, 19: 0.49721371493504674, 20: 0.9896571121376914, 24: 0.27512766102577935, 26: 0.35864203219468704, 28: 0.4144615521629651}\n",
      "[(0.0009535329463230546, True), (0.10847014562717694, True), (0.27512766102577935, True), (0.35864203219468704, True), (0.3916607062858072, True), (0.4093350376202295, True), (0.4144615521629651, True), (0.4597867138387849, True), (0.49721371493504674, True), (0.5679957482890622, True), (0.7318534022723602, True), (0.7949631477180845, True), (0.8324034583733682, True), (0.9896571121376914, True)]\n",
      "{8: 0.3916607062858072, 12: 0.9286585651324746, 13: 0.013802211971427392, 14: 0.5679957482890622, 15: 0.4597867138387849, 19: 0.49721371493504674, 20: 0.9896571121376914, 21: 0.307826897343785, 24: 0.27512766102577935, 28: 0.4144615521629651}\n",
      "[(0.013802211971427392, True), (0.27512766102577935, True), (0.307826897343785, True), (0.3916607062858072, True), (0.4144615521629651, True), (0.4597867138387849, True), (0.49721371493504674, True), (0.5679957482890622, True), (0.9286585651324746, True), (0.9896571121376914, True)]\n"
     ]
    },
    {
     "name": "stdout",
     "output_type": "stream",
     "text": [
      "{2: 0.10847014562717694, 3: 0.8324034583733682, 5: 0.7318534022723602, 7: 0.4767023217349, 8: 0.3916607062858072, 14: 0.5679957482890622, 17: 0.22234534461703215, 18: 0.5326054311578211, 19: 0.49721371493504674, 21: 0.307826897343785, 25: 0.16544825205040692, 28: 0.4144615521629651, 30: 0.39665811771143344}\n",
      "[(0.10847014562717694, True), (0.16544825205040692, True), (0.22234534461703215, True), (0.307826897343785, True), (0.3916607062858072, True), (0.39665811771143344, True), (0.4144615521629651, True), (0.4767023217349, True), (0.49721371493504674, True), (0.5326054311578211, True), (0.5679957482890622, True), (0.7318534022723602, True), (0.8324034583733682, True)]\n",
      "{1: 0.6691000224675955, 2: 0.10847014562717694, 4: 0.0009535329463230546, 8: 0.3916607062858072, 11: 0.6493823627809934, 15: 0.4597867138387849, 20: 0.9896571121376914, 23: 0.23509503968604895, 25: 0.16544825205040692, 26: 0.35864203219468704, 28: 0.4144615521629651}\n",
      "[(0.0009535329463230546, True), (0.10847014562717694, True), (0.16544825205040692, True), (0.23509503968604895, True), (0.35864203219468704, True), (0.3916607062858072, True), (0.4144615521629651, True), (0.4597867138387849, True), (0.6493823627809934, True), (0.6691000224675955, True), (0.9896571121376914, True)]\n",
      "{0: 0.8441824787244566, 2: 0.10847014562717694, 5: 0.7318534022723602, 6: 0.27356065631130744, 14: 0.5679957482890622, 18: 0.5326054311578211, 25: 0.16544825205040692}\n",
      "[(0.10847014562717694, True), (0.16544825205040692, True), (0.27356065631130744, True), (0.5326054311578211, True), (0.5679957482890622, True), (0.7318534022723602, True), (0.8441824787244566, True)]\n",
      "{2: 0.10847014562717694, 3: 0.8324034583733682, 4: 0.0009535329463230546, 5: 0.7318534022723602, 7: 0.4767023217349, 9: 0.7690536396056176, 14: 0.5679957482890622, 16: 0.7949631477180845, 18: 0.5326054311578211, 21: 0.307826897343785, 22: 0.18379305377445854, 23: 0.23509503968604895, 25: 0.16544825205040692, 29: 0.7488634314389183, 30: 0.39665811771143344}\n",
      "[(0.0009535329463230546, True), (0.10847014562717694, True), (0.16544825205040692, True), (0.18379305377445854, True), (0.23509503968604895, True), (0.307826897343785, True), (0.39665811771143344, True), (0.4767023217349, True), (0.5326054311578211, True), (0.5679957482890622, True), (0.7318534022723602, True), (0.7488634314389183, True), (0.7690536396056176, True), (0.7949631477180845, True), (0.8324034583733682, True)]\n",
      "{0: 0.8441824787244566, 2: 0.10847014562717694, 3: 0.8324034583733682, 6: 0.27356065631130744, 9: 0.7690536396056176, 11: 0.6493823627809934, 14: 0.5679957482890622, 16: 0.7949631477180845, 20: 0.9896571121376914, 24: 0.27512766102577935, 26: 0.35864203219468704, 27: 0.5859978063743055, 28: 0.4144615521629651, 30: 0.39665811771143344}\n",
      "[(0.10847014562717694, True), (0.27356065631130744, True), (0.27512766102577935, True), (0.35864203219468704, True), (0.39665811771143344, True), (0.4144615521629651, True), (0.5679957482890622, True), (0.5859978063743055, True), (0.6493823627809934, True), (0.7690536396056176, True), (0.7949631477180845, True), (0.8324034583733682, True), (0.8441824787244566, True), (0.9896571121376914, True)]\n",
      "{1: 0.6691000224675955, 2: 0.10847014562717694, 3: 0.8324034583733682, 6: 0.27356065631130744, 7: 0.4767023217349, 9: 0.7690536396056176, 11: 0.6493823627809934, 18: 0.5326054311578211, 20: 0.9896571121376914, 24: 0.27512766102577935, 25: 0.16544825205040692, 27: 0.5859978063743055, 30: 0.39665811771143344}\n",
      "[(0.10847014562717694, True), (0.16544825205040692, True), (0.27356065631130744, True), (0.27512766102577935, True), (0.39665811771143344, True), (0.4767023217349, True), (0.5326054311578211, True), (0.5859978063743055, True), (0.6493823627809934, True), (0.6691000224675955, True), (0.7690536396056176, True), (0.8324034583733682, True), (0.9896571121376914, True)]\n",
      "{0: 0.8441824787244566, 1: 0.6691000224675955, 4: 0.0009535329463230546, 6: 0.27356065631130744, 8: 0.3916607062858072, 16: 0.7949631477180845, 17: 0.22234534461703215, 21: 0.307826897343785, 23: 0.23509503968604895, 24: 0.27512766102577935, 29: 0.7488634314389183}\n",
      "[(0.0009535329463230546, True), (0.22234534461703215, True), (0.23509503968604895, True), (0.27356065631130744, True), (0.27512766102577935, True), (0.307826897343785, True), (0.3916607062858072, True), (0.6691000224675955, True), (0.7488634314389183, True), (0.7949631477180845, True), (0.8441824787244566, True)]\n",
      "{1: 0.6691000224675955, 6: 0.27356065631130744, 9: 0.7690536396056176, 10: 0.4093350376202295, 12: 0.9286585651324746, 16: 0.7949631477180845, 17: 0.22234534461703215, 21: 0.307826897343785, 22: 0.18379305377445854, 24: 0.27512766102577935, 25: 0.16544825205040692, 29: 0.7488634314389183, 30: 0.39665811771143344}\n",
      "[(0.16544825205040692, True), (0.18379305377445854, True), (0.22234534461703215, True), (0.27356065631130744, True), (0.27512766102577935, True), (0.307826897343785, True), (0.39665811771143344, True), (0.4093350376202295, True), (0.6691000224675955, True), (0.7488634314389183, True), (0.7690536396056176, True), (0.7949631477180845, True), (0.9286585651324746, True)]\n",
      "{0: 0.8441824787244566, 2: 0.10847014562717694, 9: 0.7690536396056176, 10: 0.4093350376202295, 11: 0.6493823627809934, 12: 0.9286585651324746, 13: 0.013802211971427392, 15: 0.4597867138387849, 16: 0.7949631477180845, 18: 0.5326054311578211, 19: 0.49721371493504674, 22: 0.18379305377445854, 25: 0.16544825205040692, 26: 0.35864203219468704, 27: 0.5859978063743055, 28: 0.4144615521629651}\n",
      "[(0.013802211971427392, True), (0.10847014562717694, True), (0.16544825205040692, True), (0.18379305377445854, True), (0.35864203219468704, True), (0.4093350376202295, True), (0.4144615521629651, True), (0.4597867138387849, True), (0.49721371493504674, True), (0.5326054311578211, True), (0.5859978063743055, True), (0.6493823627809934, True), (0.7690536396056176, True), (0.7949631477180845, True), (0.8441824787244566, True), (0.9286585651324746, True)]\n",
      "{1: 0.6691000224675955, 2: 0.10847014562717694, 4: 0.0009535329463230546, 7: 0.4767023217349, 11: 0.6493823627809934, 12: 0.9286585651324746, 14: 0.5679957482890622, 15: 0.4597867138387849, 17: 0.22234534461703215, 18: 0.5326054311578211, 19: 0.49721371493504674, 20: 0.9896571121376914, 21: 0.307826897343785, 23: 0.23509503968604895, 25: 0.16544825205040692}\n",
      "[(0.0009535329463230546, True), (0.10847014562717694, True), (0.16544825205040692, True), (0.22234534461703215, True), (0.23509503968604895, True), (0.307826897343785, True), (0.4597867138387849, True), (0.4767023217349, True), (0.49721371493504674, True), (0.5326054311578211, True), (0.5679957482890622, True), (0.6493823627809934, True), (0.6691000224675955, True), (0.9286585651324746, True), (0.9896571121376914, True)]\n",
      "{1: 0.6691000224675955, 5: 0.7318534022723602, 6: 0.27356065631130744, 13: 0.013802211971427392, 14: 0.5679957482890622, 15: 0.4597867138387849, 17: 0.22234534461703215, 18: 0.5326054311578211, 25: 0.16544825205040692}\n",
      "[(0.013802211971427392, True), (0.16544825205040692, True), (0.22234534461703215, True), (0.27356065631130744, True), (0.4597867138387849, True), (0.5326054311578211, True), (0.5679957482890622, True), (0.6691000224675955, True), (0.7318534022723602, True)]\n",
      "{0: 0.8441824787244566, 4: 0.0009535329463230546, 5: 0.7318534022723602, 15: 0.4597867138387849, 17: 0.22234534461703215, 19: 0.49721371493504674, 21: 0.307826897343785, 22: 0.18379305377445854, 25: 0.16544825205040692, 29: 0.7488634314389183, 30: 0.39665811771143344}\n",
      "[(0.0009535329463230546, True), (0.16544825205040692, True), (0.18379305377445854, True), (0.22234534461703215, True), (0.307826897343785, True), (0.39665811771143344, True), (0.4597867138387849, True), (0.49721371493504674, True), (0.7318534022723602, True), (0.7488634314389183, True), (0.8441824787244566, True)]\n",
      "{0: 0.8441824787244566, 2: 0.10847014562717694, 12: 0.9286585651324746, 13: 0.013802211971427392, 16: 0.7949631477180845, 19: 0.49721371493504674, 21: 0.307826897343785, 22: 0.18379305377445854, 25: 0.16544825205040692, 26: 0.35864203219468704, 30: 0.39665811771143344}\n",
      "[(0.013802211971427392, True), (0.10847014562717694, True), (0.16544825205040692, True), (0.18379305377445854, True), (0.307826897343785, True), (0.35864203219468704, True), (0.39665811771143344, True), (0.49721371493504674, True), (0.7949631477180845, True), (0.8441824787244566, True), (0.9286585651324746, True)]\n",
      "{6: 0.27356065631130744, 7: 0.4767023217349, 8: 0.3916607062858072, 10: 0.4093350376202295, 14: 0.5679957482890622, 15: 0.4597867138387849, 16: 0.7949631477180845, 23: 0.23509503968604895, 24: 0.27512766102577935, 27: 0.5859978063743055}\n",
      "[(0.23509503968604895, True), (0.27356065631130744, True), (0.27512766102577935, True), (0.3916607062858072, True), (0.4093350376202295, True), (0.4597867138387849, True), (0.4767023217349, True), (0.5679957482890622, True), (0.5859978063743055, True), (0.7949631477180845, True)]\n",
      "{10: 0.4093350376202295, 12: 0.9286585651324746, 15: 0.4597867138387849, 16: 0.7949631477180845, 18: 0.5326054311578211, 19: 0.49721371493504674, 21: 0.307826897343785, 25: 0.16544825205040692, 28: 0.4144615521629651, 30: 0.39665811771143344}\n",
      "[(0.16544825205040692, True), (0.307826897343785, True), (0.39665811771143344, True), (0.4093350376202295, True), (0.4144615521629651, True), (0.4597867138387849, True), (0.49721371493504674, True), (0.5326054311578211, True), (0.7949631477180845, True), (0.9286585651324746, True)]\n",
      "{0: 0.8441824787244566, 8: 0.3916607062858072, 13: 0.013802211971427392, 14: 0.5679957482890622, 15: 0.4597867138387849, 16: 0.7949631477180845, 18: 0.5326054311578211, 20: 0.9896571121376914, 25: 0.16544825205040692, 28: 0.4144615521629651, 30: 0.39665811771143344}\n",
      "[(0.013802211971427392, True), (0.16544825205040692, True), (0.3916607062858072, True), (0.39665811771143344, True), (0.4144615521629651, True), (0.4597867138387849, True), (0.5326054311578211, True), (0.5679957482890622, True), (0.7949631477180845, True), (0.8441824787244566, True), (0.9896571121376914, True)]\n",
      "{0: 0.8441824787244566, 1: 0.6691000224675955, 2: 0.10847014562717694, 3: 0.8324034583733682, 4: 0.0009535329463230546, 7: 0.4767023217349, 8: 0.3916607062858072, 14: 0.5679957482890622, 16: 0.7949631477180845, 18: 0.5326054311578211, 19: 0.49721371493504674, 21: 0.307826897343785, 23: 0.23509503968604895, 26: 0.35864203219468704, 27: 0.5859978063743055, 28: 0.4144615521629651, 30: 0.39665811771143344}\n",
      "[(0.0009535329463230546, True), (0.10847014562717694, True), (0.23509503968604895, True), (0.307826897343785, True), (0.35864203219468704, True), (0.3916607062858072, True), (0.39665811771143344, True), (0.4144615521629651, True), (0.4767023217349, True), (0.49721371493504674, True), (0.5326054311578211, True), (0.5679957482890622, True), (0.5859978063743055, True), (0.6691000224675955, True), (0.7949631477180845, True), (0.8324034583733682, True), (0.8441824787244566, True)]\n",
      "{1: 0.6691000224675955, 3: 0.8324034583733682, 8: 0.3916607062858072, 11: 0.6493823627809934, 14: 0.5679957482890622, 22: 0.18379305377445854, 24: 0.27512766102577935, 26: 0.35864203219468704, 28: 0.4144615521629651, 29: 0.7488634314389183}\n",
      "[(0.18379305377445854, True), (0.27512766102577935, True), (0.35864203219468704, True), (0.3916607062858072, True), (0.4144615521629651, True), (0.5679957482890622, True), (0.6493823627809934, True), (0.6691000224675955, True), (0.7488634314389183, True), (0.8324034583733682, True)]\n",
      "{0: 0.8441824787244566, 2: 0.10847014562717694, 5: 0.7318534022723602, 6: 0.27356065631130744, 7: 0.4767023217349, 8: 0.3916607062858072, 9: 0.7690536396056176, 11: 0.6493823627809934, 18: 0.5326054311578211, 19: 0.49721371493504674, 22: 0.18379305377445854, 23: 0.23509503968604895, 24: 0.27512766102577935}\n",
      "[(0.10847014562717694, True), (0.18379305377445854, True), (0.23509503968604895, True), (0.27356065631130744, True), (0.27512766102577935, True), (0.3916607062858072, True), (0.4767023217349, True), (0.49721371493504674, True), (0.5326054311578211, True), (0.6493823627809934, True), (0.7318534022723602, True), (0.7690536396056176, True), (0.8441824787244566, True)]\n",
      "{1: 0.6691000224675955, 2: 0.10847014562717694, 3: 0.8324034583733682, 4: 0.0009535329463230546, 6: 0.27356065631130744, 8: 0.3916607062858072, 9: 0.7690536396056176, 10: 0.4093350376202295, 12: 0.9286585651324746, 13: 0.013802211971427392, 14: 0.5679957482890622, 17: 0.22234534461703215, 24: 0.27512766102577935, 25: 0.16544825205040692, 26: 0.35864203219468704, 27: 0.5859978063743055}\n",
      "[(0.0009535329463230546, True), (0.013802211971427392, True), (0.10847014562717694, True), (0.16544825205040692, True), (0.22234534461703215, True), (0.27356065631130744, True), (0.27512766102577935, True), (0.35864203219468704, True), (0.3916607062858072, True), (0.4093350376202295, True), (0.5679957482890622, True), (0.5859978063743055, True), (0.6691000224675955, True), (0.7690536396056176, True), (0.8324034583733682, True), (0.9286585651324746, True)]\n",
      "{0: 0.8441824787244566, 1: 0.6691000224675955, 2: 0.10847014562717694, 9: 0.7690536396056176, 12: 0.9286585651324746, 14: 0.5679957482890622, 15: 0.4597867138387849, 16: 0.7949631477180845, 18: 0.5326054311578211, 21: 0.307826897343785, 26: 0.35864203219468704, 29: 0.7488634314389183}\n",
      "[(0.10847014562717694, True), (0.307826897343785, True), (0.35864203219468704, True), (0.4597867138387849, True), (0.5326054311578211, True), (0.5679957482890622, True), (0.6691000224675955, True), (0.7488634314389183, True), (0.7690536396056176, True), (0.7949631477180845, True), (0.8441824787244566, True), (0.9286585651324746, True)]\n",
      "{0: 0.8441824787244566, 1: 0.6691000224675955, 3: 0.8324034583733682, 7: 0.4767023217349, 12: 0.9286585651324746, 14: 0.5679957482890622, 19: 0.49721371493504674, 20: 0.9896571121376914, 21: 0.307826897343785, 22: 0.18379305377445854, 23: 0.23509503968604895, 26: 0.35864203219468704, 28: 0.4144615521629651}\n",
      "[(0.18379305377445854, True), (0.23509503968604895, True), (0.307826897343785, True), (0.35864203219468704, True), (0.4144615521629651, True), (0.4767023217349, True), (0.49721371493504674, True), (0.5679957482890622, True), (0.6691000224675955, True), (0.8324034583733682, True), (0.8441824787244566, True), (0.9286585651324746, True), (0.9896571121376914, True)]\n",
      "{1: 0.6691000224675955, 3: 0.8324034583733682, 4: 0.0009535329463230546, 6: 0.27356065631130744, 8: 0.3916607062858072, 10: 0.4093350376202295, 11: 0.6493823627809934, 12: 0.9286585651324746, 15: 0.4597867138387849, 19: 0.49721371493504674, 24: 0.27512766102577935}\n",
      "[(0.0009535329463230546, True), (0.27356065631130744, True), (0.27512766102577935, True), (0.3916607062858072, True), (0.4093350376202295, True), (0.4597867138387849, True), (0.49721371493504674, True), (0.6493823627809934, True), (0.6691000224675955, True), (0.8324034583733682, True), (0.9286585651324746, True)]\n",
      "{1: 0.6691000224675955, 2: 0.10847014562717694, 3: 0.8324034583733682, 8: 0.3916607062858072, 14: 0.5679957482890622, 15: 0.4597867138387849, 16: 0.7949631477180845, 18: 0.5326054311578211, 19: 0.49721371493504674, 21: 0.307826897343785, 23: 0.23509503968604895, 27: 0.5859978063743055, 28: 0.4144615521629651}\n",
      "[(0.10847014562717694, True), (0.23509503968604895, True), (0.307826897343785, True), (0.3916607062858072, True), (0.4144615521629651, True), (0.4597867138387849, True), (0.49721371493504674, True), (0.5326054311578211, True), (0.5679957482890622, True), (0.5859978063743055, True), (0.6691000224675955, True), (0.7949631477180845, True), (0.8324034583733682, True)]\n",
      "{0: 0.8441824787244566, 1: 0.6691000224675955, 2: 0.10847014562717694, 4: 0.0009535329463230546, 6: 0.27356065631130744, 9: 0.7690536396056176, 11: 0.6493823627809934, 14: 0.5679957482890622, 22: 0.18379305377445854, 23: 0.23509503968604895, 27: 0.5859978063743055, 29: 0.7488634314389183}\n",
      "[(0.0009535329463230546, True), (0.10847014562717694, True), (0.18379305377445854, True), (0.23509503968604895, True), (0.27356065631130744, True), (0.5679957482890622, True), (0.5859978063743055, True), (0.6493823627809934, True), (0.6691000224675955, True), (0.7488634314389183, True), (0.7690536396056176, True), (0.8441824787244566, True)]\n",
      "{0: 0.8441824787244566, 1: 0.6691000224675955, 2: 0.10847014562717694, 3: 0.8324034583733682, 5: 0.7318534022723602, 6: 0.27356065631130744, 9: 0.7690536396056176, 10: 0.4093350376202295, 11: 0.6493823627809934, 17: 0.22234534461703215, 19: 0.49721371493504674, 21: 0.307826897343785, 26: 0.35864203219468704, 28: 0.4144615521629651, 30: 0.39665811771143344}\n",
      "[(0.10847014562717694, True), (0.22234534461703215, True), (0.27356065631130744, True), (0.307826897343785, True), (0.35864203219468704, True), (0.39665811771143344, True), (0.4093350376202295, True), (0.4144615521629651, True), (0.49721371493504674, True), (0.6493823627809934, True), (0.6691000224675955, True), (0.7318534022723602, True), (0.7690536396056176, True), (0.8324034583733682, True), (0.8441824787244566, True)]\n",
      "{0: 0.8441824787244566, 2: 0.10847014562717694, 4: 0.0009535329463230546, 5: 0.7318534022723602, 7: 0.4767023217349, 17: 0.22234534461703215, 18: 0.5326054311578211, 26: 0.35864203219468704, 29: 0.7488634314389183, 30: 0.39665811771143344}\n",
      "[(0.0009535329463230546, True), (0.10847014562717694, True), (0.22234534461703215, True), (0.35864203219468704, True), (0.39665811771143344, True), (0.4767023217349, True), (0.5326054311578211, True), (0.7318534022723602, True), (0.7488634314389183, True), (0.8441824787244566, True)]\n",
      "{7: 0.4767023217349, 9: 0.7690536396056176, 12: 0.9286585651324746, 14: 0.5679957482890622, 18: 0.5326054311578211, 21: 0.307826897343785, 27: 0.5859978063743055, 28: 0.4144615521629651}\n",
      "[(0.307826897343785, True), (0.4144615521629651, True), (0.4767023217349, True), (0.5326054311578211, True), (0.5679957482890622, True), (0.5859978063743055, True), (0.7690536396056176, True), (0.9286585651324746, True)]\n",
      "{1: 0.6691000224675955, 2: 0.10847014562717694, 3: 0.8324034583733682, 4: 0.0009535329463230546, 5: 0.7318534022723602, 6: 0.27356065631130744, 10: 0.4093350376202295, 16: 0.7949631477180845, 18: 0.5326054311578211, 20: 0.9896571121376914, 22: 0.18379305377445854, 23: 0.23509503968604895, 26: 0.35864203219468704, 29: 0.7488634314389183}\n",
      "[(0.0009535329463230546, True), (0.10847014562717694, True), (0.18379305377445854, True), (0.23509503968604895, True), (0.27356065631130744, True), (0.35864203219468704, True), (0.4093350376202295, True), (0.5326054311578211, True), (0.6691000224675955, True), (0.7318534022723602, True), (0.7488634314389183, True), (0.7949631477180845, True), (0.8324034583733682, True), (0.9896571121376914, True)]\n"
     ]
    },
    {
     "name": "stdout",
     "output_type": "stream",
     "text": [
      "{3: 0.8324034583733682, 6: 0.27356065631130744, 7: 0.4767023217349, 13: 0.013802211971427392, 14: 0.5679957482890622, 16: 0.7949631477180845, 18: 0.5326054311578211, 21: 0.307826897343785, 25: 0.16544825205040692, 26: 0.35864203219468704}\n",
      "[(0.013802211971427392, True), (0.16544825205040692, True), (0.27356065631130744, True), (0.307826897343785, True), (0.35864203219468704, True), (0.4767023217349, True), (0.5326054311578211, True), (0.5679957482890622, True), (0.7949631477180845, True), (0.8324034583733682, True)]\n",
      "{4: 0.0009535329463230546, 6: 0.27356065631130744, 13: 0.013802211971427392, 15: 0.4597867138387849, 18: 0.5326054311578211, 21: 0.307826897343785, 23: 0.23509503968604895, 26: 0.35864203219468704, 29: 0.7488634314389183}\n",
      "[(0.0009535329463230546, True), (0.013802211971427392, True), (0.23509503968604895, True), (0.27356065631130744, True), (0.307826897343785, True), (0.35864203219468704, True), (0.4597867138387849, True), (0.5326054311578211, True), (0.7488634314389183, True)]\n",
      "{0: 0.8441824787244566, 3: 0.8324034583733682, 5: 0.7318534022723602, 10: 0.4093350376202295, 12: 0.9286585651324746, 13: 0.013802211971427392, 14: 0.5679957482890622, 16: 0.7949631477180845, 17: 0.22234534461703215, 18: 0.5326054311578211, 20: 0.9896571121376914, 22: 0.18379305377445854, 23: 0.23509503968604895, 25: 0.16544825205040692, 28: 0.4144615521629651, 29: 0.7488634314389183}\n",
      "[(0.013802211971427392, True), (0.16544825205040692, True), (0.18379305377445854, True), (0.22234534461703215, True), (0.23509503968604895, True), (0.4093350376202295, True), (0.4144615521629651, True), (0.5326054311578211, True), (0.5679957482890622, True), (0.7318534022723602, True), (0.7488634314389183, True), (0.7949631477180845, True), (0.8324034583733682, True), (0.8441824787244566, True), (0.9286585651324746, True), (0.9896571121376914, True)]\n",
      "{0: 0.8441824787244566, 1: 0.6691000224675955, 5: 0.7318534022723602, 8: 0.3916607062858072, 11: 0.6493823627809934, 14: 0.5679957482890622, 15: 0.4597867138387849, 16: 0.7949631477180845, 17: 0.22234534461703215, 20: 0.9896571121376914, 25: 0.16544825205040692, 27: 0.5859978063743055, 30: 0.39665811771143344}\n",
      "[(0.16544825205040692, True), (0.22234534461703215, True), (0.3916607062858072, True), (0.39665811771143344, True), (0.4597867138387849, True), (0.5679957482890622, True), (0.5859978063743055, True), (0.6493823627809934, True), (0.6691000224675955, True), (0.7318534022723602, True), (0.7949631477180845, True), (0.8441824787244566, True), (0.9896571121376914, True)]\n",
      "{10: 0.4093350376202295, 13: 0.013802211971427392, 15: 0.4597867138387849, 16: 0.7949631477180845, 19: 0.49721371493504674, 20: 0.9896571121376914, 26: 0.35864203219468704, 29: 0.7488634314389183}\n",
      "[(0.013802211971427392, True), (0.35864203219468704, True), (0.4093350376202295, True), (0.4597867138387849, True), (0.49721371493504674, True), (0.7488634314389183, True), (0.7949631477180845, True), (0.9896571121376914, True)]\n",
      "{2: 0.10847014562717694, 3: 0.8324034583733682, 4: 0.0009535329463230546, 5: 0.7318534022723602, 7: 0.4767023217349, 9: 0.7690536396056176, 10: 0.4093350376202295, 11: 0.6493823627809934, 12: 0.9286585651324746, 13: 0.013802211971427392, 20: 0.9896571121376914, 25: 0.16544825205040692, 26: 0.35864203219468704, 29: 0.7488634314389183, 30: 0.39665811771143344}\n",
      "[(0.0009535329463230546, True), (0.013802211971427392, True), (0.10847014562717694, True), (0.16544825205040692, True), (0.35864203219468704, True), (0.39665811771143344, True), (0.4093350376202295, True), (0.4767023217349, True), (0.6493823627809934, True), (0.7318534022723602, True), (0.7488634314389183, True), (0.7690536396056176, True), (0.8324034583733682, True), (0.9286585651324746, True), (0.9896571121376914, True)]\n",
      "{0: 0.8441824787244566, 6: 0.27356065631130744, 8: 0.3916607062858072, 13: 0.013802211971427392, 16: 0.7949631477180845, 19: 0.49721371493504674, 22: 0.18379305377445854, 27: 0.5859978063743055, 28: 0.4144615521629651, 29: 0.7488634314389183, 30: 0.39665811771143344}\n",
      "[(0.013802211971427392, True), (0.18379305377445854, True), (0.27356065631130744, True), (0.3916607062858072, True), (0.39665811771143344, True), (0.4144615521629651, True), (0.49721371493504674, True), (0.5859978063743055, True), (0.7488634314389183, True), (0.7949631477180845, True), (0.8441824787244566, True)]\n",
      "{0: 0.8441824787244566, 1: 0.6691000224675955, 2: 0.10847014562717694, 5: 0.7318534022723602, 7: 0.4767023217349, 10: 0.4093350376202295, 14: 0.5679957482890622, 15: 0.4597867138387849, 18: 0.5326054311578211, 21: 0.307826897343785, 22: 0.18379305377445854, 27: 0.5859978063743055}\n",
      "[(0.10847014562717694, True), (0.18379305377445854, True), (0.307826897343785, True), (0.4093350376202295, True), (0.4597867138387849, True), (0.4767023217349, True), (0.5326054311578211, True), (0.5679957482890622, True), (0.5859978063743055, True), (0.6691000224675955, True), (0.7318534022723602, True), (0.8441824787244566, True)]\n",
      "{0: 0.8441824787244566, 1: 0.6691000224675955, 3: 0.8324034583733682, 4: 0.0009535329463230546, 9: 0.7690536396056176, 10: 0.4093350376202295, 11: 0.6493823627809934, 15: 0.4597867138387849, 16: 0.7949631477180845, 17: 0.22234534461703215, 20: 0.9896571121376914, 21: 0.307826897343785, 24: 0.27512766102577935, 26: 0.35864203219468704, 27: 0.5859978063743055}\n",
      "[(0.0009535329463230546, True), (0.22234534461703215, True), (0.27512766102577935, True), (0.307826897343785, True), (0.35864203219468704, True), (0.4093350376202295, True), (0.4597867138387849, True), (0.5859978063743055, True), (0.6493823627809934, True), (0.6691000224675955, True), (0.7690536396056176, True), (0.7949631477180845, True), (0.8324034583733682, True), (0.8441824787244566, True), (0.9896571121376914, True)]\n",
      "{6: 0.27356065631130744, 7: 0.4767023217349, 10: 0.4093350376202295, 13: 0.013802211971427392, 14: 0.5679957482890622, 16: 0.7949631477180845, 18: 0.5326054311578211, 19: 0.49721371493504674, 22: 0.18379305377445854, 27: 0.5859978063743055, 30: 0.39665811771143344}\n",
      "[(0.013802211971427392, True), (0.18379305377445854, True), (0.27356065631130744, True), (0.39665811771143344, True), (0.4093350376202295, True), (0.4767023217349, True), (0.49721371493504674, True), (0.5326054311578211, True), (0.5679957482890622, True), (0.5859978063743055, True), (0.7949631477180845, True)]\n",
      "{1: 0.6691000224675955, 4: 0.0009535329463230546, 9: 0.7690536396056176, 11: 0.6493823627809934, 15: 0.4597867138387849, 20: 0.9896571121376914, 21: 0.307826897343785, 25: 0.16544825205040692}\n",
      "[(0.0009535329463230546, True), (0.16544825205040692, True), (0.307826897343785, True), (0.4597867138387849, True), (0.6493823627809934, True), (0.6691000224675955, True), (0.7690536396056176, True), (0.9896571121376914, True)]\n",
      "{0: 0.8441824787244566, 7: 0.4767023217349, 8: 0.3916607062858072, 9: 0.7690536396056176, 10: 0.4093350376202295, 11: 0.6493823627809934, 16: 0.7949631477180845, 17: 0.22234534461703215, 18: 0.5326054311578211, 21: 0.307826897343785, 22: 0.18379305377445854, 25: 0.16544825205040692, 26: 0.35864203219468704, 27: 0.5859978063743055, 30: 0.39665811771143344}\n",
      "[(0.16544825205040692, True), (0.18379305377445854, True), (0.22234534461703215, True), (0.307826897343785, True), (0.35864203219468704, True), (0.3916607062858072, True), (0.39665811771143344, True), (0.4093350376202295, True), (0.4767023217349, True), (0.5326054311578211, True), (0.5859978063743055, True), (0.6493823627809934, True), (0.7690536396056176, True), (0.7949631477180845, True), (0.8441824787244566, True)]\n",
      "{2: 0.10847014562717694, 6: 0.27356065631130744, 7: 0.4767023217349, 8: 0.3916607062858072, 9: 0.7690536396056176, 10: 0.4093350376202295, 11: 0.6493823627809934, 13: 0.013802211971427392, 15: 0.4597867138387849, 17: 0.22234534461703215, 18: 0.5326054311578211, 20: 0.9896571121376914, 21: 0.307826897343785, 23: 0.23509503968604895, 27: 0.5859978063743055, 28: 0.4144615521629651}\n",
      "[(0.013802211971427392, True), (0.10847014562717694, True), (0.22234534461703215, True), (0.23509503968604895, True), (0.27356065631130744, True), (0.307826897343785, True), (0.3916607062858072, True), (0.4093350376202295, True), (0.4144615521629651, True), (0.4597867138387849, True), (0.4767023217349, True), (0.5326054311578211, True), (0.5859978063743055, True), (0.6493823627809934, True), (0.7690536396056176, True), (0.9896571121376914, True)]\n",
      "{0: 0.8441824787244566, 2: 0.10847014562717694, 6: 0.27356065631130744, 9: 0.7690536396056176, 12: 0.9286585651324746, 13: 0.013802211971427392, 16: 0.7949631477180845, 17: 0.22234534461703215, 20: 0.9896571121376914, 27: 0.5859978063743055, 29: 0.7488634314389183, 30: 0.39665811771143344}\n",
      "[(0.013802211971427392, True), (0.10847014562717694, True), (0.22234534461703215, True), (0.27356065631130744, True), (0.39665811771143344, True), (0.5859978063743055, True), (0.7488634314389183, True), (0.7690536396056176, True), (0.7949631477180845, True), (0.8441824787244566, True), (0.9286585651324746, True), (0.9896571121376914, True)]\n",
      "{9: 0.7690536396056176, 11: 0.6493823627809934, 12: 0.9286585651324746, 21: 0.307826897343785, 22: 0.18379305377445854, 23: 0.23509503968604895, 25: 0.16544825205040692, 26: 0.35864203219468704, 29: 0.7488634314389183}\n",
      "[(0.16544825205040692, True), (0.18379305377445854, True), (0.23509503968604895, True), (0.307826897343785, True), (0.35864203219468704, True), (0.6493823627809934, True), (0.7488634314389183, True), (0.7690536396056176, True), (0.9286585651324746, True)]\n",
      "{0: 0.8441824787244566, 1: 0.6691000224675955, 2: 0.10847014562717694, 7: 0.4767023217349, 11: 0.6493823627809934, 12: 0.9286585651324746, 18: 0.5326054311578211, 20: 0.9896571121376914, 21: 0.307826897343785, 22: 0.18379305377445854, 23: 0.23509503968604895, 24: 0.27512766102577935, 26: 0.35864203219468704}\n",
      "[(0.10847014562717694, True), (0.18379305377445854, True), (0.23509503968604895, True), (0.27512766102577935, True), (0.307826897343785, True), (0.35864203219468704, True), (0.4767023217349, True), (0.5326054311578211, True), (0.6493823627809934, True), (0.6691000224675955, True), (0.8441824787244566, True), (0.9286585651324746, True), (0.9896571121376914, True)]\n",
      "{6: 0.27356065631130744, 8: 0.3916607062858072, 9: 0.7690536396056176, 12: 0.9286585651324746, 13: 0.013802211971427392, 21: 0.307826897343785, 22: 0.18379305377445854, 26: 0.35864203219468704, 27: 0.5859978063743055, 29: 0.7488634314389183}\n",
      "[(0.013802211971427392, True), (0.18379305377445854, True), (0.27356065631130744, True), (0.307826897343785, True), (0.35864203219468704, True), (0.3916607062858072, True), (0.5859978063743055, True), (0.7488634314389183, True), (0.7690536396056176, True), (0.9286585651324746, True)]\n",
      "{1: 0.6691000224675955, 7: 0.4767023217349, 10: 0.4093350376202295, 13: 0.013802211971427392, 15: 0.4597867138387849, 16: 0.7949631477180845, 24: 0.27512766102577935, 25: 0.16544825205040692, 30: 0.39665811771143344}\n",
      "[(0.013802211971427392, True), (0.16544825205040692, True), (0.27512766102577935, True), (0.39665811771143344, True), (0.4093350376202295, True), (0.4597867138387849, True), (0.4767023217349, True), (0.6691000224675955, True), (0.7949631477180845, True)]\n",
      "{6: 0.27356065631130744, 15: 0.4597867138387849, 16: 0.7949631477180845, 23: 0.23509503968604895}\n",
      "[(0.23509503968604895, True), (0.27356065631130744, True), (0.4597867138387849, True), (0.7949631477180845, True)]\n",
      "{6: 0.27356065631130744, 8: 0.3916607062858072, 10: 0.4093350376202295, 13: 0.013802211971427392, 18: 0.5326054311578211, 19: 0.49721371493504674, 20: 0.9896571121376914, 21: 0.307826897343785, 22: 0.18379305377445854, 24: 0.27512766102577935, 25: 0.16544825205040692}\n",
      "[(0.013802211971427392, True), (0.16544825205040692, True), (0.18379305377445854, True), (0.27356065631130744, True), (0.27512766102577935, True), (0.307826897343785, True), (0.3916607062858072, True), (0.4093350376202295, True), (0.49721371493504674, True), (0.5326054311578211, True), (0.9896571121376914, True)]\n",
      "{1: 0.6691000224675955, 3: 0.8324034583733682, 4: 0.0009535329463230546, 5: 0.7318534022723602, 7: 0.4767023217349, 9: 0.7690536396056176, 10: 0.4093350376202295, 11: 0.6493823627809934, 13: 0.013802211971427392, 14: 0.5679957482890622, 18: 0.5326054311578211, 19: 0.49721371493504674, 20: 0.9896571121376914, 21: 0.307826897343785, 22: 0.18379305377445854, 26: 0.35864203219468704, 27: 0.5859978063743055, 29: 0.7488634314389183}\n",
      "[(0.0009535329463230546, True), (0.013802211971427392, True), (0.18379305377445854, True), (0.307826897343785, True), (0.35864203219468704, True), (0.4093350376202295, True), (0.4767023217349, True), (0.49721371493504674, True), (0.5326054311578211, True), (0.5679957482890622, True), (0.5859978063743055, True), (0.6493823627809934, True), (0.6691000224675955, True), (0.7318534022723602, True), (0.7488634314389183, True), (0.7690536396056176, True), (0.8324034583733682, True), (0.9896571121376914, True)]\n",
      "{1: 0.6691000224675955, 4: 0.0009535329463230546, 7: 0.4767023217349, 10: 0.4093350376202295, 11: 0.6493823627809934, 12: 0.9286585651324746, 14: 0.5679957482890622, 15: 0.4597867138387849, 19: 0.49721371493504674, 21: 0.307826897343785, 26: 0.35864203219468704, 29: 0.7488634314389183}\n",
      "[(0.0009535329463230546, True), (0.307826897343785, True), (0.35864203219468704, True), (0.4093350376202295, True), (0.4597867138387849, True), (0.4767023217349, True), (0.49721371493504674, True), (0.5679957482890622, True), (0.6493823627809934, True), (0.6691000224675955, True), (0.7488634314389183, True), (0.9286585651324746, True)]\n",
      "{2: 0.10847014562717694, 4: 0.0009535329463230546, 6: 0.27356065631130744, 11: 0.6493823627809934, 12: 0.9286585651324746, 14: 0.5679957482890622, 21: 0.307826897343785, 23: 0.23509503968604895, 27: 0.5859978063743055, 29: 0.7488634314389183}\n",
      "[(0.0009535329463230546, True), (0.10847014562717694, True), (0.23509503968604895, True), (0.27356065631130744, True), (0.307826897343785, True), (0.5679957482890622, True), (0.5859978063743055, True), (0.6493823627809934, True), (0.7488634314389183, True), (0.9286585651324746, True)]\n",
      "{1: 0.6691000224675955, 5: 0.7318534022723602, 7: 0.4767023217349, 9: 0.7690536396056176, 11: 0.6493823627809934, 12: 0.9286585651324746, 13: 0.013802211971427392, 15: 0.4597867138387849, 16: 0.7949631477180845, 26: 0.35864203219468704, 29: 0.7488634314389183}\n",
      "[(0.013802211971427392, True), (0.35864203219468704, True), (0.4597867138387849, True), (0.4767023217349, True), (0.6493823627809934, True), (0.6691000224675955, True), (0.7318534022723602, True), (0.7488634314389183, True), (0.7690536396056176, True), (0.7949631477180845, True), (0.9286585651324746, True)]\n",
      "{1: 0.6691000224675955, 2: 0.10847014562717694, 3: 0.8324034583733682, 7: 0.4767023217349, 9: 0.7690536396056176, 10: 0.4093350376202295, 12: 0.9286585651324746, 14: 0.5679957482890622, 15: 0.4597867138387849, 16: 0.7949631477180845, 21: 0.307826897343785, 23: 0.23509503968604895, 26: 0.35864203219468704}\n",
      "[(0.10847014562717694, True), (0.23509503968604895, True), (0.307826897343785, True), (0.35864203219468704, True), (0.4093350376202295, True), (0.4597867138387849, True), (0.4767023217349, True), (0.5679957482890622, True), (0.6691000224675955, True), (0.7690536396056176, True), (0.7949631477180845, True), (0.8324034583733682, True), (0.9286585651324746, True)]\n",
      "{3: 0.8324034583733682, 4: 0.0009535329463230546, 11: 0.6493823627809934, 13: 0.013802211971427392, 14: 0.5679957482890622, 18: 0.5326054311578211, 19: 0.49721371493504674, 20: 0.9896571121376914, 25: 0.16544825205040692, 29: 0.7488634314389183}\n",
      "[(0.0009535329463230546, True), (0.013802211971427392, True), (0.16544825205040692, True), (0.49721371493504674, True), (0.5326054311578211, True), (0.5679957482890622, True), (0.6493823627809934, True), (0.7488634314389183, True), (0.8324034583733682, True), (0.9896571121376914, True)]\n",
      "{0: 0.8441824787244566, 1: 0.6691000224675955, 4: 0.0009535329463230546, 14: 0.5679957482890622, 17: 0.22234534461703215, 18: 0.5326054311578211, 19: 0.49721371493504674, 23: 0.23509503968604895, 26: 0.35864203219468704, 29: 0.7488634314389183, 30: 0.39665811771143344}\n",
      "[(0.0009535329463230546, True), (0.22234534461703215, True), (0.23509503968604895, True), (0.35864203219468704, True), (0.39665811771143344, True), (0.49721371493504674, True), (0.5326054311578211, True), (0.5679957482890622, True), (0.6691000224675955, True), (0.7488634314389183, True), (0.8441824787244566, True)]\n",
      "{1: 0.6691000224675955, 3: 0.8324034583733682, 4: 0.0009535329463230546, 5: 0.7318534022723602, 6: 0.27356065631130744, 11: 0.6493823627809934, 13: 0.013802211971427392, 14: 0.5679957482890622, 16: 0.7949631477180845, 23: 0.23509503968604895, 24: 0.27512766102577935, 25: 0.16544825205040692, 27: 0.5859978063743055, 28: 0.4144615521629651, 30: 0.39665811771143344}\n",
      "[(0.0009535329463230546, True), (0.013802211971427392, True), (0.16544825205040692, True), (0.23509503968604895, True), (0.27356065631130744, True), (0.27512766102577935, True), (0.39665811771143344, True), (0.4144615521629651, True), (0.5679957482890622, True), (0.5859978063743055, True), (0.6493823627809934, True), (0.6691000224675955, True), (0.7318534022723602, True), (0.7949631477180845, True), (0.8324034583733682, True)]\n",
      "{4: 0.0009535329463230546, 5: 0.7318534022723602, 12: 0.9286585651324746, 14: 0.5679957482890622, 18: 0.5326054311578211, 19: 0.49721371493504674, 21: 0.307826897343785, 28: 0.4144615521629651, 30: 0.39665811771143344}\n",
      "[(0.0009535329463230546, True), (0.307826897343785, True), (0.39665811771143344, True), (0.4144615521629651, True), (0.49721371493504674, True), (0.5326054311578211, True), (0.5679957482890622, True), (0.7318534022723602, True), (0.9286585651324746, True)]\n",
      "{8: 0.3916607062858072, 10: 0.4093350376202295, 13: 0.013802211971427392, 15: 0.4597867138387849, 16: 0.7949631477180845, 19: 0.49721371493504674, 20: 0.9896571121376914, 21: 0.307826897343785, 23: 0.23509503968604895, 27: 0.5859978063743055, 29: 0.7488634314389183, 30: 0.39665811771143344}\n",
      "[(0.013802211971427392, True), (0.23509503968604895, True), (0.307826897343785, True), (0.3916607062858072, True), (0.39665811771143344, True), (0.4093350376202295, True), (0.4597867138387849, True), (0.49721371493504674, True), (0.5859978063743055, True), (0.7488634314389183, True), (0.7949631477180845, True), (0.9896571121376914, True)]\n",
      "{0: 0.8441824787244566, 3: 0.8324034583733682, 4: 0.0009535329463230546, 10: 0.4093350376202295, 11: 0.6493823627809934, 13: 0.013802211971427392, 15: 0.4597867138387849, 24: 0.27512766102577935, 27: 0.5859978063743055}\n",
      "[(0.0009535329463230546, True), (0.013802211971427392, True), (0.27512766102577935, True), (0.4093350376202295, True), (0.4597867138387849, True), (0.5859978063743055, True), (0.6493823627809934, True), (0.8324034583733682, True), (0.8441824787244566, True)]\n"
     ]
    },
    {
     "name": "stdout",
     "output_type": "stream",
     "text": [
      "{0: 0.8441824787244566, 1: 0.6691000224675955, 6: 0.27356065631130744, 9: 0.7690536396056176, 10: 0.4093350376202295, 16: 0.7949631477180845, 18: 0.5326054311578211, 19: 0.49721371493504674}\n",
      "[(0.27356065631130744, True), (0.4093350376202295, True), (0.49721371493504674, True), (0.5326054311578211, True), (0.6691000224675955, True), (0.7690536396056176, True), (0.7949631477180845, True), (0.8441824787244566, True)]\n",
      "{0: 0.8441824787244566, 10: 0.4093350376202295, 11: 0.6493823627809934, 18: 0.5326054311578211, 19: 0.49721371493504674, 24: 0.27512766102577935, 27: 0.5859978063743055, 30: 0.39665811771143344}\n",
      "[(0.27512766102577935, True), (0.39665811771143344, True), (0.4093350376202295, True), (0.49721371493504674, True), (0.5326054311578211, True), (0.5859978063743055, True), (0.6493823627809934, True), (0.8441824787244566, True)]\n",
      "Matroid 2/3 completed in 0.72s\n",
      "{0: 0.26007590296830996, 1: 0.025108764960234065, 7: 0.28373087717599244, 10: 0.14396091220304563, 11: 0.1325276748535804, 12: 0.011252934884437349, 13: 0.7865606953380453, 18: 0.1060341936321686, 19: 0.9249063847274569, 26: 0.56454155474231, 27: 0.12736458098960068, 30: 0.3798192647954678}\n",
      "[(0.011252934884437349, True), (0.025108764960234065, True), (0.1060341936321686, True), (0.12736458098960068, True), (0.1325276748535804, True), (0.14396091220304563, True), (0.26007590296830996, True), (0.28373087717599244, True), (0.3798192647954678, True), (0.56454155474231, True), (0.7865606953380453, True), (0.9249063847274569, True)]\n",
      "{3: 0.06535576930747011, 4: 0.39053583201825537, 6: 0.4750813497418306, 7: 0.28373087717599244, 8: 0.32698966803710505, 9: 0.4701405544538405, 10: 0.14396091220304563, 11: 0.1325276748535804, 14: 0.23774641022719845, 19: 0.9249063847274569, 20: 0.062396516442944305, 21: 0.6133823714057963, 24: 0.4357194859005151, 27: 0.12736458098960068}\n",
      "[(0.062396516442944305, True), (0.06535576930747011, True), (0.12736458098960068, True), (0.1325276748535804, True), (0.14396091220304563, True), (0.23774641022719845, True), (0.28373087717599244, True), (0.32698966803710505, True), (0.39053583201825537, True), (0.4357194859005151, True), (0.4701405544538405, True), (0.4750813497418306, True), (0.6133823714057963, True), (0.9249063847274569, True)]\n",
      "{1: 0.025108764960234065, 5: 0.39078214814075685, 9: 0.4701405544538405, 12: 0.011252934884437349, 13: 0.7865606953380453, 14: 0.23774641022719845, 16: 0.06213845985132105, 17: 0.6765417509367857, 23: 0.01344852659354323, 25: 0.10101626037730527, 26: 0.56454155474231, 27: 0.12736458098960068, 30: 0.3798192647954678}\n",
      "[(0.011252934884437349, True), (0.01344852659354323, True), (0.025108764960234065, True), (0.06213845985132105, True), (0.10101626037730527, True), (0.12736458098960068, True), (0.23774641022719845, True), (0.3798192647954678, True), (0.39078214814075685, True), (0.4701405544538405, True), (0.56454155474231, True), (0.6765417509367857, True), (0.7865606953380453, True)]\n",
      "{0: 0.26007590296830996, 3: 0.06535576930747011, 8: 0.32698966803710505, 9: 0.4701405544538405, 10: 0.14396091220304563, 16: 0.06213845985132105, 18: 0.1060341936321686, 21: 0.6133823714057963, 24: 0.4357194859005151, 26: 0.56454155474231, 27: 0.12736458098960068, 30: 0.3798192647954678}\n",
      "[(0.06213845985132105, True), (0.06535576930747011, True), (0.1060341936321686, True), (0.12736458098960068, True), (0.14396091220304563, True), (0.26007590296830996, True), (0.32698966803710505, True), (0.3798192647954678, True), (0.4357194859005151, True), (0.4701405544538405, True), (0.56454155474231, True), (0.6133823714057963, True)]\n",
      "{3: 0.06535576930747011, 8: 0.32698966803710505, 10: 0.14396091220304563, 11: 0.1325276748535804, 12: 0.011252934884437349, 17: 0.6765417509367857, 19: 0.9249063847274569, 20: 0.062396516442944305, 24: 0.4357194859005151}\n",
      "[(0.011252934884437349, True), (0.062396516442944305, True), (0.06535576930747011, True), (0.1325276748535804, True), (0.14396091220304563, True), (0.32698966803710505, True), (0.4357194859005151, True), (0.6765417509367857, True), (0.9249063847274569, True)]\n",
      "{0: 0.26007590296830996, 2: 0.7794248550875847, 8: 0.32698966803710505, 13: 0.7865606953380453, 15: 0.3025060682498595, 19: 0.9249063847274569, 20: 0.062396516442944305, 23: 0.01344852659354323, 29: 0.35085687318364533}\n",
      "[(0.01344852659354323, True), (0.062396516442944305, True), (0.26007590296830996, True), (0.3025060682498595, True), (0.32698966803710505, True), (0.35085687318364533, True), (0.7794248550875847, True), (0.7865606953380453, True), (0.9249063847274569, True)]\n",
      "{3: 0.06535576930747011, 7: 0.28373087717599244, 9: 0.4701405544538405, 13: 0.7865606953380453, 17: 0.6765417509367857, 18: 0.1060341936321686, 20: 0.062396516442944305, 22: 0.9749707911876626, 24: 0.4357194859005151, 27: 0.12736458098960068}\n",
      "[(0.062396516442944305, True), (0.06535576930747011, True), (0.1060341936321686, True), (0.12736458098960068, True), (0.28373087717599244, True), (0.4357194859005151, True), (0.4701405544538405, True), (0.6765417509367857, True), (0.7865606953380453, True), (0.9749707911876626, True)]\n",
      "{0: 0.26007590296830996, 1: 0.025108764960234065, 7: 0.28373087717599244, 9: 0.4701405544538405, 13: 0.7865606953380453, 15: 0.3025060682498595, 18: 0.1060341936321686, 19: 0.9249063847274569, 24: 0.4357194859005151, 29: 0.35085687318364533}\n",
      "[(0.025108764960234065, True), (0.1060341936321686, True), (0.26007590296830996, True), (0.28373087717599244, True), (0.3025060682498595, True), (0.35085687318364533, True), (0.4357194859005151, True), (0.4701405544538405, True), (0.7865606953380453, True), (0.9249063847274569, True)]\n",
      "{0: 0.26007590296830996, 1: 0.025108764960234065, 4: 0.39053583201825537, 6: 0.4750813497418306, 7: 0.28373087717599244, 21: 0.6133823714057963, 22: 0.9749707911876626, 23: 0.01344852659354323, 26: 0.56454155474231, 29: 0.35085687318364533}\n",
      "[(0.01344852659354323, True), (0.025108764960234065, True), (0.26007590296830996, True), (0.28373087717599244, True), (0.35085687318364533, True), (0.39053583201825537, True), (0.4750813497418306, True), (0.56454155474231, True), (0.6133823714057963, True), (0.9749707911876626, True)]\n",
      "{1: 0.025108764960234065, 2: 0.7794248550875847, 4: 0.39053583201825537, 5: 0.39078214814075685, 6: 0.4750813497418306, 8: 0.32698966803710505, 9: 0.4701405544538405, 10: 0.14396091220304563, 11: 0.1325276748535804, 15: 0.3025060682498595, 18: 0.1060341936321686, 20: 0.062396516442944305, 22: 0.9749707911876626}\n",
      "[(0.025108764960234065, True), (0.062396516442944305, True), (0.1060341936321686, True), (0.1325276748535804, True), (0.14396091220304563, True), (0.3025060682498595, True), (0.32698966803710505, True), (0.39053583201825537, True), (0.39078214814075685, True), (0.4701405544538405, True), (0.4750813497418306, True), (0.7794248550875847, True), (0.9749707911876626, True)]\n",
      "{2: 0.7794248550875847, 9: 0.4701405544538405, 11: 0.1325276748535804, 12: 0.011252934884437349, 13: 0.7865606953380453, 15: 0.3025060682498595, 17: 0.6765417509367857, 22: 0.9749707911876626, 23: 0.01344852659354323, 24: 0.4357194859005151, 30: 0.3798192647954678}\n",
      "[(0.011252934884437349, True), (0.01344852659354323, True), (0.1325276748535804, True), (0.3025060682498595, True), (0.3798192647954678, True), (0.4357194859005151, True), (0.4701405544538405, True), (0.6765417509367857, True), (0.7794248550875847, True), (0.7865606953380453, True), (0.9749707911876626, True)]\n",
      "{5: 0.39078214814075685, 7: 0.28373087717599244, 9: 0.4701405544538405, 10: 0.14396091220304563, 12: 0.011252934884437349, 13: 0.7865606953380453, 15: 0.3025060682498595, 19: 0.9249063847274569, 20: 0.062396516442944305, 22: 0.9749707911876626, 23: 0.01344852659354323, 26: 0.56454155474231, 29: 0.35085687318364533, 30: 0.3798192647954678}\n",
      "[(0.011252934884437349, True), (0.01344852659354323, True), (0.062396516442944305, True), (0.14396091220304563, True), (0.28373087717599244, True), (0.3025060682498595, True), (0.35085687318364533, True), (0.3798192647954678, True), (0.39078214814075685, True), (0.4701405544538405, True), (0.56454155474231, True), (0.7865606953380453, True), (0.9249063847274569, True), (0.9749707911876626, True)]\n",
      "{1: 0.025108764960234065, 4: 0.39053583201825537, 6: 0.4750813497418306, 7: 0.28373087717599244, 8: 0.32698966803710505, 14: 0.23774641022719845, 17: 0.6765417509367857, 18: 0.1060341936321686, 26: 0.56454155474231, 27: 0.12736458098960068, 28: 0.13443058195138624, 29: 0.35085687318364533}\n",
      "[(0.025108764960234065, True), (0.1060341936321686, True), (0.12736458098960068, True), (0.13443058195138624, True), (0.23774641022719845, True), (0.28373087717599244, True), (0.32698966803710505, True), (0.35085687318364533, True), (0.39053583201825537, True), (0.4750813497418306, True), (0.56454155474231, True), (0.6765417509367857, True)]\n",
      "{3: 0.06535576930747011, 5: 0.39078214814075685, 7: 0.28373087717599244, 9: 0.4701405544538405, 11: 0.1325276748535804, 12: 0.011252934884437349, 13: 0.7865606953380453, 15: 0.3025060682498595, 16: 0.06213845985132105, 20: 0.062396516442944305, 26: 0.56454155474231, 27: 0.12736458098960068}\n",
      "[(0.011252934884437349, True), (0.06213845985132105, True), (0.062396516442944305, True), (0.06535576930747011, True), (0.12736458098960068, True), (0.1325276748535804, True), (0.28373087717599244, True), (0.3025060682498595, True), (0.39078214814075685, True), (0.4701405544538405, True), (0.56454155474231, True), (0.7865606953380453, True)]\n",
      "{1: 0.025108764960234065, 2: 0.7794248550875847, 13: 0.7865606953380453, 15: 0.3025060682498595, 16: 0.06213845985132105, 20: 0.062396516442944305, 21: 0.6133823714057963, 22: 0.9749707911876626, 24: 0.4357194859005151, 25: 0.10101626037730527, 26: 0.56454155474231, 27: 0.12736458098960068}\n",
      "[(0.025108764960234065, True), (0.06213845985132105, True), (0.062396516442944305, True), (0.10101626037730527, True), (0.12736458098960068, True), (0.3025060682498595, True), (0.4357194859005151, True), (0.56454155474231, True), (0.6133823714057963, True), (0.7794248550875847, True), (0.7865606953380453, True), (0.9749707911876626, True)]\n",
      "{2: 0.7794248550875847, 9: 0.4701405544538405, 10: 0.14396091220304563, 11: 0.1325276748535804, 12: 0.011252934884437349, 16: 0.06213845985132105, 18: 0.1060341936321686, 22: 0.9749707911876626, 27: 0.12736458098960068, 28: 0.13443058195138624, 29: 0.35085687318364533, 30: 0.3798192647954678}\n",
      "[(0.011252934884437349, True), (0.06213845985132105, True), (0.1060341936321686, True), (0.12736458098960068, True), (0.1325276748535804, True), (0.13443058195138624, True), (0.14396091220304563, True), (0.35085687318364533, True), (0.3798192647954678, True), (0.4701405544538405, True), (0.7794248550875847, True), (0.9749707911876626, True)]\n",
      "{4: 0.39053583201825537, 6: 0.4750813497418306, 12: 0.011252934884437349, 19: 0.9249063847274569, 20: 0.062396516442944305, 23: 0.01344852659354323, 24: 0.4357194859005151, 25: 0.10101626037730527}\n",
      "[(0.011252934884437349, True), (0.01344852659354323, True), (0.062396516442944305, True), (0.10101626037730527, True), (0.39053583201825537, True), (0.4357194859005151, True), (0.4750813497418306, True), (0.9249063847274569, True)]\n",
      "{3: 0.06535576930747011, 5: 0.39078214814075685, 6: 0.4750813497418306, 8: 0.32698966803710505, 13: 0.7865606953380453, 16: 0.06213845985132105, 20: 0.062396516442944305, 23: 0.01344852659354323, 24: 0.4357194859005151, 28: 0.13443058195138624, 29: 0.35085687318364533}\n",
      "[(0.01344852659354323, True), (0.06213845985132105, True), (0.062396516442944305, True), (0.06535576930747011, True), (0.13443058195138624, True), (0.32698966803710505, True), (0.35085687318364533, True), (0.39078214814075685, True), (0.4357194859005151, True), (0.4750813497418306, True), (0.7865606953380453, True)]\n",
      "{2: 0.7794248550875847, 4: 0.39053583201825537, 5: 0.39078214814075685, 10: 0.14396091220304563, 23: 0.01344852659354323, 25: 0.10101626037730527, 27: 0.12736458098960068, 29: 0.35085687318364533}\n",
      "[(0.01344852659354323, True), (0.10101626037730527, True), (0.12736458098960068, True), (0.14396091220304563, True), (0.35085687318364533, True), (0.39053583201825537, True), (0.39078214814075685, True), (0.7794248550875847, True)]\n",
      "{1: 0.025108764960234065, 3: 0.06535576930747011, 4: 0.39053583201825537, 5: 0.39078214814075685, 7: 0.28373087717599244, 8: 0.32698966803710505, 13: 0.7865606953380453, 15: 0.3025060682498595, 18: 0.1060341936321686, 20: 0.062396516442944305, 22: 0.9749707911876626, 23: 0.01344852659354323, 26: 0.56454155474231, 27: 0.12736458098960068}\n",
      "[(0.01344852659354323, True), (0.025108764960234065, True), (0.062396516442944305, True), (0.06535576930747011, True), (0.1060341936321686, True), (0.12736458098960068, True), (0.28373087717599244, True), (0.3025060682498595, True), (0.32698966803710505, True), (0.39053583201825537, True), (0.39078214814075685, True), (0.56454155474231, True), (0.7865606953380453, True), (0.9749707911876626, True)]\n",
      "{0: 0.26007590296830996, 5: 0.39078214814075685, 8: 0.32698966803710505, 11: 0.1325276748535804, 13: 0.7865606953380453, 16: 0.06213845985132105, 19: 0.9249063847274569, 25: 0.10101626037730527, 26: 0.56454155474231}\n",
      "[(0.06213845985132105, True), (0.10101626037730527, True), (0.1325276748535804, True), (0.26007590296830996, True), (0.32698966803710505, True), (0.39078214814075685, True), (0.56454155474231, True), (0.7865606953380453, True), (0.9249063847274569, True)]\n",
      "{0: 0.26007590296830996, 13: 0.7865606953380453, 15: 0.3025060682498595, 18: 0.1060341936321686, 20: 0.062396516442944305, 27: 0.12736458098960068}\n",
      "[(0.062396516442944305, True), (0.1060341936321686, True), (0.12736458098960068, True), (0.26007590296830996, True), (0.3025060682498595, True), (0.7865606953380453, True)]\n",
      "{4: 0.39053583201825537, 14: 0.23774641022719845, 18: 0.1060341936321686, 19: 0.9249063847274569, 22: 0.9749707911876626, 24: 0.4357194859005151, 25: 0.10101626037730527, 26: 0.56454155474231, 28: 0.13443058195138624, 29: 0.35085687318364533}\n",
      "[(0.10101626037730527, True), (0.1060341936321686, True), (0.13443058195138624, True), (0.23774641022719845, True), (0.35085687318364533, True), (0.39053583201825537, True), (0.4357194859005151, True), (0.56454155474231, True), (0.9249063847274569, True), (0.9749707911876626, True)]\n",
      "{0: 0.26007590296830996, 1: 0.025108764960234065, 4: 0.39053583201825537, 5: 0.39078214814075685, 7: 0.28373087717599244, 9: 0.4701405544538405, 10: 0.14396091220304563, 13: 0.7865606953380453, 16: 0.06213845985132105, 20: 0.062396516442944305, 21: 0.6133823714057963, 23: 0.01344852659354323, 25: 0.10101626037730527, 26: 0.56454155474231, 27: 0.12736458098960068, 29: 0.35085687318364533, 30: 0.3798192647954678}\n",
      "[(0.01344852659354323, True), (0.025108764960234065, True), (0.06213845985132105, True), (0.062396516442944305, True), (0.10101626037730527, True), (0.12736458098960068, True), (0.14396091220304563, True), (0.26007590296830996, True), (0.28373087717599244, True), (0.35085687318364533, True), (0.3798192647954678, True), (0.39053583201825537, True), (0.39078214814075685, True), (0.4701405544538405, True), (0.56454155474231, True), (0.6133823714057963, True), (0.7865606953380453, True)]\n",
      "{0: 0.26007590296830996, 2: 0.7794248550875847, 4: 0.39053583201825537, 6: 0.4750813497418306, 8: 0.32698966803710505, 10: 0.14396091220304563, 17: 0.6765417509367857, 18: 0.1060341936321686, 20: 0.062396516442944305, 21: 0.6133823714057963, 22: 0.9749707911876626, 23: 0.01344852659354323, 24: 0.4357194859005151, 26: 0.56454155474231, 27: 0.12736458098960068, 30: 0.3798192647954678}\n",
      "[(0.01344852659354323, True), (0.062396516442944305, True), (0.1060341936321686, True), (0.12736458098960068, True), (0.14396091220304563, True), (0.26007590296830996, True), (0.32698966803710505, True), (0.3798192647954678, True), (0.39053583201825537, True), (0.4357194859005151, True), (0.4750813497418306, True), (0.56454155474231, True), (0.6133823714057963, True), (0.6765417509367857, True), (0.7794248550875847, True), (0.9749707911876626, True)]\n",
      "{1: 0.025108764960234065, 3: 0.06535576930747011, 4: 0.39053583201825537, 5: 0.39078214814075685, 12: 0.011252934884437349, 19: 0.9249063847274569, 20: 0.062396516442944305, 21: 0.6133823714057963, 25: 0.10101626037730527, 26: 0.56454155474231, 27: 0.12736458098960068, 30: 0.3798192647954678}\n",
      "[(0.011252934884437349, True), (0.025108764960234065, True), (0.062396516442944305, True), (0.06535576930747011, True), (0.10101626037730527, True), (0.12736458098960068, True), (0.3798192647954678, True), (0.39053583201825537, True), (0.39078214814075685, True), (0.56454155474231, True), (0.6133823714057963, True), (0.9249063847274569, True)]\n",
      "{4: 0.39053583201825537, 6: 0.4750813497418306, 9: 0.4701405544538405, 10: 0.14396091220304563, 12: 0.011252934884437349, 14: 0.23774641022719845, 20: 0.062396516442944305, 30: 0.3798192647954678}\n",
      "[(0.011252934884437349, True), (0.062396516442944305, True), (0.14396091220304563, True), (0.23774641022719845, True), (0.3798192647954678, True), (0.39053583201825537, True), (0.4701405544538405, True), (0.4750813497418306, True)]\n",
      "{0: 0.26007590296830996, 1: 0.025108764960234065, 3: 0.06535576930747011, 4: 0.39053583201825537, 5: 0.39078214814075685, 9: 0.4701405544538405, 14: 0.23774641022719845, 19: 0.9249063847274569, 21: 0.6133823714057963, 22: 0.9749707911876626, 27: 0.12736458098960068, 29: 0.35085687318364533, 30: 0.3798192647954678}\n",
      "[(0.025108764960234065, True), (0.06535576930747011, True), (0.12736458098960068, True), (0.23774641022719845, True), (0.26007590296830996, True), (0.35085687318364533, True), (0.3798192647954678, True), (0.39053583201825537, True), (0.39078214814075685, True), (0.4701405544538405, True), (0.6133823714057963, True), (0.9249063847274569, True), (0.9749707911876626, True)]\n",
      "{4: 0.39053583201825537, 5: 0.39078214814075685, 8: 0.32698966803710505, 9: 0.4701405544538405, 14: 0.23774641022719845, 15: 0.3025060682498595, 18: 0.1060341936321686, 19: 0.9249063847274569, 22: 0.9749707911876626, 24: 0.4357194859005151, 28: 0.13443058195138624}\n",
      "[(0.1060341936321686, True), (0.13443058195138624, True), (0.23774641022719845, True), (0.3025060682498595, True), (0.32698966803710505, True), (0.39053583201825537, True), (0.39078214814075685, True), (0.4357194859005151, True), (0.4701405544538405, True), (0.9249063847274569, True), (0.9749707911876626, True)]\n",
      "{3: 0.06535576930747011, 6: 0.4750813497418306, 7: 0.28373087717599244, 9: 0.4701405544538405, 16: 0.06213845985132105, 17: 0.6765417509367857, 26: 0.56454155474231, 30: 0.3798192647954678}\n",
      "[(0.06213845985132105, True), (0.06535576930747011, True), (0.28373087717599244, True), (0.3798192647954678, True), (0.4701405544538405, True), (0.4750813497418306, True), (0.56454155474231, True), (0.6765417509367857, True)]\n"
     ]
    },
    {
     "name": "stdout",
     "output_type": "stream",
     "text": [
      "{2: 0.7794248550875847, 5: 0.39078214814075685, 17: 0.6765417509367857, 19: 0.9249063847274569, 22: 0.9749707911876626, 24: 0.4357194859005151, 25: 0.10101626037730527, 26: 0.56454155474231}\n",
      "[(0.10101626037730527, True), (0.39078214814075685, True), (0.4357194859005151, True), (0.56454155474231, True), (0.6765417509367857, True), (0.7794248550875847, True), (0.9249063847274569, True), (0.9749707911876626, True)]\n",
      "{1: 0.025108764960234065, 5: 0.39078214814075685, 7: 0.28373087717599244, 8: 0.32698966803710505, 9: 0.4701405544538405, 10: 0.14396091220304563, 11: 0.1325276748535804, 12: 0.011252934884437349, 13: 0.7865606953380453, 20: 0.062396516442944305, 21: 0.6133823714057963, 23: 0.01344852659354323, 24: 0.4357194859005151, 28: 0.13443058195138624}\n",
      "[(0.011252934884437349, True), (0.01344852659354323, True), (0.025108764960234065, True), (0.062396516442944305, True), (0.1325276748535804, True), (0.13443058195138624, True), (0.14396091220304563, True), (0.28373087717599244, True), (0.32698966803710505, True), (0.39078214814075685, True), (0.4357194859005151, True), (0.4701405544538405, True), (0.6133823714057963, True), (0.7865606953380453, True)]\n",
      "{2: 0.7794248550875847, 4: 0.39053583201825537, 5: 0.39078214814075685, 7: 0.28373087717599244, 8: 0.32698966803710505, 9: 0.4701405544538405, 10: 0.14396091220304563, 11: 0.1325276748535804, 14: 0.23774641022719845, 17: 0.6765417509367857, 18: 0.1060341936321686, 19: 0.9249063847274569, 21: 0.6133823714057963, 23: 0.01344852659354323, 24: 0.4357194859005151, 27: 0.12736458098960068, 28: 0.13443058195138624}\n",
      "[(0.01344852659354323, True), (0.1060341936321686, True), (0.12736458098960068, True), (0.1325276748535804, True), (0.13443058195138624, True), (0.14396091220304563, True), (0.23774641022719845, True), (0.28373087717599244, True), (0.32698966803710505, True), (0.39053583201825537, True), (0.39078214814075685, True), (0.4357194859005151, True), (0.4701405544538405, True), (0.6133823714057963, True), (0.6765417509367857, True), (0.7794248550875847, True), (0.9249063847274569, True)]\n",
      "{1: 0.025108764960234065, 14: 0.23774641022719845, 23: 0.01344852659354323, 26: 0.56454155474231, 27: 0.12736458098960068, 28: 0.13443058195138624, 30: 0.3798192647954678}\n",
      "[(0.01344852659354323, True), (0.025108764960234065, True), (0.12736458098960068, True), (0.13443058195138624, True), (0.23774641022719845, True), (0.3798192647954678, True), (0.56454155474231, True)]\n",
      "{1: 0.025108764960234065, 5: 0.39078214814075685, 6: 0.4750813497418306, 8: 0.32698966803710505, 12: 0.011252934884437349, 13: 0.7865606953380453, 14: 0.23774641022719845, 17: 0.6765417509367857, 19: 0.9249063847274569, 20: 0.062396516442944305, 21: 0.6133823714057963, 22: 0.9749707911876626, 26: 0.56454155474231, 28: 0.13443058195138624}\n",
      "[(0.011252934884437349, True), (0.025108764960234065, True), (0.062396516442944305, True), (0.13443058195138624, True), (0.23774641022719845, True), (0.32698966803710505, True), (0.39078214814075685, True), (0.4750813497418306, True), (0.56454155474231, True), (0.6133823714057963, True), (0.6765417509367857, True), (0.7865606953380453, True), (0.9249063847274569, True), (0.9749707911876626, True)]\n",
      "{4: 0.39053583201825537, 7: 0.28373087717599244, 14: 0.23774641022719845, 17: 0.6765417509367857, 20: 0.062396516442944305, 22: 0.9749707911876626, 24: 0.4357194859005151, 27: 0.12736458098960068}\n",
      "[(0.062396516442944305, True), (0.12736458098960068, True), (0.23774641022719845, True), (0.28373087717599244, True), (0.39053583201825537, True), (0.4357194859005151, True), (0.6765417509367857, True), (0.9749707911876626, True)]\n",
      "{3: 0.06535576930747011, 7: 0.28373087717599244, 9: 0.4701405544538405, 13: 0.7865606953380453, 14: 0.23774641022719845, 15: 0.3025060682498595, 16: 0.06213845985132105, 19: 0.9249063847274569, 23: 0.01344852659354323, 26: 0.56454155474231, 27: 0.12736458098960068}\n",
      "[(0.01344852659354323, True), (0.06213845985132105, True), (0.06535576930747011, True), (0.12736458098960068, True), (0.23774641022719845, True), (0.28373087717599244, True), (0.3025060682498595, True), (0.4701405544538405, True), (0.56454155474231, True), (0.7865606953380453, True), (0.9249063847274569, True)]\n",
      "{4: 0.39053583201825537, 6: 0.4750813497418306, 9: 0.4701405544538405, 10: 0.14396091220304563, 12: 0.011252934884437349, 16: 0.06213845985132105, 18: 0.1060341936321686, 22: 0.9749707911876626, 28: 0.13443058195138624}\n",
      "[(0.011252934884437349, True), (0.06213845985132105, True), (0.1060341936321686, True), (0.13443058195138624, True), (0.14396091220304563, True), (0.39053583201825537, True), (0.4701405544538405, True), (0.4750813497418306, True), (0.9749707911876626, True)]\n",
      "{0: 0.26007590296830996, 3: 0.06535576930747011, 4: 0.39053583201825537, 8: 0.32698966803710505, 9: 0.4701405544538405, 13: 0.7865606953380453, 16: 0.06213845985132105, 22: 0.9749707911876626, 23: 0.01344852659354323, 28: 0.13443058195138624, 29: 0.35085687318364533}\n",
      "[(0.01344852659354323, True), (0.06213845985132105, True), (0.06535576930747011, True), (0.13443058195138624, True), (0.26007590296830996, True), (0.32698966803710505, True), (0.35085687318364533, True), (0.39053583201825537, True), (0.4701405544538405, True), (0.7865606953380453, True), (0.9749707911876626, True)]\n",
      "{0: 0.26007590296830996, 1: 0.025108764960234065, 2: 0.7794248550875847, 3: 0.06535576930747011, 7: 0.28373087717599244, 10: 0.14396091220304563, 12: 0.011252934884437349, 14: 0.23774641022719845, 24: 0.4357194859005151, 25: 0.10101626037730527}\n",
      "[(0.011252934884437349, True), (0.025108764960234065, True), (0.06535576930747011, True), (0.10101626037730527, True), (0.14396091220304563, True), (0.23774641022719845, True), (0.26007590296830996, True), (0.28373087717599244, True), (0.4357194859005151, True), (0.7794248550875847, True)]\n",
      "{4: 0.39053583201825537, 6: 0.4750813497418306, 13: 0.7865606953380453, 14: 0.23774641022719845, 15: 0.3025060682498595, 17: 0.6765417509367857, 20: 0.062396516442944305, 22: 0.9749707911876626, 23: 0.01344852659354323, 24: 0.4357194859005151, 25: 0.10101626037730527, 29: 0.35085687318364533}\n",
      "[(0.01344852659354323, True), (0.062396516442944305, True), (0.10101626037730527, True), (0.23774641022719845, True), (0.3025060682498595, True), (0.35085687318364533, True), (0.39053583201825537, True), (0.4357194859005151, True), (0.4750813497418306, True), (0.6765417509367857, True), (0.7865606953380453, True), (0.9749707911876626, True)]\n",
      "{1: 0.025108764960234065, 4: 0.39053583201825537, 5: 0.39078214814075685, 6: 0.4750813497418306, 10: 0.14396091220304563, 11: 0.1325276748535804, 12: 0.011252934884437349, 15: 0.3025060682498595, 16: 0.06213845985132105, 20: 0.062396516442944305, 25: 0.10101626037730527, 29: 0.35085687318364533, 30: 0.3798192647954678}\n",
      "[(0.011252934884437349, True), (0.025108764960234065, True), (0.06213845985132105, True), (0.062396516442944305, True), (0.10101626037730527, True), (0.1325276748535804, True), (0.14396091220304563, True), (0.3025060682498595, True), (0.35085687318364533, True), (0.3798192647954678, True), (0.39053583201825537, True), (0.39078214814075685, True), (0.4750813497418306, True)]\n",
      "{0: 0.26007590296830996, 1: 0.025108764960234065, 2: 0.7794248550875847, 4: 0.39053583201825537, 7: 0.28373087717599244, 8: 0.32698966803710505, 11: 0.1325276748535804, 12: 0.011252934884437349, 14: 0.23774641022719845, 16: 0.06213845985132105, 18: 0.1060341936321686, 21: 0.6133823714057963, 23: 0.01344852659354323, 28: 0.13443058195138624}\n",
      "[(0.011252934884437349, True), (0.01344852659354323, True), (0.025108764960234065, True), (0.06213845985132105, True), (0.1060341936321686, True), (0.1325276748535804, True), (0.13443058195138624, True), (0.23774641022719845, True), (0.26007590296830996, True), (0.28373087717599244, True), (0.32698966803710505, True), (0.39053583201825537, True), (0.6133823714057963, True), (0.7794248550875847, True)]\n",
      "{4: 0.39053583201825537, 9: 0.4701405544538405, 14: 0.23774641022719845, 20: 0.062396516442944305, 21: 0.6133823714057963, 27: 0.12736458098960068, 30: 0.3798192647954678}\n",
      "[(0.062396516442944305, True), (0.12736458098960068, True), (0.23774641022719845, True), (0.3798192647954678, True), (0.39053583201825537, True), (0.4701405544538405, True), (0.6133823714057963, True)]\n",
      "{0: 0.26007590296830996, 3: 0.06535576930747011, 8: 0.32698966803710505, 12: 0.011252934884437349, 15: 0.3025060682498595, 17: 0.6765417509367857, 18: 0.1060341936321686, 20: 0.062396516442944305, 21: 0.6133823714057963, 23: 0.01344852659354323, 25: 0.10101626037730527, 29: 0.35085687318364533}\n",
      "[(0.011252934884437349, True), (0.01344852659354323, True), (0.062396516442944305, True), (0.06535576930747011, True), (0.10101626037730527, True), (0.1060341936321686, True), (0.26007590296830996, True), (0.3025060682498595, True), (0.32698966803710505, True), (0.35085687318364533, True), (0.6133823714057963, True), (0.6765417509367857, True)]\n",
      "{0: 0.26007590296830996, 2: 0.7794248550875847, 3: 0.06535576930747011, 7: 0.28373087717599244, 9: 0.4701405544538405, 11: 0.1325276748535804, 14: 0.23774641022719845, 15: 0.3025060682498595, 20: 0.062396516442944305, 21: 0.6133823714057963, 23: 0.01344852659354323, 25: 0.10101626037730527, 27: 0.12736458098960068, 29: 0.35085687318364533}\n",
      "[(0.01344852659354323, True), (0.062396516442944305, True), (0.06535576930747011, True), (0.10101626037730527, True), (0.12736458098960068, True), (0.1325276748535804, True), (0.23774641022719845, True), (0.26007590296830996, True), (0.28373087717599244, True), (0.3025060682498595, True), (0.35085687318364533, True), (0.4701405544538405, True), (0.6133823714057963, True), (0.7794248550875847, True)]\n",
      "{3: 0.06535576930747011, 10: 0.14396091220304563, 12: 0.011252934884437349, 14: 0.23774641022719845, 16: 0.06213845985132105, 17: 0.6765417509367857, 21: 0.6133823714057963, 22: 0.9749707911876626, 25: 0.10101626037730527, 26: 0.56454155474231, 29: 0.35085687318364533}\n",
      "[(0.011252934884437349, True), (0.06213845985132105, True), (0.06535576930747011, True), (0.10101626037730527, True), (0.14396091220304563, True), (0.23774641022719845, True), (0.35085687318364533, True), (0.56454155474231, True), (0.6133823714057963, True), (0.6765417509367857, True), (0.9749707911876626, True)]\n",
      "{9: 0.4701405544538405, 10: 0.14396091220304563, 11: 0.1325276748535804, 14: 0.23774641022719845, 17: 0.6765417509367857, 21: 0.6133823714057963, 23: 0.01344852659354323, 25: 0.10101626037730527, 27: 0.12736458098960068, 29: 0.35085687318364533}\n",
      "[(0.01344852659354323, True), (0.10101626037730527, True), (0.12736458098960068, True), (0.1325276748535804, True), (0.14396091220304563, True), (0.23774641022719845, True), (0.35085687318364533, True), (0.4701405544538405, True), (0.6133823714057963, True), (0.6765417509367857, True)]\n",
      "{1: 0.025108764960234065, 3: 0.06535576930747011, 6: 0.4750813497418306, 7: 0.28373087717599244, 8: 0.32698966803710505, 9: 0.4701405544538405, 10: 0.14396091220304563, 15: 0.3025060682498595, 19: 0.9249063847274569, 20: 0.062396516442944305, 26: 0.56454155474231, 28: 0.13443058195138624, 30: 0.3798192647954678}\n",
      "[(0.025108764960234065, True), (0.062396516442944305, True), (0.06535576930747011, True), (0.13443058195138624, True), (0.14396091220304563, True), (0.28373087717599244, True), (0.3025060682498595, True), (0.32698966803710505, True), (0.3798192647954678, True), (0.4701405544538405, True), (0.4750813497418306, True), (0.56454155474231, True), (0.9249063847274569, True)]\n",
      "{3: 0.06535576930747011, 5: 0.39078214814075685, 8: 0.32698966803710505, 9: 0.4701405544538405, 10: 0.14396091220304563, 11: 0.1325276748535804, 12: 0.011252934884437349, 18: 0.1060341936321686, 19: 0.9249063847274569, 21: 0.6133823714057963, 22: 0.9749707911876626, 29: 0.35085687318364533}\n",
      "[(0.011252934884437349, True), (0.06535576930747011, True), (0.1060341936321686, True), (0.1325276748535804, True), (0.14396091220304563, True), (0.32698966803710505, True), (0.35085687318364533, True), (0.39078214814075685, True), (0.4701405544538405, True), (0.6133823714057963, True), (0.9249063847274569, True), (0.9749707911876626, True)]\n",
      "{1: 0.025108764960234065, 2: 0.7794248550875847, 3: 0.06535576930747011, 6: 0.4750813497418306, 8: 0.32698966803710505, 9: 0.4701405544538405, 11: 0.1325276748535804, 12: 0.011252934884437349, 13: 0.7865606953380453, 15: 0.3025060682498595, 19: 0.9249063847274569, 23: 0.01344852659354323, 24: 0.4357194859005151, 25: 0.10101626037730527, 27: 0.12736458098960068}\n",
      "[(0.011252934884437349, True), (0.01344852659354323, True), (0.025108764960234065, True), (0.06535576930747011, True), (0.10101626037730527, True), (0.12736458098960068, True), (0.1325276748535804, True), (0.3025060682498595, True), (0.32698966803710505, True), (0.4357194859005151, True), (0.4701405544538405, True), (0.4750813497418306, True), (0.7794248550875847, True), (0.7865606953380453, True), (0.9249063847274569, True)]\n",
      "{0: 0.26007590296830996, 1: 0.025108764960234065, 5: 0.39078214814075685, 6: 0.4750813497418306, 10: 0.14396091220304563, 11: 0.1325276748535804, 14: 0.23774641022719845, 15: 0.3025060682498595, 16: 0.06213845985132105, 17: 0.6765417509367857, 20: 0.062396516442944305, 21: 0.6133823714057963, 24: 0.4357194859005151}\n",
      "[(0.025108764960234065, True), (0.06213845985132105, True), (0.062396516442944305, True), (0.1325276748535804, True), (0.14396091220304563, True), (0.23774641022719845, True), (0.26007590296830996, True), (0.3025060682498595, True), (0.39078214814075685, True), (0.4357194859005151, True), (0.4750813497418306, True), (0.6133823714057963, True), (0.6765417509367857, True)]\n",
      "{0: 0.26007590296830996, 7: 0.28373087717599244, 8: 0.32698966803710505, 9: 0.4701405544538405, 14: 0.23774641022719845, 15: 0.3025060682498595, 17: 0.6765417509367857, 23: 0.01344852659354323}\n",
      "[(0.01344852659354323, True), (0.23774641022719845, True), (0.26007590296830996, True), (0.28373087717599244, True), (0.3025060682498595, True), (0.32698966803710505, True), (0.4701405544538405, True), (0.6765417509367857, True)]\n",
      "{0: 0.26007590296830996, 1: 0.025108764960234065, 3: 0.06535576930747011, 9: 0.4701405544538405, 10: 0.14396091220304563, 12: 0.011252934884437349, 17: 0.6765417509367857, 18: 0.1060341936321686, 21: 0.6133823714057963, 25: 0.10101626037730527, 28: 0.13443058195138624, 29: 0.35085687318364533, 30: 0.3798192647954678}\n",
      "[(0.011252934884437349, True), (0.025108764960234065, True), (0.06535576930747011, True), (0.10101626037730527, True), (0.1060341936321686, True), (0.13443058195138624, True), (0.14396091220304563, True), (0.26007590296830996, True), (0.35085687318364533, True), (0.3798192647954678, True), (0.4701405544538405, True), (0.6133823714057963, True), (0.6765417509367857, True)]\n",
      "{4: 0.39053583201825537, 7: 0.28373087717599244, 9: 0.4701405544538405, 13: 0.7865606953380453, 15: 0.3025060682498595, 19: 0.9249063847274569, 22: 0.9749707911876626, 24: 0.4357194859005151, 25: 0.10101626037730527, 30: 0.3798192647954678}\n",
      "[(0.10101626037730527, True), (0.28373087717599244, True), (0.3025060682498595, True), (0.3798192647954678, True), (0.39053583201825537, True), (0.4357194859005151, True), (0.4701405544538405, True), (0.7865606953380453, True), (0.9249063847274569, True), (0.9749707911876626, True)]\n",
      "{3: 0.06535576930747011, 6: 0.4750813497418306, 9: 0.4701405544538405, 11: 0.1325276748535804, 14: 0.23774641022719845, 18: 0.1060341936321686, 20: 0.062396516442944305, 22: 0.9749707911876626, 26: 0.56454155474231, 30: 0.3798192647954678}\n",
      "[(0.062396516442944305, True), (0.06535576930747011, True), (0.1060341936321686, True), (0.1325276748535804, True), (0.23774641022719845, True), (0.3798192647954678, True), (0.4701405544538405, True), (0.4750813497418306, True), (0.56454155474231, True), (0.9749707911876626, True)]\n"
     ]
    },
    {
     "name": "stdout",
     "output_type": "stream",
     "text": [
      "{5: 0.39078214814075685, 7: 0.28373087717599244, 14: 0.23774641022719845, 17: 0.6765417509367857, 20: 0.062396516442944305, 26: 0.56454155474231}\n",
      "[(0.062396516442944305, True), (0.23774641022719845, True), (0.28373087717599244, True), (0.39078214814075685, True), (0.56454155474231, True), (0.6765417509367857, True)]\n",
      "{0: 0.26007590296830996, 4: 0.39053583201825537, 6: 0.4750813497418306, 7: 0.28373087717599244, 8: 0.32698966803710505, 11: 0.1325276748535804, 13: 0.7865606953380453, 15: 0.3025060682498595, 18: 0.1060341936321686, 26: 0.56454155474231, 27: 0.12736458098960068}\n",
      "[(0.1060341936321686, True), (0.12736458098960068, True), (0.1325276748535804, True), (0.26007590296830996, True), (0.28373087717599244, True), (0.3025060682498595, True), (0.32698966803710505, True), (0.39053583201825537, True), (0.4750813497418306, True), (0.56454155474231, True), (0.7865606953380453, True)]\n",
      "{3: 0.06535576930747011, 5: 0.39078214814075685, 6: 0.4750813497418306, 7: 0.28373087717599244, 8: 0.32698966803710505, 10: 0.14396091220304563, 13: 0.7865606953380453, 14: 0.23774641022719845, 16: 0.06213845985132105, 22: 0.9749707911876626, 23: 0.01344852659354323, 24: 0.4357194859005151}\n",
      "[(0.01344852659354323, True), (0.06213845985132105, True), (0.06535576930747011, True), (0.14396091220304563, True), (0.23774641022719845, True), (0.28373087717599244, True), (0.32698966803710505, True), (0.39078214814075685, True), (0.4357194859005151, True), (0.4750813497418306, True), (0.7865606953380453, True), (0.9749707911876626, True)]\n",
      "{2: 0.7794248550875847, 7: 0.28373087717599244, 10: 0.14396091220304563, 11: 0.1325276748535804, 14: 0.23774641022719845, 15: 0.3025060682498595, 16: 0.06213845985132105, 21: 0.6133823714057963, 22: 0.9749707911876626, 25: 0.10101626037730527, 30: 0.3798192647954678}\n",
      "[(0.06213845985132105, True), (0.10101626037730527, True), (0.1325276748535804, True), (0.14396091220304563, True), (0.23774641022719845, True), (0.28373087717599244, True), (0.3025060682498595, True), (0.3798192647954678, True), (0.6133823714057963, True), (0.7794248550875847, True), (0.9749707911876626, True)]\n",
      "{4: 0.39053583201825537, 8: 0.32698966803710505, 13: 0.7865606953380453, 14: 0.23774641022719845, 16: 0.06213845985132105, 17: 0.6765417509367857, 20: 0.062396516442944305, 24: 0.4357194859005151, 27: 0.12736458098960068, 28: 0.13443058195138624}\n",
      "[(0.06213845985132105, True), (0.062396516442944305, True), (0.12736458098960068, True), (0.13443058195138624, True), (0.23774641022719845, True), (0.32698966803710505, True), (0.39053583201825537, True), (0.4357194859005151, True), (0.6765417509367857, True), (0.7865606953380453, True)]\n",
      "{1: 0.025108764960234065, 2: 0.7794248550875847, 3: 0.06535576930747011, 5: 0.39078214814075685, 8: 0.32698966803710505, 9: 0.4701405544538405, 10: 0.14396091220304563, 12: 0.011252934884437349, 13: 0.7865606953380453, 14: 0.23774641022719845, 22: 0.9749707911876626, 24: 0.4357194859005151, 28: 0.13443058195138624, 29: 0.35085687318364533, 30: 0.3798192647954678}\n",
      "[(0.011252934884437349, True), (0.025108764960234065, True), (0.06535576930747011, True), (0.13443058195138624, True), (0.14396091220304563, True), (0.23774641022719845, True), (0.32698966803710505, True), (0.35085687318364533, True), (0.3798192647954678, True), (0.39078214814075685, True), (0.4357194859005151, True), (0.4701405544538405, True), (0.7794248550875847, True), (0.7865606953380453, True), (0.9749707911876626, True)]\n",
      "{2: 0.7794248550875847, 3: 0.06535576930747011, 6: 0.4750813497418306, 11: 0.1325276748535804, 12: 0.011252934884437349, 14: 0.23774641022719845, 16: 0.06213845985132105, 20: 0.062396516442944305, 22: 0.9749707911876626, 23: 0.01344852659354323, 24: 0.4357194859005151, 25: 0.10101626037730527, 28: 0.13443058195138624, 29: 0.35085687318364533}\n",
      "[(0.011252934884437349, True), (0.01344852659354323, True), (0.06213845985132105, True), (0.062396516442944305, True), (0.06535576930747011, True), (0.10101626037730527, True), (0.1325276748535804, True), (0.13443058195138624, True), (0.23774641022719845, True), (0.35085687318364533, True), (0.4357194859005151, True), (0.4750813497418306, True), (0.7794248550875847, True), (0.9749707911876626, True)]\n",
      "{0: 0.26007590296830996, 6: 0.4750813497418306, 7: 0.28373087717599244, 13: 0.7865606953380453, 18: 0.1060341936321686, 21: 0.6133823714057963, 24: 0.4357194859005151, 30: 0.3798192647954678}\n",
      "[(0.1060341936321686, True), (0.26007590296830996, True), (0.28373087717599244, True), (0.3798192647954678, True), (0.4357194859005151, True), (0.4750813497418306, True), (0.6133823714057963, True), (0.7865606953380453, True)]\n",
      "{5: 0.39078214814075685, 6: 0.4750813497418306, 14: 0.23774641022719845, 18: 0.1060341936321686, 19: 0.9249063847274569, 23: 0.01344852659354323, 24: 0.4357194859005151}\n",
      "[(0.01344852659354323, True), (0.1060341936321686, True), (0.23774641022719845, True), (0.39078214814075685, True), (0.4357194859005151, True), (0.4750813497418306, True), (0.9249063847274569, True)]\n",
      "{1: 0.025108764960234065, 2: 0.7794248550875847, 7: 0.28373087717599244, 12: 0.011252934884437349, 13: 0.7865606953380453, 14: 0.23774641022719845, 17: 0.6765417509367857, 18: 0.1060341936321686, 19: 0.9249063847274569, 22: 0.9749707911876626, 23: 0.01344852659354323, 25: 0.10101626037730527, 26: 0.56454155474231}\n",
      "[(0.011252934884437349, True), (0.01344852659354323, True), (0.025108764960234065, True), (0.10101626037730527, True), (0.1060341936321686, True), (0.23774641022719845, True), (0.28373087717599244, True), (0.56454155474231, True), (0.6765417509367857, True), (0.7794248550875847, True), (0.7865606953380453, True), (0.9249063847274569, True), (0.9749707911876626, True)]\n",
      "{0: 0.26007590296830996, 2: 0.7794248550875847, 5: 0.39078214814075685, 9: 0.4701405544538405, 11: 0.1325276748535804, 12: 0.011252934884437349, 17: 0.6765417509367857, 25: 0.10101626037730527, 26: 0.56454155474231, 27: 0.12736458098960068}\n",
      "[(0.011252934884437349, True), (0.10101626037730527, True), (0.12736458098960068, True), (0.1325276748535804, True), (0.26007590296830996, True), (0.39078214814075685, True), (0.4701405544538405, True), (0.56454155474231, True), (0.6765417509367857, True), (0.7794248550875847, True)]\n",
      "{1: 0.025108764960234065, 2: 0.7794248550875847, 3: 0.06535576930747011, 4: 0.39053583201825537, 7: 0.28373087717599244, 8: 0.32698966803710505, 13: 0.7865606953380453, 14: 0.23774641022719845, 15: 0.3025060682498595, 17: 0.6765417509367857, 19: 0.9249063847274569, 20: 0.062396516442944305, 22: 0.9749707911876626, 23: 0.01344852659354323, 24: 0.4357194859005151, 27: 0.12736458098960068, 29: 0.35085687318364533}\n",
      "[(0.01344852659354323, True), (0.025108764960234065, True), (0.062396516442944305, True), (0.06535576930747011, True), (0.12736458098960068, True), (0.23774641022719845, True), (0.28373087717599244, True), (0.3025060682498595, True), (0.32698966803710505, True), (0.35085687318364533, True), (0.39053583201825537, True), (0.4357194859005151, True), (0.6765417509367857, True), (0.7794248550875847, True), (0.7865606953380453, True), (0.9249063847274569, True), (0.9749707911876626, True)]\n",
      "{1: 0.025108764960234065, 3: 0.06535576930747011, 5: 0.39078214814075685, 7: 0.28373087717599244, 12: 0.011252934884437349, 15: 0.3025060682498595, 17: 0.6765417509367857, 18: 0.1060341936321686, 21: 0.6133823714057963, 25: 0.10101626037730527, 27: 0.12736458098960068, 28: 0.13443058195138624, 30: 0.3798192647954678}\n",
      "[(0.011252934884437349, True), (0.025108764960234065, True), (0.06535576930747011, True), (0.10101626037730527, True), (0.1060341936321686, True), (0.12736458098960068, True), (0.13443058195138624, True), (0.28373087717599244, True), (0.3025060682498595, True), (0.3798192647954678, True), (0.39078214814075685, True), (0.6133823714057963, True), (0.6765417509367857, True)]\n",
      "{0: 0.26007590296830996, 1: 0.025108764960234065, 2: 0.7794248550875847, 5: 0.39078214814075685, 8: 0.32698966803710505, 11: 0.1325276748535804, 13: 0.7865606953380453, 14: 0.23774641022719845, 16: 0.06213845985132105, 17: 0.6765417509367857, 20: 0.062396516442944305, 21: 0.6133823714057963, 22: 0.9749707911876626, 23: 0.01344852659354323, 27: 0.12736458098960068, 30: 0.3798192647954678}\n",
      "[(0.01344852659354323, True), (0.025108764960234065, True), (0.06213845985132105, True), (0.062396516442944305, True), (0.12736458098960068, True), (0.1325276748535804, True), (0.23774641022719845, True), (0.26007590296830996, True), (0.32698966803710505, True), (0.3798192647954678, True), (0.39078214814075685, True), (0.6133823714057963, True), (0.6765417509367857, True), (0.7794248550875847, True), (0.7865606953380453, True), (0.9749707911876626, True)]\n",
      "{1: 0.025108764960234065, 4: 0.39053583201825537, 9: 0.4701405544538405, 10: 0.14396091220304563, 11: 0.1325276748535804, 12: 0.011252934884437349, 17: 0.6765417509367857, 19: 0.9249063847274569, 21: 0.6133823714057963, 22: 0.9749707911876626, 26: 0.56454155474231, 27: 0.12736458098960068, 29: 0.35085687318364533, 30: 0.3798192647954678}\n",
      "[(0.011252934884437349, True), (0.025108764960234065, True), (0.12736458098960068, True), (0.1325276748535804, True), (0.14396091220304563, True), (0.35085687318364533, True), (0.3798192647954678, True), (0.39053583201825537, True), (0.4701405544538405, True), (0.56454155474231, True), (0.6133823714057963, True), (0.6765417509367857, True), (0.9249063847274569, True), (0.9749707911876626, True)]\n",
      "{2: 0.7794248550875847, 4: 0.39053583201825537, 5: 0.39078214814075685, 9: 0.4701405544538405, 10: 0.14396091220304563, 13: 0.7865606953380453, 14: 0.23774641022719845, 19: 0.9249063847274569, 22: 0.9749707911876626, 24: 0.4357194859005151, 25: 0.10101626037730527}\n",
      "[(0.10101626037730527, True), (0.14396091220304563, True), (0.23774641022719845, True), (0.39053583201825537, True), (0.39078214814075685, True), (0.4357194859005151, True), (0.4701405544538405, True), (0.7794248550875847, True), (0.7865606953380453, True), (0.9249063847274569, True), (0.9749707911876626, True)]\n",
      "{0: 0.26007590296830996, 1: 0.025108764960234065, 4: 0.39053583201825537, 9: 0.4701405544538405, 15: 0.3025060682498595, 16: 0.06213845985132105, 18: 0.1060341936321686, 19: 0.9249063847274569, 21: 0.6133823714057963, 22: 0.9749707911876626, 29: 0.35085687318364533, 30: 0.3798192647954678}\n",
      "[(0.025108764960234065, True), (0.06213845985132105, True), (0.1060341936321686, True), (0.26007590296830996, True), (0.3025060682498595, True), (0.35085687318364533, True), (0.3798192647954678, True), (0.39053583201825537, True), (0.4701405544538405, True), (0.6133823714057963, True), (0.9249063847274569, True), (0.9749707911876626, True)]\n",
      "{2: 0.7794248550875847, 3: 0.06535576930747011, 7: 0.28373087717599244, 19: 0.9249063847274569, 23: 0.01344852659354323, 29: 0.35085687318364533}\n",
      "[(0.01344852659354323, True), (0.06535576930747011, True), (0.28373087717599244, True), (0.35085687318364533, True), (0.7794248550875847, True), (0.9249063847274569, True)]\n",
      "{2: 0.7794248550875847, 5: 0.39078214814075685, 6: 0.4750813497418306, 9: 0.4701405544538405, 10: 0.14396091220304563, 13: 0.7865606953380453, 16: 0.06213845985132105, 17: 0.6765417509367857, 22: 0.9749707911876626, 24: 0.4357194859005151, 28: 0.13443058195138624, 29: 0.35085687318364533, 30: 0.3798192647954678}\n",
      "[(0.06213845985132105, True), (0.13443058195138624, True), (0.14396091220304563, True), (0.35085687318364533, True), (0.3798192647954678, True), (0.39078214814075685, True), (0.4357194859005151, True), (0.4701405544538405, True), (0.4750813497418306, True), (0.6765417509367857, True), (0.7794248550875847, True), (0.7865606953380453, True), (0.9749707911876626, True)]\n",
      "{0: 0.26007590296830996, 6: 0.4750813497418306, 8: 0.32698966803710505, 9: 0.4701405544538405, 10: 0.14396091220304563, 12: 0.011252934884437349, 14: 0.23774641022719845, 15: 0.3025060682498595, 19: 0.9249063847274569, 23: 0.01344852659354323, 25: 0.10101626037730527, 27: 0.12736458098960068, 30: 0.3798192647954678}\n",
      "[(0.011252934884437349, True), (0.01344852659354323, True), (0.10101626037730527, True), (0.12736458098960068, True), (0.14396091220304563, True), (0.23774641022719845, True), (0.26007590296830996, True), (0.3025060682498595, True), (0.32698966803710505, True), (0.3798192647954678, True), (0.4701405544538405, True), (0.4750813497418306, True), (0.9249063847274569, True)]\n",
      "{0: 0.26007590296830996, 1: 0.025108764960234065, 12: 0.011252934884437349, 14: 0.23774641022719845, 15: 0.3025060682498595, 19: 0.9249063847274569, 30: 0.3798192647954678}\n",
      "[(0.011252934884437349, True), (0.025108764960234065, True), (0.23774641022719845, True), (0.26007590296830996, True), (0.3025060682498595, True), (0.3798192647954678, True), (0.9249063847274569, True)]\n",
      "{0: 0.26007590296830996, 1: 0.025108764960234065, 3: 0.06535576930747011, 5: 0.39078214814075685, 6: 0.4750813497418306, 7: 0.28373087717599244, 9: 0.4701405544538405, 13: 0.7865606953380453, 15: 0.3025060682498595, 17: 0.6765417509367857, 20: 0.062396516442944305, 25: 0.10101626037730527, 26: 0.56454155474231, 28: 0.13443058195138624, 29: 0.35085687318364533}\n",
      "[(0.025108764960234065, True), (0.062396516442944305, True), (0.06535576930747011, True), (0.10101626037730527, True), (0.13443058195138624, True), (0.26007590296830996, True), (0.28373087717599244, True), (0.3025060682498595, True), (0.35085687318364533, True), (0.39078214814075685, True), (0.4701405544538405, True), (0.4750813497418306, True), (0.56454155474231, True), (0.6765417509367857, True), (0.7865606953380453, True)]\n",
      "{3: 0.06535576930747011, 8: 0.32698966803710505, 13: 0.7865606953380453, 15: 0.3025060682498595, 25: 0.10101626037730527, 26: 0.56454155474231}\n",
      "[(0.06535576930747011, True), (0.10101626037730527, True), (0.3025060682498595, True), (0.32698966803710505, True), (0.56454155474231, True), (0.7865606953380453, True)]\n",
      "{0: 0.26007590296830996, 3: 0.06535576930747011, 14: 0.23774641022719845, 15: 0.3025060682498595, 17: 0.6765417509367857, 18: 0.1060341936321686, 20: 0.062396516442944305, 22: 0.9749707911876626, 24: 0.4357194859005151, 25: 0.10101626037730527, 30: 0.3798192647954678}\n",
      "[(0.062396516442944305, True), (0.06535576930747011, True), (0.10101626037730527, True), (0.1060341936321686, True), (0.23774641022719845, True), (0.26007590296830996, True), (0.3025060682498595, True), (0.3798192647954678, True), (0.4357194859005151, True), (0.6765417509367857, True), (0.9749707911876626, True)]\n",
      "{0: 0.26007590296830996, 1: 0.025108764960234065, 2: 0.7794248550875847, 3: 0.06535576930747011, 5: 0.39078214814075685, 8: 0.32698966803710505, 17: 0.6765417509367857, 21: 0.6133823714057963, 28: 0.13443058195138624}\n",
      "[(0.025108764960234065, True), (0.06535576930747011, True), (0.13443058195138624, True), (0.26007590296830996, True), (0.32698966803710505, True), (0.39078214814075685, True), (0.6133823714057963, True), (0.6765417509367857, True), (0.7794248550875847, True)]\n",
      "{0: 0.26007590296830996, 1: 0.025108764960234065, 4: 0.39053583201825537, 6: 0.4750813497418306, 7: 0.28373087717599244, 9: 0.4701405544538405, 10: 0.14396091220304563, 11: 0.1325276748535804, 13: 0.7865606953380453, 15: 0.3025060682498595, 16: 0.06213845985132105, 18: 0.1060341936321686, 23: 0.01344852659354323, 29: 0.35085687318364533, 30: 0.3798192647954678}\n",
      "[(0.01344852659354323, True), (0.025108764960234065, True), (0.06213845985132105, True), (0.1060341936321686, True), (0.1325276748535804, True), (0.14396091220304563, True), (0.26007590296830996, True), (0.28373087717599244, True), (0.3025060682498595, True), (0.35085687318364533, True), (0.3798192647954678, True), (0.39053583201825537, True), (0.4701405544538405, True), (0.4750813497418306, True), (0.7865606953380453, True)]\n",
      "{0: 0.26007590296830996, 1: 0.025108764960234065, 2: 0.7794248550875847, 3: 0.06535576930747011, 5: 0.39078214814075685, 6: 0.4750813497418306, 8: 0.32698966803710505, 9: 0.4701405544538405, 14: 0.23774641022719845, 15: 0.3025060682498595, 22: 0.9749707911876626, 24: 0.4357194859005151, 25: 0.10101626037730527, 26: 0.56454155474231, 27: 0.12736458098960068, 30: 0.3798192647954678}\n",
      "[(0.025108764960234065, True), (0.06535576930747011, True), (0.10101626037730527, True), (0.12736458098960068, True), (0.23774641022719845, True), (0.26007590296830996, True), (0.3025060682498595, True), (0.32698966803710505, True), (0.3798192647954678, True), (0.39078214814075685, True), (0.4357194859005151, True), (0.4701405544538405, True), (0.4750813497418306, True), (0.56454155474231, True), (0.7794248550875847, True), (0.9749707911876626, True)]\n",
      "{0: 0.26007590296830996, 6: 0.4750813497418306, 7: 0.28373087717599244, 9: 0.4701405544538405, 10: 0.14396091220304563, 12: 0.011252934884437349, 13: 0.7865606953380453, 16: 0.06213845985132105, 18: 0.1060341936321686, 19: 0.9249063847274569, 20: 0.062396516442944305, 24: 0.4357194859005151, 26: 0.56454155474231, 27: 0.12736458098960068, 28: 0.13443058195138624, 29: 0.35085687318364533}\n",
      "[(0.011252934884437349, True), (0.06213845985132105, True), (0.062396516442944305, True), (0.1060341936321686, True), (0.12736458098960068, True), (0.13443058195138624, True), (0.14396091220304563, True), (0.26007590296830996, True), (0.28373087717599244, True), (0.35085687318364533, True), (0.4357194859005151, True), (0.4701405544538405, True), (0.4750813497418306, True), (0.56454155474231, True), (0.7865606953380453, True), (0.9249063847274569, True)]\n",
      "{5: 0.39078214814075685, 7: 0.28373087717599244, 15: 0.3025060682498595, 16: 0.06213845985132105, 18: 0.1060341936321686, 20: 0.062396516442944305, 24: 0.4357194859005151, 25: 0.10101626037730527, 26: 0.56454155474231, 29: 0.35085687318364533, 30: 0.3798192647954678}\n",
      "[(0.06213845985132105, True), (0.062396516442944305, True), (0.10101626037730527, True), (0.1060341936321686, True), (0.28373087717599244, True), (0.3025060682498595, True), (0.35085687318364533, True), (0.3798192647954678, True), (0.39078214814075685, True), (0.4357194859005151, True), (0.56454155474231, True)]\n",
      "{1: 0.025108764960234065, 6: 0.4750813497418306, 8: 0.32698966803710505, 18: 0.1060341936321686, 27: 0.12736458098960068}\n",
      "[(0.025108764960234065, True), (0.1060341936321686, True), (0.12736458098960068, True), (0.32698966803710505, True), (0.4750813497418306, True)]\n"
     ]
    },
    {
     "name": "stdout",
     "output_type": "stream",
     "text": [
      "{0: 0.26007590296830996, 3: 0.06535576930747011, 8: 0.32698966803710505, 15: 0.3025060682498595, 16: 0.06213845985132105, 17: 0.6765417509367857, 18: 0.1060341936321686, 19: 0.9249063847274569, 21: 0.6133823714057963, 22: 0.9749707911876626, 23: 0.01344852659354323, 24: 0.4357194859005151, 25: 0.10101626037730527, 27: 0.12736458098960068, 29: 0.35085687318364533}\n",
      "[(0.01344852659354323, True), (0.06213845985132105, True), (0.06535576930747011, True), (0.10101626037730527, True), (0.1060341936321686, True), (0.12736458098960068, True), (0.26007590296830996, True), (0.3025060682498595, True), (0.32698966803710505, True), (0.35085687318364533, True), (0.4357194859005151, True), (0.6133823714057963, True), (0.6765417509367857, True), (0.9249063847274569, True), (0.9749707911876626, True)]\n",
      "{6: 0.4750813497418306, 7: 0.28373087717599244, 8: 0.32698966803710505, 10: 0.14396091220304563, 14: 0.23774641022719845, 16: 0.06213845985132105, 22: 0.9749707911876626, 26: 0.56454155474231}\n",
      "[(0.06213845985132105, True), (0.14396091220304563, True), (0.23774641022719845, True), (0.28373087717599244, True), (0.32698966803710505, True), (0.4750813497418306, True), (0.56454155474231, True), (0.9749707911876626, True)]\n",
      "{0: 0.26007590296830996, 2: 0.7794248550875847, 5: 0.39078214814075685, 7: 0.28373087717599244, 9: 0.4701405544538405, 13: 0.7865606953380453, 14: 0.23774641022719845, 15: 0.3025060682498595, 16: 0.06213845985132105, 24: 0.4357194859005151, 25: 0.10101626037730527, 29: 0.35085687318364533, 30: 0.3798192647954678}\n",
      "[(0.06213845985132105, True), (0.10101626037730527, True), (0.23774641022719845, True), (0.26007590296830996, True), (0.28373087717599244, True), (0.3025060682498595, True), (0.35085687318364533, True), (0.3798192647954678, True), (0.39078214814075685, True), (0.4357194859005151, True), (0.4701405544538405, True), (0.7794248550875847, True), (0.7865606953380453, True)]\n",
      "{1: 0.025108764960234065, 2: 0.7794248550875847, 5: 0.39078214814075685, 7: 0.28373087717599244, 8: 0.32698966803710505, 13: 0.7865606953380453, 15: 0.3025060682498595, 19: 0.9249063847274569, 20: 0.062396516442944305, 21: 0.6133823714057963, 23: 0.01344852659354323, 25: 0.10101626037730527, 27: 0.12736458098960068, 28: 0.13443058195138624}\n",
      "[(0.01344852659354323, True), (0.025108764960234065, True), (0.062396516442944305, True), (0.10101626037730527, True), (0.12736458098960068, True), (0.13443058195138624, True), (0.28373087717599244, True), (0.3025060682498595, True), (0.32698966803710505, True), (0.39078214814075685, True), (0.6133823714057963, True), (0.7794248550875847, True), (0.7865606953380453, True), (0.9249063847274569, True)]\n",
      "{2: 0.7794248550875847, 4: 0.39053583201825537, 7: 0.28373087717599244, 13: 0.7865606953380453, 14: 0.23774641022719845, 16: 0.06213845985132105, 18: 0.1060341936321686, 22: 0.9749707911876626, 23: 0.01344852659354323, 26: 0.56454155474231, 27: 0.12736458098960068}\n",
      "[(0.01344852659354323, True), (0.06213845985132105, True), (0.1060341936321686, True), (0.12736458098960068, True), (0.23774641022719845, True), (0.28373087717599244, True), (0.39053583201825537, True), (0.56454155474231, True), (0.7794248550875847, True), (0.7865606953380453, True), (0.9749707911876626, True)]\n",
      "{1: 0.025108764960234065, 6: 0.4750813497418306, 8: 0.32698966803710505, 9: 0.4701405544538405, 17: 0.6765417509367857, 19: 0.9249063847274569, 20: 0.062396516442944305, 21: 0.6133823714057963, 22: 0.9749707911876626, 29: 0.35085687318364533}\n",
      "[(0.025108764960234065, True), (0.062396516442944305, True), (0.32698966803710505, True), (0.35085687318364533, True), (0.4701405544538405, True), (0.4750813497418306, True), (0.6133823714057963, True), (0.6765417509367857, True), (0.9249063847274569, True), (0.9749707911876626, True)]\n",
      "{4: 0.39053583201825537, 5: 0.39078214814075685, 6: 0.4750813497418306, 7: 0.28373087717599244, 9: 0.4701405544538405, 11: 0.1325276748535804, 16: 0.06213845985132105, 17: 0.6765417509367857, 19: 0.9249063847274569, 20: 0.062396516442944305}\n",
      "[(0.06213845985132105, True), (0.062396516442944305, True), (0.1325276748535804, True), (0.28373087717599244, True), (0.39053583201825537, True), (0.39078214814075685, True), (0.4701405544538405, True), (0.4750813497418306, True), (0.6765417509367857, True), (0.9249063847274569, True)]\n",
      "{1: 0.025108764960234065, 2: 0.7794248550875847, 7: 0.28373087717599244, 9: 0.4701405544538405, 10: 0.14396091220304563, 17: 0.6765417509367857, 20: 0.062396516442944305, 29: 0.35085687318364533}\n",
      "[(0.025108764960234065, True), (0.062396516442944305, True), (0.14396091220304563, True), (0.28373087717599244, True), (0.35085687318364533, True), (0.4701405544538405, True), (0.6765417509367857, True), (0.7794248550875847, True)]\n",
      "{2: 0.7794248550875847, 3: 0.06535576930747011, 8: 0.32698966803710505, 11: 0.1325276748535804, 14: 0.23774641022719845, 15: 0.3025060682498595, 19: 0.9249063847274569, 25: 0.10101626037730527}\n",
      "[(0.06535576930747011, True), (0.10101626037730527, True), (0.1325276748535804, True), (0.23774641022719845, True), (0.3025060682498595, True), (0.32698966803710505, True), (0.7794248550875847, True), (0.9249063847274569, True)]\n",
      "{1: 0.025108764960234065, 2: 0.7794248550875847, 4: 0.39053583201825537, 5: 0.39078214814075685, 7: 0.28373087717599244, 9: 0.4701405544538405, 17: 0.6765417509367857, 18: 0.1060341936321686, 24: 0.4357194859005151, 26: 0.56454155474231, 29: 0.35085687318364533}\n",
      "[(0.025108764960234065, True), (0.1060341936321686, True), (0.28373087717599244, True), (0.35085687318364533, True), (0.39053583201825537, True), (0.39078214814075685, True), (0.4357194859005151, True), (0.4701405544538405, True), (0.56454155474231, True), (0.6765417509367857, True), (0.7794248550875847, True)]\n",
      "{0: 0.26007590296830996, 1: 0.025108764960234065, 2: 0.7794248550875847, 6: 0.4750813497418306, 7: 0.28373087717599244, 13: 0.7865606953380453, 14: 0.23774641022719845, 24: 0.4357194859005151, 26: 0.56454155474231, 27: 0.12736458098960068, 28: 0.13443058195138624, 30: 0.3798192647954678}\n",
      "[(0.025108764960234065, True), (0.12736458098960068, True), (0.13443058195138624, True), (0.23774641022719845, True), (0.26007590296830996, True), (0.28373087717599244, True), (0.3798192647954678, True), (0.4357194859005151, True), (0.4750813497418306, True), (0.56454155474231, True), (0.7794248550875847, True), (0.7865606953380453, True)]\n",
      "{1: 0.025108764960234065, 10: 0.14396091220304563, 11: 0.1325276748535804, 17: 0.6765417509367857, 24: 0.4357194859005151, 25: 0.10101626037730527, 28: 0.13443058195138624}\n",
      "[(0.025108764960234065, True), (0.10101626037730527, True), (0.1325276748535804, True), (0.13443058195138624, True), (0.14396091220304563, True), (0.4357194859005151, True), (0.6765417509367857, True)]\n",
      "{3: 0.06535576930747011, 5: 0.39078214814075685, 6: 0.4750813497418306, 10: 0.14396091220304563, 11: 0.1325276748535804, 13: 0.7865606953380453, 14: 0.23774641022719845, 18: 0.1060341936321686, 20: 0.062396516442944305, 21: 0.6133823714057963, 23: 0.01344852659354323, 24: 0.4357194859005151, 28: 0.13443058195138624, 29: 0.35085687318364533}\n",
      "[(0.01344852659354323, True), (0.062396516442944305, True), (0.06535576930747011, True), (0.1060341936321686, True), (0.1325276748535804, True), (0.13443058195138624, True), (0.14396091220304563, True), (0.23774641022719845, True), (0.35085687318364533, True), (0.39078214814075685, True), (0.4357194859005151, True), (0.4750813497418306, True), (0.6133823714057963, True), (0.7865606953380453, True)]\n",
      "{2: 0.7794248550875847, 5: 0.39078214814075685, 6: 0.4750813497418306, 8: 0.32698966803710505, 10: 0.14396091220304563, 14: 0.23774641022719845, 15: 0.3025060682498595, 18: 0.1060341936321686, 22: 0.9749707911876626, 26: 0.56454155474231, 27: 0.12736458098960068, 30: 0.3798192647954678}\n",
      "[(0.1060341936321686, True), (0.12736458098960068, True), (0.14396091220304563, True), (0.23774641022719845, True), (0.3025060682498595, True), (0.32698966803710505, True), (0.3798192647954678, True), (0.39078214814075685, True), (0.4750813497418306, True), (0.56454155474231, True), (0.7794248550875847, True), (0.9749707911876626, True)]\n",
      "Matroid 3/3 completed in 0.76s\n"
     ]
    }
   ],
   "source": [
    "# Experiment 1: 100 graphic matroids, size 101\n",
    "random.seed(int(1001))\n",
    "results1 = evaluate(GraphicRandomMatroid(n=31), num_matroids=3, num_trials=100)"
   ]
  },
  {
   "cell_type": "code",
   "execution_count": 196,
   "id": "f821f105",
   "metadata": {},
   "outputs": [
    {
     "data": {
      "image/png": "[encoded data removed]",
      "text/plain": [
       "<Figure size 432x288 with 1 Axes>"
      ]
     },
     "metadata": {
      "needs_background": "light"
     },
     "output_type": "display_data"
    }
   ],
   "source": [
    "plot([0.586, 0.599, 0.595, 0.599, 0.589])"
   ]
  },
  {
   "cell_type": "code",
   "execution_count": 220,
   "id": "ad125f62",
   "metadata": {
    "scrolled": true
   },
   "outputs": [
    {
     "data": {
      "image/png": "[encoded data removed]",
      "text/plain": [
       "<Figure size 432x288 with 1 Axes>"
      ]
     },
     "metadata": {
      "needs_background": "light"
     },
     "output_type": "display_data"
    },
    {
     "name": "stdout",
     "output_type": "stream",
     "text": [
      "[0.23, 0.29, 0.28]\n"
     ]
    }
   ],
   "source": [
    "plot(results1)\n",
    "print(results1)"
   ]
  },
  {
   "cell_type": "code",
   "execution_count": 216,
   "id": "f07b4900",
   "metadata": {},
   "outputs": [
    {
     "name": "stdout",
     "output_type": "stream",
     "text": [
      "Matroid 1/5 completed in 179.54s\n",
      "Matroid 2/5 completed in 191.72s\n",
      "Matroid 3/5 completed in 186.53s\n",
      "Matroid 4/5 completed in 197.52s\n",
      "Matroid 5/5 completed in 205.53s\n"
     ]
    }
   ],
   "source": [
    "# Experiment 2: 5 Transversal Matroids on a bipartite graph with nodes on left = 25, \n",
    "# nodes on right = 25, and edge inclusion probability 0.2\n",
    "random.seed(int(1002))\n",
    "results2 = evaluate(TransversalRandomMatroid(25, 25, 0.2), num_matroids=5, num_trials=1000)"
   ]
  },
  {
   "cell_type": "code",
   "execution_count": 217,
   "id": "5b25ac4b",
   "metadata": {},
   "outputs": [
    {
     "data": {
      "image/png": "[encoded data removed]",
      "text/plain": [
       "<Figure size 432x288 with 1 Axes>"
      ]
     },
     "metadata": {
      "needs_background": "light"
     },
     "output_type": "display_data"
    },
    {
     "name": "stdout",
     "output_type": "stream",
     "text": [
      "[0.586, 0.599, 0.595, 0.599, 0.589]\n"
     ]
    }
   ],
   "source": [
    "plot(results2)\n",
    "print(results2)"
   ]
  },
  {
   "cell_type": "code",
   "execution_count": null,
   "id": "05bceaa8",
   "metadata": {},
   "outputs": [
    {
     "name": "stdout",
     "output_type": "stream",
     "text": [
      "Matroid 1/5 completed in 9119.76s\n",
      "Matroid 2/5 completed in 3773.59s\n",
      "Matroid 3/5 completed in 4677.09s\n"
     ]
    }
   ],
   "source": [
    "# Experiment 3: 5 Transversal Matroids on a bipartite graph with nodes on left = 25, \n",
    "# nodes on right = 25, and edge inclusion probability 0.5\n",
    "random.seed(int(1004))\n",
    "results3 = evaluate(TransversalRandomMatroid(50, 25, 0.5), num_matroids=5, num_trials=1000)"
   ]
  },
  {
   "cell_type": "code",
   "execution_count": null,
   "id": "327ffa64",
   "metadata": {},
   "outputs": [],
   "source": [
    "plot(results3)\n",
    "print(results3)"
   ]
  },
  {
   "cell_type": "code",
   "execution_count": 148,
   "id": "c3b45992",
   "metadata": {
    "scrolled": true
   },
   "outputs": [
    {
     "name": "stdout",
     "output_type": "stream",
     "text": [
      "[1.0, 0, 1.0, 1.0, 0, 1.0, 0, 1.0, 0, 1.0, 0, 0, 0, 0, 0, 0, 0, 0, 0, 1.0, 1.0, 1.0, 0, 1.0, 1.0]\n",
      "Matroid 1/5 completed in 3.27s\n",
      "[0, 0, 0, 0, 1.0, 0, 1.0, 1.0, 0, 1.0, 0, 0, 0, 0, 0, 1.0, 1.0, 0, 1.0, 0, 1.0, 1.0, 1.0, 0, 1.0]\n",
      "Matroid 2/5 completed in 3.04s\n",
      "[1.0, 0, 0, 0, 1.0, 1.0, 1.0, 0, 0, 1.0, 0, 0, 1.0, 1.0, 1.0, 1.0, 0, 1.0, 0, 1.0, 0, 0, 1.0, 1.0, 0]\n",
      "Matroid 3/5 completed in 2.38s\n",
      "[0, 1.0, 1.0, 1.0, 0, 1.0, 0, 1.0, 0, 1.0, 0, 0, 1.0, 1.0, 1.0, 1.0, 0, 0, 1.0, 1.0, 0, 1.0, 1.0, 0, 1.0]\n",
      "Matroid 4/5 completed in 3.01s\n",
      "[0, 1.0, 0, 1.0, 1.0, 1.0, 0, 1.0, 0, 0, 0, 0, 1.0, 1.0, 1.0, 1.0, 0, 0, 1.0, 0, 0, 1.0, 1.0, 1.0, 1.0]\n",
      "Matroid 5/5 completed in 2.96s\n"
     ]
    }
   ],
   "source": [
    "# Experiment 4: 5 Transversal Matroids on a bipartite graph with nodes on left = 50, \n",
    "# nodes on right = 25, and edge inclusion probability 0.3\n",
    "random.seed(int(1004))\n",
    "results4 = evaluate(TransversalRandomMatroid(50, 25, 0.3), num_matroids=5, num_trials=1000)"
   ]
  },
  {
   "cell_type": "code",
   "execution_count": null,
   "id": "611695a8",
   "metadata": {},
   "outputs": [],
   "source": [
    "plot(results4)\n",
    "print(results4)"
   ]
  },
  {
   "cell_type": "code",
   "execution_count": null,
   "id": "28a93d68",
   "metadata": {},
   "outputs": [],
   "source": [
    "# Experiment 5: 5 Transversal Matroids on a bipartite graph with nodes on left = 25, \n",
    "# nodes on right = 50, and edge inclusion probability 0.5\n",
    "random.seed(int(1005))\n",
    "results5 = evaluate(TransversalRandomMatroid(50, 25, 0.3), num_matroids=5, num_trials=1000)"
   ]
  },
  {
   "cell_type": "code",
   "execution_count": null,
   "id": "aff09f11",
   "metadata": {},
   "outputs": [],
   "source": [
    "plot(results5)\n",
    "print(results5)"
   ]
  },
  {
   "cell_type": "code",
   "execution_count": null,
   "id": "e0b3b02f",
   "metadata": {},
   "outputs": [],
   "source": [
    "# Plot all \n",
    "plot(results2 + results3 + results4 + results5)"
   ]
  },
  {
   "cell_type": "code",
   "execution_count": 225,
   "id": "af9aff2a",
   "metadata": {},
   "outputs": [
    {
     "name": "stdout",
     "output_type": "stream",
     "text": [
      "[0.37, 0.414, 0.143, 0.284, 0.173]\n",
      "Matroid 1/10 completed in 3.01s\n",
      "[0.326, 0.35, 0.293, 0.315, 0.328, 0.34]\n",
      "Matroid 2/10 completed in 2.81s\n",
      "[0.365, 0.345, 0.348, 0.363]\n",
      "Matroid 3/10 completed in 2.38s\n",
      "[0.388, 0.393, 0.23, 0.219]\n",
      "Matroid 4/10 completed in 2.04s\n",
      "[0.405, 0.251, 0.291, 0.367, 0.262]\n",
      "Matroid 5/10 completed in 2.29s\n",
      "[0.324, 0.335, 0.389, 0.34, 0.375]\n",
      "Matroid 6/10 completed in 3.81s\n",
      "[0.281, 0.405, 0.36, 0.39, 0.361, 0.352]\n",
      "Matroid 7/10 completed in 4.41s\n",
      "[0.339, 0.337, 0.345, 0.349]\n",
      "Matroid 8/10 completed in 2.75s\n",
      "[0.346, 0.355, 0.253, 0.352, 0.269]\n",
      "Matroid 9/10 completed in 2.14s\n",
      "[0.316, 0.366, 0.38, 0.378, 0.362, 0.346]\n",
      "Matroid 10/10 completed in 3.69s\n"
     ]
    }
   ],
   "source": [
    "# Experiment 6: 100 Random Matroids with universe size = 13 (Note that these aren't actually\n",
    "# uniformly at random chosen from all size-13 matroids; see Knuth's algorithm)\n",
    "\n",
    "random.seed(int(1006))\n",
    "results6 = evaluate(GeneralRandomMatroid(13), num_matroids=1, num_trials=1)"
   ]
  },
  {
   "cell_type": "code",
   "execution_count": 223,
   "id": "5777cad8",
   "metadata": {},
   "outputs": [
    {
     "data": {
      "image/png": "[encoded data removed]",
      "text/plain": [
       "<Figure size 432x288 with 1 Axes>"
      ]
     },
     "metadata": {
      "needs_background": "light"
     },
     "output_type": "display_data"
    },
    {
     "name": "stdout",
     "output_type": "stream",
     "text": [
      "[0.143, 0.293, 0.345, 0.219, 0.251, 0.324, 0.281, 0.337, 0.253, 0.316]\n"
     ]
    }
   ],
   "source": [
    "plot(results6)\n",
    "print(results6)"
   ]
  },
  {
   "cell_type": "code",
   "execution_count": 245,
   "id": "fc87c99f",
   "metadata": {},
   "outputs": [
    {
     "name": "stdout",
     "output_type": "stream",
     "text": [
      "[0.376, 0.364, 0.384]\n",
      "Matroid 1/5 completed in 11.77s\n",
      "[0.391, 0.376, 0.363]\n",
      "Matroid 2/5 completed in 11.54s\n",
      "[0.367, 0.35, 0.368]\n",
      "Matroid 3/5 completed in 11.58s\n",
      "[0.35, 0.415, 0.352]\n",
      "Matroid 4/5 completed in 11.55s\n",
      "[0.349, 0.345, 0.377]\n",
      "Matroid 5/5 completed in 11.52s\n"
     ]
    }
   ],
   "source": [
    "# Experiment 7: 100 Random Uniform Matroids with universe size = 200 (rank is also random)\n",
    "random.seed(int(1007))\n",
    "results7 = evaluate(RandomMatroid(100), num_matroids=5, num_trials=1000)"
   ]
  },
  {
   "cell_type": "code",
   "execution_count": 241,
   "id": "ca44d8e6",
   "metadata": {},
   "outputs": [
    {
     "data": {
      "image/png": "[encoded data removed]",
      "text/plain": [
       "<Figure size 432x288 with 1 Axes>"
      ]
     },
     "metadata": {
      "needs_background": "light"
     },
     "output_type": "display_data"
    },
    {
     "name": "stdout",
     "output_type": "stream",
     "text": [
      "[0.364, 0.363]\n"
     ]
    }
   ],
   "source": [
    "plot(results7)\n",
    "print(results7)"
   ]
  },
  {
   "cell_type": "code",
   "execution_count": 51,
   "id": "b6b54b95",
   "metadata": {},
   "outputs": [
    {
     "name": "stdout",
     "output_type": "stream",
     "text": [
      "22\n",
      "Matroid 1/3 completed in 12.18s\n",
      "23\n"
     ]
    },
    {
     "ename": "KeyboardInterrupt",
     "evalue": "",
     "output_type": "error",
     "traceback": [
      "\u001b[0;31m---------------------------------------------------------------------------\u001b[0m",
      "\u001b[0;31mKeyboardInterrupt\u001b[0m                         Traceback (most recent call last)",
      "\u001b[0;32m<ipython-input-51-620bdfcbfbcd>\u001b[0m in \u001b[0;36m<module>\u001b[0;34m\u001b[0m\n\u001b[1;32m      2\u001b[0m \u001b[0;31m# uniformly distributed between 1 and universe size\u001b[0m\u001b[0;34m\u001b[0m\u001b[0;34m\u001b[0m\u001b[0;34m\u001b[0m\u001b[0m\n\u001b[1;32m      3\u001b[0m \u001b[0mrandom\u001b[0m\u001b[0;34m.\u001b[0m\u001b[0mseed\u001b[0m\u001b[0;34m(\u001b[0m\u001b[0mint\u001b[0m\u001b[0;34m(\u001b[0m\u001b[0mInteger\u001b[0m\u001b[0;34m(\u001b[0m\u001b[0;36m1008\u001b[0m\u001b[0;34m)\u001b[0m\u001b[0;34m)\u001b[0m\u001b[0;34m)\u001b[0m\u001b[0;34m\u001b[0m\u001b[0;34m\u001b[0m\u001b[0m\n\u001b[0;32m----> 4\u001b[0;31m \u001b[0mresults8\u001b[0m \u001b[0;34m=\u001b[0m \u001b[0mevaluate\u001b[0m\u001b[0;34m(\u001b[0m\u001b[0mLinearRandomMatroid\u001b[0m\u001b[0;34m(\u001b[0m\u001b[0mInteger\u001b[0m\u001b[0;34m(\u001b[0m\u001b[0;36m50\u001b[0m\u001b[0;34m)\u001b[0m\u001b[0;34m,\u001b[0m \u001b[0morder\u001b[0m\u001b[0;34m=\u001b[0m\u001b[0mInteger\u001b[0m\u001b[0;34m(\u001b[0m\u001b[0;36m3\u001b[0m\u001b[0;34m)\u001b[0m\u001b[0;34m)\u001b[0m\u001b[0;34m,\u001b[0m \u001b[0mnum_matroids\u001b[0m\u001b[0;34m=\u001b[0m\u001b[0mInteger\u001b[0m\u001b[0;34m(\u001b[0m\u001b[0;36m3\u001b[0m\u001b[0;34m)\u001b[0m\u001b[0;34m,\u001b[0m \u001b[0mnum_trials\u001b[0m\u001b[0;34m=\u001b[0m\u001b[0mInteger\u001b[0m\u001b[0;34m(\u001b[0m\u001b[0;36m1000\u001b[0m\u001b[0;34m)\u001b[0m\u001b[0;34m)\u001b[0m\u001b[0;34m\u001b[0m\u001b[0;34m\u001b[0m\u001b[0m\n\u001b[0m",
      "\u001b[0;32m<ipython-input-14-829682d58589>\u001b[0m in \u001b[0;36mevaluate\u001b[0;34m(rand_matroid, num_matroids, num_trials)\u001b[0m\n\u001b[1;32m      3\u001b[0m     \u001b[0;32mfor\u001b[0m \u001b[0mi\u001b[0m\u001b[0;34m,\u001b[0m \u001b[0mM\u001b[0m \u001b[0;32min\u001b[0m \u001b[0menumerate\u001b[0m\u001b[0;34m(\u001b[0m\u001b[0mrand_matroid\u001b[0m\u001b[0;34m.\u001b[0m\u001b[0mgen\u001b[0m\u001b[0;34m(\u001b[0m\u001b[0mnum_matroids\u001b[0m\u001b[0;34m)\u001b[0m\u001b[0;34m,\u001b[0m \u001b[0mInteger\u001b[0m\u001b[0;34m(\u001b[0m\u001b[0;36m1\u001b[0m\u001b[0;34m)\u001b[0m\u001b[0;34m)\u001b[0m\u001b[0;34m:\u001b[0m\u001b[0;34m\u001b[0m\u001b[0;34m\u001b[0m\u001b[0m\n\u001b[1;32m      4\u001b[0m         \u001b[0mstart\u001b[0m \u001b[0;34m=\u001b[0m \u001b[0mtime\u001b[0m\u001b[0;34m.\u001b[0m\u001b[0mtime\u001b[0m\u001b[0;34m(\u001b[0m\u001b[0;34m)\u001b[0m\u001b[0;34m\u001b[0m\u001b[0;34m\u001b[0m\u001b[0m\n\u001b[0;32m----> 5\u001b[0;31m         \u001b[0mresults\u001b[0m\u001b[0;34m.\u001b[0m\u001b[0mappend\u001b[0m\u001b[0;34m(\u001b[0m\u001b[0mrun_experiment\u001b[0m\u001b[0;34m(\u001b[0m\u001b[0mM\u001b[0m\u001b[0;34m,\u001b[0m \u001b[0mnum_trials\u001b[0m\u001b[0;34m)\u001b[0m\u001b[0;34m)\u001b[0m\u001b[0;34m\u001b[0m\u001b[0;34m\u001b[0m\u001b[0m\n\u001b[0m\u001b[1;32m      6\u001b[0m         \u001b[0mend\u001b[0m \u001b[0;34m=\u001b[0m \u001b[0mtime\u001b[0m\u001b[0;34m.\u001b[0m\u001b[0mtime\u001b[0m\u001b[0;34m(\u001b[0m\u001b[0;34m)\u001b[0m\u001b[0;34m\u001b[0m\u001b[0;34m\u001b[0m\u001b[0m\n\u001b[1;32m      7\u001b[0m         \u001b[0mprint\u001b[0m\u001b[0;34m(\u001b[0m\u001b[0;34mf'Matroid {i}/{num_matroids} completed in {round(end - start, Integer(2))}s'\u001b[0m\u001b[0;34m)\u001b[0m\u001b[0;34m\u001b[0m\u001b[0;34m\u001b[0m\u001b[0m\n",
      "\u001b[0;32m<ipython-input-13-84ce8d5d194c>\u001b[0m in \u001b[0;36mrun_experiment\u001b[0;34m(M, num_trials, weights, verbose)\u001b[0m\n\u001b[1;32m      3\u001b[0m \u001b[0;34m\u001b[0m\u001b[0m\n\u001b[1;32m      4\u001b[0m     \u001b[0mstart_time\u001b[0m \u001b[0;34m=\u001b[0m \u001b[0mtime\u001b[0m\u001b[0;34m.\u001b[0m\u001b[0mtime\u001b[0m\u001b[0;34m(\u001b[0m\u001b[0;34m)\u001b[0m\u001b[0;34m\u001b[0m\u001b[0;34m\u001b[0m\u001b[0m\n\u001b[0;32m----> 5\u001b[0;31m     \u001b[0mval\u001b[0m\u001b[0;34m,\u001b[0m \u001b[0mfreqs\u001b[0m \u001b[0;34m=\u001b[0m \u001b[0mrun_trials\u001b[0m\u001b[0;34m(\u001b[0m\u001b[0mnum_trials\u001b[0m\u001b[0;34m,\u001b[0m \u001b[0mM\u001b[0m\u001b[0;34m,\u001b[0m \u001b[0mweights\u001b[0m\u001b[0;34m,\u001b[0m \u001b[0mverbose\u001b[0m\u001b[0;34m)\u001b[0m\u001b[0;34m\u001b[0m\u001b[0;34m\u001b[0m\u001b[0m\n\u001b[0m\u001b[1;32m      6\u001b[0m     \u001b[0mend_time\u001b[0m \u001b[0;34m=\u001b[0m \u001b[0mtime\u001b[0m\u001b[0;34m.\u001b[0m\u001b[0mtime\u001b[0m\u001b[0;34m(\u001b[0m\u001b[0;34m)\u001b[0m\u001b[0;34m\u001b[0m\u001b[0;34m\u001b[0m\u001b[0m\n\u001b[1;32m      7\u001b[0m \u001b[0;34m\u001b[0m\u001b[0m\n",
      "\u001b[0;32m<ipython-input-12-8afff214cd8f>\u001b[0m in \u001b[0;36mrun_trials\u001b[0;34m(num_trials, matroid, weights, verbose)\u001b[0m\n\u001b[1;32m      6\u001b[0m     \u001b[0;32mfor\u001b[0m \u001b[0m_\u001b[0m \u001b[0;32min\u001b[0m \u001b[0mrange\u001b[0m\u001b[0;34m(\u001b[0m\u001b[0mnum_trials\u001b[0m\u001b[0;34m)\u001b[0m\u001b[0;34m:\u001b[0m\u001b[0;34m\u001b[0m\u001b[0;34m\u001b[0m\u001b[0m\n\u001b[1;32m      7\u001b[0m         \u001b[0malgo\u001b[0m \u001b[0;34m=\u001b[0m \u001b[0mConjecture\u001b[0m\u001b[0;34m(\u001b[0m\u001b[0mmatroid\u001b[0m\u001b[0;34m,\u001b[0m \u001b[0mweights\u001b[0m\u001b[0;34m,\u001b[0m \u001b[0mexp\u001b[0m\u001b[0;34m(\u001b[0m\u001b[0;34m-\u001b[0m\u001b[0mInteger\u001b[0m\u001b[0;34m(\u001b[0m\u001b[0;36m1\u001b[0m\u001b[0;34m)\u001b[0m\u001b[0;34m)\u001b[0m\u001b[0;34m,\u001b[0m \u001b[0mverbose\u001b[0m\u001b[0;34m)\u001b[0m\u001b[0;34m\u001b[0m\u001b[0;34m\u001b[0m\u001b[0m\n\u001b[0;32m----> 8\u001b[0;31m         \u001b[0mweight\u001b[0m\u001b[0;34m,\u001b[0m \u001b[0mincluded\u001b[0m \u001b[0;34m=\u001b[0m \u001b[0malgo\u001b[0m\u001b[0;34m.\u001b[0m\u001b[0mrun_trial\u001b[0m\u001b[0;34m(\u001b[0m\u001b[0;34m)\u001b[0m\u001b[0;34m\u001b[0m\u001b[0;34m\u001b[0m\u001b[0m\n\u001b[0m\u001b[1;32m      9\u001b[0m         \u001b[0msum\u001b[0m \u001b[0;34m+=\u001b[0m \u001b[0mweight\u001b[0m\u001b[0;34m\u001b[0m\u001b[0;34m\u001b[0m\u001b[0m\n\u001b[1;32m     10\u001b[0m         \u001b[0;32mif\u001b[0m \u001b[0mverbose\u001b[0m\u001b[0;34m:\u001b[0m \u001b[0mprint\u001b[0m\u001b[0;34m(\u001b[0m\u001b[0;34mf'{included = }'\u001b[0m\u001b[0;34m)\u001b[0m\u001b[0;34m\u001b[0m\u001b[0;34m\u001b[0m\u001b[0m\n",
      "\u001b[0;32m<ipython-input-11-75e37104713a>\u001b[0m in \u001b[0;36mrun_trial\u001b[0;34m(self)\u001b[0m\n\u001b[1;32m     44\u001b[0m             \u001b[0;32mfor\u001b[0m \u001b[0melement\u001b[0m \u001b[0;32min\u001b[0m \u001b[0mremaining\u001b[0m\u001b[0;34m:\u001b[0m\u001b[0;34m\u001b[0m\u001b[0;34m\u001b[0m\u001b[0m\n\u001b[1;32m     45\u001b[0m                 \u001b[0mXset\u001b[0m\u001b[0;34m.\u001b[0m\u001b[0madd\u001b[0m\u001b[0;34m(\u001b[0m\u001b[0melement\u001b[0m\u001b[0;34m)\u001b[0m\u001b[0;34m\u001b[0m\u001b[0;34m\u001b[0m\u001b[0m\n\u001b[0;32m---> 46\u001b[0;31m                 \u001b[0;32mif\u001b[0m \u001b[0;32mnot\u001b[0m \u001b[0mself\u001b[0m\u001b[0;34m.\u001b[0m\u001b[0mmatroid\u001b[0m\u001b[0;34m.\u001b[0m\u001b[0mis_independent\u001b[0m\u001b[0;34m(\u001b[0m\u001b[0mfrozenset\u001b[0m\u001b[0;34m(\u001b[0m\u001b[0mXset\u001b[0m\u001b[0;34m)\u001b[0m\u001b[0;34m)\u001b[0m\u001b[0;34m:\u001b[0m \u001b[0mcandidates\u001b[0m\u001b[0;34m.\u001b[0m\u001b[0mappend\u001b[0m\u001b[0;34m(\u001b[0m\u001b[0melement\u001b[0m\u001b[0;34m)\u001b[0m\u001b[0;34m\u001b[0m\u001b[0;34m\u001b[0m\u001b[0m\n\u001b[0m\u001b[1;32m     47\u001b[0m                 \u001b[0mXset\u001b[0m\u001b[0;34m.\u001b[0m\u001b[0mremove\u001b[0m\u001b[0;34m(\u001b[0m\u001b[0melement\u001b[0m\u001b[0;34m)\u001b[0m\u001b[0;34m\u001b[0m\u001b[0;34m\u001b[0m\u001b[0m\n\u001b[1;32m     48\u001b[0m             \u001b[0mrandom\u001b[0m\u001b[0;34m.\u001b[0m\u001b[0mshuffle\u001b[0m\u001b[0;34m(\u001b[0m\u001b[0mcandidates\u001b[0m\u001b[0;34m)\u001b[0m\u001b[0;34m\u001b[0m\u001b[0;34m\u001b[0m\u001b[0m\n",
      "\u001b[0;32msrc/cysignals/signals.pyx\u001b[0m in \u001b[0;36mcysignals.signals.python_check_interrupt\u001b[0;34m()\u001b[0m\n",
      "\u001b[0;31mKeyboardInterrupt\u001b[0m: "
     ]
    }
   ],
   "source": [
    "# Experiment 8: 20 random linear matroids in a finite field of order 563 with rank (somewhat)\n",
    "# uniformly distributed between 1 and universe size\n",
    "random.seed(int(1008))\n",
    "results8 = evaluate(LinearRandomMatroid(50, order=3), num_matroids=3, num_trials=1000)"
   ]
  },
  {
   "cell_type": "code",
   "execution_count": 40,
   "id": "3b32457c",
   "metadata": {},
   "outputs": [
    {
     "data": {
      "image/png": "[encoded data removed]",
      "text/plain": [
       "<Figure size 432x288 with 1 Axes>"
      ]
     },
     "metadata": {
      "needs_background": "light"
     },
     "output_type": "display_data"
    },
    {
     "name": "stdout",
     "output_type": "stream",
     "text": [
      "[0.394, 0.405, 0.394]\n"
     ]
    }
   ],
   "source": [
    "plot(results8)\n",
    "print(results8)"
   ]
  },
  {
   "cell_type": "code",
   "execution_count": 80,
   "id": "41d29c51",
   "metadata": {},
   "outputs": [
    {
     "name": "stdout",
     "output_type": "stream",
     "text": [
      "78\n",
      "Matroid 1/100 completed in 73.04s\n",
      "26\n",
      "Matroid 2/100 completed in 115.83s\n",
      "65\n",
      "Matroid 3/100 completed in 132.24s\n",
      "7\n",
      "Matroid 4/100 completed in 16.89s\n",
      "29\n",
      "Matroid 5/100 completed in 135.49s\n",
      "21\n",
      "Matroid 6/100 completed in 81.43s\n",
      "39\n",
      "Matroid 7/100 completed in 172.12s\n",
      "64\n",
      "Matroid 8/100 completed in 128.52s\n",
      "47\n",
      "Matroid 9/100 completed in 178.17s\n",
      "52\n",
      "Matroid 10/100 completed in 187.16s\n",
      "87\n",
      "Matroid 11/100 completed in 38.14s\n",
      "36\n",
      "Matroid 12/100 completed in 159.83s\n",
      "6\n",
      "Matroid 13/100 completed in 15.35s\n",
      "74\n",
      "Matroid 14/100 completed in 91.04s\n",
      "53\n",
      "Matroid 15/100 completed in 170.98s\n",
      "57\n",
      "Matroid 16/100 completed in 175.56s\n",
      "81\n",
      "Matroid 17/100 completed in 58.6s\n",
      "33\n",
      "Matroid 18/100 completed in 150.88s\n",
      "40\n",
      "Matroid 19/100 completed in 193.0s\n",
      "7\n",
      "Matroid 20/100 completed in 15.64s\n",
      "85\n",
      "Matroid 21/100 completed in 43.05s\n",
      "80\n",
      "Matroid 22/100 completed in 66.86s\n",
      "58\n",
      "Matroid 23/100 completed in 145.19s\n",
      "83\n",
      "Matroid 24/100 completed in 51.63s\n",
      "10\n",
      "Matroid 25/100 completed in 23.95s\n",
      "2\n",
      "Matroid 26/100 completed in 12.44s\n",
      "88\n",
      "Matroid 27/100 completed in 26.35s\n",
      "33\n",
      "Matroid 28/100 completed in 178.94s\n",
      "73\n",
      "Matroid 29/100 completed in 78.63s\n",
      "40\n",
      "Matroid 30/100 completed in 198.79s\n",
      "100\n",
      "Matroid 31/100 completed in 16.15s\n",
      "16\n",
      "Matroid 32/100 completed in 62.56s\n",
      "68\n",
      "Matroid 33/100 completed in 104.79s\n",
      "63\n",
      "Matroid 34/100 completed in 144.35s\n",
      "100\n",
      "Matroid 35/100 completed in 18.0s\n",
      "81\n",
      "Matroid 36/100 completed in 50.3s\n",
      "20\n",
      "Matroid 37/100 completed in 80.68s\n",
      "62\n",
      "Matroid 38/100 completed in 153.6s\n",
      "38\n",
      "Matroid 39/100 completed in 173.72s\n",
      "57\n",
      "Matroid 40/100 completed in 157.27s\n",
      "58\n",
      "Matroid 41/100 completed in 163.78s\n",
      "30\n",
      "Matroid 42/100 completed in 122.46s\n",
      "71\n",
      "Matroid 43/100 completed in 96.05s\n",
      "98\n",
      "Matroid 44/100 completed in 16.35s\n",
      "9\n",
      "Matroid 45/100 completed in 23.64s\n",
      "90\n",
      "Matroid 46/100 completed in 30.43s\n",
      "74\n",
      "Matroid 47/100 completed in 91.71s\n",
      "54\n",
      "Matroid 48/100 completed in 164.01s\n",
      "82\n",
      "Matroid 49/100 completed in 51.63s\n",
      "86\n",
      "Matroid 50/100 completed in 44.15s\n",
      "10\n",
      "Matroid 51/100 completed in 29.98s\n",
      "3\n",
      "Matroid 52/100 completed in 13.6s\n",
      "16\n",
      "Matroid 53/100 completed in 64.65s\n",
      "65\n",
      "Matroid 54/100 completed in 129.83s\n",
      "80\n",
      "Matroid 55/100 completed in 55.98s\n",
      "29\n",
      "Matroid 56/100 completed in 140.74s\n",
      "48\n",
      "Matroid 57/100 completed in 160.27s\n",
      "25\n",
      "Matroid 58/100 completed in 129.11s\n",
      "28\n",
      "Matroid 59/100 completed in 131.8s\n",
      "7\n",
      "Matroid 60/100 completed in 17.34s\n",
      "77\n",
      "Matroid 61/100 completed in 75.27s\n",
      "92\n",
      "Matroid 62/100 completed in 20.75s\n",
      "60\n",
      "Matroid 63/100 completed in 144.42s\n",
      "19\n",
      "Matroid 64/100 completed in 60.85s\n",
      "4\n",
      "Matroid 65/100 completed in 14.62s\n",
      "58\n",
      "Matroid 66/100 completed in 155.26s\n",
      "41\n",
      "Matroid 67/100 completed in 210.79s\n",
      "14\n",
      "Matroid 68/100 completed in 40.45s\n",
      "4\n",
      "Matroid 69/100 completed in 15.24s\n",
      "86\n",
      "Matroid 70/100 completed in 41.59s\n",
      "69\n",
      "Matroid 71/100 completed in 100.01s\n",
      "72\n",
      "Matroid 72/100 completed in 99.14s\n",
      "1\n",
      "Matroid 73/100 completed in 11.38s\n",
      "81\n",
      "Matroid 74/100 completed in 60.29s\n",
      "13\n",
      "Matroid 75/100 completed in 34.72s\n",
      "44\n",
      "Matroid 76/100 completed in 159.59s\n",
      "21\n",
      "Matroid 77/100 completed in 86.34s\n",
      "54\n",
      "Matroid 78/100 completed in 181.54s\n",
      "27\n",
      "Matroid 79/100 completed in 98.19s\n",
      "9\n",
      "Matroid 80/100 completed in 24.24s\n",
      "64\n",
      "Matroid 81/100 completed in 122.65s\n",
      "49\n",
      "Matroid 82/100 completed in 179.74s\n",
      "73\n",
      "Matroid 83/100 completed in 92.08s\n",
      "24\n",
      "Matroid 84/100 completed in 100.81s\n",
      "47\n",
      "Matroid 85/100 completed in 186.24s\n",
      "52\n",
      "Matroid 86/100 completed in 177.76s\n",
      "50\n",
      "Matroid 87/100 completed in 186.0s\n",
      "35\n",
      "Matroid 88/100 completed in 170.29s\n",
      "24\n",
      "Matroid 89/100 completed in 94.21s\n",
      "47\n",
      "Matroid 90/100 completed in 196.24s\n",
      "19\n",
      "Matroid 91/100 completed in 87.85s\n",
      "36\n",
      "Matroid 92/100 completed in 160.98s\n",
      "29\n",
      "Matroid 93/100 completed in 165.85s\n",
      "46\n",
      "Matroid 94/100 completed in 193.11s\n",
      "87\n",
      "Matroid 95/100 completed in 37.58s\n",
      "97\n",
      "Matroid 96/100 completed in 16.97s\n",
      "38\n",
      "Matroid 97/100 completed in 208.57s\n",
      "27\n",
      "Matroid 98/100 completed in 124.91s\n",
      "27\n",
      "Matroid 99/100 completed in 117.43s\n",
      "88\n",
      "Matroid 100/100 completed in 33.94s\n"
     ]
    }
   ],
   "source": [
    "# Experiment 8: 20 random linear matroids in a finite field of order 563 with rank (somewhat)\n",
    "# uniformly distributed between 1 and universe size\n",
    "random.seed(int(1009))\n",
    "results9 = evaluate(LinearRandomMatroid(100, order=37, p=[0, 1]), num_matroids=100, num_trials=1000)"
   ]
  },
  {
   "cell_type": "code",
   "execution_count": 81,
   "id": "be5ca2cb",
   "metadata": {},
   "outputs": [
    {
     "name": "stdout",
     "output_type": "stream",
     "text": [
      "31\n",
      "Matroid 1/100 completed in 144.01s\n",
      "35\n",
      "Matroid 2/100 completed in 152.79s\n",
      "49\n",
      "Matroid 3/100 completed in 208.03s\n",
      "64\n",
      "Matroid 4/100 completed in 135.76s\n",
      "99\n",
      "Matroid 5/100 completed in 16.16s\n",
      "70\n",
      "Matroid 6/100 completed in 94.19s\n",
      "73\n",
      "Matroid 7/100 completed in 88.22s\n",
      "36\n",
      "Matroid 8/100 completed in 183.27s\n",
      "94\n",
      "Matroid 9/100 completed in 20.72s\n",
      "75\n",
      "Matroid 10/100 completed in 71.21s\n",
      "76\n",
      "Matroid 11/100 completed in 78.53s\n",
      "48\n",
      "Matroid 12/100 completed in 163.89s\n",
      "93\n",
      "Matroid 13/100 completed in 22.03s\n",
      "72\n",
      "Matroid 14/100 completed in 91.19s\n",
      "21\n",
      "Matroid 15/100 completed in 96.49s\n",
      "91\n",
      "Matroid 16/100 completed in 28.35s\n",
      "60\n",
      "Matroid 17/100 completed in 144.93s\n",
      "39\n",
      "Matroid 18/100 completed in 182.73s\n",
      "73\n",
      "Matroid 19/100 completed in 95.2s\n",
      "38\n",
      "Matroid 20/100 completed in 150.53s\n",
      "86\n",
      "Matroid 21/100 completed in 38.32s\n",
      "85\n",
      "Matroid 22/100 completed in 44.18s\n",
      "96\n",
      "Matroid 23/100 completed in 17.92s\n",
      "7\n",
      "Matroid 24/100 completed in 22.13s\n",
      "11\n",
      "Matroid 25/100 completed in 38.25s\n",
      "96\n",
      "Matroid 26/100 completed in 18.54s\n",
      "24\n",
      "Matroid 27/100 completed in 111.8s\n",
      "29\n",
      "Matroid 28/100 completed in 156.22s\n",
      "58\n",
      "Matroid 29/100 completed in 158.19s\n",
      "48\n",
      "Matroid 30/100 completed in 192.06s\n",
      "26\n",
      "Matroid 31/100 completed in 141.9s\n",
      "31\n",
      "Matroid 32/100 completed in 163.74s\n",
      "11\n",
      "Matroid 33/100 completed in 32.38s\n",
      "44\n",
      "Matroid 34/100 completed in 193.78s\n",
      "47\n",
      "Matroid 35/100 completed in 146.2s\n",
      "68\n",
      "Matroid 36/100 completed in 122.1s\n",
      "14\n",
      "Matroid 37/100 completed in 49.73s\n",
      "99\n",
      "Matroid 38/100 completed in 16.31s\n",
      "33\n",
      "Matroid 39/100 completed in 147.45s\n",
      "50\n",
      "Matroid 40/100 completed in 175.31s\n",
      "44\n",
      "Matroid 41/100 completed in 189.87s\n",
      "23\n",
      "Matroid 42/100 completed in 83.5s\n",
      "89\n",
      "Matroid 43/100 completed in 31.88s\n",
      "25\n",
      "Matroid 44/100 completed in 127.1s\n",
      "80\n",
      "Matroid 45/100 completed in 64.83s\n",
      "76\n",
      "Matroid 46/100 completed in 85.87s\n",
      "10\n",
      "Matroid 47/100 completed in 24.97s\n",
      "79\n",
      "Matroid 48/100 completed in 65.04s\n",
      "47\n",
      "Matroid 49/100 completed in 184.68s\n",
      "63\n",
      "Matroid 50/100 completed in 145.1s\n",
      "27\n",
      "Matroid 51/100 completed in 91.33s\n",
      "64\n",
      "Matroid 52/100 completed in 130.64s\n",
      "61\n",
      "Matroid 53/100 completed in 155.0s\n",
      "84\n",
      "Matroid 54/100 completed in 45.43s\n",
      "98\n",
      "Matroid 55/100 completed in 16.34s\n",
      "48\n",
      "Matroid 56/100 completed in 177.35s\n",
      "15\n",
      "Matroid 57/100 completed in 55.25s\n",
      "62\n",
      "Matroid 58/100 completed in 153.69s\n",
      "37\n",
      "Matroid 59/100 completed in 143.04s\n",
      "6\n",
      "Matroid 60/100 completed in 18.76s\n",
      "78\n",
      "Matroid 61/100 completed in 72.8s\n",
      "100\n",
      "Matroid 62/100 completed in 16.16s\n",
      "51\n",
      "Matroid 63/100 completed in 177.04s\n",
      "27\n",
      "Matroid 64/100 completed in 118.41s\n",
      "83\n",
      "Matroid 65/100 completed in 49.66s\n",
      "80\n",
      "Matroid 66/100 completed in 61.77s\n",
      "27\n",
      "Matroid 67/100 completed in 105.86s\n",
      "61\n",
      "Matroid 68/100 completed in 135.72s\n",
      "4\n",
      "Matroid 69/100 completed in 14.4s\n",
      "6\n",
      "Matroid 70/100 completed in 17.78s\n",
      "14\n",
      "Matroid 71/100 completed in 50.91s\n",
      "83\n",
      "Matroid 72/100 completed in 45.04s\n",
      "18\n",
      "Matroid 73/100 completed in 54.87s\n",
      "65\n",
      "Matroid 74/100 completed in 127.39s\n",
      "17\n",
      "Matroid 75/100 completed in 59.42s\n",
      "25\n",
      "Matroid 76/100 completed in 99.02s\n",
      "33\n",
      "Matroid 77/100 completed in 166.8s\n",
      "5\n",
      "Matroid 78/100 completed in 17.99s\n",
      "80\n",
      "Matroid 79/100 completed in 59.66s\n",
      "65\n",
      "Matroid 80/100 completed in 126.2s\n",
      "30\n",
      "Matroid 81/100 completed in 154.91s\n",
      "5\n",
      "Matroid 82/100 completed in 15.84s\n",
      "48\n",
      "Matroid 83/100 completed in 207.02s\n",
      "30\n",
      "Matroid 84/100 completed in 137.68s\n",
      "44\n",
      "Matroid 85/100 completed in 185.52s\n",
      "13\n",
      "Matroid 86/100 completed in 43.87s\n",
      "11\n",
      "Matroid 87/100 completed in 40.14s\n",
      "48\n",
      "Matroid 88/100 completed in 204.37s\n",
      "100\n",
      "Matroid 89/100 completed in 16.09s\n",
      "51\n",
      "Matroid 90/100 completed in 194.91s\n",
      "77\n",
      "Matroid 91/100 completed in 78.68s\n",
      "89\n",
      "Matroid 92/100 completed in 32.78s\n",
      "75\n",
      "Matroid 93/100 completed in 88.51s\n",
      "33\n",
      "Matroid 94/100 completed in 175.02s\n",
      "69\n",
      "Matroid 95/100 completed in 116.9s\n",
      "89\n",
      "Matroid 96/100 completed in 31.48s\n",
      "12\n",
      "Matroid 97/100 completed in 25.23s\n",
      "93\n",
      "Matroid 98/100 completed in 22.95s\n",
      "80\n",
      "Matroid 99/100 completed in 64.53s\n",
      "86\n",
      "Matroid 100/100 completed in 43.89s\n"
     ]
    }
   ],
   "source": [
    "# Experiment 8: 20 random linear matroids in a finite field of order 563 with rank (somewhat)\n",
    "# uniformly distributed between 1 and universe size\n",
    "random.seed(int(1010))\n",
    "results10 = evaluate(LinearRandomMatroid(100, order=37, p=[0, 1]), num_matroids=100, num_trials=1000)"
   ]
  },
  {
   "cell_type": "code",
   "execution_count": 82,
   "id": "d631cc0f",
   "metadata": {},
   "outputs": [
    {
     "name": "stdout",
     "output_type": "stream",
     "text": [
      "70\n",
      "Matroid 1/100 completed in 111.56s\n",
      "70\n",
      "Matroid 2/100 completed in 93.7s\n",
      "49\n",
      "Matroid 3/100 completed in 185.33s\n",
      "7\n",
      "Matroid 4/100 completed in 21.37s\n",
      "53\n",
      "Matroid 5/100 completed in 165.1s\n",
      "76\n",
      "Matroid 6/100 completed in 79.49s\n",
      "96\n",
      "Matroid 7/100 completed in 18.5s\n",
      "88\n",
      "Matroid 8/100 completed in 35.0s\n",
      "85\n",
      "Matroid 9/100 completed in 41.51s\n",
      "23\n",
      "Matroid 10/100 completed in 89.43s\n",
      "91\n",
      "Matroid 11/100 completed in 23.32s\n",
      "76\n",
      "Matroid 12/100 completed in 77.09s\n",
      "44\n",
      "Matroid 13/100 completed in 207.27s\n",
      "61\n",
      "Matroid 14/100 completed in 149.69s\n",
      "84\n",
      "Matroid 15/100 completed in 50.17s\n",
      "7\n",
      "Matroid 16/100 completed in 18.35s\n",
      "21\n",
      "Matroid 17/100 completed in 82.45s\n",
      "49\n",
      "Matroid 18/100 completed in 190.69s\n",
      "98\n",
      "Matroid 19/100 completed in 16.67s\n",
      "68\n",
      "Matroid 20/100 completed in 116.83s\n",
      "99\n",
      "Matroid 21/100 completed in 16.53s\n",
      "33\n",
      "Matroid 22/100 completed in 128.3s\n",
      "57\n",
      "Matroid 23/100 completed in 146.29s\n",
      "22\n",
      "Matroid 24/100 completed in 63.44s\n",
      "39\n",
      "Matroid 25/100 completed in 157.02s\n",
      "51\n",
      "Matroid 26/100 completed in 178.58s\n",
      "35\n",
      "Matroid 27/100 completed in 162.77s\n",
      "25\n",
      "Matroid 28/100 completed in 119.49s\n",
      "28\n",
      "Matroid 29/100 completed in 118.5s\n",
      "30\n",
      "Matroid 30/100 completed in 154.14s\n",
      "80\n",
      "Matroid 31/100 completed in 62.22s\n",
      "34\n",
      "Matroid 32/100 completed in 178.65s\n",
      "73\n",
      "Matroid 33/100 completed in 93.81s\n",
      "74\n",
      "Matroid 34/100 completed in 75.05s\n",
      "38\n",
      "Matroid 35/100 completed in 171.29s\n",
      "71\n",
      "Matroid 36/100 completed in 91.97s\n",
      "76\n",
      "Matroid 37/100 completed in 82.31s\n",
      "75\n",
      "Matroid 38/100 completed in 85.19s\n",
      "43\n",
      "Matroid 39/100 completed in 189.2s\n",
      "57\n",
      "Matroid 40/100 completed in 169.42s\n",
      "2\n",
      "Matroid 41/100 completed in 12.12s\n",
      "57\n",
      "Matroid 42/100 completed in 167.05s\n",
      "8\n",
      "Matroid 43/100 completed in 24.83s\n",
      "16\n",
      "Matroid 44/100 completed in 65.5s\n",
      "69\n",
      "Matroid 45/100 completed in 112.07s\n",
      "54\n",
      "Matroid 46/100 completed in 182.12s\n",
      "90\n",
      "Matroid 47/100 completed in 29.12s\n",
      "10\n",
      "Matroid 48/100 completed in 22.41s\n",
      "54\n",
      "Matroid 49/100 completed in 184.63s\n",
      "79\n",
      "Matroid 50/100 completed in 67.28s\n",
      "78\n",
      "Matroid 51/100 completed in 66.72s\n",
      "31\n",
      "Matroid 52/100 completed in 146.25s\n",
      "45\n",
      "Matroid 53/100 completed in 176.42s\n",
      "13\n",
      "Matroid 54/100 completed in 48.74s\n",
      "4\n",
      "Matroid 55/100 completed in 15.13s\n",
      "49\n",
      "Matroid 56/100 completed in 197.69s\n",
      "13\n",
      "Matroid 57/100 completed in 31.81s\n",
      "63\n",
      "Matroid 58/100 completed in 145.34s\n",
      "24\n",
      "Matroid 59/100 completed in 87.97s\n",
      "53\n",
      "Matroid 60/100 completed in 145.85s\n",
      "25\n",
      "Matroid 61/100 completed in 111.32s\n",
      "73\n",
      "Matroid 62/100 completed in 88.84s\n",
      "53\n",
      "Matroid 63/100 completed in 179.23s\n",
      "43\n",
      "Matroid 64/100 completed in 196.57s\n",
      "46\n",
      "Matroid 65/100 completed in 167.29s\n",
      "52\n",
      "Matroid 66/100 completed in 177.57s\n",
      "79\n",
      "Matroid 67/100 completed in 67.03s\n",
      "55\n",
      "Matroid 68/100 completed in 175.63s\n",
      "83\n",
      "Matroid 69/100 completed in 48.68s\n",
      "96\n",
      "Matroid 70/100 completed in 17.75s\n",
      "17\n",
      "Matroid 71/100 completed in 66.19s\n",
      "37\n",
      "Matroid 72/100 completed in 195.02s\n",
      "19\n",
      "Matroid 73/100 completed in 71.65s\n",
      "88\n",
      "Matroid 74/100 completed in 31.77s\n",
      "78\n",
      "Matroid 75/100 completed in 71.7s\n",
      "16\n",
      "Matroid 76/100 completed in 61.07s\n",
      "95\n",
      "Matroid 77/100 completed in 19.92s\n",
      "48\n",
      "Matroid 78/100 completed in 166.83s\n",
      "88\n",
      "Matroid 79/100 completed in 33.26s\n",
      "35\n",
      "Matroid 80/100 completed in 174.35s\n",
      "8\n",
      "Matroid 81/100 completed in 23.07s\n",
      "85\n",
      "Matroid 82/100 completed in 41.43s\n",
      "75\n",
      "Matroid 83/100 completed in 82.15s\n",
      "28\n",
      "Matroid 84/100 completed in 117.78s\n",
      "22\n",
      "Matroid 85/100 completed in 92.9s\n",
      "82\n",
      "Matroid 86/100 completed in 50.7s\n",
      "73\n",
      "Matroid 87/100 completed in 90.57s\n",
      "74\n",
      "Matroid 88/100 completed in 104.47s\n",
      "49\n",
      "Matroid 89/100 completed in 193.87s\n",
      "44\n",
      "Matroid 90/100 completed in 195.73s\n",
      "96\n",
      "Matroid 91/100 completed in 17.38s\n",
      "41\n",
      "Matroid 92/100 completed in 187.14s\n",
      "74\n",
      "Matroid 93/100 completed in 76.5s\n",
      "72\n",
      "Matroid 94/100 completed in 98.13s\n",
      "46\n",
      "Matroid 95/100 completed in 189.65s\n",
      "38\n",
      "Matroid 96/100 completed in 184.45s\n",
      "16\n",
      "Matroid 97/100 completed in 42.54s\n",
      "10\n",
      "Matroid 98/100 completed in 27.38s\n",
      "81\n",
      "Matroid 99/100 completed in 59.7s\n",
      "67\n",
      "Matroid 100/100 completed in 109.7s\n"
     ]
    }
   ],
   "source": [
    "# Experiment 8: 20 random linear matroids in a finite field of order 563 with rank (somewhat)\n",
    "# uniformly distributed between 1 and universe size\n",
    "random.seed(int(1011))\n",
    "results11 = evaluate(LinearRandomMatroid(100, order=37, p=[0, 1]), num_matroids=100, num_trials=1000)"
   ]
  },
  {
   "cell_type": "code",
   "execution_count": 77,
   "id": "5d6561e8",
   "metadata": {},
   "outputs": [
    {
     "data": {
      "image/png": "[encoded data removed]",
      "text/plain": [
       "<Figure size 432x288 with 1 Axes>"
      ]
     },
     "metadata": {
      "needs_background": "light"
     },
     "output_type": "display_data"
    },
    {
     "name": "stdout",
     "output_type": "stream",
     "text": [
      "[0.383]\n"
     ]
    }
   ],
   "source": [
    "plot(results9)\n",
    "print(results9)"
   ]
  },
  {
   "cell_type": "code",
   "execution_count": 84,
   "id": "e771bcc4",
   "metadata": {},
   "outputs": [
    {
     "ename": "AttributeError",
     "evalue": "'NoneType' object has no attribute 'append'",
     "output_type": "error",
     "traceback": [
      "\u001b[0;31m---------------------------------------------------------------------------\u001b[0m",
      "\u001b[0;31mAttributeError\u001b[0m                            Traceback (most recent call last)",
      "\u001b[0;32m<ipython-input-84-4306c01264ef>\u001b[0m in \u001b[0;36m<module>\u001b[0;34m\u001b[0m\n\u001b[1;32m      1\u001b[0m \u001b[0mresults\u001b[0m \u001b[0;34m=\u001b[0m \u001b[0mresults9\u001b[0m\u001b[0;34m.\u001b[0m\u001b[0mappend\u001b[0m\u001b[0;34m(\u001b[0m\u001b[0mresults10\u001b[0m\u001b[0;34m)\u001b[0m\u001b[0;34m\u001b[0m\u001b[0;34m\u001b[0m\u001b[0m\n\u001b[0;32m----> 2\u001b[0;31m \u001b[0mresults\u001b[0m \u001b[0;34m=\u001b[0m \u001b[0mresults\u001b[0m\u001b[0;34m.\u001b[0m\u001b[0mappend\u001b[0m\u001b[0;34m(\u001b[0m\u001b[0mresults11\u001b[0m\u001b[0;34m)\u001b[0m\u001b[0;34m\u001b[0m\u001b[0;34m\u001b[0m\u001b[0m\n\u001b[0m",
      "\u001b[0;31mAttributeError\u001b[0m: 'NoneType' object has no attribute 'append'"
     ]
    }
   ],
   "source": [
    "results = results9.append(results10)\n",
    "results = results.append(results11)"
   ]
  },
  {
   "cell_type": "code",
   "execution_count": 93,
   "id": "d81d5ece",
   "metadata": {},
   "outputs": [
    {
     "name": "stdout",
     "output_type": "stream",
     "text": [
      "[0.509, 0.364, 0.439, 0.374, 0.34, 0.365, 0.38, 0.421, 0.396, 0.411, 0.417, 0.361, 0.371, 0.513, 0.408, 0.513, 0.394, 0.366, 0.376, 0.389, 0.602, 0.45, 0.414, 0.442, 0.338, 0.353, 0.383, 0.353, 0.384, 0.378, 0.595, 0.385, 0.396, 0.45, 0.59, 0.407, 0.34, 0.491, 0.381, 0.447, 0.434, 0.368, 0.581, 0.569, 0.344, 0.597, 0.582, 0.408, 0.517, 0.591, 0.373, 0.372, 0.359, 0.46, 0.419, 0.356, 0.393, 0.341, 0.365, 0.375, 0.557, 0.518, 0.413, 0.376, 0.396, 0.459, 0.384, 0.368, 0.374, 0.578, 0.427, 0.445, 0.403, 0.562, 0.359, 0.374, 0.364, 0.452, 0.371, 0.365, 0.398, 0.392, 0.504, 0.365, 0.398, 0.404, 0.426, 0.365, 0.369, 0.411, 0.348, 0.372, 0.333, 0.406, 0.596, 0.59, 0.371, 0.345, 0.354, 0.583, 0.375, 0.372, 0.433, 0.368, 0.594, 0.445, 0.387, 0.364, 0.598, 0.434, 0.42, 0.378, 0.579, 0.533, 0.344, 0.588, 0.412, 0.361, 0.439, 0.387, 0.603, 0.548, 0.597, 0.386, 0.326, 0.594, 0.36, 0.344, 0.418, 0.403, 0.347, 0.345, 0.393, 0.405, 0.378, 0.538, 0.354, 0.598, 0.361, 0.38, 0.396, 0.374, 0.592, 0.341, 0.592, 0.572, 0.36, 0.369, 0.416, 0.505, 0.365, 0.415, 0.446, 0.519, 0.536, 0.401, 0.371, 0.501, 0.372, 0.373, 0.529, 0.595, 0.407, 0.346, 0.408, 0.583, 0.367, 0.432, 0.376, 0.39, 0.351, 0.52, 0.354, 0.438, 0.376, 0.347, 0.348, 0.372, 0.382, 0.406, 0.359, 0.373, 0.425, 0.351, 0.392, 0.372, 0.354, 0.405, 0.599, 0.418, 0.564, 0.588, 0.58, 0.342, 0.559, 0.541, 0.384, 0.599, 0.535, 0.574, 0.436, 0.494, 0.382, 0.374, 0.381, 0.444, 0.6, 0.583, 0.414, 0.345, 0.595, 0.605, 0.394, 0.382, 0.594, 0.405, 0.36, 0.414, 0.604, 0.395, 0.592, 0.364, 0.387, 0.371, 0.389, 0.386, 0.362, 0.344, 0.356, 0.35, 0.574, 0.357, 0.441, 0.443, 0.378, 0.408, 0.567, 0.511, 0.387, 0.406, 0.357, 0.443, 0.376, 0.346, 0.553, 0.46, 0.605, 0.377, 0.483, 0.596, 0.505, 0.36, 0.371, 0.362, 0.368, 0.412, 0.373, 0.538, 0.366, 0.353, 0.331, 0.424, 0.407, 0.369, 0.404, 0.354, 0.447, 0.479, 0.472, 0.591, 0.352, 0.371, 0.351, 0.543, 0.46, 0.372, 0.591, 0.392, 0.412, 0.348, 0.367, 0.406, 0.533, 0.363, 0.379, 0.413, 0.5, 0.433, 0.413, 0.392, 0.555, 0.392, 0.412, 0.508, 0.401, 0.372, 0.36, 0.374, 0.597, 0.429]\n"
     ]
    },
    {
     "data": {
      "image/png": "[encoded data removed]",
      "text/plain": [
       "<Figure size 432x288 with 1 Axes>"
      ]
     },
     "metadata": {
      "needs_background": "light"
     },
     "output_type": "display_data"
    }
   ],
   "source": [
    "results += results10\n",
    "results += results11\n",
    "print(results)\n",
    "plot(results)"
   ]
  },
  {
   "cell_type": "code",
   "execution_count": 94,
   "id": "269e15fe",
   "metadata": {},
   "outputs": [
    {
     "data": {
      "text/plain": [
       "300"
      ]
     },
     "execution_count": 94,
     "metadata": {},
     "output_type": "execute_result"
    }
   ],
   "source": [
    "len(results)"
   ]
  },
  {
   "cell_type": "code",
   "execution_count": 124,
   "id": "a5039cc3",
   "metadata": {},
   "outputs": [],
   "source": [
    "results = [0.509, 0.364, 0.439, 0.374, 0.34, 0.365, 0.38, 0.421, 0.396, 0.411, 0.417, 0.361, 0.371, 0.513, 0.408, 0.513, 0.394, 0.366, 0.376, 0.389, 0.602, 0.45, 0.414, 0.442, 0.338, 0.353, 0.383, 0.353, 0.384, 0.378, 0.595, 0.385, 0.396, 0.45, 0.59, 0.407, 0.34, 0.491, 0.381, 0.447, 0.434, 0.368, 0.581, 0.569, 0.344, 0.597, 0.582, 0.408, 0.517, 0.591, 0.373, 0.372, 0.359, 0.46, 0.419, 0.356, 0.393, 0.341, 0.365, 0.375, 0.557, 0.518, 0.413, 0.376, 0.396, 0.459, 0.384, 0.368, 0.374, 0.578, 0.427, 0.445, 0.403, 0.562, 0.359, 0.374, 0.364, 0.452, 0.371, 0.365, 0.398, 0.392, 0.504, 0.365, 0.398, 0.404, 0.426, 0.365, 0.369, 0.411, 0.348, 0.372, 0.333, 0.406, 0.596, 0.59, 0.371, 0.345, 0.354, 0.583, 0.375, 0.372, 0.433, 0.368, 0.594, 0.445, 0.387, 0.364, 0.598, 0.434, 0.42, 0.378, 0.579, 0.533, 0.344, 0.588, 0.412, 0.361, 0.439, 0.387, 0.603, 0.548, 0.597, 0.386, 0.326, 0.594, 0.36, 0.344, 0.418, 0.403, 0.347, 0.345, 0.393, 0.405, 0.378, 0.538, 0.354, 0.598, 0.361, 0.38, 0.396, 0.374, 0.592, 0.341, 0.592, 0.572, 0.36, 0.369, 0.416, 0.505, 0.365, 0.415, 0.446, 0.519, 0.536, 0.401, 0.371, 0.501, 0.372, 0.373, 0.529, 0.595, 0.407, 0.346, 0.408, 0.583, 0.367, 0.432, 0.376, 0.39, 0.351, 0.52, 0.354, 0.438, 0.376, 0.347, 0.348, 0.372, 0.382, 0.406, 0.359, 0.373, 0.425, 0.351, 0.392, 0.372, 0.354, 0.405, 0.599, 0.418, 0.564, 0.588, 0.58, 0.342, 0.559, 0.541, 0.384, 0.599, 0.535, 0.574, 0.436, 0.494, 0.382, 0.374, 0.381, 0.444, 0.6, 0.583, 0.414, 0.345, 0.595, 0.605, 0.394, 0.382, 0.594, 0.405, 0.36, 0.414, 0.604, 0.395, 0.592, 0.364, 0.387, 0.371, 0.389, 0.386, 0.362, 0.344, 0.356, 0.35, 0.574, 0.357, 0.441, 0.443, 0.378, 0.408, 0.567, 0.511, 0.387, 0.406, 0.357, 0.443, 0.376, 0.346, 0.553, 0.46, 0.605, 0.377, 0.483, 0.596, 0.505, 0.36, 0.371, 0.362, 0.368, 0.412, 0.373, 0.538, 0.366, 0.353, 0.331, 0.424, 0.407, 0.369, 0.404, 0.354, 0.447, 0.479, 0.472, 0.591, 0.352, 0.371, 0.351, 0.543, 0.46, 0.372, 0.591, 0.392, 0.412, 0.348, 0.367, 0.406, 0.533, 0.363, 0.379, 0.413, 0.5, 0.433, 0.413, 0.392, 0.555, 0.392, 0.412, 0.508, 0.401, 0.372, 0.36, 0.374, 0.597, 0.429]\n",
    "results_rank = [78, 26, 65, 7, 29, 21, 39, 64, 47, 52, 87, 36, 6, 74, 53, 57, 81, 33, 40, 7, 85, 80, 58, 83, 10, 2, 88, 33, 73, 40, 100, 16, 68, 63, 100, 81, 20, 62, 38, 57, 58, 30, 71, 98, 9, 90, 74, 54, 82, 86, 10, 3, 16, 65, 80, 29, 48, 25, 28, 7, 77, 92, 60, 19, 4, 58, 41, 14, 4, 86, 69, 72, 1, 81, 13, 44, 21, 54, 27, 9, 64, 49, 73, 24, 47, 52, 50, 35, 24, 47, 19, 36, 29, 46, 87, 97, 38, 27, 27, 88, 31, 35, 49, 64, 99, 70, 73, 36, 94, 75, 76, 48, 93, 72, 21, 91, 60, 39, 73, 38, 86, 85, 96, 7, 11, 96, 24, 29, 58, 48, 26, 31, 11, 44, 47, 68, 14, 99, 33, 50, 44, 23, 89, 25, 80, 76, 10, 79, 47, 63, 27, 64, 61, 84, 98, 48, 15, 62, 37, 6, 78, 100, 51, 27, 83, 80, 27, 61, 4, 6, 14, 83, 18, 65, 17, 25, 33, 5, 80, 65, 30, 5, 48, 30, 44, 13, 11, 48, 100, 51, 77, 89, 75, 33, 69, 89, 12, 93, 80, 86, 70, 70, 49, 7, 53, 76, 96, 88, 85, 23, 91, 76, 44, 61, 84, 7, 21, 49, 98, 68, 99, 33, 57, 22, 39, 51, 35, 25, 28, 30, 80, 34, 73, 74, 38, 71, 76, 75, 43, 57, 2, 57, 8, 16, 69, 54, 90, 10, 54, 79, 78, 31, 45, 13, 4, 49, 13, 63, 24, 53, 25, 73, 53, 43, 46, 52, 79, 55, 83, 96, 17, 37, 19, 88, 78, 16, 95, 48, 88, 35, 8, 85, 75, 28, 22, 82, 73, 74, 49, 44, 96, 41, 74, 72, 46, 38, 16, 10, 81, 67]"
   ]
  },
  {
   "cell_type": "code",
   "execution_count": 125,
   "id": "57904ee5",
   "metadata": {},
   "outputs": [],
   "source": [
    "np_results = np.array(results)\n",
    "np_results_rank = np.array(results_rank)\n",
    "\n",
    "results_1 = np_results[np_results_rank < 20].tolist()\n",
    "results_2 = np_results[(np_results_rank >= 20) & (np_results_rank < 40)].tolist()\n",
    "results_3 = np_results[(np_results_rank >= 40) & (np_results_rank < 60)].tolist()\n",
    "results_4 = np_results[(np_results_rank >= 60) & (np_results_rank < 80)].tolist()\n",
    "results_5 = np_results[np_results_rank >= 80].tolist()"
   ]
  },
  {
   "cell_type": "code",
   "execution_count": 126,
   "id": "a1ac0895",
   "metadata": {},
   "outputs": [
    {
     "data": {
      "image/png": "[encoded data removed]",
      "text/plain": [
       "<Figure size 432x288 with 1 Axes>"
      ]
     },
     "metadata": {
      "needs_background": "light"
     },
     "output_type": "display_data"
    },
    {
     "name": "stdout",
     "output_type": "stream",
     "text": [
      "[0.509000000000000, 0.364000000000000, 0.439000000000000, 0.374000000000000, 0.340000000000000, 0.365000000000000, 0.380000000000000, 0.421000000000000, 0.396000000000000, 0.411000000000000, 0.417000000000000, 0.361000000000000, 0.371000000000000, 0.513000000000000, 0.408000000000000, 0.513000000000000, 0.394000000000000, 0.366000000000000, 0.376000000000000, 0.389000000000000, 0.602000000000000, 0.450000000000000, 0.414000000000000, 0.442000000000000, 0.338000000000000, 0.353000000000000, 0.383000000000000, 0.353000000000000, 0.384000000000000, 0.378000000000000, 0.595000000000000, 0.385000000000000, 0.396000000000000, 0.450000000000000, 0.590000000000000, 0.407000000000000, 0.340000000000000, 0.491000000000000, 0.381000000000000, 0.447000000000000, 0.434000000000000, 0.368000000000000, 0.581000000000000, 0.569000000000000, 0.344000000000000, 0.597000000000000, 0.582000000000000, 0.408000000000000, 0.517000000000000, 0.591000000000000, 0.373000000000000, 0.372000000000000, 0.359000000000000, 0.460000000000000, 0.419000000000000, 0.356000000000000, 0.393000000000000, 0.341000000000000, 0.365000000000000, 0.375000000000000, 0.557000000000000, 0.518000000000000, 0.413000000000000, 0.376000000000000, 0.396000000000000, 0.459000000000000, 0.384000000000000, 0.368000000000000, 0.374000000000000, 0.578000000000000, 0.427000000000000, 0.445000000000000, 0.403000000000000, 0.562000000000000, 0.359000000000000, 0.374000000000000, 0.364000000000000, 0.452000000000000, 0.371000000000000, 0.365000000000000, 0.398000000000000, 0.392000000000000, 0.504000000000000, 0.365000000000000, 0.398000000000000, 0.404000000000000, 0.426000000000000, 0.365000000000000, 0.369000000000000, 0.411000000000000, 0.348000000000000, 0.372000000000000, 0.333000000000000, 0.406000000000000, 0.596000000000000, 0.590000000000000, 0.371000000000000, 0.345000000000000, 0.354000000000000, 0.583000000000000, 0.375000000000000, 0.372000000000000, 0.433000000000000, 0.368000000000000, 0.594000000000000, 0.445000000000000, 0.387000000000000, 0.364000000000000, 0.598000000000000, 0.434000000000000, 0.420000000000000, 0.378000000000000, 0.579000000000000, 0.533000000000000, 0.344000000000000, 0.588000000000000, 0.412000000000000, 0.361000000000000, 0.439000000000000, 0.387000000000000, 0.603000000000000, 0.548000000000000, 0.597000000000000, 0.386000000000000, 0.326000000000000, 0.594000000000000, 0.360000000000000, 0.344000000000000, 0.418000000000000, 0.403000000000000, 0.347000000000000, 0.345000000000000, 0.393000000000000, 0.405000000000000, 0.378000000000000, 0.538000000000000, 0.354000000000000, 0.598000000000000, 0.361000000000000, 0.380000000000000, 0.396000000000000, 0.374000000000000, 0.592000000000000, 0.341000000000000, 0.592000000000000, 0.572000000000000, 0.360000000000000, 0.369000000000000, 0.416000000000000, 0.505000000000000, 0.365000000000000, 0.415000000000000, 0.446000000000000, 0.519000000000000, 0.536000000000000, 0.401000000000000, 0.371000000000000, 0.501000000000000, 0.372000000000000, 0.373000000000000, 0.529000000000000, 0.595000000000000, 0.407000000000000, 0.346000000000000, 0.408000000000000, 0.583000000000000, 0.367000000000000, 0.432000000000000, 0.376000000000000, 0.390000000000000, 0.351000000000000, 0.520000000000000, 0.354000000000000, 0.438000000000000, 0.376000000000000, 0.347000000000000, 0.348000000000000, 0.372000000000000, 0.382000000000000, 0.406000000000000, 0.359000000000000, 0.373000000000000, 0.425000000000000, 0.351000000000000, 0.392000000000000, 0.372000000000000, 0.354000000000000, 0.405000000000000, 0.599000000000000, 0.418000000000000, 0.564000000000000, 0.588000000000000, 0.580000000000000, 0.342000000000000, 0.559000000000000, 0.541000000000000, 0.384000000000000, 0.599000000000000, 0.535000000000000, 0.574000000000000, 0.436000000000000, 0.494000000000000, 0.382000000000000, 0.374000000000000, 0.381000000000000, 0.444000000000000, 0.600000000000000, 0.583000000000000, 0.414000000000000, 0.345000000000000, 0.595000000000000, 0.605000000000000, 0.394000000000000, 0.382000000000000, 0.594000000000000, 0.405000000000000, 0.360000000000000, 0.414000000000000, 0.604000000000000, 0.395000000000000, 0.592000000000000, 0.364000000000000, 0.387000000000000, 0.371000000000000, 0.389000000000000, 0.386000000000000, 0.362000000000000, 0.344000000000000, 0.356000000000000, 0.350000000000000, 0.574000000000000, 0.357000000000000, 0.441000000000000, 0.443000000000000, 0.378000000000000, 0.408000000000000, 0.567000000000000, 0.511000000000000, 0.387000000000000, 0.406000000000000, 0.357000000000000, 0.443000000000000, 0.376000000000000, 0.346000000000000, 0.553000000000000, 0.460000000000000, 0.605000000000000, 0.377000000000000, 0.483000000000000, 0.596000000000000, 0.505000000000000, 0.360000000000000, 0.371000000000000, 0.362000000000000, 0.368000000000000, 0.412000000000000, 0.373000000000000, 0.538000000000000, 0.366000000000000, 0.353000000000000, 0.331000000000000, 0.424000000000000, 0.407000000000000, 0.369000000000000, 0.404000000000000, 0.354000000000000, 0.447000000000000, 0.479000000000000, 0.472000000000000, 0.591000000000000, 0.352000000000000, 0.371000000000000, 0.351000000000000, 0.543000000000000, 0.460000000000000, 0.372000000000000, 0.591000000000000, 0.392000000000000, 0.412000000000000, 0.348000000000000, 0.367000000000000, 0.406000000000000, 0.533000000000000, 0.363000000000000, 0.379000000000000, 0.413000000000000, 0.500000000000000, 0.433000000000000, 0.413000000000000, 0.392000000000000, 0.555000000000000, 0.392000000000000, 0.412000000000000, 0.508000000000000, 0.401000000000000, 0.372000000000000, 0.360000000000000, 0.374000000000000, 0.597000000000000, 0.429000000000000]\n"
     ]
    }
   ],
   "source": [
    "plot(results)\n",
    "print(results)"
   ]
  },
  {
   "cell_type": "code",
   "execution_count": 127,
   "id": "296e1cad",
   "metadata": {},
   "outputs": [
    {
     "data": {
      "image/png": "[encoded data removed]",
      "text/plain": [
       "<Figure size 432x288 with 1 Axes>"
      ]
     },
     "metadata": {
      "needs_background": "light"
     },
     "output_type": "display_data"
    },
    {
     "name": "stdout",
     "output_type": "stream",
     "text": [
      "[0.374, 0.371, 0.389, 0.338, 0.353, 0.385, 0.344, 0.373, 0.372, 0.359, 0.375, 0.376, 0.396, 0.368, 0.374, 0.403, 0.359, 0.365, 0.348, 0.386, 0.326, 0.393, 0.354, 0.36, 0.371, 0.373, 0.376, 0.39, 0.351, 0.354, 0.376, 0.372, 0.373, 0.372, 0.354, 0.384, 0.374, 0.405, 0.357, 0.376, 0.346, 0.377, 0.362, 0.368, 0.373, 0.352, 0.351, 0.372, 0.367, 0.36, 0.374]\n"
     ]
    }
   ],
   "source": [
    "plot(results_1)\n",
    "print(results_1)"
   ]
  },
  {
   "cell_type": "code",
   "execution_count": 132,
   "id": "f7a4c4ac",
   "metadata": {},
   "outputs": [
    {
     "data": {
      "image/png": "[encoded data removed]",
      "text/plain": [
       "<Figure size 432x288 with 1 Axes>"
      ]
     },
     "metadata": {
      "needs_background": "light"
     },
     "output_type": "display_data"
    },
    {
     "name": "stdout",
     "output_type": "stream",
     "text": [
      "[0.364, 0.34, 0.365, 0.38, 0.361, 0.366, 0.353, 0.34, 0.381, 0.368, 0.356, 0.341, 0.365, 0.364, 0.371, 0.365, 0.365, 0.369, 0.372, 0.333, 0.371, 0.345, 0.354, 0.375, 0.372, 0.364, 0.344, 0.361, 0.387, 0.36, 0.344, 0.347, 0.345, 0.361, 0.374, 0.341, 0.365, 0.372, 0.346, 0.367, 0.347, 0.348, 0.359, 0.351, 0.342, 0.345, 0.36, 0.364, 0.371, 0.389, 0.362, 0.344, 0.356, 0.35, 0.357, 0.378, 0.36, 0.366, 0.331, 0.371, 0.348, 0.363, 0.379, 0.372]\n"
     ]
    }
   ],
   "source": [
    "plot(results_2)\n",
    "print(results_2)"
   ]
  },
  {
   "cell_type": "code",
   "execution_count": 129,
   "id": "a2105355",
   "metadata": {},
   "outputs": [
    {
     "data": {
      "image/png": "[encoded data removed]",
      "text/plain": [
       "<Figure size 432x288 with 1 Axes>"
      ]
     },
     "metadata": {
      "needs_background": "light"
     },
     "output_type": "display_data"
    },
    {
     "name": "stdout",
     "output_type": "stream",
     "text": [
      "[0.396, 0.411, 0.408, 0.513, 0.376, 0.414, 0.378, 0.447, 0.434, 0.408, 0.393, 0.459, 0.384, 0.374, 0.452, 0.392, 0.398, 0.404, 0.426, 0.411, 0.406, 0.433, 0.378, 0.418, 0.403, 0.405, 0.378, 0.38, 0.396, 0.416, 0.401, 0.407, 0.425, 0.392, 0.405, 0.418, 0.382, 0.381, 0.394, 0.414, 0.387, 0.386, 0.387, 0.406, 0.443, 0.46, 0.483, 0.371, 0.412, 0.353, 0.407, 0.369, 0.404, 0.354, 0.479, 0.392, 0.413, 0.392, 0.392, 0.401]\n"
     ]
    }
   ],
   "source": [
    "plot(results_3)\n",
    "print(results_3)"
   ]
  },
  {
   "cell_type": "code",
   "execution_count": 130,
   "id": "e4a0790e",
   "metadata": {},
   "outputs": [
    {
     "data": {
      "image/png": "[encoded data removed]",
      "text/plain": [
       "<Figure size 432x288 with 1 Axes>"
      ]
     },
     "metadata": {
      "needs_background": "light"
     },
     "output_type": "display_data"
    },
    {
     "name": "stdout",
     "output_type": "stream",
     "text": [
      "[0.509, 0.439, 0.421, 0.513, 0.384, 0.396, 0.45, 0.491, 0.581, 0.582, 0.46, 0.557, 0.413, 0.427, 0.445, 0.398, 0.504, 0.368, 0.445, 0.387, 0.434, 0.42, 0.533, 0.412, 0.439, 0.538, 0.572, 0.369, 0.505, 0.415, 0.446, 0.501, 0.529, 0.432, 0.438, 0.406, 0.564, 0.58, 0.559, 0.436, 0.494, 0.444, 0.605, 0.382, 0.395, 0.441, 0.443, 0.408, 0.567, 0.511, 0.553, 0.596, 0.505, 0.538, 0.424, 0.447, 0.46, 0.533, 0.5, 0.433, 0.412, 0.508, 0.429]\n"
     ]
    }
   ],
   "source": [
    "plot(results_4)\n",
    "print(results_4)"
   ]
  },
  {
   "cell_type": "code",
   "execution_count": 131,
   "id": "99723745",
   "metadata": {},
   "outputs": [
    {
     "data": {
      "image/png": "[encoded data removed]",
      "text/plain": [
       "<Figure size 432x288 with 1 Axes>"
      ]
     },
     "metadata": {
      "needs_background": "light"
     },
     "output_type": "display_data"
    },
    {
     "name": "stdout",
     "output_type": "stream",
     "text": [
      "[0.417, 0.394, 0.602, 0.45, 0.442, 0.383, 0.595, 0.59, 0.407, 0.569, 0.597, 0.517, 0.591, 0.419, 0.518, 0.578, 0.562, 0.596, 0.59, 0.583, 0.594, 0.598, 0.579, 0.588, 0.603, 0.548, 0.597, 0.594, 0.598, 0.592, 0.592, 0.519, 0.536, 0.595, 0.408, 0.583, 0.52, 0.382, 0.599, 0.588, 0.541, 0.599, 0.535, 0.574, 0.6, 0.583, 0.414, 0.595, 0.594, 0.604, 0.592, 0.574, 0.605, 0.472, 0.591, 0.543, 0.591, 0.412, 0.406, 0.413, 0.555, 0.597]\n"
     ]
    }
   ],
   "source": [
    "plot(results_5)\n",
    "print(results_5)"
   ]
  },
  {
   "cell_type": "code",
   "execution_count": 136,
   "id": "f628569d",
   "metadata": {},
   "outputs": [
    {
     "data": {
      "text/plain": [
       "0.326000000000000"
      ]
     },
     "execution_count": 136,
     "metadata": {},
     "output_type": "execute_result"
    }
   ],
   "source": [
    "min(results)"
   ]
  },
  {
   "cell_type": "code",
   "execution_count": null,
   "id": "4148fe60",
   "metadata": {},
   "outputs": [],
   "source": [
    "from math import comb\n",
    "\n"
   ]
  }
 ],
 "metadata": {
  "kernelspec": {
   "display_name": "SageMath 9.4",
   "language": "sage",
   "name": "sagemath"
  },
  "language_info": {
   "codemirror_mode": {
    "name": "ipython",
    "version": 3
   },
   "file_extension": ".py",
   "mimetype": "text/x-python",
   "name": "python",
   "nbconvert_exporter": "python",
   "pygments_lexer": "ipython3",
   "version": "3.9.7"
  }
 },
 "nbformat": 4,
 "nbformat_minor": 5
}
