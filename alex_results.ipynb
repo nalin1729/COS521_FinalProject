{
 "cells": [
  {
   "cell_type": "code",
   "execution_count": 1,
   "id": "8649efe0",
   "metadata": {},
   "outputs": [],
   "source": [
    "import random\n",
    "from collections import defaultdict\n",
    "import time\n",
    "import matplotlib.pyplot as plt\n",
    "from functools import cache\n",
    "import numpy as np\n",
    "from sage.matroids.advanced import *"
   ]
  },
  {
   "cell_type": "markdown",
   "id": "d511be29",
   "metadata": {},
   "source": [
    "# Random Matroid Generation"
   ]
  },
  {
   "cell_type": "code",
   "execution_count": 27,
   "id": "ef2af01f",
   "metadata": {},
   "outputs": [],
   "source": [
    "class RandomMatroid:\n",
    "    def __init__(self, n):\n",
    "        self.n = n\n",
    "    \n",
    "    # If not overriden, returns a random k-uniform matroid, where k is also uniform\n",
    "    # between 1 and the universe size\n",
    "    def rand_matroid(self):\n",
    "#         return matroids.Uniform(random.randint(1, self.n), self.n)\n",
    "        return matroids.Uniform(83, self.n)\n",
    "    \n",
    "    def gen(self, num_matroids):\n",
    "        for _ in range(num_matroids):\n",
    "            yield self.rand_matroid()"
   ]
  },
  {
   "cell_type": "code",
   "execution_count": 3,
   "id": "956b84e8",
   "metadata": {},
   "outputs": [],
   "source": [
    "class GraphicRandomMatroid(RandomMatroid):\n",
    "    def __init__(self, n):\n",
    "        super().__init__(n)\n",
    "        \n",
    "    def rand_matroid(self):\n",
    "        G = graphs.RandomGNM(random.randint(math.ceil((1+math.sqrt(1+8*self.n))/2), self.n), self.n)\n",
    "        edges = [(e[0], e[1], i) for i, e in enumerate(G.edges())]\n",
    "        return Matroid(graph=edges)"
   ]
  },
  {
   "cell_type": "code",
   "execution_count": 4,
   "id": "8d99059a",
   "metadata": {},
   "outputs": [],
   "source": [
    "class LinearRandomMatroid(RandomMatroid):\n",
    "    # Dependence probability p refers to the probability that a newly generated element will be \n",
    "    # independent from all previous elements. If the element isn't independent from all previous \n",
    "    # elements, then it will be chosen to be a random integer linear combination of a uniform \n",
    "    # subset of the previously generated elements\n",
    "    #\n",
    "    # All linear matroids will be over a finite field of the given order. To simulate real numbers,\n",
    "    # make the order big compared to n\n",
    "    def __init__(self, n, order=100, p=[0, 1]):\n",
    "        super().__init__(n)\n",
    "        self.order = order\n",
    "        self.p = p\n",
    "    \n",
    "    # return one random linear matroid\n",
    "    def rand_matroid(self):\n",
    "        first_vector = [random.randint(0, self.order - 1) for j in range(self.n)]\n",
    "        matrix = [first_vector]\n",
    "        p = random.uniform(*self.p)\n",
    "        for i in range(1, self.n):\n",
    "            if random.random() < p:\n",
    "                # generate a uniform random subset of [1, ..., i - 1]\n",
    "                index_set = []\n",
    "                for j in range(i):\n",
    "                    if random.random() < 0.5: index_set.append(j)\n",
    "                        \n",
    "                if len(index_set) == 0: vector = [random.randint(0, self.order - 1) for j in range(self.n)]\n",
    "                else:\n",
    "                    vector = np.array([0 for j in range(self.n)])\n",
    "                    for j in index_set:\n",
    "                        coef = random.randint(1, self.order - 1)\n",
    "                        to_add = np.array(matrix[j])\n",
    "                        vector += to_add * coef\n",
    "                        vector = vector % self.order\n",
    "                        \n",
    "                    vector = list(vector)\n",
    "                        \n",
    "            else: \n",
    "                vector = [random.randint(0, self.order - 1) for j in range(self.n)]\n",
    "                \n",
    "            matrix.append(vector)\n",
    "\n",
    "        l = LinearMatroid(Matrix(GF(self.order), self.n, self.n, matrix).transpose())\n",
    "        if verbose: print(l.rank())\n",
    "        return l"
   ]
  },
  {
   "cell_type": "code",
   "execution_count": 5,
   "id": "2c26c6c8",
   "metadata": {},
   "outputs": [],
   "source": [
    "class TransversalMatroid:\n",
    "    # a = Number of nodes on the left side, a = number of nodes on the right side\n",
    "    # p = likelihood of a certain edge from some vertex on left to some vertex on right appearing\n",
    "    def __init__(self, a, b, p):\n",
    "        self.a = a; self.b = b; self.p = p\n",
    "        \n",
    "        self.A = [i for i in range(0, self.a)]\n",
    "        self.B = [i for i in range(self.a, self.a + self.b)]\n",
    "        self.source = -1\n",
    "        self.sink = self.a + self.b\n",
    "        self.adjacency = {vertex: [] for vertex in range(self.sink + 1)}\n",
    "        self.adjacency[self.source] = [x for x in self.A]\n",
    "        \n",
    "        # Initialize flow-network that will be used to check if perfect matchings exist\n",
    "        for v2 in self.B: self.adjacency[v2].append(self.sink)\n",
    "        \n",
    "        for v1 in self.A:\n",
    "            for v2 in self.B:\n",
    "                if random.random() < p: self.adjacency[v1].append(v2)\n",
    "                    \n",
    "        self.G = DiGraph(self.adjacency)\n",
    "        #self.G.plot().show()\n",
    "        \n",
    "        for edge in self.G.edge_boundary(self.A):\n",
    "            u = edge[0]; v = edge[1]\n",
    "            self.G.set_edge_label(u, v, 1)\n",
    "            \n",
    "        for edge in self.G.edge_boundary(self.B):\n",
    "            u = edge[0]; v = edge[1]\n",
    "            self.G.set_edge_label(u, v, 1)\n",
    "            \n",
    "        self.n = a\n",
    "\n",
    "    # Important: to make use of the cache, s needs to be immutable, e.g. a frozenset\n",
    "    @cache\n",
    "    def is_independent(self, s):\n",
    "        for edge in self.G.edge_boundary([self.source]):\n",
    "            u = edge[0]; v = edge[1]\n",
    "            self.G.set_edge_label(u, v, 1 if v in s else 0)\n",
    "        \n",
    "        flow = self.G.flow(self.source, self.sink, use_edge_labels=True)\n",
    "        assert flow <= len(s)\n",
    "        return flow == len(s)\n",
    "    \n",
    "    # Finds a max-weight basis of X (that is a subset of 0, ..., n - 1)\n",
    "    # weights should be a dictionary with key in X and value equivalent to weight of key\n",
    "    def max_weight_independent(self, X=None, weights=None):\n",
    "        # Use the greedy algorithm\n",
    "        order = sorted(X, key=lambda item: weights[item], reverse=True)\n",
    "        \n",
    "        current = set()\n",
    "        for e in order:\n",
    "            current.add(e)\n",
    "            if not self.is_independent(frozenset(current)):\n",
    "                current.remove(e)\n",
    "\n",
    "        return current\n",
    "    \n",
    "    # Return the span of X\n",
    "    def closure(self, X):\n",
    "        basis = self.max_weight_independent(X, {x: 0 for x in X})\n",
    "        \n",
    "        span = set()\n",
    "        for i in range(self.n):\n",
    "            if i in basis: span.add(i)\n",
    "            else:\n",
    "                basis.add(i)\n",
    "                if not self.is_independent(frozenset(basis)): span.add(i)\n",
    "                basis.remove(i)\n",
    "                \n",
    "        return span\n",
    "    \n",
    "    def size(self):\n",
    "        return self.n"
   ]
  },
  {
   "cell_type": "code",
   "execution_count": 8,
   "id": "2beb843c",
   "metadata": {},
   "outputs": [],
   "source": [
    "class TransversalRandomMatroid(RandomMatroid):\n",
    "    # a = Number of nodes on the left side, a = number of nodes on the right side\n",
    "    # p = likelihood of a certain edge from some vertex on left to some vertex on right appearing\n",
    "    def __init__(self, a=10, b=10, p=0.5):\n",
    "        super().__init__(a)\n",
    "        self.a = a\n",
    "        self.b = b\n",
    "        self.p = p\n",
    "    \n",
    "    # return one random transversal matroid\n",
    "    def rand_matroid(self):\n",
    "        return TransversalMatroid(self.a, self.b, self.p)"
   ]
  },
  {
   "cell_type": "code",
   "execution_count": 9,
   "id": "eff72a49",
   "metadata": {},
   "outputs": [],
   "source": [
    "class GeneralRandomMatroid(RandomMatroid):\n",
    "    def __init__(self, n):\n",
    "        super().__init__(n)\n",
    "        self.U = frozenset(range(n))\n",
    "    \n",
    "    def _isContained(self, AandB, Fr):\n",
    "        if len(AandB) == 0: return True\n",
    "        for C in Fr:\n",
    "            if AandB.issubset(C): return True\n",
    "        return False\n",
    "    \n",
    "    def rand_matroid(self):\n",
    "        r = 0\n",
    "        F = [set(frozenset())]\n",
    "        while self.U not in F[r]:\n",
    "            # generate covers\n",
    "            F_next = set(frozenset())\n",
    "            if r == 0:\n",
    "                for a in self.U:\n",
    "                    F_next.add(frozenset([a]))\n",
    "            else:\n",
    "                for A in F[r]:\n",
    "                    for a in self.U - A:\n",
    "                        x = set(A)\n",
    "                        x.add(a)\n",
    "                        F_next.add(frozenset(x))\n",
    "\n",
    "            #enlarge\n",
    "            if r != 0:\n",
    "                # adjust the number of times this loop is performed to generate different matroids\n",
    "                for _ in range(random.randint(0, self.n//2)):\n",
    "                    A = set(random.choice(list(F_next)))\n",
    "                    F_next.remove(A)\n",
    "                    if len(list(self.U-A)) != 0:\n",
    "                        A.add(random.choice(list(self.U-A)))\n",
    "                    F_next.add(frozenset(A))\n",
    "\n",
    "            # superpose\n",
    "            isContained = False\n",
    "            while not isContained:\n",
    "                isContained = True\n",
    "                not_contained = []\n",
    "                for A in F_next:\n",
    "                    for B in F_next:\n",
    "                        if A == B: continue\n",
    "                        if not self._isContained(A.intersection(B), F[r]): \n",
    "                            not_contained.append((A, B))\n",
    "                            isContained = False\n",
    "                for AB in not_contained:\n",
    "                    A, B = AB\n",
    "                    if A in F_next and B in F_next:\n",
    "                        F_next.remove(A)\n",
    "                        F_next.remove(B)\n",
    "                        F_next.add(A.union(B))\n",
    "            F.append(F_next)\n",
    "            r += 1\n",
    "    \n",
    "        closed_sets = []\n",
    "        for rank, X in enumerate(F):\n",
    "            for Y in X:\n",
    "                closed_sets.append((rank, Y))\n",
    "\n",
    "        return Matroid(self.U, circuit_closures = closed_sets)"
   ]
  },
  {
   "cell_type": "markdown",
   "id": "15f29a78",
   "metadata": {},
   "source": [
    "# Test Suite for AKW"
   ]
  },
  {
   "cell_type": "markdown",
   "id": "5ea7fd5e",
   "metadata": {},
   "source": [
    "## AKW Algorithm Implementation"
   ]
  },
  {
   "cell_type": "code",
   "execution_count": 10,
   "id": "61dc0c2a",
   "metadata": {},
   "outputs": [],
   "source": [
    "# Import any algorithm implementations here\n",
    "class FreeOrderMatroidAlgo:\n",
    "    def __init__(self, matroid, weights):\n",
    "        assert matroid.size() == len(weights)\n",
    "\n",
    "        self.matroid = matroid\n",
    "        self.weights = weights\n",
    "\n",
    "class Conjecture(FreeOrderMatroidAlgo):\n",
    "    def __init__(self, matroid, weights, sample_prob, verbose=False):\n",
    "        super().__init__(matroid, weights)\n",
    "        self.verbose = verbose\n",
    "        \n",
    "        # Sample S\n",
    "        S = []\n",
    "        self.P = set()\n",
    "        for i in range(self.matroid.size()):\n",
    "            if random.random() < sample_prob: \n",
    "                S.append((i, self.weights[i]))\n",
    "            else: self.P.add(i)\n",
    "\n",
    "        self.P = frozenset(self.P)\n",
    "        S = dict(S)\n",
    "        if self.verbose: print(f'{S = }')\n",
    "        self.X = self.matroid.max_weight_independent(X=set(S.keys()), weights=S) # max-weight basis of S\n",
    "        self.X = sorted(list(self.X), key=lambda i: self.weights[i], reverse=True)\n",
    "\n",
    "        self.current_iteration = 0\n",
    "        self.current_span = frozenset()\n",
    "\n",
    "    def run_trial(self):\n",
    "        cache(self.matroid.is_independent)\n",
    "        \n",
    "        total = 0\n",
    "        remaining = set(self.P) # which elements haven't been seen yet\n",
    "        #current_span = frozenset()\n",
    "        A = frozenset() # store the answer\n",
    "\n",
    "        Xset = set()\n",
    "        for i, basis_elem in enumerate(self.X):\n",
    "            # Check which elements in remaining are dependent\n",
    "            Xset.add(basis_elem)\n",
    "            candidates = []\n",
    "            for element in remaining:\n",
    "                Xset.add(element)\n",
    "                if not self.matroid.is_independent(frozenset(Xset)): candidates.append(element)\n",
    "                Xset.remove(element)\n",
    "            random.shuffle(candidates)\n",
    "            \n",
    "            if self.verbose: print(f'{candidates = }')\n",
    "            for y in candidates:\n",
    "                remaining.remove(y)\n",
    "                if self.weights[y] > self.weights[basis_elem]:\n",
    "                    if self.matroid.is_independent(A.union(frozenset([y]))): \n",
    "                        A = A.union(frozenset([y]))\n",
    "                        total += self.weights[y]\n",
    "                        if self.verbose: print(f'{y = }')\n",
    "            #current_span = next_span\n",
    "\n",
    "        remaining = list(remaining)\n",
    "        if self.verbose: print(f'{remaining = }')\n",
    "        random.shuffle(remaining)\n",
    "        for y in remaining:\n",
    "            if self.matroid.is_independent(A.union(frozenset([y]))): \n",
    "                A = A.union(frozenset([y]))\n",
    "                total += self.weights[y]\n",
    "\n",
    "        return total, A"
   ]
  },
  {
   "cell_type": "markdown",
   "id": "96a4f100",
   "metadata": {},
   "source": [
    "## Experiment Setup"
   ]
  },
  {
   "cell_type": "code",
   "execution_count": 11,
   "id": "493b3156",
   "metadata": {},
   "outputs": [],
   "source": [
    "# algo is assumed to be a FreeOrderMatroidAlgo. Returns averaged payoff over all trials\n",
    "# weights will be a list of values of each item\n",
    "def run_trials(num_trials, matroid, weights, verbose = False):\n",
    "    sum = 0\n",
    "    total_counts = defaultdict(lambda: 0)\n",
    "    for _ in range(num_trials):\n",
    "        algo = Conjecture(matroid, weights, exp(-1), verbose)\n",
    "        weight, included = algo.run_trial()\n",
    "        sum += weight\n",
    "        if verbose: print(f'{included = }')\n",
    "        for element in included: total_counts[element] += 1\n",
    "\n",
    "    for key in total_counts: total_counts[key] = float(total_counts[key]) / num_trials\n",
    "    return float(sum / num_trials), total_counts"
   ]
  },
  {
   "cell_type": "code",
   "execution_count": 12,
   "id": "e9fbe58f",
   "metadata": {},
   "outputs": [],
   "source": [
    "def run_experiment(M, num_trials, weights = None, verbose = False):\n",
    "    if weights is None: weights = [random.uniform(0, 1) for i in range(M.size())]\n",
    "\n",
    "    start_time = time.time()\n",
    "    val, freqs = run_trials(num_trials, M, weights, verbose)\n",
    "    end_time = time.time()\n",
    "    \n",
    "    if verbose: print(f\"Time to run {num_trials} trials is \", end_time - start_time)\n",
    "\n",
    "    opt_indices = M.max_weight_independent(X=set(range(M.size())), weights = dict([(i, weight) for i, weight in enumerate(weights)]))\n",
    "    opt_val = 0\n",
    "    ratios = []\n",
    "    \n",
    "    for opt_index in opt_indices:\n",
    "        ratios.append(freqs[opt_index])\n",
    "        #if (freqs[opt_index] < exp(-1)):\n",
    "            #print(\"Less than 1/e when \", M, opt_index)\n",
    "\n",
    "    if verbose: print(ratios)\n",
    "    return min(ratios)"
   ]
  },
  {
   "cell_type": "code",
   "execution_count": 13,
   "id": "3916f146",
   "metadata": {},
   "outputs": [],
   "source": [
    "def evaluate(rand_matroid, num_matroids, num_trials):\n",
    "    results = []\n",
    "    for i, M in enumerate(rand_matroid.gen(num_matroids), 1):\n",
    "        start = time.time()\n",
    "        results.append(run_experiment(M, num_trials))\n",
    "        end = time.time()\n",
    "        print(f'Matroid {i}/{num_matroids} completed in {round(end - start, 2)}s')\n",
    "    return results"
   ]
  },
  {
   "cell_type": "code",
   "execution_count": 41,
   "id": "28b32677",
   "metadata": {},
   "outputs": [],
   "source": [
    "def plot(results, fname=None):\n",
    "    bins = []\n",
    "    for x in range(int(min(results)/((1/30)*float(exp(-1)))), int(max(results)/((1/30)*float(exp(-1))))+2):\n",
    "        bins.append(x*(1/30)*float(exp(-1)))\n",
    "    plt.hist(results, bins = bins)\n",
    "    plt.axvline(x=float(exp(-1)), color = 'r', linestyle='dashed')\n",
    "    plt.xlabel('Minimum Ratio of Optimal Secretaries', fontsize=16)\n",
    "    plt.ylabel('Density', fontsize=16)\n",
    "    plt.tight_layout()\n",
    "    if fname: plt.savefig(fname)\n",
    "    plt.show()"
   ]
  },
  {
   "cell_type": "markdown",
   "id": "14d316be",
   "metadata": {},
   "source": [
    "## Evaluation of AKW"
   ]
  },
  {
   "cell_type": "code",
   "execution_count": 144,
   "id": "673ae46a",
   "metadata": {
    "scrolled": true
   },
   "outputs": [
    {
     "name": "stdout",
     "output_type": "stream",
     "text": [
      "[0.414, 0.441, 0.38, 0.432, 0.422, 0.4, 0.405, 0.441, 0.411, 0.441, 0.388, 0.434, 0.41, 0.465, 0.408, 0.47, 0.432, 0.459, 0.479, 0.424, 0.412]\n",
      "Matroid 1/2 completed in 26.35s\n",
      "[0.621, 0.533, 0.557, 0.635, 0.588, 0.611, 0.603, 0.624, 0.639, 0.556, 0.639, 0.572, 0.623, 0.638, 0.633, 0.629, 0.552, 0.621, 0.61, 0.561, 0.623, 0.568, 0.605, 0.65, 0.637, 0.601, 0.626, 0.549, 0.591, 0.584, 0.563, 0.634, 0.544, 0.545, 0.552, 0.609, 0.571, 0.579, 0.551, 0.519, 0.535, 0.62, 0.634, 0.593, 0.585, 0.553, 0.603, 0.544, 0.565, 0.569, 0.549, 0.587, 0.546, 0.568, 0.564, 0.585, 0.613, 0.646, 0.652, 0.62, 0.552, 0.515, 0.551, 0.544, 0.604, 0.534, 0.637, 0.649, 0.63, 0.607, 0.608, 0.638, 0.637, 0.606]\n",
      "Matroid 2/2 completed in 48.97s\n"
     ]
    }
   ],
   "source": [
    "# Experiment 1: 100 graphic matroids, size 101\n",
    "random.seed(int(1001))\n",
    "results1 = evaluate(GraphicRandomMatroid(n=101), num_matroids=100, num_trials=1000)"
   ]
  },
  {
   "cell_type": "code",
   "execution_count": 147,
   "id": "ad125f62",
   "metadata": {},
   "outputs": [
    {
     "data": {
      "image/png": "[encoded data removed]",
      "text/plain": [
       "<Figure size 432x288 with 1 Axes>"
      ]
     },
     "metadata": {
      "needs_background": "light"
     },
     "output_type": "display_data"
    }
   ],
   "source": [
    "plot(results1)\n",
    "print(results1)"
   ]
  },
  {
   "cell_type": "code",
   "execution_count": 216,
   "id": "7941d65f",
   "metadata": {},
   "outputs": [
    {
     "name": "stdout",
     "output_type": "stream",
     "text": [
      "Matroid 1/5 completed in 179.54s\n",
      "Matroid 2/5 completed in 191.72s\n",
      "Matroid 3/5 completed in 186.53s\n",
      "Matroid 4/5 completed in 197.52s\n",
      "Matroid 5/5 completed in 205.53s\n"
     ]
    }
   ],
   "source": [
    "# Experiment 2: 5 Transversal Matroids on a bipartite graph with nodes on left = 25, \n",
    "# nodes on right = 25, and edge inclusion probability 0.2\n",
    "random.seed(int(1002))\n",
    "results2 = evaluate(TransversalRandomMatroid(25, 25, 0.2), num_matroids=5, num_trials=1000)"
   ]
  },
  {
   "cell_type": "code",
   "execution_count": 217,
   "id": "653eee33",
   "metadata": {},
   "outputs": [
    {
     "data": {
      "image/png": "[encoded data removed]",
      "text/plain": [
       "<Figure size 432x288 with 1 Axes>"
      ]
     },
     "metadata": {
      "needs_background": "light"
     },
     "output_type": "display_data"
    },
    {
     "name": "stdout",
     "output_type": "stream",
     "text": [
      "[0.586, 0.599, 0.595, 0.599, 0.589]\n"
     ]
    }
   ],
   "source": [
    "plot(results2)\n",
    "print(results2)"
   ]
  },
  {
   "cell_type": "code",
   "execution_count": 218,
   "id": "b78d8833",
   "metadata": {},
   "outputs": [
    {
     "name": "stdout",
     "output_type": "stream",
     "text": [
      "Matroid 1/5 completed in 9119.76s\n",
      "Matroid 2/5 completed in 3773.59s\n",
      "Matroid 3/5 completed in 4677.09s\n",
      "Matroid 4/5 completed in 3688.02s\n",
      "Matroid 5/5 completed in 3578.39s\n"
     ]
    }
   ],
   "source": [
    "# Experiment 3: 5 Transversal Matroids on a bipartite graph with nodes on left = 25, \n",
    "# nodes on right = 25, and edge inclusion probability 0.5\n",
    "random.seed(int(1004))\n",
    "results3 = evaluate(TransversalRandomMatroid(50, 25, 0.5), num_matroids=5, num_trials=1000)"
   ]
  },
  {
   "cell_type": "code",
   "execution_count": 219,
   "id": "4c8a8109",
   "metadata": {},
   "outputs": [
    {
     "data": {
      "image/png": "[encoded data removed]",
      "text/plain": [
       "<Figure size 432x288 with 1 Axes>"
      ]
     },
     "metadata": {
      "needs_background": "light"
     },
     "output_type": "display_data"
    },
    {
     "name": "stdout",
     "output_type": "stream",
     "text": [
      "[0.462, 0.474, 0.463, 0.475, 0.476]\n"
     ]
    }
   ],
   "source": [
    "plot(results3)\n",
    "print(results3)"
   ]
  },
  {
   "cell_type": "code",
   "execution_count": 148,
   "id": "a5ed7543",
   "metadata": {
    "scrolled": true
   },
   "outputs": [
    {
     "name": "stdout",
     "output_type": "stream",
     "text": [
      "[1.0, 0, 1.0, 1.0, 0, 1.0, 0, 1.0, 0, 1.0, 0, 0, 0, 0, 0, 0, 0, 0, 0, 1.0, 1.0, 1.0, 0, 1.0, 1.0]\n",
      "Matroid 1/5 completed in 3.27s\n",
      "[0, 0, 0, 0, 1.0, 0, 1.0, 1.0, 0, 1.0, 0, 0, 0, 0, 0, 1.0, 1.0, 0, 1.0, 0, 1.0, 1.0, 1.0, 0, 1.0]\n",
      "Matroid 2/5 completed in 3.04s\n",
      "[1.0, 0, 0, 0, 1.0, 1.0, 1.0, 0, 0, 1.0, 0, 0, 1.0, 1.0, 1.0, 1.0, 0, 1.0, 0, 1.0, 0, 0, 1.0, 1.0, 0]\n",
      "Matroid 3/5 completed in 2.38s\n",
      "[0, 1.0, 1.0, 1.0, 0, 1.0, 0, 1.0, 0, 1.0, 0, 0, 1.0, 1.0, 1.0, 1.0, 0, 0, 1.0, 1.0, 0, 1.0, 1.0, 0, 1.0]\n",
      "Matroid 4/5 completed in 3.01s\n",
      "[0, 1.0, 0, 1.0, 1.0, 1.0, 0, 1.0, 0, 0, 0, 0, 1.0, 1.0, 1.0, 1.0, 0, 0, 1.0, 0, 0, 1.0, 1.0, 1.0, 1.0]\n",
      "Matroid 5/5 completed in 2.96s\n"
     ]
    }
   ],
   "source": [
    "# Experiment 4: 10 Transversal Matroids on a bipartite graph with nodes on left = 50, \n",
    "# nodes on right = 25, and edge inclusion probability 0.3\n",
    "random.seed(int(1004))\n",
    "results4 = evaluate(TransversalRandomMatroid(50, 25, 0.3), num_matroids=10, num_trials=1000)"
   ]
  },
  {
   "cell_type": "code",
   "execution_count": null,
   "id": "a47aba36",
   "metadata": {},
   "outputs": [],
   "source": [
    "plot(results4)\n",
    "print(results4)"
   ]
  },
  {
   "cell_type": "code",
   "execution_count": 16,
   "id": "68a3b14f",
   "metadata": {},
   "outputs": [
    {
     "name": "stdout",
     "output_type": "stream",
     "text": [
      "Matroid 1/10 completed in 2175.85s\n",
      "Matroid 2/10 completed in 2244.42s\n",
      "Matroid 3/10 completed in 1927.36s\n",
      "Matroid 4/10 completed in 2095.02s\n",
      "Matroid 5/10 completed in 1898.29s\n",
      "Matroid 6/10 completed in 1991.18s\n",
      "Matroid 7/10 completed in 2051.34s\n",
      "Matroid 8/10 completed in 2140.08s\n",
      "Matroid 9/10 completed in 1978.06s\n",
      "Matroid 10/10 completed in 2025.29s\n"
     ]
    }
   ],
   "source": [
    "# Experiment 5: 10 Transversal Matroids on a bipartite graph with nodes on left = 25, \n",
    "# nodes on right = 50, and edge inclusion probability 0.5\n",
    "random.seed(int(1005))\n",
    "results5 = evaluate(TransversalRandomMatroid(50, 25, 0.5), num_matroids=10, num_trials=1000)"
   ]
  },
  {
   "cell_type": "code",
   "execution_count": 21,
   "id": "17d26b6f",
   "metadata": {},
   "outputs": [
    {
     "data": {
      "image/png": "[encoded data removed]",
      "text/plain": [
       "<Figure size 432x288 with 1 Axes>"
      ]
     },
     "metadata": {
      "needs_background": "light"
     },
     "output_type": "display_data"
    },
    {
     "name": "stdout",
     "output_type": "stream",
     "text": [
      "[0.468, 0.474, 0.463, 0.466, 0.47, 0.476, 0.463, 0.474, 0.466, 0.463]\n"
     ]
    }
   ],
   "source": [
    "plot(results5)\n",
    "print(results5)"
   ]
  },
  {
   "cell_type": "code",
   "execution_count": null,
   "id": "e67a40e5",
   "metadata": {},
   "outputs": [],
   "source": [
    "# Plot all \n",
    "plot(results2 + results3 + results4 + results5)"
   ]
  },
  {
   "cell_type": "code",
   "execution_count": null,
   "id": "00605170",
   "metadata": {},
   "outputs": [],
   "source": [
    "# Experiment 6: 100 Random Matroids with universe size = 15 (Note that these aren't actually\n",
    "# uniformly at random chosen from all size-13 matroids; see Knuth's algorithm)\n",
    "\n",
    "random.seed(int(1006))\n",
    "results6 = evaluate(GeneralRandomMatroid(15), num_matroids=100, num_trials=1000)"
   ]
  },
  {
   "cell_type": "code",
   "execution_count": null,
   "id": "c8017a85",
   "metadata": {},
   "outputs": [],
   "source": [
    "plot(results6)\n",
    "print(results6)"
   ]
  },
  {
   "cell_type": "code",
   "execution_count": 18,
   "id": "58506bce",
   "metadata": {},
   "outputs": [
    {
     "name": "stdout",
     "output_type": "stream",
     "text": [
      "Matroid 1/100 completed in 16.76s\n",
      "Matroid 2/100 completed in 23.72s\n",
      "Matroid 3/100 completed in 20.1s\n",
      "Matroid 4/100 completed in 26.55s\n",
      "Matroid 5/100 completed in 23.5s\n",
      "Matroid 6/100 completed in 23.8s\n",
      "Matroid 7/100 completed in 19.33s\n",
      "Matroid 8/100 completed in 23.84s\n",
      "Matroid 9/100 completed in 18.08s\n",
      "Matroid 10/100 completed in 23.98s\n",
      "Matroid 11/100 completed in 23.88s\n",
      "Matroid 12/100 completed in 26.91s\n",
      "Matroid 13/100 completed in 23.82s\n",
      "Matroid 14/100 completed in 23.82s\n",
      "Matroid 15/100 completed in 23.88s\n",
      "Matroid 16/100 completed in 23.86s\n",
      "Matroid 17/100 completed in 23.96s\n",
      "Matroid 18/100 completed in 23.78s\n",
      "Matroid 19/100 completed in 23.79s\n",
      "Matroid 20/100 completed in 23.84s\n",
      "Matroid 21/100 completed in 23.8s\n",
      "Matroid 22/100 completed in 21.01s\n",
      "Matroid 23/100 completed in 22.73s\n",
      "Matroid 24/100 completed in 23.8s\n",
      "Matroid 25/100 completed in 23.91s\n",
      "Matroid 26/100 completed in 23.97s\n",
      "Matroid 27/100 completed in 23.74s\n",
      "Matroid 28/100 completed in 16.83s\n",
      "Matroid 29/100 completed in 23.84s\n",
      "Matroid 30/100 completed in 19.41s\n",
      "Matroid 31/100 completed in 23.88s\n",
      "Matroid 32/100 completed in 23.88s\n",
      "Matroid 33/100 completed in 23.81s\n",
      "Matroid 34/100 completed in 23.8s\n",
      "Matroid 35/100 completed in 27.34s\n",
      "Matroid 36/100 completed in 23.86s\n",
      "Matroid 37/100 completed in 23.78s\n",
      "Matroid 38/100 completed in 23.87s\n",
      "Matroid 39/100 completed in 20.35s\n",
      "Matroid 40/100 completed in 20.07s\n",
      "Matroid 41/100 completed in 23.8s\n",
      "Matroid 42/100 completed in 23.78s\n",
      "Matroid 43/100 completed in 23.85s\n",
      "Matroid 44/100 completed in 23.82s\n",
      "Matroid 45/100 completed in 16.52s\n",
      "Matroid 46/100 completed in 24.07s\n",
      "Matroid 47/100 completed in 23.85s\n",
      "Matroid 48/100 completed in 23.88s\n",
      "Matroid 49/100 completed in 23.82s\n",
      "Matroid 50/100 completed in 27.04s\n",
      "Matroid 51/100 completed in 24.25s\n",
      "Matroid 52/100 completed in 22.19s\n",
      "Matroid 53/100 completed in 23.86s\n",
      "Matroid 54/100 completed in 23.77s\n",
      "Matroid 55/100 completed in 23.8s\n",
      "Matroid 56/100 completed in 23.51s\n",
      "Matroid 57/100 completed in 23.75s\n",
      "Matroid 58/100 completed in 23.86s\n",
      "Matroid 59/100 completed in 23.83s\n",
      "Matroid 60/100 completed in 21.79s\n",
      "Matroid 61/100 completed in 23.92s\n",
      "Matroid 62/100 completed in 16.5s\n",
      "Matroid 63/100 completed in 23.5s\n",
      "Matroid 64/100 completed in 17.48s\n",
      "Matroid 65/100 completed in 23.91s\n",
      "Matroid 66/100 completed in 18.04s\n",
      "Matroid 67/100 completed in 23.68s\n",
      "Matroid 68/100 completed in 23.79s\n",
      "Matroid 69/100 completed in 20.19s\n",
      "Matroid 70/100 completed in 28.06s\n",
      "Matroid 71/100 completed in 19.87s\n",
      "Matroid 72/100 completed in 21.8s\n",
      "Matroid 73/100 completed in 23.92s\n",
      "Matroid 74/100 completed in 23.81s\n",
      "Matroid 75/100 completed in 23.84s\n",
      "Matroid 76/100 completed in 23.87s\n",
      "Matroid 77/100 completed in 18.16s\n",
      "Matroid 78/100 completed in 23.8s\n",
      "Matroid 79/100 completed in 23.83s\n",
      "Matroid 80/100 completed in 18.16s\n",
      "Matroid 81/100 completed in 23.81s\n",
      "Matroid 82/100 completed in 23.86s\n",
      "Matroid 83/100 completed in 20.48s\n",
      "Matroid 84/100 completed in 23.97s\n",
      "Matroid 85/100 completed in 23.81s\n",
      "Matroid 86/100 completed in 23.78s\n",
      "Matroid 87/100 completed in 20.42s\n",
      "Matroid 88/100 completed in 23.84s\n",
      "Matroid 89/100 completed in 23.73s\n",
      "Matroid 90/100 completed in 23.85s\n",
      "Matroid 91/100 completed in 23.73s\n",
      "Matroid 92/100 completed in 22.21s\n",
      "Matroid 93/100 completed in 23.87s\n",
      "Matroid 94/100 completed in 24.32s\n",
      "Matroid 95/100 completed in 16.39s\n",
      "Matroid 96/100 completed in 23.9s\n",
      "Matroid 97/100 completed in 23.78s\n",
      "Matroid 98/100 completed in 23.91s\n",
      "Matroid 99/100 completed in 21.68s\n",
      "Matroid 100/100 completed in 23.88s\n"
     ]
    }
   ],
   "source": [
    "# Experiment 7: 100 Random Uniform Matroids with universe size = 200 (rank is also random)\n",
    "random.seed(int(1007))\n",
    "results7 = evaluate(RandomMatroid(200), num_matroids=100, num_trials=1000)"
   ]
  },
  {
   "cell_type": "code",
   "execution_count": 44,
   "id": "46486cfa",
   "metadata": {},
   "outputs": [
    {
     "data": {
      "image/png": "[encoded data removed]",
      "text/plain": [
       "<Figure size 432x288 with 1 Axes>"
      ]
     },
     "metadata": {
      "needs_background": "light"
     },
     "output_type": "display_data"
    },
    {
     "name": "stdout",
     "output_type": "stream",
     "text": [
      "[0.325, 0.33, 0.331, 0.331, 0.332, 0.334, 0.334, 0.336, 0.339, 0.339, 0.34, 0.34, 0.341, 0.341, 0.342, 0.344, 0.344, 0.344, 0.344, 0.346, 0.35, 0.351, 0.353, 0.353, 0.355, 0.355, 0.357, 0.357, 0.359, 0.359, 0.359, 0.36, 0.363, 0.371, 0.372, 0.379, 0.384, 0.387, 0.388, 0.397, 0.427, 0.439, 0.443, 0.454, 0.47, 0.49, 0.495, 0.516, 0.524, 0.535, 0.541, 0.561, 0.561, 0.568, 0.573, 0.575, 0.58, 0.581, 0.581, 0.581, 0.582, 0.584, 0.585, 0.586, 0.587, 0.587, 0.587, 0.587, 0.588, 0.588, 0.588, 0.589, 0.59, 0.591, 0.591, 0.591, 0.593, 0.593, 0.594, 0.594, 0.594, 0.594, 0.595, 0.595, 0.595, 0.595, 0.595, 0.596, 0.596, 0.597, 0.597, 0.597, 0.597, 0.597, 0.597, 0.599, 0.599, 0.599, 0.601, 0.601]\n"
     ]
    }
   ],
   "source": [
    "plot(results7)\n",
    "print(sorted(results7))"
   ]
  },
  {
   "cell_type": "code",
   "execution_count": 214,
   "id": "945b2787",
   "metadata": {},
   "outputs": [
    {
     "name": "stdout",
     "output_type": "stream",
     "text": [
      "65\n",
      "Matroid 1/1 completed in 0.28s\n"
     ]
    }
   ],
   "source": [
    "# Experiment 8: 20 random linear matroids in a finite field of order 563 with rank (somewhat)\n",
    "# uniformly distributed between 1 and universe size\n",
    "random.seed(int(1008))\n",
    "results8 = evaluate(LinearRandomMatroid(110, order=563), num_matroids=20, num_trials=1000)"
   ]
  },
  {
   "cell_type": "code",
   "execution_count": 213,
   "id": "0bcfe8b1",
   "metadata": {},
   "outputs": [
    {
     "ename": "NameError",
     "evalue": "name 'results8' is not defined",
     "output_type": "error",
     "traceback": [
      "\u001b[0;31m---------------------------------------------------------------------------\u001b[0m",
      "\u001b[0;31mNameError\u001b[0m                                 Traceback (most recent call last)",
      "\u001b[0;32m<ipython-input-213-e1756aa26542>\u001b[0m in \u001b[0;36m<module>\u001b[0;34m\u001b[0m\n\u001b[0;32m----> 1\u001b[0;31m \u001b[0mplot\u001b[0m\u001b[0;34m(\u001b[0m\u001b[0mresults8\u001b[0m\u001b[0;34m)\u001b[0m\u001b[0;34m\u001b[0m\u001b[0;34m\u001b[0m\u001b[0m\n\u001b[0m\u001b[1;32m      2\u001b[0m \u001b[0mprint\u001b[0m\u001b[0;34m(\u001b[0m\u001b[0mresults8\u001b[0m\u001b[0;34m)\u001b[0m\u001b[0;34m\u001b[0m\u001b[0;34m\u001b[0m\u001b[0m\n",
      "\u001b[0;31mNameError\u001b[0m: name 'results8' is not defined"
     ]
    }
   ],
   "source": [
    "plot(results8)\n",
    "print(results8)"
   ]
  },
  {
   "cell_type": "code",
   "execution_count": 28,
   "id": "5bd65235",
   "metadata": {},
   "outputs": [
    {
     "name": "stdout",
     "output_type": "stream",
     "text": [
      "Matroid 1/10 completed in 26.19s\n",
      "Matroid 2/10 completed in 27.94s\n",
      "Matroid 3/10 completed in 27.7s\n",
      "Matroid 4/10 completed in 27.46s\n",
      "Matroid 5/10 completed in 26.01s\n",
      "Matroid 6/10 completed in 27.25s\n",
      "Matroid 7/10 completed in 28.66s\n",
      "Matroid 8/10 completed in 28.28s\n",
      "Matroid 9/10 completed in 28.9s\n",
      "Matroid 10/10 completed in 28.55s\n"
     ]
    }
   ],
   "source": [
    "random.seed(int(1009))\n",
    "results9 = evaluate(RandomMatroid(200), num_matroids=10, num_trials=1000)"
   ]
  },
  {
   "cell_type": "code",
   "execution_count": 42,
   "id": "76193e8c",
   "metadata": {},
   "outputs": [
    {
     "data": {
      "image/png": "[encoded data removed]",
      "text/plain": [
       "<Figure size 432x288 with 1 Axes>"
      ]
     },
     "metadata": {
      "needs_background": "light"
     },
     "output_type": "display_data"
    },
    {
     "name": "stdout",
     "output_type": "stream",
     "text": [
      "[0.379, 0.382, 0.37, 0.386, 0.381, 0.377, 0.379, 0.372, 0.372, 0.382]\n"
     ]
    }
   ],
   "source": [
    "plot(results9)\n",
    "print(results9)"
   ]
  },
  {
   "cell_type": "markdown",
   "id": "1bb94955",
   "metadata": {},
   "source": [
    "# Testing for Pseudo-Virtual Algorithm"
   ]
  },
  {
   "cell_type": "code",
   "execution_count": null,
   "id": "828bb716",
   "metadata": {},
   "outputs": [],
   "source": []
  }
 ],
 "metadata": {
  "kernelspec": {
   "display_name": "SageMath 9.3",
   "language": "sage",
   "name": "sagemath"
  },
  "language_info": {
   "codemirror_mode": {
    "name": "ipython",
    "version": 3
   },
   "file_extension": ".py",
   "mimetype": "text/x-python",
   "name": "python",
   "nbconvert_exporter": "python",
   "pygments_lexer": "ipython3",
   "version": "3.9.7"
  }
 },
 "nbformat": 4,
 "nbformat_minor": 5
}
