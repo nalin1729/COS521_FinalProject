{
 "cells": [
  {
   "cell_type": "code",
   "execution_count": 1,
   "id": "8649efe0",
   "metadata": {},
   "outputs": [],
   "source": [
    "import random\n",
    "from collections import defaultdict\n",
    "import time\n",
    "import matplotlib.pyplot as plt\n",
    "from functools import cache\n",
    "import numpy as np\n",
    "from sage.matroids.advanced import *"
   ]
  },
  {
   "cell_type": "markdown",
   "id": "d511be29",
   "metadata": {},
   "source": [
    "# Random Matroid Generation"
   ]
  },
  {
   "cell_type": "code",
   "execution_count": 35,
   "id": "ef2af01f",
   "metadata": {},
   "outputs": [],
   "source": [
    "class RandomMatroid:\n",
    "    def __init__(self, n):\n",
    "        self.n = n\n",
    "    \n",
    "    # If not overriden, returns a random k-uniform matroid, where k is also uniform\n",
    "    # between 1 and the universe size\n",
    "    def rand_matroid(self):\n",
    "        m = matroids.Uniform(random.randint(1, self.n), self.n)\n",
    "        return m\n",
    "    \n",
    "    def gen(self, num_matroids):\n",
    "        for _ in range(num_matroids):\n",
    "            yield self.rand_matroid()"
   ]
  },
  {
   "cell_type": "code",
   "execution_count": 3,
   "id": "956b84e8",
   "metadata": {},
   "outputs": [],
   "source": [
    "class GraphicRandomMatroid(RandomMatroid):\n",
    "    def __init__(self, n):\n",
    "        super().__init__(n)\n",
    "        \n",
    "    def rand_matroid(self):\n",
    "        G = graphs.RandomGNM(random.randint(math.ceil((1+math.sqrt(1+8*self.n))/2), self.n), self.n)\n",
    "        edges = [(e[0], e[1], i) for i, e in enumerate(G.edges())]\n",
    "        return Matroid(graph=edges)"
   ]
  },
  {
   "cell_type": "code",
   "execution_count": 4,
   "id": "8d99059a",
   "metadata": {},
   "outputs": [],
   "source": [
    "class LinearRandomMatroid(RandomMatroid):\n",
    "    # Dependence probability p refers to the probability that a newly generated element will be \n",
    "    # independent from all previous elements. If the element isn't independent from all previous \n",
    "    # elements, then it will be chosen to be a random integer linear combination of a uniform \n",
    "    # subset of the previously generated elements\n",
    "    #\n",
    "    # All linear matroids will be over a finite field of the given order. To simulate real numbers,\n",
    "    # make the order big compared to n\n",
    "    def __init__(self, n, order=100, p=[0, 1]):\n",
    "        super().__init__(n)\n",
    "        self.order = order\n",
    "        self.p = p\n",
    "    \n",
    "    # return one random linear matroid\n",
    "    def rand_matroid(self):\n",
    "        first_vector = [random.randint(0, self.order - 1) for j in range(self.n)]\n",
    "        matrix = [first_vector]\n",
    "        p = random.uniform(*self.p)\n",
    "        for i in range(1, self.n):\n",
    "            if random.random() < p:\n",
    "                # generate a uniform random subset of [1, ..., i - 1]\n",
    "                index_set = []\n",
    "                for j in range(i):\n",
    "                    if random.random() < 0.5: index_set.append(j)\n",
    "                        \n",
    "                if len(index_set) == 0: vector = [random.randint(0, self.order - 1) for j in range(self.n)]\n",
    "                else:\n",
    "                    vector = np.array([0 for j in range(self.n)])\n",
    "                    for j in index_set:\n",
    "                        coef = random.randint(1, self.order - 1)\n",
    "                        to_add = np.array(matrix[j])\n",
    "                        vector += to_add * coef\n",
    "                        vector = vector % self.order\n",
    "                        \n",
    "                    vector = list(vector)\n",
    "                        \n",
    "            else: \n",
    "                vector = [random.randint(0, self.order - 1) for j in range(self.n)]\n",
    "                \n",
    "            matrix.append(vector)\n",
    "\n",
    "        l = LinearMatroid(Matrix(GF(self.order), self.n, self.n, matrix).transpose())\n",
    "        if verbose: print(l.rank())\n",
    "        return l"
   ]
  },
  {
   "cell_type": "code",
   "execution_count": 5,
   "id": "2c26c6c8",
   "metadata": {},
   "outputs": [],
   "source": [
    "class TransversalMatroid:\n",
    "    # a = Number of nodes on the left side, a = number of nodes on the right side\n",
    "    # p = likelihood of a certain edge from some vertex on left to some vertex on right appearing\n",
    "    def __init__(self, a, b, p):\n",
    "        self.a = a; self.b = b; self.p = p\n",
    "        \n",
    "        self.A = [i for i in range(0, self.a)]\n",
    "        self.B = [i for i in range(self.a, self.a + self.b)]\n",
    "        self.source = -1\n",
    "        self.sink = self.a + self.b\n",
    "        self.adjacency = {vertex: [] for vertex in range(self.sink + 1)}\n",
    "        self.adjacency[self.source] = [x for x in self.A]\n",
    "        \n",
    "        # Initialize flow-network that will be used to check if perfect matchings exist\n",
    "        for v2 in self.B: self.adjacency[v2].append(self.sink)\n",
    "        \n",
    "        for v1 in self.A:\n",
    "            for v2 in self.B:\n",
    "                if random.random() < p: self.adjacency[v1].append(v2)\n",
    "                    \n",
    "        self.G = DiGraph(self.adjacency)\n",
    "        #self.G.plot().show()\n",
    "        \n",
    "        for edge in self.G.edge_boundary(self.A):\n",
    "            u = edge[0]; v = edge[1]\n",
    "            self.G.set_edge_label(u, v, 1)\n",
    "            \n",
    "        for edge in self.G.edge_boundary(self.B):\n",
    "            u = edge[0]; v = edge[1]\n",
    "            self.G.set_edge_label(u, v, 1)\n",
    "            \n",
    "        self.n = a\n",
    "\n",
    "    # Important: to make use of the cache, s needs to be immutable, e.g. a frozenset\n",
    "    @cache\n",
    "    def is_independent(self, s):\n",
    "        for edge in self.G.edge_boundary([self.source]):\n",
    "            u = edge[0]; v = edge[1]\n",
    "            self.G.set_edge_label(u, v, 1 if v in s else 0)\n",
    "        \n",
    "        flow = self.G.flow(self.source, self.sink, use_edge_labels=True)\n",
    "        assert flow <= len(s)\n",
    "        return flow == len(s)\n",
    "    \n",
    "    # Finds a max-weight basis of X (that is a subset of 0, ..., n - 1)\n",
    "    # weights should be a dictionary with key in X and value equivalent to weight of key\n",
    "    def max_weight_independent(self, X=None, weights=None):\n",
    "        # Use the greedy algorithm\n",
    "        order = sorted(X, key=lambda item: weights[item], reverse=True)\n",
    "        \n",
    "        current = set()\n",
    "        for e in order:\n",
    "            current.add(e)\n",
    "            if not self.is_independent(frozenset(current)):\n",
    "                current.remove(e)\n",
    "\n",
    "        return current\n",
    "    \n",
    "    # Return the span of X\n",
    "    def closure(self, X):\n",
    "        basis = self.max_weight_independent(X, {x: 0 for x in X})\n",
    "        \n",
    "        span = set()\n",
    "        for i in range(self.n):\n",
    "            if i in basis: span.add(i)\n",
    "            else:\n",
    "                basis.add(i)\n",
    "                if not self.is_independent(frozenset(basis)): span.add(i)\n",
    "                basis.remove(i)\n",
    "                \n",
    "        return span\n",
    "    \n",
    "    def size(self):\n",
    "        return self.n"
   ]
  },
  {
   "cell_type": "code",
   "execution_count": 6,
   "id": "2beb843c",
   "metadata": {},
   "outputs": [],
   "source": [
    "class TransversalRandomMatroid(RandomMatroid):\n",
    "    # a = Number of nodes on the left side, a = number of nodes on the right side\n",
    "    # p = likelihood of a certain edge from some vertex on left to some vertex on right appearing\n",
    "    def __init__(self, a=10, b=10, p=0.5):\n",
    "        super().__init__(a)\n",
    "        self.a = a\n",
    "        self.b = b\n",
    "        self.p = p\n",
    "    \n",
    "    # return one random transversal matroid\n",
    "    def rand_matroid(self):\n",
    "        return TransversalMatroid(self.a, self.b, self.p)"
   ]
  },
  {
   "cell_type": "code",
   "execution_count": 7,
   "id": "eff72a49",
   "metadata": {},
   "outputs": [],
   "source": [
    "class GeneralRandomMatroid(RandomMatroid):\n",
    "    def __init__(self, n):\n",
    "        super().__init__(n)\n",
    "        self.U = frozenset(range(n))\n",
    "    \n",
    "    def _isContained(self, AandB, Fr):\n",
    "        if len(AandB) == 0: return True\n",
    "        for C in Fr:\n",
    "            if AandB.issubset(C): return True\n",
    "        return False\n",
    "    \n",
    "    def rand_matroid(self):\n",
    "        r = 0\n",
    "        F = [set(frozenset())]\n",
    "        while self.U not in F[r]:\n",
    "            # generate covers\n",
    "            F_next = set(frozenset())\n",
    "            if r == 0:\n",
    "                for a in self.U:\n",
    "                    F_next.add(frozenset([a]))\n",
    "            else:\n",
    "                for A in F[r]:\n",
    "                    for a in self.U - A:\n",
    "                        x = set(A)\n",
    "                        x.add(a)\n",
    "                        F_next.add(frozenset(x))\n",
    "\n",
    "            #enlarge\n",
    "            if r != 0:\n",
    "                # adjust the number of times this loop is performed to generate different matroids\n",
    "                for _ in range(random.randint(0, self.n//2)):\n",
    "                    A = set(random.choice(list(F_next)))\n",
    "                    F_next.remove(A)\n",
    "                    if len(list(self.U-A)) != 0:\n",
    "                        A.add(random.choice(list(self.U-A)))\n",
    "                    F_next.add(frozenset(A))\n",
    "\n",
    "            # superpose\n",
    "            isContained = False\n",
    "            while not isContained:\n",
    "                isContained = True\n",
    "                not_contained = []\n",
    "                for A in F_next:\n",
    "                    for B in F_next:\n",
    "                        if A == B: continue\n",
    "                        if not self._isContained(A.intersection(B), F[r]): \n",
    "                            not_contained.append((A, B))\n",
    "                            isContained = False\n",
    "                for AB in not_contained:\n",
    "                    A, B = AB\n",
    "                    if A in F_next and B in F_next:\n",
    "                        F_next.remove(A)\n",
    "                        F_next.remove(B)\n",
    "                        F_next.add(A.union(B))\n",
    "            F.append(F_next)\n",
    "            r += 1\n",
    "    \n",
    "        closed_sets = []\n",
    "        for rank, X in enumerate(F):\n",
    "            for Y in X:\n",
    "                closed_sets.append((rank, Y))\n",
    "\n",
    "        return Matroid(self.U, circuit_closures = closed_sets)"
   ]
  },
  {
   "cell_type": "markdown",
   "id": "15f29a78",
   "metadata": {},
   "source": [
    "# Test Suite for AKW"
   ]
  },
  {
   "cell_type": "markdown",
   "id": "5ea7fd5e",
   "metadata": {},
   "source": [
    "## AKW Algorithm Implementation"
   ]
  },
  {
   "cell_type": "code",
   "execution_count": 8,
   "id": "61dc0c2a",
   "metadata": {},
   "outputs": [],
   "source": [
    "# Import any algorithm implementations here\n",
    "class FreeOrderMatroidAlgo:\n",
    "    def __init__(self, matroid, weights):\n",
    "        assert matroid.size() == len(weights)\n",
    "\n",
    "        self.matroid = matroid\n",
    "        self.weights = weights\n",
    "\n",
    "class Conjecture(FreeOrderMatroidAlgo):\n",
    "    def __init__(self, matroid, weights, sample_prob, verbose=False):\n",
    "        super().__init__(matroid, weights)\n",
    "        self.verbose = verbose\n",
    "        \n",
    "        # Sample S\n",
    "        S = []\n",
    "        self.P = set()\n",
    "        for i in range(self.matroid.size()):\n",
    "            if random.random() < sample_prob: \n",
    "                S.append((i, self.weights[i]))\n",
    "            else: self.P.add(i)\n",
    "\n",
    "        self.P = frozenset(self.P)\n",
    "        S = dict(S)\n",
    "        if self.verbose: print(f'{S = }')\n",
    "        self.X = self.matroid.max_weight_independent(X=set(S.keys()), weights=S) # max-weight basis of S\n",
    "        self.X = sorted(list(self.X), key=lambda i: self.weights[i], reverse=True)\n",
    "\n",
    "        self.current_iteration = 0\n",
    "        self.current_span = frozenset()\n",
    "\n",
    "    def run_trial(self):\n",
    "        cache(self.matroid.is_independent)\n",
    "        \n",
    "        total = 0\n",
    "        remaining = set(self.P) # which elements haven't been seen yet\n",
    "        #current_span = frozenset()\n",
    "        A = frozenset() # store the answer\n",
    "\n",
    "        Xset = set()\n",
    "        for i, basis_elem in enumerate(self.X):\n",
    "            # Check which elements in remaining are dependent\n",
    "            Xset.add(basis_elem)\n",
    "            candidates = []\n",
    "            for element in remaining:\n",
    "                Xset.add(element)\n",
    "                if not self.matroid.is_independent(frozenset(Xset)): candidates.append(element)\n",
    "                Xset.remove(element)\n",
    "            random.shuffle(candidates)\n",
    "            \n",
    "            if self.verbose: print(f'{candidates = }')\n",
    "            for y in candidates:\n",
    "                remaining.remove(y)\n",
    "                if self.weights[y] > self.weights[basis_elem]:\n",
    "                    if self.matroid.is_independent(A.union(frozenset([y]))): \n",
    "                        A = A.union(frozenset([y]))\n",
    "                        total += self.weights[y]\n",
    "                        if self.verbose: print(f'{y = }')\n",
    "            #current_span = next_span\n",
    "\n",
    "        remaining = list(remaining)\n",
    "        if self.verbose: print(f'{remaining = }')\n",
    "        random.shuffle(remaining)\n",
    "        for y in remaining:\n",
    "            if self.matroid.is_independent(A.union(frozenset([y]))): \n",
    "                A = A.union(frozenset([y]))\n",
    "                total += self.weights[y]\n",
    "\n",
    "        return total, A"
   ]
  },
  {
   "cell_type": "markdown",
   "id": "96a4f100",
   "metadata": {},
   "source": [
    "## Experiment Setup"
   ]
  },
  {
   "cell_type": "code",
   "execution_count": 9,
   "id": "493b3156",
   "metadata": {},
   "outputs": [],
   "source": [
    "# algo is assumed to be a FreeOrderMatroidAlgo. Returns averaged payoff over all trials\n",
    "# weights will be a list of values of each item\n",
    "def run_trials(num_trials, matroid, weights, verbose = False):\n",
    "    sum = 0\n",
    "    total_counts = defaultdict(lambda: 0)\n",
    "    for _ in range(num_trials):\n",
    "        algo = Conjecture(matroid, weights, exp(-1), verbose)\n",
    "        weight, included = algo.run_trial()\n",
    "        sum += weight\n",
    "        if verbose: print(f'{included = }')\n",
    "        for element in included: total_counts[element] += 1\n",
    "\n",
    "    for key in total_counts: total_counts[key] = float(total_counts[key]) / num_trials\n",
    "    return float(sum / num_trials), total_counts"
   ]
  },
  {
   "cell_type": "code",
   "execution_count": 10,
   "id": "e9fbe58f",
   "metadata": {},
   "outputs": [],
   "source": [
    "def run_experiment(M, num_trials, weights = None, verbose = False):\n",
    "    if weights is None: weights = [random.uniform(0, 1) for i in range(M.size())]\n",
    "\n",
    "    start_time = time.time()\n",
    "    val, freqs = run_trials(num_trials, M, weights, verbose)\n",
    "    end_time = time.time()\n",
    "    \n",
    "    if verbose: print(f\"Time to run {num_trials} trials is \", end_time - start_time)\n",
    "\n",
    "    opt_indices = M.max_weight_independent(X=set(range(M.size())), weights = dict([(i, weight) for i, weight in enumerate(weights)]))\n",
    "    opt_val = 0\n",
    "    ratios = []\n",
    "    \n",
    "    for opt_index in opt_indices:\n",
    "        ratios.append(freqs[opt_index])\n",
    "        #if (freqs[opt_index] < exp(-1)):\n",
    "            #print(\"Less than 1/e when \", M, opt_index)\n",
    "\n",
    "    if verbose: print(ratios)\n",
    "    return min(ratios)"
   ]
  },
  {
   "cell_type": "code",
   "execution_count": 26,
   "id": "3916f146",
   "metadata": {},
   "outputs": [],
   "source": [
    "def evaluate(rand_matroid, num_matroids, num_trials):\n",
    "    results = []\n",
    "    for i, M in enumerate(rand_matroid.gen(num_matroids), 1):\n",
    "        start = time.time()\n",
    "        results.append(run_experiment(M, num_trials))\n",
    "        end = time.time()\n",
    "        print(f'Matroid {i}/{num_matroids} completed in {round(end - start, 2)}s')\n",
    "    return results"
   ]
  },
  {
   "cell_type": "code",
   "execution_count": 12,
   "id": "28b32677",
   "metadata": {},
   "outputs": [],
   "source": [
    "def plot(results, fname=None):\n",
    "    f, ax = plt.subplots()\n",
    "    ax.hist(results, range = (min(float(exp(-1)), min(results)), max(results)))\n",
    "    ax.axvline(x=float(exp(-1)), color = 'r', linestyle='dashed')\n",
    "    if fname: plt.savefig(fname)\n",
    "    plt.show()"
   ]
  },
  {
   "cell_type": "markdown",
   "id": "14d316be",
   "metadata": {},
   "source": [
    "## Evaluation of AKW"
   ]
  },
  {
   "cell_type": "code",
   "execution_count": 144,
   "id": "673ae46a",
   "metadata": {
    "scrolled": true
   },
   "outputs": [
    {
     "name": "stdout",
     "output_type": "stream",
     "text": [
      "[0.414, 0.441, 0.38, 0.432, 0.422, 0.4, 0.405, 0.441, 0.411, 0.441, 0.388, 0.434, 0.41, 0.465, 0.408, 0.47, 0.432, 0.459, 0.479, 0.424, 0.412]\n",
      "Matroid 1/2 completed in 26.35s\n",
      "[0.621, 0.533, 0.557, 0.635, 0.588, 0.611, 0.603, 0.624, 0.639, 0.556, 0.639, 0.572, 0.623, 0.638, 0.633, 0.629, 0.552, 0.621, 0.61, 0.561, 0.623, 0.568, 0.605, 0.65, 0.637, 0.601, 0.626, 0.549, 0.591, 0.584, 0.563, 0.634, 0.544, 0.545, 0.552, 0.609, 0.571, 0.579, 0.551, 0.519, 0.535, 0.62, 0.634, 0.593, 0.585, 0.553, 0.603, 0.544, 0.565, 0.569, 0.549, 0.587, 0.546, 0.568, 0.564, 0.585, 0.613, 0.646, 0.652, 0.62, 0.552, 0.515, 0.551, 0.544, 0.604, 0.534, 0.637, 0.649, 0.63, 0.607, 0.608, 0.638, 0.637, 0.606]\n",
      "Matroid 2/2 completed in 48.97s\n"
     ]
    }
   ],
   "source": [
    "# Experiment 1: 100 graphic matroids, size 101\n",
    "random.seed(int(1001))\n",
    "results1 = evaluate(GraphicRandomMatroid(n=101), num_matroids=100, num_trials=1000)"
   ]
  },
  {
   "cell_type": "code",
   "execution_count": 147,
   "id": "ad125f62",
   "metadata": {},
   "outputs": [
    {
     "data": {
      "image/png": "[encoded data removed]",
      "text/plain": [
       "<Figure size 432x288 with 1 Axes>"
      ]
     },
     "metadata": {
      "needs_background": "light"
     },
     "output_type": "display_data"
    }
   ],
   "source": [
    "plot(results1)\n",
    "print(results1)"
   ]
  },
  {
   "cell_type": "code",
   "execution_count": 216,
   "id": "7941d65f",
   "metadata": {},
   "outputs": [
    {
     "name": "stdout",
     "output_type": "stream",
     "text": [
      "Matroid 1/5 completed in 179.54s\n",
      "Matroid 2/5 completed in 191.72s\n",
      "Matroid 3/5 completed in 186.53s\n",
      "Matroid 4/5 completed in 197.52s\n",
      "Matroid 5/5 completed in 205.53s\n"
     ]
    }
   ],
   "source": [
    "# Experiment 2: 5 Transversal Matroids on a bipartite graph with nodes on left = 25, \n",
    "# nodes on right = 25, and edge inclusion probability 0.2\n",
    "random.seed(int(1002))\n",
    "results2 = evaluate(TransversalRandomMatroid(25, 25, 0.2), num_matroids=5, num_trials=1000)"
   ]
  },
  {
   "cell_type": "code",
   "execution_count": 217,
   "id": "653eee33",
   "metadata": {},
   "outputs": [
    {
     "data": {
      "image/png": "[encoded data removed]",
      "text/plain": [
       "<Figure size 432x288 with 1 Axes>"
      ]
     },
     "metadata": {
      "needs_background": "light"
     },
     "output_type": "display_data"
    },
    {
     "name": "stdout",
     "output_type": "stream",
     "text": [
      "[0.586, 0.599, 0.595, 0.599, 0.589]\n"
     ]
    }
   ],
   "source": [
    "# Simulated Answer: [0.586, 0.599, 0.595, 0.599, 0.589]\n",
    "\n",
    "plot(results2)\n",
    "print(results2)"
   ]
  },
  {
   "cell_type": "code",
   "execution_count": 218,
   "id": "b78d8833",
   "metadata": {},
   "outputs": [
    {
     "name": "stdout",
     "output_type": "stream",
     "text": [
      "Matroid 1/5 completed in 9119.76s\n",
      "Matroid 2/5 completed in 3773.59s\n",
      "Matroid 3/5 completed in 4677.09s\n",
      "Matroid 4/5 completed in 3688.02s\n",
      "Matroid 5/5 completed in 3578.39s\n"
     ]
    }
   ],
   "source": [
    "# Experiment 3: 5 Transversal Matroids on a bipartite graph with nodes on left = 50, \n",
    "# nodes on right = 25, and edge inclusion probability 0.5\n",
    "random.seed(int(1004))\n",
    "results3 = evaluate(TransversalRandomMatroid(50, 25, 0.5), num_matroids=5, num_trials=1000)"
   ]
  },
  {
   "cell_type": "code",
   "execution_count": 219,
   "id": "4c8a8109",
   "metadata": {},
   "outputs": [
    {
     "data": {
      "image/png": "[encoded data removed]",
      "text/plain": [
       "<Figure size 432x288 with 1 Axes>"
      ]
     },
     "metadata": {
      "needs_background": "light"
     },
     "output_type": "display_data"
    },
    {
     "name": "stdout",
     "output_type": "stream",
     "text": [
      "[0.462, 0.474, 0.463, 0.475, 0.476]\n"
     ]
    }
   ],
   "source": [
    "plot(results3)\n",
    "print(results3)"
   ]
  },
  {
   "cell_type": "code",
   "execution_count": 148,
   "id": "a5ed7543",
   "metadata": {
    "scrolled": true
   },
   "outputs": [
    {
     "name": "stdout",
     "output_type": "stream",
     "text": [
      "[1.0, 0, 1.0, 1.0, 0, 1.0, 0, 1.0, 0, 1.0, 0, 0, 0, 0, 0, 0, 0, 0, 0, 1.0, 1.0, 1.0, 0, 1.0, 1.0]\n",
      "Matroid 1/5 completed in 3.27s\n",
      "[0, 0, 0, 0, 1.0, 0, 1.0, 1.0, 0, 1.0, 0, 0, 0, 0, 0, 1.0, 1.0, 0, 1.0, 0, 1.0, 1.0, 1.0, 0, 1.0]\n",
      "Matroid 2/5 completed in 3.04s\n",
      "[1.0, 0, 0, 0, 1.0, 1.0, 1.0, 0, 0, 1.0, 0, 0, 1.0, 1.0, 1.0, 1.0, 0, 1.0, 0, 1.0, 0, 0, 1.0, 1.0, 0]\n",
      "Matroid 3/5 completed in 2.38s\n",
      "[0, 1.0, 1.0, 1.0, 0, 1.0, 0, 1.0, 0, 1.0, 0, 0, 1.0, 1.0, 1.0, 1.0, 0, 0, 1.0, 1.0, 0, 1.0, 1.0, 0, 1.0]\n",
      "Matroid 4/5 completed in 3.01s\n",
      "[0, 1.0, 0, 1.0, 1.0, 1.0, 0, 1.0, 0, 0, 0, 0, 1.0, 1.0, 1.0, 1.0, 0, 0, 1.0, 0, 0, 1.0, 1.0, 1.0, 1.0]\n",
      "Matroid 5/5 completed in 2.96s\n"
     ]
    }
   ],
   "source": [
    "# Experiment 4: 10 Transversal Matroids on a bipartite graph with nodes on left = 50, \n",
    "# nodes on right = 25, and edge inclusion probability 0.3\n",
    "random.seed(int(1004))\n",
    "results4 = evaluate(TransversalRandomMatroid(50, 25, 0.3), num_matroids=10, num_trials=1000)"
   ]
  },
  {
   "cell_type": "code",
   "execution_count": null,
   "id": "a47aba36",
   "metadata": {},
   "outputs": [],
   "source": [
    "plot(results4)\n",
    "print(results4)"
   ]
  },
  {
   "cell_type": "code",
   "execution_count": 30,
   "id": "68a3b14f",
   "metadata": {},
   "outputs": [
    {
     "name": "stdout",
     "output_type": "stream",
     "text": [
      "Matroid 1/10 completed in 453.4s\n",
      "Matroid 2/10 completed in 472.35s\n",
      "Matroid 3/10 completed in 468.99s\n",
      "Matroid 4/10 completed in 477.59s\n",
      "Matroid 5/10 completed in 848.93s\n",
      "Matroid 6/10 completed in 484.49s\n",
      "Matroid 7/10 completed in 483.71s\n",
      "Matroid 8/10 completed in 431.2s\n",
      "Matroid 9/10 completed in 853.98s\n",
      "Matroid 10/10 completed in 410.07s\n"
     ]
    }
   ],
   "source": [
    "# Experiment 5: 10 Transversal Matroids on a bipartite graph with nodes on left = 25, \n",
    "# nodes on right = 50, and edge inclusion probability 0.3\n",
    "random.seed(int(1005))\n",
    "results5 = evaluate(TransversalRandomMatroid(25, 50, 0.3), num_matroids=10, num_trials=1000)"
   ]
  },
  {
   "cell_type": "code",
   "execution_count": null,
   "id": "17d26b6f",
   "metadata": {},
   "outputs": [],
   "source": [
    "# Simulated Answer: [0.604, 0.596, 0.608, 0.603, 0.599, 0.601, 0.6, 0.599, 0.594, 0.606]\n",
    "\n",
    "plot(results5)\n",
    "print(results5)"
   ]
  },
  {
   "cell_type": "code",
   "execution_count": null,
   "id": "e67a40e5",
   "metadata": {},
   "outputs": [],
   "source": [
    "# Plot all \n",
    "plot(results2 + results3 + results4 + results5)"
   ]
  },
  {
   "cell_type": "code",
   "execution_count": null,
   "id": "00605170",
   "metadata": {},
   "outputs": [],
   "source": [
    "# Experiment 6: 100 Random Matroids with universe size = 15 (Note that these aren't actually\n",
    "# uniformly at random chosen from all size-13 matroids; see Knuth's algorithm)\n",
    "\n",
    "random.seed(int(1006))\n",
    "results6 = evaluate(GeneralRandomMatroid(15), num_matroids=100, num_trials=1000)"
   ]
  },
  {
   "cell_type": "code",
   "execution_count": null,
   "id": "c8017a85",
   "metadata": {},
   "outputs": [],
   "source": [
    "plot(results6)\n",
    "print(results6)"
   ]
  },
  {
   "cell_type": "code",
   "execution_count": 36,
   "id": "58506bce",
   "metadata": {
    "scrolled": true
   },
   "outputs": [
    {
     "name": "stdout",
     "output_type": "stream",
     "text": [
      "Matroid 1/100 completed in 18.28s\n",
      "Matroid 2/100 completed in 30.48s\n",
      "Matroid 3/100 completed in 24.15s\n",
      "Matroid 4/100 completed in 27.86s\n",
      "Matroid 5/100 completed in 27.46s\n",
      "Matroid 6/100 completed in 29.41s\n",
      "Matroid 7/100 completed in 22.09s\n",
      "Matroid 8/100 completed in 27.94s\n",
      "Matroid 9/100 completed in 21.63s\n",
      "Matroid 10/100 completed in 28.28s\n",
      "Matroid 11/100 completed in 27.93s\n",
      "Matroid 12/100 completed in 30.31s\n",
      "Matroid 13/100 completed in 33.72s\n",
      "Matroid 14/100 completed in 33.36s\n",
      "Matroid 15/100 completed in 33.43s\n",
      "Matroid 16/100 completed in 33.33s\n",
      "Matroid 17/100 completed in 33.14s\n",
      "Matroid 18/100 completed in 34.98s\n",
      "Matroid 19/100 completed in 33.33s\n",
      "Matroid 20/100 completed in 33.24s\n",
      "Matroid 21/100 completed in 29.25s\n",
      "Matroid 22/100 completed in 19.85s\n",
      "Matroid 23/100 completed in 26.82s\n",
      "Matroid 24/100 completed in 1006.54s\n",
      "Matroid 25/100 completed in 28.2s\n",
      "Matroid 26/100 completed in 30.12s\n",
      "Matroid 27/100 completed in 28.45s\n",
      "Matroid 28/100 completed in 18.97s\n",
      "Matroid 29/100 completed in 31.51s\n",
      "Matroid 30/100 completed in 25.0s\n",
      "Matroid 31/100 completed in 29.79s\n",
      "Matroid 32/100 completed in 30.72s\n",
      "Matroid 33/100 completed in 28.51s\n",
      "Matroid 34/100 completed in 28.66s\n",
      "Matroid 35/100 completed in 28.49s\n",
      "Matroid 36/100 completed in 28.53s\n",
      "Matroid 37/100 completed in 28.76s\n",
      "Matroid 38/100 completed in 30.56s\n",
      "Matroid 39/100 completed in 27.36s\n",
      "Matroid 40/100 completed in 24.5s\n",
      "Matroid 41/100 completed in 28.11s\n",
      "Matroid 42/100 completed in 28.1s\n",
      "Matroid 43/100 completed in 28.21s\n",
      "Matroid 44/100 completed in 30.11s\n",
      "Matroid 45/100 completed in 17.86s\n",
      "Matroid 46/100 completed in 27.97s\n",
      "Matroid 47/100 completed in 28.43s\n",
      "Matroid 48/100 completed in 29.4s\n",
      "Matroid 49/100 completed in 28.41s\n",
      "Matroid 50/100 completed in 27.35s\n"
     ]
    },
    {
     "ename": "KeyboardInterrupt",
     "evalue": "",
     "output_type": "error",
     "traceback": [
      "\u001b[0;31m---------------------------------------------------------------------------\u001b[0m",
      "\u001b[0;31mKeyboardInterrupt\u001b[0m                         Traceback (most recent call last)",
      "\u001b[0;32m<ipython-input-36-e3278294ccb5>\u001b[0m in \u001b[0;36m<module>\u001b[0;34m\u001b[0m\n\u001b[1;32m      1\u001b[0m \u001b[0;31m# Experiment 7: 100 Random Uniform Matroids with universe size = 200 (rank is also random)\u001b[0m\u001b[0;34m\u001b[0m\u001b[0;34m\u001b[0m\u001b[0;34m\u001b[0m\u001b[0m\n\u001b[1;32m      2\u001b[0m \u001b[0mrandom\u001b[0m\u001b[0;34m.\u001b[0m\u001b[0mseed\u001b[0m\u001b[0;34m(\u001b[0m\u001b[0mint\u001b[0m\u001b[0;34m(\u001b[0m\u001b[0mInteger\u001b[0m\u001b[0;34m(\u001b[0m\u001b[0;36m1007\u001b[0m\u001b[0;34m)\u001b[0m\u001b[0;34m)\u001b[0m\u001b[0;34m)\u001b[0m\u001b[0;34m\u001b[0m\u001b[0;34m\u001b[0m\u001b[0m\n\u001b[0;32m----> 3\u001b[0;31m \u001b[0mresults7\u001b[0m \u001b[0;34m=\u001b[0m \u001b[0mevaluate\u001b[0m\u001b[0;34m(\u001b[0m\u001b[0mRandomMatroid\u001b[0m\u001b[0;34m(\u001b[0m\u001b[0mInteger\u001b[0m\u001b[0;34m(\u001b[0m\u001b[0;36m200\u001b[0m\u001b[0;34m)\u001b[0m\u001b[0;34m)\u001b[0m\u001b[0;34m,\u001b[0m \u001b[0mnum_matroids\u001b[0m\u001b[0;34m=\u001b[0m\u001b[0mInteger\u001b[0m\u001b[0;34m(\u001b[0m\u001b[0;36m100\u001b[0m\u001b[0;34m)\u001b[0m\u001b[0;34m,\u001b[0m \u001b[0mnum_trials\u001b[0m\u001b[0;34m=\u001b[0m\u001b[0mInteger\u001b[0m\u001b[0;34m(\u001b[0m\u001b[0;36m1000\u001b[0m\u001b[0;34m)\u001b[0m\u001b[0;34m)\u001b[0m\u001b[0;34m\u001b[0m\u001b[0;34m\u001b[0m\u001b[0m\n\u001b[0m",
      "\u001b[0;32m<ipython-input-26-829682d58589>\u001b[0m in \u001b[0;36mevaluate\u001b[0;34m(rand_matroid, num_matroids, num_trials)\u001b[0m\n\u001b[1;32m      3\u001b[0m     \u001b[0;32mfor\u001b[0m \u001b[0mi\u001b[0m\u001b[0;34m,\u001b[0m \u001b[0mM\u001b[0m \u001b[0;32min\u001b[0m \u001b[0menumerate\u001b[0m\u001b[0;34m(\u001b[0m\u001b[0mrand_matroid\u001b[0m\u001b[0;34m.\u001b[0m\u001b[0mgen\u001b[0m\u001b[0;34m(\u001b[0m\u001b[0mnum_matroids\u001b[0m\u001b[0;34m)\u001b[0m\u001b[0;34m,\u001b[0m \u001b[0mInteger\u001b[0m\u001b[0;34m(\u001b[0m\u001b[0;36m1\u001b[0m\u001b[0;34m)\u001b[0m\u001b[0;34m)\u001b[0m\u001b[0;34m:\u001b[0m\u001b[0;34m\u001b[0m\u001b[0;34m\u001b[0m\u001b[0m\n\u001b[1;32m      4\u001b[0m         \u001b[0mstart\u001b[0m \u001b[0;34m=\u001b[0m \u001b[0mtime\u001b[0m\u001b[0;34m.\u001b[0m\u001b[0mtime\u001b[0m\u001b[0;34m(\u001b[0m\u001b[0;34m)\u001b[0m\u001b[0;34m\u001b[0m\u001b[0;34m\u001b[0m\u001b[0m\n\u001b[0;32m----> 5\u001b[0;31m         \u001b[0mresults\u001b[0m\u001b[0;34m.\u001b[0m\u001b[0mappend\u001b[0m\u001b[0;34m(\u001b[0m\u001b[0mrun_experiment\u001b[0m\u001b[0;34m(\u001b[0m\u001b[0mM\u001b[0m\u001b[0;34m,\u001b[0m \u001b[0mnum_trials\u001b[0m\u001b[0;34m)\u001b[0m\u001b[0;34m)\u001b[0m\u001b[0;34m\u001b[0m\u001b[0;34m\u001b[0m\u001b[0m\n\u001b[0m\u001b[1;32m      6\u001b[0m         \u001b[0mend\u001b[0m \u001b[0;34m=\u001b[0m \u001b[0mtime\u001b[0m\u001b[0;34m.\u001b[0m\u001b[0mtime\u001b[0m\u001b[0;34m(\u001b[0m\u001b[0;34m)\u001b[0m\u001b[0;34m\u001b[0m\u001b[0;34m\u001b[0m\u001b[0m\n\u001b[1;32m      7\u001b[0m         \u001b[0mprint\u001b[0m\u001b[0;34m(\u001b[0m\u001b[0;34mf'Matroid {i}/{num_matroids} completed in {round(end - start, Integer(2))}s'\u001b[0m\u001b[0;34m)\u001b[0m\u001b[0;34m\u001b[0m\u001b[0;34m\u001b[0m\u001b[0m\n",
      "\u001b[0;32m<ipython-input-10-84ce8d5d194c>\u001b[0m in \u001b[0;36mrun_experiment\u001b[0;34m(M, num_trials, weights, verbose)\u001b[0m\n\u001b[1;32m      3\u001b[0m \u001b[0;34m\u001b[0m\u001b[0m\n\u001b[1;32m      4\u001b[0m     \u001b[0mstart_time\u001b[0m \u001b[0;34m=\u001b[0m \u001b[0mtime\u001b[0m\u001b[0;34m.\u001b[0m\u001b[0mtime\u001b[0m\u001b[0;34m(\u001b[0m\u001b[0;34m)\u001b[0m\u001b[0;34m\u001b[0m\u001b[0;34m\u001b[0m\u001b[0m\n\u001b[0;32m----> 5\u001b[0;31m     \u001b[0mval\u001b[0m\u001b[0;34m,\u001b[0m \u001b[0mfreqs\u001b[0m \u001b[0;34m=\u001b[0m \u001b[0mrun_trials\u001b[0m\u001b[0;34m(\u001b[0m\u001b[0mnum_trials\u001b[0m\u001b[0;34m,\u001b[0m \u001b[0mM\u001b[0m\u001b[0;34m,\u001b[0m \u001b[0mweights\u001b[0m\u001b[0;34m,\u001b[0m \u001b[0mverbose\u001b[0m\u001b[0;34m)\u001b[0m\u001b[0;34m\u001b[0m\u001b[0;34m\u001b[0m\u001b[0m\n\u001b[0m\u001b[1;32m      6\u001b[0m     \u001b[0mend_time\u001b[0m \u001b[0;34m=\u001b[0m \u001b[0mtime\u001b[0m\u001b[0;34m.\u001b[0m\u001b[0mtime\u001b[0m\u001b[0;34m(\u001b[0m\u001b[0;34m)\u001b[0m\u001b[0;34m\u001b[0m\u001b[0;34m\u001b[0m\u001b[0m\n\u001b[1;32m      7\u001b[0m \u001b[0;34m\u001b[0m\u001b[0m\n",
      "\u001b[0;32m<ipython-input-9-8afff214cd8f>\u001b[0m in \u001b[0;36mrun_trials\u001b[0;34m(num_trials, matroid, weights, verbose)\u001b[0m\n\u001b[1;32m      5\u001b[0m     \u001b[0mtotal_counts\u001b[0m \u001b[0;34m=\u001b[0m \u001b[0mdefaultdict\u001b[0m\u001b[0;34m(\u001b[0m\u001b[0;32mlambda\u001b[0m\u001b[0;34m:\u001b[0m \u001b[0mInteger\u001b[0m\u001b[0;34m(\u001b[0m\u001b[0;36m0\u001b[0m\u001b[0;34m)\u001b[0m\u001b[0;34m)\u001b[0m\u001b[0;34m\u001b[0m\u001b[0;34m\u001b[0m\u001b[0m\n\u001b[1;32m      6\u001b[0m     \u001b[0;32mfor\u001b[0m \u001b[0m_\u001b[0m \u001b[0;32min\u001b[0m \u001b[0mrange\u001b[0m\u001b[0;34m(\u001b[0m\u001b[0mnum_trials\u001b[0m\u001b[0;34m)\u001b[0m\u001b[0;34m:\u001b[0m\u001b[0;34m\u001b[0m\u001b[0;34m\u001b[0m\u001b[0m\n\u001b[0;32m----> 7\u001b[0;31m         \u001b[0malgo\u001b[0m \u001b[0;34m=\u001b[0m \u001b[0mConjecture\u001b[0m\u001b[0;34m(\u001b[0m\u001b[0mmatroid\u001b[0m\u001b[0;34m,\u001b[0m \u001b[0mweights\u001b[0m\u001b[0;34m,\u001b[0m \u001b[0mexp\u001b[0m\u001b[0;34m(\u001b[0m\u001b[0;34m-\u001b[0m\u001b[0mInteger\u001b[0m\u001b[0;34m(\u001b[0m\u001b[0;36m1\u001b[0m\u001b[0;34m)\u001b[0m\u001b[0;34m)\u001b[0m\u001b[0;34m,\u001b[0m \u001b[0mverbose\u001b[0m\u001b[0;34m)\u001b[0m\u001b[0;34m\u001b[0m\u001b[0;34m\u001b[0m\u001b[0m\n\u001b[0m\u001b[1;32m      8\u001b[0m         \u001b[0mweight\u001b[0m\u001b[0;34m,\u001b[0m \u001b[0mincluded\u001b[0m \u001b[0;34m=\u001b[0m \u001b[0malgo\u001b[0m\u001b[0;34m.\u001b[0m\u001b[0mrun_trial\u001b[0m\u001b[0;34m(\u001b[0m\u001b[0;34m)\u001b[0m\u001b[0;34m\u001b[0m\u001b[0;34m\u001b[0m\u001b[0m\n\u001b[1;32m      9\u001b[0m         \u001b[0msum\u001b[0m \u001b[0;34m+=\u001b[0m \u001b[0mweight\u001b[0m\u001b[0;34m\u001b[0m\u001b[0;34m\u001b[0m\u001b[0m\n",
      "\u001b[0;32m<ipython-input-8-75e37104713a>\u001b[0m in \u001b[0;36m__init__\u001b[0;34m(self, matroid, weights, sample_prob, verbose)\u001b[0m\n\u001b[1;32m     16\u001b[0m         \u001b[0mself\u001b[0m\u001b[0;34m.\u001b[0m\u001b[0mP\u001b[0m \u001b[0;34m=\u001b[0m \u001b[0mset\u001b[0m\u001b[0;34m(\u001b[0m\u001b[0;34m)\u001b[0m\u001b[0;34m\u001b[0m\u001b[0;34m\u001b[0m\u001b[0m\n\u001b[1;32m     17\u001b[0m         \u001b[0;32mfor\u001b[0m \u001b[0mi\u001b[0m \u001b[0;32min\u001b[0m \u001b[0mrange\u001b[0m\u001b[0;34m(\u001b[0m\u001b[0mself\u001b[0m\u001b[0;34m.\u001b[0m\u001b[0mmatroid\u001b[0m\u001b[0;34m.\u001b[0m\u001b[0msize\u001b[0m\u001b[0;34m(\u001b[0m\u001b[0;34m)\u001b[0m\u001b[0;34m)\u001b[0m\u001b[0;34m:\u001b[0m\u001b[0;34m\u001b[0m\u001b[0;34m\u001b[0m\u001b[0m\n\u001b[0;32m---> 18\u001b[0;31m             \u001b[0;32mif\u001b[0m \u001b[0mrandom\u001b[0m\u001b[0;34m.\u001b[0m\u001b[0mrandom\u001b[0m\u001b[0;34m(\u001b[0m\u001b[0;34m)\u001b[0m \u001b[0;34m<\u001b[0m \u001b[0msample_prob\u001b[0m\u001b[0;34m:\u001b[0m\u001b[0;34m\u001b[0m\u001b[0;34m\u001b[0m\u001b[0m\n\u001b[0m\u001b[1;32m     19\u001b[0m                 \u001b[0mS\u001b[0m\u001b[0;34m.\u001b[0m\u001b[0mappend\u001b[0m\u001b[0;34m(\u001b[0m\u001b[0;34m(\u001b[0m\u001b[0mi\u001b[0m\u001b[0;34m,\u001b[0m \u001b[0mself\u001b[0m\u001b[0;34m.\u001b[0m\u001b[0mweights\u001b[0m\u001b[0;34m[\u001b[0m\u001b[0mi\u001b[0m\u001b[0;34m]\u001b[0m\u001b[0;34m)\u001b[0m\u001b[0;34m)\u001b[0m\u001b[0;34m\u001b[0m\u001b[0;34m\u001b[0m\u001b[0m\n\u001b[1;32m     20\u001b[0m             \u001b[0;32melse\u001b[0m\u001b[0;34m:\u001b[0m \u001b[0mself\u001b[0m\u001b[0;34m.\u001b[0m\u001b[0mP\u001b[0m\u001b[0;34m.\u001b[0m\u001b[0madd\u001b[0m\u001b[0;34m(\u001b[0m\u001b[0mi\u001b[0m\u001b[0;34m)\u001b[0m\u001b[0;34m\u001b[0m\u001b[0;34m\u001b[0m\u001b[0m\n",
      "\u001b[0;32m~/Library/SageMath/local/lib/python3.9/site-packages/sage/symbolic/expression.pyx\u001b[0m in \u001b[0;36msage.symbolic.expression.Expression.__nonzero__ (build/cythonized/sage/symbolic/expression.cpp:20976)\u001b[0;34m()\u001b[0m\n\u001b[1;32m   3266\u001b[0m                 \u001b[0;32mif\u001b[0m \u001b[0mpynac_result\u001b[0m \u001b[0;34m==\u001b[0m \u001b[0mrelational_notimplemented\u001b[0m \u001b[0;32mand\u001b[0m \u001b[0mself\u001b[0m\u001b[0;34m.\u001b[0m\u001b[0moperator\u001b[0m\u001b[0;34m(\u001b[0m\u001b[0;34m)\u001b[0m\u001b[0;34m==\u001b[0m\u001b[0moperator\u001b[0m\u001b[0;34m.\u001b[0m\u001b[0mne\u001b[0m\u001b[0;34m:\u001b[0m\u001b[0;34m\u001b[0m\u001b[0;34m\u001b[0m\u001b[0m\n\u001b[1;32m   3267\u001b[0m                     \u001b[0;32mreturn\u001b[0m \u001b[0;32mnot\u001b[0m \u001b[0;34m(\u001b[0m\u001b[0mself\u001b[0m\u001b[0;34m.\u001b[0m\u001b[0mlhs\u001b[0m\u001b[0;34m(\u001b[0m\u001b[0;34m)\u001b[0m\u001b[0;34m-\u001b[0m\u001b[0mself\u001b[0m\u001b[0;34m.\u001b[0m\u001b[0mrhs\u001b[0m\u001b[0;34m(\u001b[0m\u001b[0;34m)\u001b[0m\u001b[0;34m)\u001b[0m\u001b[0;34m.\u001b[0m\u001b[0mis_trivial_zero\u001b[0m\u001b[0;34m(\u001b[0m\u001b[0;34m)\u001b[0m\u001b[0;34m\u001b[0m\u001b[0;34m\u001b[0m\u001b[0m\n\u001b[0;32m-> 3268\u001b[0;31m                 \u001b[0mres\u001b[0m \u001b[0;34m=\u001b[0m \u001b[0mself\u001b[0m\u001b[0;34m.\u001b[0m\u001b[0mtest_relation\u001b[0m\u001b[0;34m(\u001b[0m\u001b[0;34m)\u001b[0m\u001b[0;34m\u001b[0m\u001b[0;34m\u001b[0m\u001b[0m\n\u001b[0m\u001b[1;32m   3269\u001b[0m                 \u001b[0;32mif\u001b[0m \u001b[0mres\u001b[0m \u001b[0;32min\u001b[0m \u001b[0;34m(\u001b[0m\u001b[0;32mTrue\u001b[0m\u001b[0;34m,\u001b[0m \u001b[0;32mFalse\u001b[0m\u001b[0;34m)\u001b[0m\u001b[0;34m:\u001b[0m\u001b[0;34m\u001b[0m\u001b[0;34m\u001b[0m\u001b[0m\n\u001b[1;32m   3270\u001b[0m                     \u001b[0;32mreturn\u001b[0m \u001b[0mres\u001b[0m\u001b[0;34m\u001b[0m\u001b[0;34m\u001b[0m\u001b[0m\n",
      "\u001b[0;32m~/Library/SageMath/local/lib/python3.9/site-packages/sage/symbolic/expression.pyx\u001b[0m in \u001b[0;36msage.symbolic.expression.Expression.test_relation (build/cythonized/sage/symbolic/expression.cpp:22477)\u001b[0;34m()\u001b[0m\n\u001b[1;32m   3415\u001b[0m         \u001b[0;32mif\u001b[0m \u001b[0mlen\u001b[0m\u001b[0;34m(\u001b[0m\u001b[0mvars\u001b[0m\u001b[0;34m)\u001b[0m \u001b[0;34m==\u001b[0m \u001b[0;36m0\u001b[0m\u001b[0;34m:\u001b[0m\u001b[0;34m\u001b[0m\u001b[0;34m\u001b[0m\u001b[0m\n\u001b[1;32m   3416\u001b[0m             \u001b[0;32mtry\u001b[0m\u001b[0;34m:\u001b[0m\u001b[0;34m\u001b[0m\u001b[0;34m\u001b[0m\u001b[0m\n\u001b[0;32m-> 3417\u001b[0;31m                 \u001b[0mval\u001b[0m \u001b[0;34m=\u001b[0m \u001b[0mdomain\u001b[0m\u001b[0;34m(\u001b[0m\u001b[0mdiff\u001b[0m\u001b[0;34m)\u001b[0m\u001b[0;34m\u001b[0m\u001b[0;34m\u001b[0m\u001b[0m\n\u001b[0m\u001b[1;32m   3418\u001b[0m             \u001b[0;32mexcept\u001b[0m \u001b[0;34m(\u001b[0m\u001b[0mTypeError\u001b[0m\u001b[0;34m,\u001b[0m \u001b[0mValueError\u001b[0m\u001b[0;34m,\u001b[0m \u001b[0mArithmeticError\u001b[0m\u001b[0;34m)\u001b[0m \u001b[0;32mas\u001b[0m \u001b[0mex\u001b[0m\u001b[0;34m:\u001b[0m\u001b[0;34m\u001b[0m\u001b[0;34m\u001b[0m\u001b[0m\n\u001b[1;32m   3419\u001b[0m                 \u001b[0;32mpass\u001b[0m\u001b[0;34m\u001b[0m\u001b[0;34m\u001b[0m\u001b[0m\n",
      "\u001b[0;32m~/Library/SageMath/local/lib/python3.9/site-packages/sage/rings/real_mpfi.pyx\u001b[0m in \u001b[0;36msage.rings.real_mpfi.RealIntervalField_class.__call__ (build/cythonized/sage/rings/real_mpfi.c:6094)\u001b[0;34m()\u001b[0m\n\u001b[1;32m    709\u001b[0m         \u001b[0;32mif\u001b[0m \u001b[0mkwds\u001b[0m\u001b[0;34m:\u001b[0m\u001b[0;34m\u001b[0m\u001b[0;34m\u001b[0m\u001b[0m\n\u001b[1;32m    710\u001b[0m             \u001b[0;32mreturn\u001b[0m \u001b[0mself\u001b[0m\u001b[0;34m.\u001b[0m\u001b[0melement_class\u001b[0m\u001b[0;34m(\u001b[0m\u001b[0mself\u001b[0m\u001b[0;34m,\u001b[0m \u001b[0mx\u001b[0m\u001b[0;34m,\u001b[0m \u001b[0;34m**\u001b[0m\u001b[0mkwds\u001b[0m\u001b[0;34m)\u001b[0m\u001b[0;34m\u001b[0m\u001b[0;34m\u001b[0m\u001b[0m\n\u001b[0;32m--> 711\u001b[0;31m         \u001b[0;32mreturn\u001b[0m \u001b[0mParent\u001b[0m\u001b[0;34m.\u001b[0m\u001b[0m__call__\u001b[0m\u001b[0;34m(\u001b[0m\u001b[0mself\u001b[0m\u001b[0;34m,\u001b[0m \u001b[0mx\u001b[0m\u001b[0;34m)\u001b[0m\u001b[0;34m\u001b[0m\u001b[0;34m\u001b[0m\u001b[0m\n\u001b[0m\u001b[1;32m    712\u001b[0m \u001b[0;34m\u001b[0m\u001b[0m\n\u001b[1;32m    713\u001b[0m     \u001b[0;32mdef\u001b[0m \u001b[0malgebraic_closure\u001b[0m\u001b[0;34m(\u001b[0m\u001b[0mself\u001b[0m\u001b[0;34m)\u001b[0m\u001b[0;34m:\u001b[0m\u001b[0;34m\u001b[0m\u001b[0;34m\u001b[0m\u001b[0m\n",
      "\u001b[0;32m~/Library/SageMath/local/lib/python3.9/site-packages/sage/structure/parent.pyx\u001b[0m in \u001b[0;36msage.structure.parent.Parent.__call__ (build/cythonized/sage/structure/parent.c:9338)\u001b[0;34m()\u001b[0m\n\u001b[1;32m    896\u001b[0m         \u001b[0;32mif\u001b[0m \u001b[0mmor\u001b[0m \u001b[0;32mis\u001b[0m \u001b[0;32mnot\u001b[0m \u001b[0;32mNone\u001b[0m\u001b[0;34m:\u001b[0m\u001b[0;34m\u001b[0m\u001b[0;34m\u001b[0m\u001b[0m\n\u001b[1;32m    897\u001b[0m             \u001b[0;32mif\u001b[0m \u001b[0mno_extra_args\u001b[0m\u001b[0;34m:\u001b[0m\u001b[0;34m\u001b[0m\u001b[0;34m\u001b[0m\u001b[0m\n\u001b[0;32m--> 898\u001b[0;31m                 \u001b[0;32mreturn\u001b[0m \u001b[0mmor\u001b[0m\u001b[0;34m.\u001b[0m\u001b[0m_call_\u001b[0m\u001b[0;34m(\u001b[0m\u001b[0mx\u001b[0m\u001b[0;34m)\u001b[0m\u001b[0;34m\u001b[0m\u001b[0;34m\u001b[0m\u001b[0m\n\u001b[0m\u001b[1;32m    899\u001b[0m             \u001b[0;32melse\u001b[0m\u001b[0;34m:\u001b[0m\u001b[0;34m\u001b[0m\u001b[0;34m\u001b[0m\u001b[0m\n\u001b[1;32m    900\u001b[0m                 \u001b[0;32mreturn\u001b[0m \u001b[0mmor\u001b[0m\u001b[0;34m.\u001b[0m\u001b[0m_call_with_args\u001b[0m\u001b[0;34m(\u001b[0m\u001b[0mx\u001b[0m\u001b[0;34m,\u001b[0m \u001b[0margs\u001b[0m\u001b[0;34m,\u001b[0m \u001b[0mkwds\u001b[0m\u001b[0;34m)\u001b[0m\u001b[0;34m\u001b[0m\u001b[0;34m\u001b[0m\u001b[0m\n",
      "\u001b[0;32m~/Library/SageMath/local/lib/python3.9/site-packages/sage/structure/coerce_maps.pyx\u001b[0m in \u001b[0;36msage.structure.coerce_maps.NamedConvertMap._call_ (build/cythonized/sage/structure/coerce_maps.c:6042)\u001b[0;34m()\u001b[0m\n\u001b[1;32m    285\u001b[0m             \u001b[0;32mraise\u001b[0m \u001b[0mTypeError\u001b[0m\u001b[0;34m(\u001b[0m\u001b[0;34m\"Cannot coerce {} to {}\"\u001b[0m\u001b[0;34m.\u001b[0m\u001b[0mformat\u001b[0m\u001b[0;34m(\u001b[0m\u001b[0mx\u001b[0m\u001b[0;34m,\u001b[0m \u001b[0mC\u001b[0m\u001b[0;34m)\u001b[0m\u001b[0;34m)\u001b[0m\u001b[0;34m\u001b[0m\u001b[0;34m\u001b[0m\u001b[0m\n\u001b[1;32m    286\u001b[0m         \u001b[0mcdef\u001b[0m \u001b[0mMap\u001b[0m \u001b[0mm\u001b[0m\u001b[0;34m\u001b[0m\u001b[0;34m\u001b[0m\u001b[0m\n\u001b[0;32m--> 287\u001b[0;31m         \u001b[0mcdef\u001b[0m \u001b[0mElement\u001b[0m \u001b[0me\u001b[0m \u001b[0;34m=\u001b[0m \u001b[0mmethod\u001b[0m\u001b[0;34m(\u001b[0m\u001b[0mC\u001b[0m\u001b[0;34m)\u001b[0m\u001b[0;34m\u001b[0m\u001b[0;34m\u001b[0m\u001b[0m\n\u001b[0m\u001b[1;32m    288\u001b[0m         \u001b[0;32mif\u001b[0m \u001b[0me\u001b[0m \u001b[0;32mis\u001b[0m \u001b[0;32mNone\u001b[0m\u001b[0;34m:\u001b[0m\u001b[0;34m\u001b[0m\u001b[0;34m\u001b[0m\u001b[0m\n\u001b[1;32m    289\u001b[0m             \u001b[0;32mraise\u001b[0m \u001b[0mRuntimeError\u001b[0m\u001b[0;34m(\u001b[0m\u001b[0;34m\"BUG in coercion model: {} method of {} returned None\"\u001b[0m\u001b[0;34m.\u001b[0m\u001b[0mformat\u001b[0m\u001b[0;34m(\u001b[0m\u001b[0mself\u001b[0m\u001b[0;34m.\u001b[0m\u001b[0mmethod_name\u001b[0m\u001b[0;34m,\u001b[0m \u001b[0mtype\u001b[0m\u001b[0;34m(\u001b[0m\u001b[0mx\u001b[0m\u001b[0;34m)\u001b[0m\u001b[0;34m)\u001b[0m\u001b[0;34m)\u001b[0m\u001b[0;34m\u001b[0m\u001b[0;34m\u001b[0m\u001b[0m\n",
      "\u001b[0;32m~/Library/SageMath/local/lib/python3.9/site-packages/sage/symbolic/expression.pyx\u001b[0m in \u001b[0;36msage.symbolic.expression.Expression._real_mpfi_ (build/cythonized/sage/symbolic/expression.cpp:10736)\u001b[0;34m()\u001b[0m\n\u001b[1;32m   1549\u001b[0m         \"\"\"\n\u001b[1;32m   1550\u001b[0m         \u001b[0;32mtry\u001b[0m\u001b[0;34m:\u001b[0m\u001b[0;34m\u001b[0m\u001b[0;34m\u001b[0m\u001b[0m\n\u001b[0;32m-> 1551\u001b[0;31m             \u001b[0;32mreturn\u001b[0m \u001b[0mself\u001b[0m\u001b[0;34m.\u001b[0m\u001b[0m_eval_self\u001b[0m\u001b[0;34m(\u001b[0m\u001b[0mR\u001b[0m\u001b[0;34m)\u001b[0m\u001b[0;34m\u001b[0m\u001b[0;34m\u001b[0m\u001b[0m\n\u001b[0m\u001b[1;32m   1552\u001b[0m         \u001b[0;32mexcept\u001b[0m \u001b[0mTypeError\u001b[0m\u001b[0;34m:\u001b[0m\u001b[0;34m\u001b[0m\u001b[0;34m\u001b[0m\u001b[0m\n\u001b[1;32m   1553\u001b[0m             \u001b[0;32mraise\u001b[0m \u001b[0mTypeError\u001b[0m\u001b[0;34m(\u001b[0m\u001b[0;34m\"unable to simplify to a real interval approximation\"\u001b[0m\u001b[0;34m)\u001b[0m\u001b[0;34m\u001b[0m\u001b[0;34m\u001b[0m\u001b[0m\n",
      "\u001b[0;32m~/Library/SageMath/local/lib/python3.9/site-packages/sage/symbolic/expression.pyx\u001b[0m in \u001b[0;36msage.symbolic.expression.Expression._eval_self (build/cythonized/sage/symbolic/expression.cpp:9932)\u001b[0;34m()\u001b[0m\n\u001b[1;32m   1431\u001b[0m         \"\"\"\n\u001b[1;32m   1432\u001b[0m         \u001b[0;32mtry\u001b[0m\u001b[0;34m:\u001b[0m\u001b[0;34m\u001b[0m\u001b[0;34m\u001b[0m\u001b[0m\n\u001b[0;32m-> 1433\u001b[0;31m             \u001b[0mres\u001b[0m \u001b[0;34m=\u001b[0m \u001b[0mself\u001b[0m\u001b[0;34m.\u001b[0m\u001b[0m_convert\u001b[0m\u001b[0;34m(\u001b[0m\u001b[0;34m{\u001b[0m\u001b[0;34m'parent'\u001b[0m\u001b[0;34m:\u001b[0m\u001b[0mR\u001b[0m\u001b[0;34m}\u001b[0m\u001b[0;34m)\u001b[0m\u001b[0;34m\u001b[0m\u001b[0;34m\u001b[0m\u001b[0m\n\u001b[0m\u001b[1;32m   1434\u001b[0m         \u001b[0;32mexcept\u001b[0m \u001b[0mTypeError\u001b[0m \u001b[0;32mas\u001b[0m \u001b[0merr\u001b[0m\u001b[0;34m:\u001b[0m\u001b[0;34m\u001b[0m\u001b[0;34m\u001b[0m\u001b[0m\n\u001b[1;32m   1435\u001b[0m             \u001b[0;31m# try the evaluation again with the complex field\u001b[0m\u001b[0;34m\u001b[0m\u001b[0;34m\u001b[0m\u001b[0;34m\u001b[0m\u001b[0m\n",
      "\u001b[0;32m~/Library/SageMath/local/lib/python3.9/site-packages/sage/symbolic/expression.pyx\u001b[0m in \u001b[0;36msage.symbolic.expression.Expression._convert (build/cythonized/sage/symbolic/expression.cpp:10527)\u001b[0;34m()\u001b[0m\n\u001b[1;32m   1516\u001b[0m             \u001b[0;34m<\u001b[0m\u001b[0mtype\u001b[0m \u001b[0;34m'sage.rings.real_double.RealDoubleElement'\u001b[0m\u001b[0;34m>\u001b[0m\u001b[0;34m\u001b[0m\u001b[0;34m\u001b[0m\u001b[0m\n\u001b[1;32m   1517\u001b[0m         \"\"\"\n\u001b[0;32m-> 1518\u001b[0;31m         \u001b[0mcdef\u001b[0m \u001b[0mGEx\u001b[0m \u001b[0mres\u001b[0m \u001b[0;34m=\u001b[0m \u001b[0mself\u001b[0m\u001b[0;34m.\u001b[0m\u001b[0m_gobj\u001b[0m\u001b[0;34m.\u001b[0m\u001b[0mevalf\u001b[0m\u001b[0;34m(\u001b[0m\u001b[0;36m0\u001b[0m\u001b[0;34m,\u001b[0m \u001b[0mkwds\u001b[0m\u001b[0;34m)\u001b[0m\u001b[0;34m\u001b[0m\u001b[0;34m\u001b[0m\u001b[0m\n\u001b[0m\u001b[1;32m   1519\u001b[0m         \u001b[0;32mreturn\u001b[0m \u001b[0mnew_Expression_from_GEx\u001b[0m\u001b[0;34m(\u001b[0m\u001b[0mself\u001b[0m\u001b[0;34m.\u001b[0m\u001b[0m_parent\u001b[0m\u001b[0;34m,\u001b[0m \u001b[0mres\u001b[0m\u001b[0;34m)\u001b[0m\u001b[0;34m\u001b[0m\u001b[0;34m\u001b[0m\u001b[0m\n\u001b[1;32m   1520\u001b[0m \u001b[0;34m\u001b[0m\u001b[0m\n",
      "\u001b[0;32m~/Library/SageMath/local/lib/python3.9/site-packages/sage/libs/pynac/pynac.pyx\u001b[0m in \u001b[0;36msage.libs.pynac.pynac.py_float (build/cythonized/sage/libs/pynac/pynac.cpp:15727)\u001b[0;34m()\u001b[0m\n\u001b[1;32m   1351\u001b[0m         \u001b[0;32melse\u001b[0m\u001b[0;34m:\u001b[0m\u001b[0;34m\u001b[0m\u001b[0;34m\u001b[0m\u001b[0m\n\u001b[1;32m   1352\u001b[0m             \u001b[0;32mtry\u001b[0m\u001b[0;34m:\u001b[0m\u001b[0;34m\u001b[0m\u001b[0;34m\u001b[0m\u001b[0m\n\u001b[0;32m-> 1353\u001b[0;31m                 \u001b[0;32mreturn\u001b[0m \u001b[0mp\u001b[0m\u001b[0;34m(\u001b[0m\u001b[0mn\u001b[0m\u001b[0;34m)\u001b[0m\u001b[0;34m\u001b[0m\u001b[0;34m\u001b[0m\u001b[0m\n\u001b[0m\u001b[1;32m   1354\u001b[0m             \u001b[0;32mexcept\u001b[0m \u001b[0;34m(\u001b[0m\u001b[0mTypeError\u001b[0m\u001b[0;34m,\u001b[0m\u001b[0mValueError\u001b[0m\u001b[0;34m)\u001b[0m\u001b[0;34m:\u001b[0m\u001b[0;34m\u001b[0m\u001b[0;34m\u001b[0m\u001b[0m\n\u001b[1;32m   1355\u001b[0m                 \u001b[0;32mreturn\u001b[0m \u001b[0mp\u001b[0m\u001b[0;34m.\u001b[0m\u001b[0mcomplex_field\u001b[0m\u001b[0;34m(\u001b[0m\u001b[0;34m)\u001b[0m\u001b[0;34m(\u001b[0m\u001b[0mn\u001b[0m\u001b[0;34m)\u001b[0m\u001b[0;34m\u001b[0m\u001b[0;34m\u001b[0m\u001b[0m\n",
      "\u001b[0;32m~/Library/SageMath/local/lib/python3.9/site-packages/sage/rings/real_mpfi.pyx\u001b[0m in \u001b[0;36msage.rings.real_mpfi.RealIntervalField_class.__call__ (build/cythonized/sage/rings/real_mpfi.c:6094)\u001b[0;34m()\u001b[0m\n\u001b[1;32m    709\u001b[0m         \u001b[0;32mif\u001b[0m \u001b[0mkwds\u001b[0m\u001b[0;34m:\u001b[0m\u001b[0;34m\u001b[0m\u001b[0;34m\u001b[0m\u001b[0m\n\u001b[1;32m    710\u001b[0m             \u001b[0;32mreturn\u001b[0m \u001b[0mself\u001b[0m\u001b[0;34m.\u001b[0m\u001b[0melement_class\u001b[0m\u001b[0;34m(\u001b[0m\u001b[0mself\u001b[0m\u001b[0;34m,\u001b[0m \u001b[0mx\u001b[0m\u001b[0;34m,\u001b[0m \u001b[0;34m**\u001b[0m\u001b[0mkwds\u001b[0m\u001b[0;34m)\u001b[0m\u001b[0;34m\u001b[0m\u001b[0;34m\u001b[0m\u001b[0m\n\u001b[0;32m--> 711\u001b[0;31m         \u001b[0;32mreturn\u001b[0m \u001b[0mParent\u001b[0m\u001b[0;34m.\u001b[0m\u001b[0m__call__\u001b[0m\u001b[0;34m(\u001b[0m\u001b[0mself\u001b[0m\u001b[0;34m,\u001b[0m \u001b[0mx\u001b[0m\u001b[0;34m)\u001b[0m\u001b[0;34m\u001b[0m\u001b[0;34m\u001b[0m\u001b[0m\n\u001b[0m\u001b[1;32m    712\u001b[0m \u001b[0;34m\u001b[0m\u001b[0m\n\u001b[1;32m    713\u001b[0m     \u001b[0;32mdef\u001b[0m \u001b[0malgebraic_closure\u001b[0m\u001b[0;34m(\u001b[0m\u001b[0mself\u001b[0m\u001b[0;34m)\u001b[0m\u001b[0;34m:\u001b[0m\u001b[0;34m\u001b[0m\u001b[0;34m\u001b[0m\u001b[0m\n",
      "\u001b[0;32m~/Library/SageMath/local/lib/python3.9/site-packages/sage/structure/parent.pyx\u001b[0m in \u001b[0;36msage.structure.parent.Parent.__call__ (build/cythonized/sage/structure/parent.c:9338)\u001b[0;34m()\u001b[0m\n\u001b[1;32m    896\u001b[0m         \u001b[0;32mif\u001b[0m \u001b[0mmor\u001b[0m \u001b[0;32mis\u001b[0m \u001b[0;32mnot\u001b[0m \u001b[0;32mNone\u001b[0m\u001b[0;34m:\u001b[0m\u001b[0;34m\u001b[0m\u001b[0;34m\u001b[0m\u001b[0m\n\u001b[1;32m    897\u001b[0m             \u001b[0;32mif\u001b[0m \u001b[0mno_extra_args\u001b[0m\u001b[0;34m:\u001b[0m\u001b[0;34m\u001b[0m\u001b[0;34m\u001b[0m\u001b[0m\n\u001b[0;32m--> 898\u001b[0;31m                 \u001b[0;32mreturn\u001b[0m \u001b[0mmor\u001b[0m\u001b[0;34m.\u001b[0m\u001b[0m_call_\u001b[0m\u001b[0;34m(\u001b[0m\u001b[0mx\u001b[0m\u001b[0;34m)\u001b[0m\u001b[0;34m\u001b[0m\u001b[0;34m\u001b[0m\u001b[0m\n\u001b[0m\u001b[1;32m    899\u001b[0m             \u001b[0;32melse\u001b[0m\u001b[0;34m:\u001b[0m\u001b[0;34m\u001b[0m\u001b[0;34m\u001b[0m\u001b[0m\n\u001b[1;32m    900\u001b[0m                 \u001b[0;32mreturn\u001b[0m \u001b[0mmor\u001b[0m\u001b[0;34m.\u001b[0m\u001b[0m_call_with_args\u001b[0m\u001b[0;34m(\u001b[0m\u001b[0mx\u001b[0m\u001b[0;34m,\u001b[0m \u001b[0margs\u001b[0m\u001b[0;34m,\u001b[0m \u001b[0mkwds\u001b[0m\u001b[0;34m)\u001b[0m\u001b[0;34m\u001b[0m\u001b[0;34m\u001b[0m\u001b[0m\n",
      "\u001b[0;32m~/Library/SageMath/local/lib/python3.9/site-packages/sage/structure/coerce_maps.pyx\u001b[0m in \u001b[0;36msage.structure.coerce_maps.DefaultConvertMap_unique._call_ (build/cythonized/sage/structure/coerce_maps.c:4514)\u001b[0;34m()\u001b[0m\n\u001b[1;32m    154\u001b[0m         \u001b[0mcdef\u001b[0m \u001b[0mParent\u001b[0m \u001b[0mC\u001b[0m \u001b[0;34m=\u001b[0m \u001b[0mself\u001b[0m\u001b[0;34m.\u001b[0m\u001b[0m_codomain\u001b[0m\u001b[0;34m\u001b[0m\u001b[0;34m\u001b[0m\u001b[0m\n\u001b[1;32m    155\u001b[0m         \u001b[0;32mtry\u001b[0m\u001b[0;34m:\u001b[0m\u001b[0;34m\u001b[0m\u001b[0;34m\u001b[0m\u001b[0m\n\u001b[0;32m--> 156\u001b[0;31m             \u001b[0;32mreturn\u001b[0m \u001b[0mC\u001b[0m\u001b[0;34m.\u001b[0m\u001b[0m_element_constructor\u001b[0m\u001b[0;34m(\u001b[0m\u001b[0mx\u001b[0m\u001b[0;34m)\u001b[0m\u001b[0;34m\u001b[0m\u001b[0;34m\u001b[0m\u001b[0m\n\u001b[0m\u001b[1;32m    157\u001b[0m         \u001b[0;32mexcept\u001b[0m \u001b[0mException\u001b[0m\u001b[0;34m:\u001b[0m\u001b[0;34m\u001b[0m\u001b[0;34m\u001b[0m\u001b[0m\n\u001b[1;32m    158\u001b[0m             \u001b[0;32mif\u001b[0m \u001b[0mprint_warnings\u001b[0m\u001b[0;34m:\u001b[0m\u001b[0;34m\u001b[0m\u001b[0;34m\u001b[0m\u001b[0m\n",
      "\u001b[0;32m~/Library/SageMath/local/lib/python3.9/site-packages/sage/categories/sets_cat.py\u001b[0m in \u001b[0;36m_element_constructor_from_element_class\u001b[0;34m(self, *args, **keywords)\u001b[0m\n\u001b[1;32m    971\u001b[0m                 \u001b[0;32mreturn\u001b[0m \u001b[0mNotImplemented\u001b[0m\u001b[0;34m\u001b[0m\u001b[0;34m\u001b[0m\u001b[0m\n\u001b[1;32m    972\u001b[0m \u001b[0;34m\u001b[0m\u001b[0m\n\u001b[0;32m--> 973\u001b[0;31m         \u001b[0;32mdef\u001b[0m \u001b[0m_element_constructor_from_element_class\u001b[0m\u001b[0;34m(\u001b[0m\u001b[0mself\u001b[0m\u001b[0;34m,\u001b[0m \u001b[0;34m*\u001b[0m\u001b[0margs\u001b[0m\u001b[0;34m,\u001b[0m \u001b[0;34m**\u001b[0m\u001b[0mkeywords\u001b[0m\u001b[0;34m)\u001b[0m\u001b[0;34m:\u001b[0m\u001b[0;34m\u001b[0m\u001b[0;34m\u001b[0m\u001b[0m\n\u001b[0m\u001b[1;32m    974\u001b[0m             \"\"\"\n\u001b[1;32m    975\u001b[0m             \u001b[0mThe\u001b[0m \u001b[0mdefault\u001b[0m \u001b[0mconstructor\u001b[0m \u001b[0;32mfor\u001b[0m \u001b[0melements\u001b[0m \u001b[0mof\u001b[0m \u001b[0mthis\u001b[0m \u001b[0mparent\u001b[0m\u001b[0;31m \u001b[0m\u001b[0;31m`\u001b[0m\u001b[0;31m`\u001b[0m\u001b[0mself\u001b[0m\u001b[0;31m`\u001b[0m\u001b[0;31m`\u001b[0m\u001b[0;34m.\u001b[0m\u001b[0;34m\u001b[0m\u001b[0;34m\u001b[0m\u001b[0m\n",
      "\u001b[0;32msrc/cysignals/signals.pyx\u001b[0m in \u001b[0;36mcysignals.signals.python_check_interrupt\u001b[0;34m()\u001b[0m\n",
      "\u001b[0;31mKeyboardInterrupt\u001b[0m: "
     ]
    }
   ],
   "source": [
    "# Experiment 7: 100 Random Uniform Matroids with universe size = 200 (rank is also random)\n",
    "random.seed(int(1007))\n",
    "results7 = evaluate(RandomMatroid(200), num_matroids=100, num_trials=1000)"
   ]
  },
  {
   "cell_type": "code",
   "execution_count": 24,
   "id": "46486cfa",
   "metadata": {},
   "outputs": [
    {
     "data": {
      "image/png": "[encoded data removed]",
      "text/plain": [
       "<Figure size 432x288 with 1 Axes>"
      ]
     },
     "metadata": {
      "needs_background": "light"
     },
     "output_type": "display_data"
    },
    {
     "name": "stdout",
     "output_type": "stream",
     "text": [
      "[0.366, 0.37, 0.364, 0.372, 0.35]\n"
     ]
    }
   ],
   "source": [
    "plot(results7)\n",
    "print(results7)"
   ]
  },
  {
   "cell_type": "code",
   "execution_count": 214,
   "id": "945b2787",
   "metadata": {},
   "outputs": [
    {
     "name": "stdout",
     "output_type": "stream",
     "text": [
      "65\n",
      "Matroid 1/1 completed in 0.28s\n"
     ]
    }
   ],
   "source": [
    "# Experiment 8: 20 random linear matroids in a finite field of order 563 with rank (somewhat)\n",
    "# uniformly distributed between 1 and universe size\n",
    "random.seed(int(1008))\n",
    "results8 = evaluate(LinearRandomMatroid(110, order=563), num_matroids=20, num_trials=1000)"
   ]
  },
  {
   "cell_type": "code",
   "execution_count": 213,
   "id": "0bcfe8b1",
   "metadata": {},
   "outputs": [
    {
     "ename": "NameError",
     "evalue": "name 'results8' is not defined",
     "output_type": "error",
     "traceback": [
      "\u001b[0;31m---------------------------------------------------------------------------\u001b[0m",
      "\u001b[0;31mNameError\u001b[0m                                 Traceback (most recent call last)",
      "\u001b[0;32m<ipython-input-213-e1756aa26542>\u001b[0m in \u001b[0;36m<module>\u001b[0;34m\u001b[0m\n\u001b[0;32m----> 1\u001b[0;31m \u001b[0mplot\u001b[0m\u001b[0;34m(\u001b[0m\u001b[0mresults8\u001b[0m\u001b[0;34m)\u001b[0m\u001b[0;34m\u001b[0m\u001b[0;34m\u001b[0m\u001b[0m\n\u001b[0m\u001b[1;32m      2\u001b[0m \u001b[0mprint\u001b[0m\u001b[0;34m(\u001b[0m\u001b[0mresults8\u001b[0m\u001b[0;34m)\u001b[0m\u001b[0;34m\u001b[0m\u001b[0;34m\u001b[0m\u001b[0m\n",
      "\u001b[0;31mNameError\u001b[0m: name 'results8' is not defined"
     ]
    }
   ],
   "source": [
    "plot(results8)\n",
    "print(results8)"
   ]
  },
  {
   "cell_type": "markdown",
   "id": "1bb94955",
   "metadata": {},
   "source": [
    "# Testing for Pseudo-Virtual Algorithm"
   ]
  },
  {
   "cell_type": "code",
   "execution_count": null,
   "id": "828bb716",
   "metadata": {},
   "outputs": [],
   "source": []
  }
 ],
 "metadata": {
  "kernelspec": {
   "display_name": "SageMath 9.4",
   "language": "sage",
   "name": "sagemath"
  }
 },
 "nbformat": 4,
 "nbformat_minor": 5
}
