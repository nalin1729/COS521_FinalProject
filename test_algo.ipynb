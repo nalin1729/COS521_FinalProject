{
 "cells": [
  {
   "cell_type": "code",
   "execution_count": 1,
   "id": "8649efe0",
   "metadata": {},
   "outputs": [],
   "source": [
    "import random\n",
    "from collections import defaultdict\n",
    "import time\n",
    "import matplotlib.pyplot as plt"
   ]
  },
  {
   "cell_type": "markdown",
   "id": "d511be29",
   "metadata": {},
   "source": [
    "# Random Matroid Generation"
   ]
  },
  {
   "cell_type": "code",
   "execution_count": 2,
   "id": "ef2af01f",
   "metadata": {},
   "outputs": [],
   "source": [
    "class RandomMatroid:\n",
    "    def __init__(self, n):\n",
    "        self.n = n\n",
    "    \n",
    "    def rand_matroid(self):\n",
    "        return matroids.catalog.Uniform(random.randint(1, self.n), self.n)\n",
    "    \n",
    "    def gen(self, num_matroids):\n",
    "        for _ in range(num_matroids):\n",
    "            yield self.rand_matroid()"
   ]
  },
  {
   "cell_type": "code",
   "execution_count": 3,
   "id": "956b84e8",
   "metadata": {},
   "outputs": [],
   "source": [
    "class GraphicRandomMatroid(RandomMatroid):\n",
    "    def __init__(self, n):\n",
    "        super().__init__(n)\n",
    "        \n",
    "    def rand_matroid(self):\n",
    "        G = graphs.RandomGNM(random.randint(math.ceil((1+math.sqrt(1+8*self.n))/2), self.n), self.n)\n",
    "        edges = [(e[0], e[1], i) for i, e in enumerate(G.edges())]\n",
    "        return Matroid(graph=edges)"
   ]
  },
  {
   "cell_type": "code",
   "execution_count": 4,
   "id": "8d99059a",
   "metadata": {},
   "outputs": [],
   "source": [
    "class LinearRandomMatroid(RandomMatroid):\n",
    "    def __init__(self, n):\n",
    "        super().__init__(n)\n",
    "    \n",
    "    # return one random linear matroid\n",
    "    def rand_matroid(self):\n",
    "        pass"
   ]
  },
  {
   "cell_type": "code",
   "execution_count": 5,
   "id": "2beb843c",
   "metadata": {},
   "outputs": [],
   "source": [
    "class TransversalRandomMatroid(RandomMatroid):\n",
    "    def __init__(self, n):\n",
    "        super().__init__(n)\n",
    "    \n",
    "    # return one random transversal matroid\n",
    "    def rand_matroid(self):\n",
    "        pass"
   ]
  },
  {
   "cell_type": "code",
   "execution_count": 6,
   "id": "eff72a49",
   "metadata": {},
   "outputs": [],
   "source": [
    "class GeneralRandomMatroid(RandomMatroid):\n",
    "    def __init__(self, n):\n",
    "        super().__init__(n)\n",
    "        self.U = frozenset(range(n))\n",
    "    \n",
    "    def _isContained(self, AandB, Fr):\n",
    "        if len(AandB) == 0: return True\n",
    "        for C in Fr:\n",
    "            if AandB.issubset(C): return True\n",
    "        return False\n",
    "    \n",
    "    def rand_matroid(self):\n",
    "        r = 0\n",
    "        F = [set(frozenset())]\n",
    "        while self.U not in F[r]:\n",
    "            # generate covers\n",
    "            F_next = set(frozenset())\n",
    "            if r == 0:\n",
    "                for a in self.U:\n",
    "                    F_next.add(frozenset([a]))\n",
    "            else:\n",
    "                for A in F[r]:\n",
    "                    for a in self.U - A:\n",
    "                        x = set(A)\n",
    "                        x.add(a)\n",
    "                        F_next.add(frozenset(x))\n",
    "\n",
    "            #enlarge\n",
    "            if r != 0:\n",
    "                # adjust the number of times this loop is performed to generate different matroids\n",
    "                for _ in range(random.randint(0, self.n//2)):\n",
    "                    A = set(random.choice(list(F_next)))\n",
    "                    F_next.remove(A)\n",
    "                    if len(list(self.U-A)) != 0:\n",
    "                        A.add(random.choice(list(self.U-A)))\n",
    "                    F_next.add(frozenset(A))\n",
    "\n",
    "            # superpose\n",
    "            isContained = False\n",
    "            while not isContained:\n",
    "                isContained = True\n",
    "                not_contained = []\n",
    "                for A in F_next:\n",
    "                    for B in F_next:\n",
    "                        if A == B: continue\n",
    "                        if not self._isContained(A.intersection(B), F[r]): \n",
    "                            not_contained.append((A, B))\n",
    "                            isContained = False\n",
    "                for AB in not_contained:\n",
    "                    A, B = AB\n",
    "                    if A in F_next and B in F_next:\n",
    "                        F_next.remove(A)\n",
    "                        F_next.remove(B)\n",
    "                        F_next.add(A.union(B))\n",
    "            F.append(F_next)\n",
    "            r += 1\n",
    "    \n",
    "        closed_sets = []\n",
    "        for rank, X in enumerate(F):\n",
    "            for Y in X:\n",
    "                closed_sets.append((rank, Y))\n",
    "\n",
    "        return Matroid(self.U, circuit_closures = closed_sets)"
   ]
  },
  {
   "cell_type": "markdown",
   "id": "5ea7fd5e",
   "metadata": {},
   "source": [
    "# AKW Algorithm Implementation"
   ]
  },
  {
   "cell_type": "code",
   "execution_count": 7,
   "id": "61dc0c2a",
   "metadata": {},
   "outputs": [],
   "source": [
    "# Import any algorithm implementations here\n",
    "class FreeOrderMatroidAlgo:\n",
    "    def __init__(self, matroid, weights):\n",
    "        assert matroid.size() == len(weights)\n",
    "\n",
    "        self.matroid = matroid\n",
    "        self.weights = weights\n",
    "\n",
    "class Conjecture(FreeOrderMatroidAlgo):\n",
    "    def __init__(self, matroid, weights, sample_prob, verbose=False):\n",
    "        super().__init__(matroid, weights)\n",
    "        self.verbose = verbose\n",
    "        \n",
    "        # Sample S\n",
    "        S = []\n",
    "        self.P = set()\n",
    "        for i in range(self.matroid.size()):\n",
    "            if random.random() < sample_prob: \n",
    "                S.append((i, self.weights[i]))\n",
    "            else: self.P.add(i)\n",
    "\n",
    "        self.P = frozenset(self.P)\n",
    "        S = dict(S)\n",
    "        if self.verbose: print(f'{S = }')\n",
    "        self.X = self.matroid.max_weight_independent(X=set(S.keys()), weights=S) # max-weight basis of S\n",
    "        self.X = sorted(list(self.X), key=lambda i: self.weights[i], reverse=True)\n",
    "\n",
    "        self.current_iteration = 0\n",
    "        self.current_span = frozenset()\n",
    "\n",
    "    def run_trial(self):\n",
    "        total = 0\n",
    "        remaining = set(self.P) # which elements haven't been seen yet\n",
    "        current_span = frozenset()\n",
    "        A = frozenset() # store the answer\n",
    "\n",
    "        for i, basis_elem in enumerate(self.X):\n",
    "            next_span = self.matroid.closure(self.X[:i + 1]).intersection(self.P)\n",
    "            candidates = list(next_span.difference(current_span))\n",
    "            random.shuffle(candidates)\n",
    "            \n",
    "            if self.verbose: print(f'{candidates = }')\n",
    "            for y in candidates:\n",
    "                remaining.remove(y)\n",
    "                if self.weights[y] > self.weights[basis_elem]:\n",
    "                    if self.matroid.is_independent(A.union(frozenset([y]))): \n",
    "                        A = A.union(frozenset([y]))\n",
    "                        total += self.weights[y]\n",
    "                        if self.verbose: print(f'{y = }')\n",
    "            current_span = next_span\n",
    "\n",
    "        remaining = list(remaining)\n",
    "        if self.verbose: print(f'{remaining = }')\n",
    "        random.shuffle(remaining)\n",
    "        for y in remaining:\n",
    "            if self.matroid.is_independent(A.union(frozenset([y]))): \n",
    "                A = A.union(frozenset([y]))\n",
    "                total += self.weights[y]\n",
    "\n",
    "        return total, A"
   ]
  },
  {
   "cell_type": "markdown",
   "id": "96a4f100",
   "metadata": {},
   "source": [
    "# Experiment Setup"
   ]
  },
  {
   "cell_type": "code",
   "execution_count": 8,
   "id": "493b3156",
   "metadata": {},
   "outputs": [],
   "source": [
    "# algo is assumed to be a FreeOrderMatroidAlgo. Returns averaged payoff over all trials\n",
    "# weights will be a list of values of each item\n",
    "def run_trials(num_trials, matroid, weights, verbose = False):\n",
    "    sum = 0\n",
    "    total_counts = defaultdict(lambda: 0)\n",
    "    for _ in range(num_trials):\n",
    "        algo = Conjecture(matroid, weights, exp(-1), verbose)\n",
    "        weight, included = algo.run_trial()\n",
    "        sum += weight\n",
    "        if verbose: print(f'{included = }')\n",
    "        for element in included: total_counts[element] += 1\n",
    "\n",
    "    for key in total_counts: total_counts[key] = float(total_counts[key]) / num_trials\n",
    "    return float(sum / num_trials), total_counts"
   ]
  },
  {
   "cell_type": "code",
   "execution_count": 10,
   "id": "e9fbe58f",
   "metadata": {},
   "outputs": [],
   "source": [
    "def run_experiment(M, num_trials, weights = None, verbose = False):\n",
    "    if weights is None: weights = [random.uniform(0, 1) for i in range(n)]\n",
    "\n",
    "    start_time = time.time()\n",
    "    val, freqs = run_trials(num_trials, M, weights, verbose)\n",
    "    end_time = time.time()\n",
    "    \n",
    "    if verbose: print(f\"Time to run {num_trials} trials is \", end_time - start_time)\n",
    "\n",
    "    opt_indices = M.max_weight_independent(X=set(range(M.size())), weights = dict([(i, weight) for i, weight in enumerate(weights)]))\n",
    "    opt_val = 0\n",
    "    ratios = []\n",
    "    \n",
    "    for opt_index in opt_indices:\n",
    "        ratios.append(freqs[opt_index])\n",
    "        #if (freqs[opt_index] < exp(-1)):\n",
    "            #print(\"Less than 1/e when \", M, opt_index)\n",
    "\n",
    "    return min(ratios)"
   ]
  },
  {
   "cell_type": "code",
   "execution_count": 11,
   "id": "97d0220f",
   "metadata": {},
   "outputs": [],
   "source": [
    "def evaluate(rand_matroid, num_matroids, num_trials = 1000):\n",
    "    results = []\n",
    "    for i, M in enumerate(rand_matroid.gen(num_matroids), 1):\n",
    "        start = time.time()\n",
    "        results.append(run_experiment(M, num_trials))\n",
    "        end = time.time()\n",
    "        print(f'Matroid {i}/{num_matroids} completed in {round(end - start, 1)}s')\n",
    "    return results"
   ]
  },
  {
   "cell_type": "markdown",
   "id": "14d316be",
   "metadata": {},
   "source": [
    "# Evaluation"
   ]
  },
  {
   "cell_type": "code",
   "execution_count": 12,
   "id": "673ae46a",
   "metadata": {},
   "outputs": [
    {
     "ename": "TypeError",
     "evalue": "'function' object cannot be interpreted as an integer",
     "output_type": "error",
     "traceback": [
      "\u001b[0;31m---------------------------------------------------------------------------\u001b[0m",
      "\u001b[0;31mTypeError\u001b[0m                                 Traceback (most recent call last)",
      "\u001b[0;32m<ipython-input-12-5a21e5752ea0>\u001b[0m in \u001b[0;36m<module>\u001b[0;34m\u001b[0m\n\u001b[1;32m      1\u001b[0m \u001b[0;31m# Experiment 1: 100 graphic matroids, size 101\u001b[0m\u001b[0;34m\u001b[0m\u001b[0;34m\u001b[0m\u001b[0;34m\u001b[0m\u001b[0m\n\u001b[0;32m----> 2\u001b[0;31m \u001b[0mresults\u001b[0m \u001b[0;34m=\u001b[0m \u001b[0mevaluate\u001b[0m\u001b[0;34m(\u001b[0m\u001b[0mGraphicRandomMatroid\u001b[0m\u001b[0;34m(\u001b[0m\u001b[0mn\u001b[0m\u001b[0;34m=\u001b[0m\u001b[0mInteger\u001b[0m\u001b[0;34m(\u001b[0m\u001b[0;36m101\u001b[0m\u001b[0;34m)\u001b[0m\u001b[0;34m)\u001b[0m\u001b[0;34m,\u001b[0m \u001b[0mnum_matroids\u001b[0m\u001b[0;34m=\u001b[0m\u001b[0mInteger\u001b[0m\u001b[0;34m(\u001b[0m\u001b[0;36m100\u001b[0m\u001b[0;34m)\u001b[0m\u001b[0;34m)\u001b[0m\u001b[0;34m\u001b[0m\u001b[0;34m\u001b[0m\u001b[0m\n\u001b[0m",
      "\u001b[0;32m<ipython-input-11-012539b44d1f>\u001b[0m in \u001b[0;36mevaluate\u001b[0;34m(rand_matroid, num_matroids, num_trials)\u001b[0m\n\u001b[1;32m      3\u001b[0m     \u001b[0;32mfor\u001b[0m \u001b[0mi\u001b[0m\u001b[0;34m,\u001b[0m \u001b[0mM\u001b[0m \u001b[0;32min\u001b[0m \u001b[0menumerate\u001b[0m\u001b[0;34m(\u001b[0m\u001b[0mrand_matroid\u001b[0m\u001b[0;34m.\u001b[0m\u001b[0mgen\u001b[0m\u001b[0;34m(\u001b[0m\u001b[0mnum_matroids\u001b[0m\u001b[0;34m)\u001b[0m\u001b[0;34m,\u001b[0m \u001b[0mInteger\u001b[0m\u001b[0;34m(\u001b[0m\u001b[0;36m1\u001b[0m\u001b[0;34m)\u001b[0m\u001b[0;34m)\u001b[0m\u001b[0;34m:\u001b[0m\u001b[0;34m\u001b[0m\u001b[0;34m\u001b[0m\u001b[0m\n\u001b[1;32m      4\u001b[0m         \u001b[0mstart\u001b[0m \u001b[0;34m=\u001b[0m \u001b[0mtime\u001b[0m\u001b[0;34m.\u001b[0m\u001b[0mtime\u001b[0m\u001b[0;34m(\u001b[0m\u001b[0;34m)\u001b[0m\u001b[0;34m\u001b[0m\u001b[0;34m\u001b[0m\u001b[0m\n\u001b[0;32m----> 5\u001b[0;31m         \u001b[0mresults\u001b[0m\u001b[0;34m.\u001b[0m\u001b[0mappend\u001b[0m\u001b[0;34m(\u001b[0m\u001b[0mrun_experiment\u001b[0m\u001b[0;34m(\u001b[0m\u001b[0mM\u001b[0m\u001b[0;34m,\u001b[0m \u001b[0mnum_trials\u001b[0m\u001b[0;34m)\u001b[0m\u001b[0;34m)\u001b[0m\u001b[0;34m\u001b[0m\u001b[0;34m\u001b[0m\u001b[0m\n\u001b[0m\u001b[1;32m      6\u001b[0m         \u001b[0mend\u001b[0m \u001b[0;34m=\u001b[0m \u001b[0mtime\u001b[0m\u001b[0;34m.\u001b[0m\u001b[0mtime\u001b[0m\u001b[0;34m(\u001b[0m\u001b[0;34m)\u001b[0m\u001b[0;34m\u001b[0m\u001b[0;34m\u001b[0m\u001b[0m\n\u001b[1;32m      7\u001b[0m         \u001b[0mprint\u001b[0m\u001b[0;34m(\u001b[0m\u001b[0;34mf'Matroid {i}/{num_matroids} completed in {round(end - start, Integer(1))}s'\u001b[0m\u001b[0;34m)\u001b[0m\u001b[0;34m\u001b[0m\u001b[0;34m\u001b[0m\u001b[0m\n",
      "\u001b[0;32m<ipython-input-10-12b6979052f8>\u001b[0m in \u001b[0;36mrun_experiment\u001b[0;34m(M, num_trials, weights, verbose)\u001b[0m\n\u001b[1;32m      1\u001b[0m \u001b[0;32mdef\u001b[0m \u001b[0mrun_experiment\u001b[0m\u001b[0;34m(\u001b[0m\u001b[0mM\u001b[0m\u001b[0;34m,\u001b[0m \u001b[0mnum_trials\u001b[0m\u001b[0;34m,\u001b[0m \u001b[0mweights\u001b[0m \u001b[0;34m=\u001b[0m \u001b[0;32mNone\u001b[0m\u001b[0;34m,\u001b[0m \u001b[0mverbose\u001b[0m \u001b[0;34m=\u001b[0m \u001b[0;32mFalse\u001b[0m\u001b[0;34m)\u001b[0m\u001b[0;34m:\u001b[0m\u001b[0;34m\u001b[0m\u001b[0;34m\u001b[0m\u001b[0m\n\u001b[0;32m----> 2\u001b[0;31m     \u001b[0;32mif\u001b[0m \u001b[0mweights\u001b[0m \u001b[0;32mis\u001b[0m \u001b[0;32mNone\u001b[0m\u001b[0;34m:\u001b[0m \u001b[0mweights\u001b[0m \u001b[0;34m=\u001b[0m \u001b[0;34m[\u001b[0m\u001b[0mrandom\u001b[0m\u001b[0;34m.\u001b[0m\u001b[0muniform\u001b[0m\u001b[0;34m(\u001b[0m\u001b[0mInteger\u001b[0m\u001b[0;34m(\u001b[0m\u001b[0;36m0\u001b[0m\u001b[0;34m)\u001b[0m\u001b[0;34m,\u001b[0m \u001b[0mInteger\u001b[0m\u001b[0;34m(\u001b[0m\u001b[0;36m1\u001b[0m\u001b[0;34m)\u001b[0m\u001b[0;34m)\u001b[0m \u001b[0;32mfor\u001b[0m \u001b[0mi\u001b[0m \u001b[0;32min\u001b[0m \u001b[0mrange\u001b[0m\u001b[0;34m(\u001b[0m\u001b[0mn\u001b[0m\u001b[0;34m)\u001b[0m\u001b[0;34m]\u001b[0m\u001b[0;34m\u001b[0m\u001b[0;34m\u001b[0m\u001b[0m\n\u001b[0m\u001b[1;32m      3\u001b[0m \u001b[0;34m\u001b[0m\u001b[0m\n\u001b[1;32m      4\u001b[0m     \u001b[0mstart_time\u001b[0m \u001b[0;34m=\u001b[0m \u001b[0mtime\u001b[0m\u001b[0;34m.\u001b[0m\u001b[0mtime\u001b[0m\u001b[0;34m(\u001b[0m\u001b[0;34m)\u001b[0m\u001b[0;34m\u001b[0m\u001b[0;34m\u001b[0m\u001b[0m\n\u001b[1;32m      5\u001b[0m     \u001b[0mval\u001b[0m\u001b[0;34m,\u001b[0m \u001b[0mfreqs\u001b[0m \u001b[0;34m=\u001b[0m \u001b[0mrun_trials\u001b[0m\u001b[0;34m(\u001b[0m\u001b[0mnum_trials\u001b[0m\u001b[0;34m,\u001b[0m \u001b[0mM\u001b[0m\u001b[0;34m,\u001b[0m \u001b[0mweights\u001b[0m\u001b[0;34m,\u001b[0m \u001b[0mverbose\u001b[0m\u001b[0;34m)\u001b[0m\u001b[0;34m\u001b[0m\u001b[0;34m\u001b[0m\u001b[0m\n",
      "\u001b[0;31mTypeError\u001b[0m: 'function' object cannot be interpreted as an integer"
     ]
    }
   ],
   "source": [
    "# Experiment 1: 100 graphic matroids, size 101\n",
    "results = evaluate(GraphicRandomMatroid(n=101), num_matroids=100)"
   ]
  },
  {
   "cell_type": "code",
   "execution_count": 11,
   "id": "6c2a5cf2",
   "metadata": {},
   "outputs": [
    {
     "data": {
      "image/png": "[encoded data removed]",
      "text/plain": [
       "<Figure size 432x288 with 1 Axes>"
      ]
     },
     "metadata": {},
     "output_type": "display_data"
    }
   ],
   "source": [
    "import seaborn as sns\n",
    "palette = sns.color_palette('deep')\n",
    "sns.set_style('whitegrid')\n",
    "sns.set_palette(palette)\n",
    "\n",
    "plt.hist(results, range = (min(float(exp(-1)), min(results)), max(results)))\n",
    "plt.axvline(x=float(exp(-1)), color=palette[1], linestyle='dashed')\n",
    "plt.show()"
   ]
  },
  {
   "cell_type": "code",
   "execution_count": null,
   "id": "ad125f62",
   "metadata": {},
   "outputs": [],
   "source": []
  }
 ],
 "metadata": {
  "kernelspec": {
   "display_name": "SageMath 9.4",
   "language": "sage",
   "name": "sagemath"
  },
  "language_info": {
   "codemirror_mode": {
    "name": "ipython",
    "version": 3
   },
   "file_extension": ".py",
   "mimetype": "text/x-python",
   "name": "python",
   "nbconvert_exporter": "python",
   "pygments_lexer": "ipython3",
   "version": "3.8.12"
  }
 },
 "nbformat": 4,
 "nbformat_minor": 5
}
