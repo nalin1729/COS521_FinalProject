{
 "cells": [
  {
   "cell_type": "code",
   "execution_count": 52,
   "id": "958371cd",
   "metadata": {},
   "outputs": [],
   "source": [
    "import random\n",
    "\n",
    "# https://www.sciencedirect.com/science/article/pii/0012365X75900758\n",
    "def knuth_random_matroid(n):\n",
    "    universe = frozenset(range(n))\n",
    "    r = 0\n",
    "    F = [set(frozenset())]\n",
    "    while universe not in F[r]:\n",
    "        # generate covers\n",
    "        F_next = set(frozenset())\n",
    "        if r == 0:\n",
    "            for a in universe:\n",
    "                F_next.add(frozenset([a]))\n",
    "        else:\n",
    "            for A in F[r]:\n",
    "                for a in universe - A:\n",
    "                    x = set(A)\n",
    "                    x.add(a)\n",
    "                    F_next.add(frozenset(x))\n",
    "\n",
    "        # enlarge\n",
    "#         if r != 0:\n",
    "#             s = set(random.choice(list(F[r])))\n",
    "#             s = s.union(set(random.sample(list(universe-s), min(4, len(universe-s)))))\n",
    "#             F_next.add(frozenset(s))\n",
    "\n",
    "        #test with n = 10 for example in paper\n",
    "        if r == 1:\n",
    "            pi = [[1,3,4],[1,5,9],[2,5,6],[3,5,8],[3,7,9],[2,3,8]]\n",
    "            for x in pi:\n",
    "                F_next.add(frozenset(x))\n",
    "\n",
    "        # superpose\n",
    "        isContained = False\n",
    "        while not isContained:\n",
    "            isContained = True\n",
    "            not_contained = []\n",
    "            for A in F_next:\n",
    "                for B in F_next:\n",
    "                    if A == B: continue\n",
    "                    if not contained(A.intersection(B), F[r]): \n",
    "                        not_contained.append((A, B))\n",
    "                        isContained = False\n",
    "            for AB in not_contained:\n",
    "                A, B = AB\n",
    "                if A in F_next and B in F_next:\n",
    "                    F_next.remove(A)\n",
    "                    F_next.remove(B)\n",
    "                    F_next.add(A.union(B))\n",
    "        F.append(F_next)\n",
    "        r += 1\n",
    "    \n",
    "    closed_sets = []\n",
    "    for rank, X in enumerate(F):\n",
    "        for Y in X:\n",
    "            closed_sets.append((rank, Y))\n",
    "\n",
    "    m = Matroid(universe, circuit_closures = closed_sets)\n",
    "#     assert m.is_valid()\n",
    "\n",
    "    return m\n",
    "\n",
    "def contained(AandB, Fr):\n",
    "    if len(AandB) == 0: return True\n",
    "    for C in Fr:\n",
    "        if AandB.issubset(C): return True\n",
    "    False"
   ]
  },
  {
   "cell_type": "code",
   "execution_count": 53,
   "id": "70a7706d",
   "metadata": {},
   "outputs": [
    {
     "data": {
      "text/plain": [
       "Matroid of rank 4 on 10 elements with circuit-closures\n",
       "{1: {{0}, {1}, {2}, {3}, {4}, {5}, {6}, {7}, {8}, {9}}, 2: {{0, 1}, {0, 2}, {0, 3}, {0, 4}, {0, 5}, {0, 6}, {0, 7}, {0, 8}, {0, 9}, {1, 2}, {1, 3, 4}, {1, 5, 9}, {1, 6}, {1, 7}, {1, 8}, {2, 3, 5, 6, 8}, {2, 4}, {2, 7}, {2, 9}, {3, 7, 9}, {4, 5}, {4, 6}, {4, 7}, {4, 8}, {4, 9}, {5, 7}, {6, 7}, {6, 9}, {7, 8}, {8, 9}}, 3: {{0, 1, 2}, {0, 1, 3, 4}, {0, 1, 5, 9}, {0, 1, 6}, {0, 1, 7}, {0, 1, 8}, {0, 2, 3, 5, 6, 8}, {0, 2, 4}, {0, 2, 7}, {0, 2, 9}, {0, 3, 7, 9}, {0, 4, 5}, {0, 4, 6}, {0, 4, 7}, {0, 4, 8}, {0, 4, 9}, {0, 5, 7}, {0, 6, 7}, {0, 6, 9}, {0, 7, 8}, {0, 8, 9}, {1, 2, 3, 4, 5, 6, 7, 8, 9}}, 4: {{0, 1, 2, 3, 4, 5, 6, 7, 8, 9}}}"
      ]
     },
     "execution_count": 53,
     "metadata": {},
     "output_type": "execute_result"
    }
   ],
   "source": [
    "knuth_random_matroid(10)"
   ]
  },
  {
   "cell_type": "code",
   "execution_count": null,
   "id": "28c0151c",
   "metadata": {},
   "outputs": [],
   "source": []
  }
 ],
 "metadata": {
  "kernelspec": {
   "display_name": "SageMath 9.3",
   "language": "sage",
   "name": "sagemath"
  },
  "language_info": {
   "codemirror_mode": {
    "name": "ipython",
    "version": 3
   },
   "file_extension": ".py",
   "mimetype": "text/x-python",
   "name": "python",
   "nbconvert_exporter": "python",
   "pygments_lexer": "ipython3",
   "version": "3.9.7"
  }
 },
 "nbformat": 4,
 "nbformat_minor": 5
}
